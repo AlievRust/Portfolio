{
 "cells": [
  {
   "cell_type": "markdown",
   "id": "5b4b8e68",
   "metadata": {
    "id": "c81daeeb"
   },
   "source": [
    "# Исследование надежности заемщиков\n"
   ]
  },
  {
   "cell_type": "markdown",
   "id": "bf931bdc",
   "metadata": {
    "id": "744d7639"
   },
   "source": [
    "## Откройте таблицу и изучите общую информацию о данных"
   ]
  },
  {
   "cell_type": "markdown",
   "id": "9272943c",
   "metadata": {
    "id": "e7a14c31"
   },
   "source": [
    "**Задание 1. Импортируйте библиотеку pandas. Считайте данные из csv-файла в датафрейм и сохраните в переменную `data`. Путь к файлу:**\n",
    "\n",
    "`/datasets/data.csv`"
   ]
  },
  {
   "cell_type": "code",
   "execution_count": 1,
   "id": "8b290237",
   "metadata": {
    "id": "7bcf75c9"
   },
   "outputs": [],
   "source": [
    "import pandas as pd\n",
    "\n",
    "try:\n",
    "    data = pd.read_csv('data.csv')\n",
    "except:\n",
    "    data = pd.read_csv('network path hidden')"
   ]
  },
  {
   "cell_type": "markdown",
   "id": "44144a1e",
   "metadata": {
    "id": "b8038fe3"
   },
   "source": [
    "**Задание 2. Выведите первые 20 строчек датафрейма `data` на экран.**"
   ]
  },
  {
   "cell_type": "code",
   "execution_count": 2,
   "id": "a3f16e06",
   "metadata": {
    "id": "2a7cab99",
    "outputId": "1a8f3ef2-d323-4ec2-ddf7-89670b5944c4"
   },
   "outputs": [
    {
     "data": {
      "text/html": [
       "<div>\n",
       "<style scoped>\n",
       "    .dataframe tbody tr th:only-of-type {\n",
       "        vertical-align: middle;\n",
       "    }\n",
       "\n",
       "    .dataframe tbody tr th {\n",
       "        vertical-align: top;\n",
       "    }\n",
       "\n",
       "    .dataframe thead th {\n",
       "        text-align: right;\n",
       "    }\n",
       "</style>\n",
       "<table border=\"1\" class=\"dataframe\">\n",
       "  <thead>\n",
       "    <tr style=\"text-align: right;\">\n",
       "      <th></th>\n",
       "      <th>children</th>\n",
       "      <th>days_employed</th>\n",
       "      <th>dob_years</th>\n",
       "      <th>education</th>\n",
       "      <th>education_id</th>\n",
       "      <th>family_status</th>\n",
       "      <th>family_status_id</th>\n",
       "      <th>gender</th>\n",
       "      <th>income_type</th>\n",
       "      <th>debt</th>\n",
       "      <th>total_income</th>\n",
       "      <th>purpose</th>\n",
       "    </tr>\n",
       "  </thead>\n",
       "  <tbody>\n",
       "    <tr>\n",
       "      <th>0</th>\n",
       "      <td>1</td>\n",
       "      <td>-8437.673028</td>\n",
       "      <td>42</td>\n",
       "      <td>высшее</td>\n",
       "      <td>0</td>\n",
       "      <td>женат / замужем</td>\n",
       "      <td>0</td>\n",
       "      <td>F</td>\n",
       "      <td>сотрудник</td>\n",
       "      <td>0</td>\n",
       "      <td>253875.639453</td>\n",
       "      <td>покупка жилья</td>\n",
       "    </tr>\n",
       "    <tr>\n",
       "      <th>1</th>\n",
       "      <td>1</td>\n",
       "      <td>-4024.803754</td>\n",
       "      <td>36</td>\n",
       "      <td>среднее</td>\n",
       "      <td>1</td>\n",
       "      <td>женат / замужем</td>\n",
       "      <td>0</td>\n",
       "      <td>F</td>\n",
       "      <td>сотрудник</td>\n",
       "      <td>0</td>\n",
       "      <td>112080.014102</td>\n",
       "      <td>приобретение автомобиля</td>\n",
       "    </tr>\n",
       "    <tr>\n",
       "      <th>2</th>\n",
       "      <td>0</td>\n",
       "      <td>-5623.422610</td>\n",
       "      <td>33</td>\n",
       "      <td>Среднее</td>\n",
       "      <td>1</td>\n",
       "      <td>женат / замужем</td>\n",
       "      <td>0</td>\n",
       "      <td>M</td>\n",
       "      <td>сотрудник</td>\n",
       "      <td>0</td>\n",
       "      <td>145885.952297</td>\n",
       "      <td>покупка жилья</td>\n",
       "    </tr>\n",
       "    <tr>\n",
       "      <th>3</th>\n",
       "      <td>3</td>\n",
       "      <td>-4124.747207</td>\n",
       "      <td>32</td>\n",
       "      <td>среднее</td>\n",
       "      <td>1</td>\n",
       "      <td>женат / замужем</td>\n",
       "      <td>0</td>\n",
       "      <td>M</td>\n",
       "      <td>сотрудник</td>\n",
       "      <td>0</td>\n",
       "      <td>267628.550329</td>\n",
       "      <td>дополнительное образование</td>\n",
       "    </tr>\n",
       "    <tr>\n",
       "      <th>4</th>\n",
       "      <td>0</td>\n",
       "      <td>340266.072047</td>\n",
       "      <td>53</td>\n",
       "      <td>среднее</td>\n",
       "      <td>1</td>\n",
       "      <td>гражданский брак</td>\n",
       "      <td>1</td>\n",
       "      <td>F</td>\n",
       "      <td>пенсионер</td>\n",
       "      <td>0</td>\n",
       "      <td>158616.077870</td>\n",
       "      <td>сыграть свадьбу</td>\n",
       "    </tr>\n",
       "    <tr>\n",
       "      <th>5</th>\n",
       "      <td>0</td>\n",
       "      <td>-926.185831</td>\n",
       "      <td>27</td>\n",
       "      <td>высшее</td>\n",
       "      <td>0</td>\n",
       "      <td>гражданский брак</td>\n",
       "      <td>1</td>\n",
       "      <td>M</td>\n",
       "      <td>компаньон</td>\n",
       "      <td>0</td>\n",
       "      <td>255763.565419</td>\n",
       "      <td>покупка жилья</td>\n",
       "    </tr>\n",
       "    <tr>\n",
       "      <th>6</th>\n",
       "      <td>0</td>\n",
       "      <td>-2879.202052</td>\n",
       "      <td>43</td>\n",
       "      <td>высшее</td>\n",
       "      <td>0</td>\n",
       "      <td>женат / замужем</td>\n",
       "      <td>0</td>\n",
       "      <td>F</td>\n",
       "      <td>компаньон</td>\n",
       "      <td>0</td>\n",
       "      <td>240525.971920</td>\n",
       "      <td>операции с жильем</td>\n",
       "    </tr>\n",
       "    <tr>\n",
       "      <th>7</th>\n",
       "      <td>0</td>\n",
       "      <td>-152.779569</td>\n",
       "      <td>50</td>\n",
       "      <td>СРЕДНЕЕ</td>\n",
       "      <td>1</td>\n",
       "      <td>женат / замужем</td>\n",
       "      <td>0</td>\n",
       "      <td>M</td>\n",
       "      <td>сотрудник</td>\n",
       "      <td>0</td>\n",
       "      <td>135823.934197</td>\n",
       "      <td>образование</td>\n",
       "    </tr>\n",
       "    <tr>\n",
       "      <th>8</th>\n",
       "      <td>2</td>\n",
       "      <td>-6929.865299</td>\n",
       "      <td>35</td>\n",
       "      <td>ВЫСШЕЕ</td>\n",
       "      <td>0</td>\n",
       "      <td>гражданский брак</td>\n",
       "      <td>1</td>\n",
       "      <td>F</td>\n",
       "      <td>сотрудник</td>\n",
       "      <td>0</td>\n",
       "      <td>95856.832424</td>\n",
       "      <td>на проведение свадьбы</td>\n",
       "    </tr>\n",
       "    <tr>\n",
       "      <th>9</th>\n",
       "      <td>0</td>\n",
       "      <td>-2188.756445</td>\n",
       "      <td>41</td>\n",
       "      <td>среднее</td>\n",
       "      <td>1</td>\n",
       "      <td>женат / замужем</td>\n",
       "      <td>0</td>\n",
       "      <td>M</td>\n",
       "      <td>сотрудник</td>\n",
       "      <td>0</td>\n",
       "      <td>144425.938277</td>\n",
       "      <td>покупка жилья для семьи</td>\n",
       "    </tr>\n",
       "    <tr>\n",
       "      <th>10</th>\n",
       "      <td>2</td>\n",
       "      <td>-4171.483647</td>\n",
       "      <td>36</td>\n",
       "      <td>высшее</td>\n",
       "      <td>0</td>\n",
       "      <td>женат / замужем</td>\n",
       "      <td>0</td>\n",
       "      <td>M</td>\n",
       "      <td>компаньон</td>\n",
       "      <td>0</td>\n",
       "      <td>113943.491460</td>\n",
       "      <td>покупка недвижимости</td>\n",
       "    </tr>\n",
       "    <tr>\n",
       "      <th>11</th>\n",
       "      <td>0</td>\n",
       "      <td>-792.701887</td>\n",
       "      <td>40</td>\n",
       "      <td>среднее</td>\n",
       "      <td>1</td>\n",
       "      <td>женат / замужем</td>\n",
       "      <td>0</td>\n",
       "      <td>F</td>\n",
       "      <td>сотрудник</td>\n",
       "      <td>0</td>\n",
       "      <td>77069.234271</td>\n",
       "      <td>покупка коммерческой недвижимости</td>\n",
       "    </tr>\n",
       "    <tr>\n",
       "      <th>12</th>\n",
       "      <td>0</td>\n",
       "      <td>NaN</td>\n",
       "      <td>65</td>\n",
       "      <td>среднее</td>\n",
       "      <td>1</td>\n",
       "      <td>гражданский брак</td>\n",
       "      <td>1</td>\n",
       "      <td>M</td>\n",
       "      <td>пенсионер</td>\n",
       "      <td>0</td>\n",
       "      <td>NaN</td>\n",
       "      <td>сыграть свадьбу</td>\n",
       "    </tr>\n",
       "    <tr>\n",
       "      <th>13</th>\n",
       "      <td>0</td>\n",
       "      <td>-1846.641941</td>\n",
       "      <td>54</td>\n",
       "      <td>неоконченное высшее</td>\n",
       "      <td>2</td>\n",
       "      <td>женат / замужем</td>\n",
       "      <td>0</td>\n",
       "      <td>F</td>\n",
       "      <td>сотрудник</td>\n",
       "      <td>0</td>\n",
       "      <td>130458.228857</td>\n",
       "      <td>приобретение автомобиля</td>\n",
       "    </tr>\n",
       "    <tr>\n",
       "      <th>14</th>\n",
       "      <td>0</td>\n",
       "      <td>-1844.956182</td>\n",
       "      <td>56</td>\n",
       "      <td>высшее</td>\n",
       "      <td>0</td>\n",
       "      <td>гражданский брак</td>\n",
       "      <td>1</td>\n",
       "      <td>F</td>\n",
       "      <td>компаньон</td>\n",
       "      <td>1</td>\n",
       "      <td>165127.911772</td>\n",
       "      <td>покупка жилой недвижимости</td>\n",
       "    </tr>\n",
       "    <tr>\n",
       "      <th>15</th>\n",
       "      <td>1</td>\n",
       "      <td>-972.364419</td>\n",
       "      <td>26</td>\n",
       "      <td>среднее</td>\n",
       "      <td>1</td>\n",
       "      <td>женат / замужем</td>\n",
       "      <td>0</td>\n",
       "      <td>F</td>\n",
       "      <td>сотрудник</td>\n",
       "      <td>0</td>\n",
       "      <td>116820.904450</td>\n",
       "      <td>строительство собственной недвижимости</td>\n",
       "    </tr>\n",
       "    <tr>\n",
       "      <th>16</th>\n",
       "      <td>0</td>\n",
       "      <td>-1719.934226</td>\n",
       "      <td>35</td>\n",
       "      <td>среднее</td>\n",
       "      <td>1</td>\n",
       "      <td>женат / замужем</td>\n",
       "      <td>0</td>\n",
       "      <td>F</td>\n",
       "      <td>сотрудник</td>\n",
       "      <td>0</td>\n",
       "      <td>289202.704229</td>\n",
       "      <td>недвижимость</td>\n",
       "    </tr>\n",
       "    <tr>\n",
       "      <th>17</th>\n",
       "      <td>0</td>\n",
       "      <td>-2369.999720</td>\n",
       "      <td>33</td>\n",
       "      <td>высшее</td>\n",
       "      <td>0</td>\n",
       "      <td>гражданский брак</td>\n",
       "      <td>1</td>\n",
       "      <td>M</td>\n",
       "      <td>сотрудник</td>\n",
       "      <td>0</td>\n",
       "      <td>90410.586745</td>\n",
       "      <td>строительство недвижимости</td>\n",
       "    </tr>\n",
       "    <tr>\n",
       "      <th>18</th>\n",
       "      <td>0</td>\n",
       "      <td>400281.136913</td>\n",
       "      <td>53</td>\n",
       "      <td>среднее</td>\n",
       "      <td>1</td>\n",
       "      <td>вдовец / вдова</td>\n",
       "      <td>2</td>\n",
       "      <td>F</td>\n",
       "      <td>пенсионер</td>\n",
       "      <td>0</td>\n",
       "      <td>56823.777243</td>\n",
       "      <td>на покупку подержанного автомобиля</td>\n",
       "    </tr>\n",
       "    <tr>\n",
       "      <th>19</th>\n",
       "      <td>0</td>\n",
       "      <td>-10038.818549</td>\n",
       "      <td>48</td>\n",
       "      <td>СРЕДНЕЕ</td>\n",
       "      <td>1</td>\n",
       "      <td>в разводе</td>\n",
       "      <td>3</td>\n",
       "      <td>F</td>\n",
       "      <td>сотрудник</td>\n",
       "      <td>0</td>\n",
       "      <td>242831.107982</td>\n",
       "      <td>на покупку своего автомобиля</td>\n",
       "    </tr>\n",
       "  </tbody>\n",
       "</table>\n",
       "</div>"
      ],
      "text/plain": [
       "    children  days_employed  dob_years            education  education_id  \\\n",
       "0          1   -8437.673028         42               высшее             0   \n",
       "1          1   -4024.803754         36              среднее             1   \n",
       "2          0   -5623.422610         33              Среднее             1   \n",
       "3          3   -4124.747207         32              среднее             1   \n",
       "4          0  340266.072047         53              среднее             1   \n",
       "5          0    -926.185831         27               высшее             0   \n",
       "6          0   -2879.202052         43               высшее             0   \n",
       "7          0    -152.779569         50              СРЕДНЕЕ             1   \n",
       "8          2   -6929.865299         35               ВЫСШЕЕ             0   \n",
       "9          0   -2188.756445         41              среднее             1   \n",
       "10         2   -4171.483647         36               высшее             0   \n",
       "11         0    -792.701887         40              среднее             1   \n",
       "12         0            NaN         65              среднее             1   \n",
       "13         0   -1846.641941         54  неоконченное высшее             2   \n",
       "14         0   -1844.956182         56               высшее             0   \n",
       "15         1    -972.364419         26              среднее             1   \n",
       "16         0   -1719.934226         35              среднее             1   \n",
       "17         0   -2369.999720         33               высшее             0   \n",
       "18         0  400281.136913         53              среднее             1   \n",
       "19         0  -10038.818549         48              СРЕДНЕЕ             1   \n",
       "\n",
       "       family_status  family_status_id gender income_type  debt  \\\n",
       "0    женат / замужем                 0      F   сотрудник     0   \n",
       "1    женат / замужем                 0      F   сотрудник     0   \n",
       "2    женат / замужем                 0      M   сотрудник     0   \n",
       "3    женат / замужем                 0      M   сотрудник     0   \n",
       "4   гражданский брак                 1      F   пенсионер     0   \n",
       "5   гражданский брак                 1      M   компаньон     0   \n",
       "6    женат / замужем                 0      F   компаньон     0   \n",
       "7    женат / замужем                 0      M   сотрудник     0   \n",
       "8   гражданский брак                 1      F   сотрудник     0   \n",
       "9    женат / замужем                 0      M   сотрудник     0   \n",
       "10   женат / замужем                 0      M   компаньон     0   \n",
       "11   женат / замужем                 0      F   сотрудник     0   \n",
       "12  гражданский брак                 1      M   пенсионер     0   \n",
       "13   женат / замужем                 0      F   сотрудник     0   \n",
       "14  гражданский брак                 1      F   компаньон     1   \n",
       "15   женат / замужем                 0      F   сотрудник     0   \n",
       "16   женат / замужем                 0      F   сотрудник     0   \n",
       "17  гражданский брак                 1      M   сотрудник     0   \n",
       "18    вдовец / вдова                 2      F   пенсионер     0   \n",
       "19         в разводе                 3      F   сотрудник     0   \n",
       "\n",
       "     total_income                                 purpose  \n",
       "0   253875.639453                           покупка жилья  \n",
       "1   112080.014102                 приобретение автомобиля  \n",
       "2   145885.952297                           покупка жилья  \n",
       "3   267628.550329              дополнительное образование  \n",
       "4   158616.077870                         сыграть свадьбу  \n",
       "5   255763.565419                           покупка жилья  \n",
       "6   240525.971920                       операции с жильем  \n",
       "7   135823.934197                             образование  \n",
       "8    95856.832424                   на проведение свадьбы  \n",
       "9   144425.938277                 покупка жилья для семьи  \n",
       "10  113943.491460                    покупка недвижимости  \n",
       "11   77069.234271       покупка коммерческой недвижимости  \n",
       "12            NaN                         сыграть свадьбу  \n",
       "13  130458.228857                 приобретение автомобиля  \n",
       "14  165127.911772              покупка жилой недвижимости  \n",
       "15  116820.904450  строительство собственной недвижимости  \n",
       "16  289202.704229                            недвижимость  \n",
       "17   90410.586745              строительство недвижимости  \n",
       "18   56823.777243      на покупку подержанного автомобиля  \n",
       "19  242831.107982            на покупку своего автомобиля  "
      ]
     },
     "execution_count": 2,
     "metadata": {},
     "output_type": "execute_result"
    }
   ],
   "source": [
    "data.head(20)"
   ]
  },
  {
   "cell_type": "markdown",
   "id": "32f7ebb7",
   "metadata": {
    "id": "1c12e233"
   },
   "source": [
    "**Задание 3. Выведите основную информацию о датафрейме с помощью метода `info()`.**"
   ]
  },
  {
   "cell_type": "code",
   "execution_count": 3,
   "id": "86c0b43c",
   "metadata": {
    "id": "2b757bca",
    "outputId": "15376089-8dad-46c9-b520-c05248d43158"
   },
   "outputs": [
    {
     "name": "stdout",
     "output_type": "stream",
     "text": [
      "<class 'pandas.core.frame.DataFrame'>\n",
      "RangeIndex: 21525 entries, 0 to 21524\n",
      "Data columns (total 12 columns):\n",
      " #   Column            Non-Null Count  Dtype  \n",
      "---  ------            --------------  -----  \n",
      " 0   children          21525 non-null  int64  \n",
      " 1   days_employed     19351 non-null  float64\n",
      " 2   dob_years         21525 non-null  int64  \n",
      " 3   education         21525 non-null  object \n",
      " 4   education_id      21525 non-null  int64  \n",
      " 5   family_status     21525 non-null  object \n",
      " 6   family_status_id  21525 non-null  int64  \n",
      " 7   gender            21525 non-null  object \n",
      " 8   income_type       21525 non-null  object \n",
      " 9   debt              21525 non-null  int64  \n",
      " 10  total_income      19351 non-null  float64\n",
      " 11  purpose           21525 non-null  object \n",
      "dtypes: float64(2), int64(5), object(5)\n",
      "memory usage: 2.0+ MB\n"
     ]
    }
   ],
   "source": [
    "data.info()"
   ]
  },
  {
   "cell_type": "markdown",
   "id": "d3d0fbbf",
   "metadata": {
    "id": "333ec665"
   },
   "source": [
    "## Предобработка данных"
   ]
  },
  {
   "cell_type": "markdown",
   "id": "9f29394e",
   "metadata": {
    "id": "02d92d53"
   },
   "source": [
    "### Удаление пропусков"
   ]
  },
  {
   "cell_type": "markdown",
   "id": "2687a320",
   "metadata": {
    "id": "cd84967c"
   },
   "source": [
    "**Задание 4. Выведите количество пропущенных значений для каждого столбца. Используйте комбинацию двух методов.**"
   ]
  },
  {
   "cell_type": "code",
   "execution_count": 4,
   "id": "1d25ae7f",
   "metadata": {
    "id": "7f9b2309",
    "outputId": "81f4d817-781c-465c-ed15-91ce4446810d"
   },
   "outputs": [
    {
     "data": {
      "text/plain": [
       "children               0\n",
       "days_employed       2174\n",
       "dob_years              0\n",
       "education              0\n",
       "education_id           0\n",
       "family_status          0\n",
       "family_status_id       0\n",
       "gender                 0\n",
       "income_type            0\n",
       "debt                   0\n",
       "total_income        2174\n",
       "purpose                0\n",
       "dtype: int64"
      ]
     },
     "execution_count": 4,
     "metadata": {},
     "output_type": "execute_result"
    }
   ],
   "source": [
    "data.isna().sum()"
   ]
  },
  {
   "cell_type": "markdown",
   "id": "b65fdc4a",
   "metadata": {
    "id": "db86e27b"
   },
   "source": [
    "**Задание 5. В двух столбцах есть пропущенные значения. Один из них — `days_employed`. Пропуски в этом столбце вы обработаете на следующем этапе. Другой столбец с пропущенными значениями — `total_income` — хранит данные о доходах. На сумму дохода сильнее всего влияет тип занятости, поэтому заполнить пропуски в этом столбце нужно медианным значением по каждому типу из столбца `income_type`. Например, у человека с типом занятости `сотрудник` пропуск в столбце `total_income` должен быть заполнен медианным доходом среди всех записей с тем же типом.**"
   ]
  },
  {
   "cell_type": "code",
   "execution_count": 5,
   "id": "7985de30",
   "metadata": {
    "id": "42006a93"
   },
   "outputs": [],
   "source": [
    "for t in data['income_type'].unique():\n",
    "    data.loc[(data['income_type'] == t) \n",
    "    & (data['total_income'].isna()), 'total_income'] = data.loc[(data['income_type'] == t), 'total_income'].median()"
   ]
  },
  {
   "cell_type": "markdown",
   "id": "e1e1665b",
   "metadata": {
    "id": "89da5ece"
   },
   "source": [
    "### Обработка аномальных значений"
   ]
  },
  {
   "cell_type": "markdown",
   "id": "ebd6bb54",
   "metadata": {
    "id": "57964554"
   },
   "source": [
    "**Задание 6. В данных могут встречаться артефакты (аномалии) — значения, которые не отражают действительность и появились по какой-то ошибке. таким артефактом будет отрицательное количество дней трудового стажа в столбце `days_employed`. Для реальных данных это нормально. Обработайте значения в этом столбце: замените все отрицательные значения положительными с помощью метода `abs()`.**"
   ]
  },
  {
   "cell_type": "code",
   "execution_count": 6,
   "id": "528d3217",
   "metadata": {
    "id": "f6f055bf"
   },
   "outputs": [],
   "source": [
    "data['days_employed'] = data['days_employed'].abs()"
   ]
  },
  {
   "cell_type": "markdown",
   "id": "a5aca1f4",
   "metadata": {
    "id": "6107dd2f"
   },
   "source": [
    "**Задание 7. Для каждого типа занятости выведите медианное значение трудового стажа `days_employed` в днях.**"
   ]
  },
  {
   "cell_type": "code",
   "execution_count": 7,
   "id": "edd5351c",
   "metadata": {
    "id": "85a5faf6",
    "outputId": "801ef80e-522b-4668-f34e-565af7432bcf"
   },
   "outputs": [
    {
     "data": {
      "text/plain": [
       "income_type\n",
       "безработный        366413.652744\n",
       "в декрете            3296.759962\n",
       "госслужащий          2689.368353\n",
       "компаньон            1547.382223\n",
       "пенсионер          365213.306266\n",
       "предприниматель       520.848083\n",
       "сотрудник            1574.202821\n",
       "студент               578.751554\n",
       "Name: days_employed, dtype: float64"
      ]
     },
     "execution_count": 7,
     "metadata": {},
     "output_type": "execute_result"
    }
   ],
   "source": [
    "data.groupby('income_type')['days_employed'].agg('median')"
   ]
  },
  {
   "cell_type": "markdown",
   "id": "f9607c40",
   "metadata": {
    "id": "38d1a030"
   },
   "source": [
    "У двух типов (безработные и пенсионеры) получатся аномально большие значения. Исправить такие значения сложно, поэтому оставьте их как есть. Тем более этот столбец не понадобится вам для исследования."
   ]
  },
  {
   "cell_type": "markdown",
   "id": "8e9724dc",
   "metadata": {
    "id": "d8a9f147"
   },
   "source": [
    "**Задание 8. Выведите перечень уникальных значений столбца `children`.**"
   ]
  },
  {
   "cell_type": "code",
   "execution_count": 8,
   "id": "0d07b744",
   "metadata": {
    "id": "ef5056eb",
    "outputId": "6975b15c-7f95-4697-d16d-a0c79b657b03"
   },
   "outputs": [
    {
     "data": {
      "text/plain": [
       "array([ 1,  0,  3,  2, -1,  4, 20,  5], dtype=int64)"
      ]
     },
     "execution_count": 8,
     "metadata": {},
     "output_type": "execute_result"
    }
   ],
   "source": [
    "data['children'].unique()"
   ]
  },
  {
   "cell_type": "markdown",
   "id": "ff671c7b",
   "metadata": {
    "id": "40b9ebf2"
   },
   "source": [
    "**Задание 9. В столбце `children` есть два аномальных значения. Удалите строки, в которых встречаются такие аномальные значения из датафрейма `data`.**"
   ]
  },
  {
   "cell_type": "code",
   "execution_count": 9,
   "id": "719317c7",
   "metadata": {
    "id": "3ff9801d"
   },
   "outputs": [],
   "source": [
    "data = data[(data['children'] != -1) & (data['children'] != 20)]"
   ]
  },
  {
   "cell_type": "markdown",
   "id": "e7476b41",
   "metadata": {
    "id": "bbc4d0ce"
   },
   "source": [
    "**Задание 10. Ещё раз выведите перечень уникальных значений столбца `children`, чтобы убедиться, что артефакты удалены.**"
   ]
  },
  {
   "cell_type": "code",
   "execution_count": 10,
   "id": "6e74c66c",
   "metadata": {
    "id": "ad4fa8b7",
    "outputId": "b2097101-d49d-44d9-901b-32a65c9463d1"
   },
   "outputs": [
    {
     "data": {
      "text/plain": [
       "array([1, 0, 3, 2, 4, 5], dtype=int64)"
      ]
     },
     "execution_count": 10,
     "metadata": {},
     "output_type": "execute_result"
    }
   ],
   "source": [
    "data['children'].unique()"
   ]
  },
  {
   "cell_type": "markdown",
   "id": "5865be10",
   "metadata": {
    "id": "75440b63"
   },
   "source": [
    "### Удаление пропусков (продолжение)"
   ]
  },
  {
   "cell_type": "markdown",
   "id": "b708edbd",
   "metadata": {
    "id": "f4ea573f"
   },
   "source": [
    "**Задание 11. Заполните пропуски в столбце `days_employed` медианными значениями по каждого типа занятости `income_type`.**"
   ]
  },
  {
   "cell_type": "code",
   "execution_count": 11,
   "id": "09b00060",
   "metadata": {
    "id": "af6b1a7e"
   },
   "outputs": [],
   "source": [
    "for t in data['income_type'].unique():\n",
    "    data.loc[(data['income_type'] == t) \n",
    "    & (data['days_employed'].isna()), 'days_employed'] = data.loc[(data['income_type'] == t), 'days_employed'].median()"
   ]
  },
  {
   "cell_type": "markdown",
   "id": "0b66e151",
   "metadata": {
    "id": "2753f40d"
   },
   "source": [
    "**Задание 12. Убедитесь, что все пропуски заполнены. Проверьте себя и ещё раз выведите количество пропущенных значений для каждого столбца с помощью двух методов.**"
   ]
  },
  {
   "cell_type": "code",
   "execution_count": 12,
   "id": "cf306d6a",
   "metadata": {
    "id": "55f78bc2",
    "outputId": "8da1e4e1-358e-4e87-98c9-f261bce0a7b2"
   },
   "outputs": [
    {
     "data": {
      "text/plain": [
       "children            0\n",
       "days_employed       0\n",
       "dob_years           0\n",
       "education           0\n",
       "education_id        0\n",
       "family_status       0\n",
       "family_status_id    0\n",
       "gender              0\n",
       "income_type         0\n",
       "debt                0\n",
       "total_income        0\n",
       "purpose             0\n",
       "dtype: int64"
      ]
     },
     "execution_count": 12,
     "metadata": {},
     "output_type": "execute_result"
    }
   ],
   "source": [
    "data.isna().sum()"
   ]
  },
  {
   "cell_type": "markdown",
   "id": "fbce8b5e",
   "metadata": {
    "id": "ddc81e43"
   },
   "source": [
    "### Изменение типов данных"
   ]
  },
  {
   "cell_type": "markdown",
   "id": "d98b802b",
   "metadata": {
    "id": "42d19d24"
   },
   "source": [
    "**Задание 13. Замените вещественный тип данных в столбце `total_income` на целочисленный с помощью метода `astype()`.**"
   ]
  },
  {
   "cell_type": "code",
   "execution_count": 13,
   "id": "ceccf8cb",
   "metadata": {
    "id": "920b65ad"
   },
   "outputs": [],
   "source": [
    "data['total_income'] = data['total_income'].astype(int)"
   ]
  },
  {
   "cell_type": "markdown",
   "id": "671d43b2",
   "metadata": {
    "id": "80c420ba"
   },
   "source": [
    "### Обработка дубликатов"
   ]
  },
  {
   "cell_type": "markdown",
   "id": "736e5226",
   "metadata": {},
   "source": [
    "**Задание 14. Обработайте неявные дубликаты в столбце `education`. В этом столбце есть одни и те же значения, но записанные по-разному: с использованием заглавных и строчных букв. Приведите их к нижнему регистру. Проверьте остальные столбцы.**"
   ]
  },
  {
   "cell_type": "code",
   "execution_count": 14,
   "id": "0ee03e04",
   "metadata": {},
   "outputs": [],
   "source": [
    "data['education'] = data['education'].str.lower()"
   ]
  },
  {
   "cell_type": "markdown",
   "id": "8180d591",
   "metadata": {
    "id": "dc587695"
   },
   "source": [
    "**Задание 15. Выведите на экран количество строк-дубликатов в данных. Если такие строки присутствуют, удалите их.**"
   ]
  },
  {
   "cell_type": "code",
   "execution_count": 15,
   "id": "231f7e8e",
   "metadata": {
    "id": "3ee445e4",
    "outputId": "9684deba-1934-42d1-99e1-cda61740f822"
   },
   "outputs": [
    {
     "data": {
      "text/plain": [
       "71"
      ]
     },
     "execution_count": 15,
     "metadata": {},
     "output_type": "execute_result"
    }
   ],
   "source": [
    "data.duplicated().sum()"
   ]
  },
  {
   "cell_type": "code",
   "execution_count": 16,
   "id": "5e5986d3",
   "metadata": {
    "id": "8575fe05"
   },
   "outputs": [],
   "source": [
    "data = data.drop_duplicates()"
   ]
  },
  {
   "cell_type": "markdown",
   "id": "7ecf3d4d",
   "metadata": {
    "id": "9904cf55"
   },
   "source": [
    "### Категоризация данных"
   ]
  },
  {
   "cell_type": "markdown",
   "id": "d76dfd48",
   "metadata": {
    "id": "72fcc8a2"
   },
   "source": [
    "**Задание 16. На основании диапазонов, указанных ниже, создайте в датафрейме `data` столбец `total_income_category` с категориями:**\n",
    "\n",
    "- 0–30000 — `'E'`;\n",
    "- 30001–50000 — `'D'`;\n",
    "- 50001–200000 — `'C'`;\n",
    "- 200001–1000000 — `'B'`;\n",
    "- 1000001 и выше — `'A'`.\n",
    "\n",
    "\n",
    "**Например, кредитополучателю с доходом 25000 нужно назначить категорию `'E'`, а клиенту, получающему 235000, — `'B'`. Используйте собственную функцию с именем `categorize_income()` и метод `apply()`.**"
   ]
  },
  {
   "cell_type": "code",
   "execution_count": 17,
   "id": "35e2d410",
   "metadata": {
    "id": "e1771346"
   },
   "outputs": [],
   "source": [
    "def categorize_income(income):\n",
    "    try:\n",
    "        if 0 <= income <= 30000:\n",
    "            return 'E'\n",
    "        elif 30001 <= income <= 50000:\n",
    "            return 'D'\n",
    "        elif 50001 <= income <= 200000:\n",
    "            return 'C'\n",
    "        elif 200001 <= income <= 1000000:\n",
    "            return 'B'\n",
    "        elif income >= 1000001:\n",
    "            return 'A'\n",
    "    except:\n",
    "        pass"
   ]
  },
  {
   "cell_type": "code",
   "execution_count": 18,
   "id": "645c3599",
   "metadata": {
    "id": "d5f3586d"
   },
   "outputs": [],
   "source": [
    "data['total_income_category'] = data['total_income'].apply(categorize_income)"
   ]
  },
  {
   "cell_type": "markdown",
   "id": "eed9614e",
   "metadata": {
    "id": "dde49b5c"
   },
   "source": [
    "**Задание 17. Выведите на экран перечень уникальных целей взятия кредита из столбца `purpose`.**"
   ]
  },
  {
   "cell_type": "code",
   "execution_count": 19,
   "id": "69df28c4",
   "metadata": {
    "id": "f67ce9b3",
    "outputId": "673c12d9-7d7e-4ae0-9812-c622c89dd244"
   },
   "outputs": [
    {
     "name": "stdout",
     "output_type": "stream",
     "text": [
      "автомобили\n",
      "автомобиль\n",
      "высшее образование\n",
      "дополнительное образование\n",
      "жилье\n",
      "заняться высшим образованием\n",
      "заняться образованием\n",
      "на покупку автомобиля\n",
      "на покупку подержанного автомобиля\n",
      "на покупку своего автомобиля\n",
      "на проведение свадьбы\n",
      "недвижимость\n",
      "образование\n",
      "операции с жильем\n",
      "операции с коммерческой недвижимостью\n",
      "операции с недвижимостью\n",
      "операции со своей недвижимостью\n",
      "покупка жилой недвижимости\n",
      "покупка жилья\n",
      "покупка жилья для сдачи\n",
      "покупка жилья для семьи\n",
      "покупка коммерческой недвижимости\n",
      "покупка недвижимости\n",
      "покупка своего жилья\n",
      "получение высшего образования\n",
      "получение дополнительного образования\n",
      "получение образования\n",
      "приобретение автомобиля\n",
      "профильное образование\n",
      "ремонт жилью\n",
      "свадьба\n",
      "свой автомобиль\n",
      "сделка с автомобилем\n",
      "сделка с подержанным автомобилем\n",
      "строительство жилой недвижимости\n",
      "строительство недвижимости\n",
      "строительство собственной недвижимости\n",
      "сыграть свадьбу\n"
     ]
    }
   ],
   "source": [
    "print(*data['purpose'].sort_values().unique(), sep='\\n')"
   ]
  },
  {
   "cell_type": "markdown",
   "id": "b8306fa7",
   "metadata": {
    "id": "85d0aef0"
   },
   "source": [
    "**Задание 18. Создайте функцию, которая на основании данных из столбца `purpose` сформирует новый столбец `purpose_category`, в который войдут следующие категории:**\n",
    "\n",
    "- `'операции с автомобилем'`,\n",
    "- `'операции с недвижимостью'`,\n",
    "- `'проведение свадьбы'`,\n",
    "- `'получение образования'`.\n",
    "\n",
    "**Например, если в столбце `purpose` находится подстрока `'на покупку автомобиля'`, то в столбце `purpose_category` должна появиться строка `'операции с автомобилем'`.**\n",
    "\n",
    "**Используйте собственную функцию с именем `categorize_purpose()` и метод `apply()`. Изучите данные в столбце `purpose` и определите, какие подстроки помогут вам правильно определить категорию.**"
   ]
  },
  {
   "cell_type": "code",
   "execution_count": 20,
   "id": "db79a3fd",
   "metadata": {
    "id": "e149fab4"
   },
   "outputs": [],
   "source": [
    "def categorize_purpose(row):\n",
    "    try:\n",
    "        if 'автом' in row:\n",
    "            return 'операции с автомобилем'\n",
    "        elif 'жил' in row or 'недвиж' in row:\n",
    "            return 'операции с недвижимостью'\n",
    "        elif 'свад' in row:\n",
    "            return 'проведение свадьбы'\n",
    "        elif 'образов' in row:\n",
    "            return 'получение образования'\n",
    "    except:\n",
    "        return 'нет категории'"
   ]
  },
  {
   "cell_type": "code",
   "execution_count": 21,
   "id": "646337cb",
   "metadata": {
    "id": "bf36e69b"
   },
   "outputs": [],
   "source": [
    "data['purpose_category'] = data['purpose'].apply(categorize_purpose)"
   ]
  },
  {
   "cell_type": "markdown",
   "id": "e6ff7df0",
   "metadata": {
    "id": "09b242bf"
   },
   "source": [
    "## Шаг 3. Исследуйте данные и ответьте на вопросы"
   ]
  },
  {
   "cell_type": "markdown",
   "id": "55a66f4b",
   "metadata": {
    "id": "c5d66278"
   },
   "source": [
    "### Есть ли зависимость между количеством детей и возвратом кредита в срок?"
   ]
  },
  {
   "cell_type": "code",
   "execution_count": 22,
   "id": "e675c18e",
   "metadata": {},
   "outputs": [],
   "source": [
    "# для визуализации\n",
    "import seaborn"
   ]
  },
  {
   "cell_type": "code",
   "execution_count": 23,
   "id": "0859be7c",
   "metadata": {},
   "outputs": [
    {
     "name": "stdout",
     "output_type": "stream",
     "text": [
      "Заёмщики с количеством детей 1 в выборке 4808 человек, что составляет 22.54% от общего числа\n",
      "Заёмщики с количеством детей 0 в выборке 14091 человек, что составляет 66.06% от общего числа\n",
      "Заёмщики с количеством детей 3 в выборке 330 человек, что составляет 1.55% от общего числа\n",
      "Заёмщики с количеством детей 2 в выборке 2052 человек, что составляет 9.62% от общего числа\n",
      "Заёмщики с количеством детей 4 в выборке 41 человек, что составляет 0.19% от общего числа\n",
      "Заёмщики с количеством детей 5 в выборке 9 человек, что составляет 0.04% от общего числа\n"
     ]
    }
   ],
   "source": [
    "# проведём валидацию достаточности данных для исследования\n",
    "# на случай, если какие-то категории представлены в недостаточном количестве\n",
    "\n",
    "# не получается поместить вычисление длины таблицы в f'строку, через переменную - ok\n",
    "lenght =len(data) \n",
    "\n",
    "for i in data['children'].unique():\n",
    "    var = data[data['children'] == i]['total_income'].count()\n",
    "    print (f'Заёмщики с количеством детей {i} в выборке {var} человек, что составляет {var / lenght:.2%} от общего числа')"
   ]
  },
  {
   "cell_type": "code",
   "execution_count": 24,
   "id": "bfba36d1",
   "metadata": {
    "id": "2cacfc4a"
   },
   "outputs": [
    {
     "data": {
      "text/plain": [
       "children\n",
       "0    0.075438\n",
       "1    0.092346\n",
       "2    0.094542\n",
       "3    0.081818\n",
       "4    0.097561\n",
       "5    0.000000\n",
       "Name: debt, dtype: float64"
      ]
     },
     "metadata": {},
     "output_type": "display_data"
    },
    {
     "data": {
      "image/png": "[encoded data removed]",
      "text/plain": [
       "<Figure size 640x480 with 1 Axes>"
      ]
     },
     "metadata": {},
     "output_type": "display_data"
    }
   ],
   "source": [
    "# для оценки зависимости сгруппируем данные по столбцу 'children', анализируемый показатель - среднее значение из столбца debt\n",
    "children_debt = data.groupby('children')['debt'].mean()\n",
    "\n",
    "# необязательный, но повышающий наглядность вывод числовых данных\n",
    "display (children_debt)\n",
    "\n",
    "# для наглядности построим диаграмму\n",
    "seaborn.barplot(y = children_debt, x = children_debt.index);"
   ]
  },
  {
   "cell_type": "markdown",
   "id": "bb55c145",
   "metadata": {
    "id": "3a6b99ec"
   },
   "source": [
    "**Вывод** по имеющимся данным:\n",
    " - заёмщики, не имеющие детей, реже всех имеют просроченную задолженность (доля просроченных задолженностей 7,5%);\n",
    " - менее дисциплинированные заёмщики имеют 1, 2 и 4 ребёнка, причём процент \"должников\" растёт с увеличением количества детей (от 9,2% до 9,75%);\n",
    " - при этом, заёмщики с 3 детьми выпадают из этого правила и показывают результат ниже (8,18%), чем заёмщики с 1,2 и 4 детьми;\n",
    " - заёмщики с 5 детьми не имеют просроченной задолженности, т.е., как будто, являются самыми дисциплинированными, но ввиду того, что их количество очень мало (9 из более чем 21000), показатель не является репрезентативным.\n",
    " - вообще, количество заёмщиков с числом детей более 2 представлены в выборке крайне незначительно, их доли в общем числе не превышают 1,55%"
   ]
  },
  {
   "cell_type": "markdown",
   "id": "6a1a2374",
   "metadata": {
    "id": "97be82ca"
   },
   "source": [
    "### Есть ли зависимость между семейным положением и возвратом кредита в срок?"
   ]
  },
  {
   "cell_type": "code",
   "execution_count": 25,
   "id": "af4057ec",
   "metadata": {
    "id": "dc3f7ee8"
   },
   "outputs": [
    {
     "data": {
      "text/html": [
       "<div>\n",
       "<style scoped>\n",
       "    .dataframe tbody tr th:only-of-type {\n",
       "        vertical-align: middle;\n",
       "    }\n",
       "\n",
       "    .dataframe tbody tr th {\n",
       "        vertical-align: top;\n",
       "    }\n",
       "\n",
       "    .dataframe thead th {\n",
       "        text-align: right;\n",
       "    }\n",
       "</style>\n",
       "<table border=\"1\" class=\"dataframe\">\n",
       "  <thead>\n",
       "    <tr style=\"text-align: right;\">\n",
       "      <th></th>\n",
       "      <th>family_status_id</th>\n",
       "      <th>debt</th>\n",
       "      <th>family_status</th>\n",
       "    </tr>\n",
       "  </thead>\n",
       "  <tbody>\n",
       "    <tr>\n",
       "      <th>0</th>\n",
       "      <td>0</td>\n",
       "      <td>0.075606</td>\n",
       "      <td>женат / замужем</td>\n",
       "    </tr>\n",
       "    <tr>\n",
       "      <th>1</th>\n",
       "      <td>1</td>\n",
       "      <td>0.093130</td>\n",
       "      <td>гражданский брак</td>\n",
       "    </tr>\n",
       "    <tr>\n",
       "      <th>2</th>\n",
       "      <td>2</td>\n",
       "      <td>0.066246</td>\n",
       "      <td>вдовец / вдова</td>\n",
       "    </tr>\n",
       "    <tr>\n",
       "      <th>3</th>\n",
       "      <td>3</td>\n",
       "      <td>0.070648</td>\n",
       "      <td>в разводе</td>\n",
       "    </tr>\n",
       "    <tr>\n",
       "      <th>4</th>\n",
       "      <td>4</td>\n",
       "      <td>0.097639</td>\n",
       "      <td>Не женат / не замужем</td>\n",
       "    </tr>\n",
       "  </tbody>\n",
       "</table>\n",
       "</div>"
      ],
      "text/plain": [
       "   family_status_id      debt          family_status\n",
       "0                 0  0.075606        женат / замужем\n",
       "1                 1  0.093130       гражданский брак\n",
       "2                 2  0.066246         вдовец / вдова\n",
       "3                 3  0.070648              в разводе\n",
       "4                 4  0.097639  Не женат / не замужем"
      ]
     },
     "metadata": {},
     "output_type": "display_data"
    },
    {
     "data": {
      "image/png": "[encoded data removed]",
      "text/plain": [
       "<Figure size 640x480 with 1 Axes>"
      ]
     },
     "metadata": {},
     "output_type": "display_data"
    }
   ],
   "source": [
    "# создадим сводную таблицу для оценки зависимости от семейного положения\n",
    "data_pivot_fam_stat = data.pivot_table(index=['family_status_id'], values='debt', aggfunc='mean')\n",
    "\n",
    "# для удобства построения графика отсортируем по id\n",
    "data_pivot_fam_stat = data_pivot_fam_stat.sort_values(by = 'family_status_id')\n",
    "\n",
    "# соберём словарик с семейными статусами для использования в сводной таблице и графике\n",
    "data_fam_dict=data[['family_status_id', 'family_status']].drop_duplicates().reset_index(drop = True)\n",
    "\n",
    "# склеим сводную таблицу со словарём\n",
    "data_pivot_fam_stat_full = data_pivot_fam_stat.merge(data_fam_dict, on = 'family_status_id', how = 'left')\n",
    "\n",
    "# необязательный, но повышающий наглядность вывод числовых данных\n",
    "display(data_pivot_fam_stat_full)\n",
    "\n",
    "# строим график\n",
    "seaborn.barplot(y = data_pivot_fam_stat_full['debt'], x = data_pivot_fam_stat_full.index);\n",
    "\n",
    "# вся заморочка с merge и словарём нужна, чтобы избежать мультииндекса (по нему не получается строить barplot),\n",
    "# при этом при выводе числовых данных хотелось сохранить и id, и описание семейного статуса\n",
    "# можно было столбец со значениями family_status прилепить вручную списком\n",
    "# но где доказательства, что я не перепутаю при этом id"
   ]
  },
  {
   "cell_type": "markdown",
   "id": "d5df3168",
   "metadata": {
    "id": "1cef7837"
   },
   "source": [
    "**Вывод:** \n",
    "- наиболее дисциплинированные заёмщики - вдовцы (категория 2 на графике) и разведённые (категория 3), а также женатые (замужние) (категория 0) средняя доля невозвращённых в срок кредитов по этим категориям не превышает 7,56%\n",
    "- в свою очередь, заёмщики категорий \"гражданский брак\" (категория 1) или \"не женат / не замужем\" (категория 4) самые недисциплинированные. Доля невозвращённых кредитов в срок по этим категорями составляет 9,3 - 9,8%"
   ]
  },
  {
   "cell_type": "markdown",
   "id": "6d4633d2",
   "metadata": {
    "id": "1e8b2fca"
   },
   "source": [
    "### Есть ли зависимость между уровнем дохода и возвратом кредита в срок?"
   ]
  },
  {
   "cell_type": "code",
   "execution_count": 26,
   "id": "da93e3cf",
   "metadata": {},
   "outputs": [
    {
     "name": "stdout",
     "output_type": "stream",
     "text": [
      "Заёмщики с категорией дохода B в выборке 5014 человек, что составляет 23.51% от общего числа\n",
      "Заёмщики с категорией дохода C в выборке 15921 человек, что составляет 74.64% от общего числа\n",
      "Заёмщики с категорией дохода D в выборке 349 человек, что составляет 1.64% от общего числа\n",
      "Заёмщики с категорией дохода E в выборке 22 человек, что составляет 0.10% от общего числа\n",
      "Заёмщики с категорией дохода A в выборке 25 человек, что составляет 0.12% от общего числа\n"
     ]
    }
   ],
   "source": [
    "# проведём анализ распределения данных по категориям дохода\n",
    "# не получается поместить вычисление длины таблицы в f'строку, через переменную - норм\n",
    "\n",
    "for i in data['total_income_category'].unique():\n",
    "    var = data[data['total_income_category'] == i]['total_income'].count()\n",
    "    print (f'Заёмщики с категорией дохода {i} в выборке {var} человек, что составляет {var / lenght:.2%} от общего числа')"
   ]
  },
  {
   "cell_type": "code",
   "execution_count": 27,
   "id": "66c09230",
   "metadata": {
    "id": "cd7e3720"
   },
   "outputs": [
    {
     "data": {
      "text/html": [
       "<div>\n",
       "<style scoped>\n",
       "    .dataframe tbody tr th:only-of-type {\n",
       "        vertical-align: middle;\n",
       "    }\n",
       "\n",
       "    .dataframe tbody tr th {\n",
       "        vertical-align: top;\n",
       "    }\n",
       "\n",
       "    .dataframe thead th {\n",
       "        text-align: right;\n",
       "    }\n",
       "</style>\n",
       "<table border=\"1\" class=\"dataframe\">\n",
       "  <thead>\n",
       "    <tr style=\"text-align: right;\">\n",
       "      <th></th>\n",
       "      <th>debt</th>\n",
       "      <th>income_level</th>\n",
       "    </tr>\n",
       "    <tr>\n",
       "      <th>total_income_category</th>\n",
       "      <th></th>\n",
       "      <th></th>\n",
       "    </tr>\n",
       "  </thead>\n",
       "  <tbody>\n",
       "    <tr>\n",
       "      <th>A</th>\n",
       "      <td>0.080000</td>\n",
       "      <td>1000001 и выше</td>\n",
       "    </tr>\n",
       "    <tr>\n",
       "      <th>B</th>\n",
       "      <td>0.070602</td>\n",
       "      <td>200001–1000000</td>\n",
       "    </tr>\n",
       "    <tr>\n",
       "      <th>C</th>\n",
       "      <td>0.084982</td>\n",
       "      <td>50001–200000</td>\n",
       "    </tr>\n",
       "    <tr>\n",
       "      <th>D</th>\n",
       "      <td>0.060172</td>\n",
       "      <td>30001–50000</td>\n",
       "    </tr>\n",
       "    <tr>\n",
       "      <th>E</th>\n",
       "      <td>0.090909</td>\n",
       "      <td>0–30000</td>\n",
       "    </tr>\n",
       "  </tbody>\n",
       "</table>\n",
       "</div>"
      ],
      "text/plain": [
       "                           debt    income_level\n",
       "total_income_category                          \n",
       "A                      0.080000  1000001 и выше\n",
       "B                      0.070602  200001–1000000\n",
       "C                      0.084982    50001–200000\n",
       "D                      0.060172     30001–50000\n",
       "E                      0.090909         0–30000"
      ]
     },
     "metadata": {},
     "output_type": "display_data"
    },
    {
     "data": {
      "image/png": "[encoded data removed]",
      "text/plain": [
       "<Figure size 640x480 with 1 Axes>"
      ]
     },
     "metadata": {},
     "output_type": "display_data"
    }
   ],
   "source": [
    "# создадим сводную таблицу для оценки зависимости от уровня дохода\n",
    "data_pivot_income = data.pivot_table(index=['total_income_category'], values='debt', aggfunc='mean')\n",
    "\n",
    "# для построения графика отсортируем по категории\n",
    "data_pivot_income = data_pivot_income.sort_values(by = 'total_income_category')\n",
    "\n",
    "# добавим столбец с описанием категорий дохода для удобства интерпретации\n",
    "# здесь столбец приклеиваю вручную, т.к. создавал его сам, значения в таблице отсортированы - ошибка исключена\n",
    "data_pivot_income['income_level'] = ['1000001 и выше', '200001–1000000', '50001–200000', '30001–50000', '0–30000']\n",
    "\n",
    "# необязательный, но повышающий наглядность вывод числовых данных\n",
    "display(data_pivot_income)\n",
    "\n",
    "# строим график\n",
    "seaborn.barplot(y = data_pivot_income['debt'], x = data_pivot_income.index);"
   ]
  },
  {
   "cell_type": "markdown",
   "id": "3480f1a5",
   "metadata": {
    "id": "e8593def"
   },
   "source": [
    "**Вывод:** \n",
    "- прямой зависимости между ростом уровня дохода и долей возвращаемых в срок кредитов нет, при этом в выборке в основном представлена информация по заёмщикам, имеющим категорию дохода C (74,64%) и B (23,51%), т.е. людей среднего и среднего-плюс достатка. По этим двум категориям очевидно, что более богатые (категория B) являются более дисциплинированными заёмщиками.\n",
    "- наименее дисциплинированными в имеющейся выборке являются заёмщики категории E - люди с самым низким доходом (0 - 30000), доля просроченных кредитов по ним составляет 9,1%;\n",
    "- заёмщики с категориями A, D, E представлены в выборке крайне незначительно (доля не превышает 1,64%).\n",
    "\n",
    "\n",
    "Потеряли актуальность выводы:\n",
    "- наиболее дисциплинированные заёмщики имеют категорию дохода D (30001–50000), доля невозвращаемых в срок кредитов составляет 6,02%\n",
    "- далее по росту доли просроченных кредитов идут заёщики с категориями доходов B (доля 7,06%), A (доля 8,0%), С (доля 8,5%);\n"
   ]
  },
  {
   "cell_type": "markdown",
   "id": "8a97e780",
   "metadata": {
    "id": "99ecbd1f"
   },
   "source": [
    "### Как разные цели кредита влияют на его возврат в срок?"
   ]
  },
  {
   "cell_type": "code",
   "execution_count": 28,
   "id": "3ca156f2",
   "metadata": {
    "id": "2b687290"
   },
   "outputs": [
    {
     "data": {
      "text/html": [
       "<div>\n",
       "<style scoped>\n",
       "    .dataframe tbody tr th:only-of-type {\n",
       "        vertical-align: middle;\n",
       "    }\n",
       "\n",
       "    .dataframe tbody tr th {\n",
       "        vertical-align: top;\n",
       "    }\n",
       "\n",
       "    .dataframe thead th {\n",
       "        text-align: right;\n",
       "    }\n",
       "</style>\n",
       "<table border=\"1\" class=\"dataframe\">\n",
       "  <thead>\n",
       "    <tr style=\"text-align: right;\">\n",
       "      <th></th>\n",
       "      <th>debt</th>\n",
       "      <th>purpose_cat</th>\n",
       "    </tr>\n",
       "    <tr>\n",
       "      <th>purpose_category</th>\n",
       "      <th></th>\n",
       "      <th></th>\n",
       "    </tr>\n",
       "  </thead>\n",
       "  <tbody>\n",
       "    <tr>\n",
       "      <th>операции с недвижимостью</th>\n",
       "      <td>0.072551</td>\n",
       "      <td>A</td>\n",
       "    </tr>\n",
       "    <tr>\n",
       "      <th>проведение свадьбы</th>\n",
       "      <td>0.079118</td>\n",
       "      <td>B</td>\n",
       "    </tr>\n",
       "    <tr>\n",
       "      <th>получение образования</th>\n",
       "      <td>0.092528</td>\n",
       "      <td>C</td>\n",
       "    </tr>\n",
       "    <tr>\n",
       "      <th>операции с автомобилем</th>\n",
       "      <td>0.093480</td>\n",
       "      <td>D</td>\n",
       "    </tr>\n",
       "  </tbody>\n",
       "</table>\n",
       "</div>"
      ],
      "text/plain": [
       "                              debt purpose_cat\n",
       "purpose_category                              \n",
       "операции с недвижимостью  0.072551           A\n",
       "проведение свадьбы        0.079118           B\n",
       "получение образования     0.092528           C\n",
       "операции с автомобилем    0.093480           D"
      ]
     },
     "metadata": {},
     "output_type": "display_data"
    },
    {
     "data": {
      "image/png": "[encoded data removed]",
      "text/plain": [
       "<Figure size 640x480 with 1 Axes>"
      ]
     },
     "metadata": {},
     "output_type": "display_data"
    }
   ],
   "source": [
    "# создадим сводную таблицу для оценки зависимости от целей кредита\n",
    "data_pivot_purpose = data.pivot_table(index=['purpose_category'], values='debt', aggfunc='mean')\n",
    "\n",
    "# для красоты построения графика отсортируем по возрастанию доли невозвратов, здесь можно\n",
    "data_pivot_purpose = data_pivot_purpose.sort_values(by = 'debt')\n",
    "\n",
    "# добавляю столбец с id категории цели, чтобы на графике читалось и не сливалось в кашу\n",
    "# буквы добавляю просто по порядку, т.к. никакого смысла они не несут, просто так аккуратней на графике\n",
    "data_pivot_purpose['purpose_cat'] = ['A','B','C','D']\n",
    "\n",
    "# необязательный, но повышающий наглядность вывод числовых данных\n",
    "display(data_pivot_purpose)\n",
    "\n",
    "# строим график\n",
    "seaborn.barplot(y = data_pivot_purpose['debt'], x = data_pivot_purpose['purpose_cat']);"
   ]
  },
  {
   "cell_type": "markdown",
   "id": "42b80810",
   "metadata": {
    "id": "b4bb2ce6"
   },
   "source": [
    "**Вывод:** \n",
    "- на графике представлены данные по мере роста доли невозвратного кредита в зависимости от цели кредита\n",
    "- меньше всех доля невозвратных кредитов у цели категории A (операции с недвижимостью) - 7,26%, далее B (свадьба) - 7,91%, С (образование) - 9,25%;\n",
    "- наибольшая доля невозвратных кредитов с целью категории D на графике (операции с автомобилем) - 9,35%"
   ]
  },
  {
   "cell_type": "markdown",
   "id": "53976fe4",
   "metadata": {
    "id": "09c3ac4c"
   },
   "source": [
    "### Приведите возможные причины появления пропусков в исходных данных."
   ]
  },
  {
   "cell_type": "markdown",
   "id": "4b108792",
   "metadata": {
    "id": "9da2ceda"
   },
   "source": [
    "В исходном датасете отсутствали данные по доходу и по стажу, причём, в одинаковом количестве строк. Можно предположить, что люди не работали официально и не могли подтвердить свой доход.\n",
    "Кроме того, нельзя исключать техническую ошибку."
   ]
  },
  {
   "cell_type": "markdown",
   "id": "de49d916",
   "metadata": {
    "id": "7b0487d6"
   },
   "source": [
    "### Объясните, почему заполнить пропуски медианным значением — лучшее решение для количественных переменных."
   ]
  },
  {
   "cell_type": "markdown",
   "id": "713bb2ac",
   "metadata": {
    "id": "7ecf2b8e"
   },
   "source": [
    "На показатель средней арифметической сильно влияют значения-выбросы, которые могут сильно смещать данный показатель в свою сторону. Для многих характеристик это является критичным при составлении оценок (например, средняя зарплата на предприятии, средний возраст сотрудников). Медиана лишена этого недостатка, она позволяет оценить середину выборки, не учитывая \"выбросы\"."
   ]
  },
  {
   "cell_type": "markdown",
   "id": "56bbe51d",
   "metadata": {
    "id": "6db5255a"
   },
   "source": [
    "## Шаг 4: общий вывод."
   ]
  },
  {
   "cell_type": "markdown",
   "id": "05936328",
   "metadata": {
    "id": "bad65432"
   },
   "source": [
    "Для исследования были получены исходные данные. В целом, информация была представлена качественная, без существенных пропусков и \"выбросов\", могущих оказать влияние на выводы. Недостающая информация по доходам была замещена стандартными методами (медианное значение), строки-дубликаты исключены и аномальные значения отброшены.\n",
    "\n",
    "При проводении исследования все заёмщики были категоризированы в зависимости от целей кредита, семейного положения, дохода. Это позволило работать с группами заёмщиков и выявлять агрегированные зависимости.\n",
    "\n",
    "После проведения исследования были выяснены зависимости возвратности займов от разных категорий заёмщиков и самих займов (цель займа, доход и семейное положение и количество детей у заёмщика). Обозначены наиболее рискованные категории заёмщиков и, наоборот, самые перспективные.\n",
    "\n",
    "При этом целью исследования не ставилось выявить наиболее перспективные катогории при разных сочетаниях указанных факторов. Данные выводы возможно использовать для построения скоринговой системы при принятии решения о выдаче кредитов при условии сочетания всех факторов.\n",
    "\n",
    "Важно отметить, что в исходной выборке не все категории заёмщиков были представлены в достаточном количестве (вероятней всего, по объективным причинам), чтобы на основании этих данных строить скоринговую систему. В крайнем случае, возможно использовать полученные данные с наименьшим приоритетом (весом)."
   ]
  }
 ],
 "metadata": {
  "ExecuteTimeLog": [
   {
    "duration": 488,
    "start_time": "2022-11-05T10:56:01.964Z"
   },
   {
    "duration": 27,
    "start_time": "2022-11-05T10:56:02.454Z"
   },
   {
    "duration": 16,
    "start_time": "2022-11-05T10:56:02.483Z"
   },
   {
    "duration": 32,
    "start_time": "2022-11-05T10:56:02.501Z"
   },
   {
    "duration": 41,
    "start_time": "2022-11-05T10:56:02.536Z"
   },
   {
    "duration": 4,
    "start_time": "2022-11-05T10:56:02.579Z"
   },
   {
    "duration": 12,
    "start_time": "2022-11-05T10:56:02.584Z"
   },
   {
    "duration": 4,
    "start_time": "2022-11-05T10:56:02.598Z"
   },
   {
    "duration": 6,
    "start_time": "2022-11-05T10:56:02.633Z"
   },
   {
    "duration": 6,
    "start_time": "2022-11-05T10:56:02.641Z"
   },
   {
    "duration": 43,
    "start_time": "2022-11-05T10:56:02.649Z"
   },
   {
    "duration": 39,
    "start_time": "2022-11-05T10:56:02.694Z"
   },
   {
    "duration": 4,
    "start_time": "2022-11-05T10:56:02.735Z"
   },
   {
    "duration": 27,
    "start_time": "2022-11-05T10:56:02.741Z"
   },
   {
    "duration": 24,
    "start_time": "2022-11-05T10:56:02.769Z"
   },
   {
    "duration": 40,
    "start_time": "2022-11-05T10:56:02.794Z"
   },
   {
    "duration": 4,
    "start_time": "2022-11-05T10:56:02.836Z"
   },
   {
    "duration": 15,
    "start_time": "2022-11-05T10:56:02.843Z"
   },
   {
    "duration": 14,
    "start_time": "2022-11-05T10:56:02.860Z"
   },
   {
    "duration": 8,
    "start_time": "2022-11-05T10:56:02.876Z"
   },
   {
    "duration": 14,
    "start_time": "2022-11-05T10:56:02.886Z"
   },
   {
    "duration": 9,
    "start_time": "2022-11-05T10:56:10.780Z"
   },
   {
    "duration": 8,
    "start_time": "2022-11-05T10:56:27.389Z"
   },
   {
    "duration": 1162,
    "start_time": "2022-11-05T10:59:49.591Z"
   },
   {
    "duration": 193,
    "start_time": "2022-11-05T11:06:47.665Z"
   },
   {
    "duration": 9,
    "start_time": "2022-11-05T11:07:24.553Z"
   },
   {
    "duration": 9,
    "start_time": "2022-11-05T11:08:01.697Z"
   },
   {
    "duration": 9,
    "start_time": "2022-11-05T11:11:20.180Z"
   },
   {
    "duration": 119,
    "start_time": "2022-11-05T11:15:22.787Z"
   },
   {
    "duration": 130,
    "start_time": "2022-11-05T11:20:04.320Z"
   },
   {
    "duration": 14,
    "start_time": "2022-11-05T11:20:44.177Z"
   },
   {
    "duration": 14,
    "start_time": "2022-11-05T11:20:52.304Z"
   },
   {
    "duration": 9,
    "start_time": "2022-11-05T11:22:32.448Z"
   },
   {
    "duration": 14,
    "start_time": "2022-11-05T11:22:34.932Z"
   },
   {
    "duration": 12,
    "start_time": "2022-11-05T11:22:45.369Z"
   },
   {
    "duration": 170,
    "start_time": "2022-11-05T11:24:54.097Z"
   },
   {
    "duration": 137,
    "start_time": "2022-11-05T11:25:14.625Z"
   },
   {
    "duration": 19,
    "start_time": "2022-11-05T11:25:54.690Z"
   },
   {
    "duration": 69,
    "start_time": "2022-11-05T11:26:16.618Z"
   },
   {
    "duration": 18,
    "start_time": "2022-11-05T11:26:39.892Z"
   },
   {
    "duration": 125,
    "start_time": "2022-11-05T11:26:58.046Z"
   },
   {
    "duration": 137,
    "start_time": "2022-11-05T11:37:43.020Z"
   },
   {
    "duration": 225,
    "start_time": "2022-11-05T11:37:57.280Z"
   },
   {
    "duration": 146,
    "start_time": "2022-11-05T11:38:02.639Z"
   },
   {
    "duration": 139,
    "start_time": "2022-11-05T11:38:41.655Z"
   },
   {
    "duration": 136,
    "start_time": "2022-11-05T11:38:45.655Z"
   },
   {
    "duration": 133,
    "start_time": "2022-11-05T11:38:50.415Z"
   },
   {
    "duration": 135,
    "start_time": "2022-11-05T11:38:54.900Z"
   },
   {
    "duration": 133,
    "start_time": "2022-11-05T11:39:00.494Z"
   },
   {
    "duration": 86,
    "start_time": "2022-11-05T11:42:47.786Z"
   },
   {
    "duration": 110,
    "start_time": "2022-11-05T11:43:00.880Z"
   },
   {
    "duration": 68,
    "start_time": "2022-11-05T11:44:40.249Z"
   },
   {
    "duration": 69,
    "start_time": "2022-11-05T11:44:51.121Z"
   },
   {
    "duration": 6,
    "start_time": "2022-11-05T11:45:25.603Z"
   },
   {
    "duration": 64,
    "start_time": "2022-11-05T11:45:51.772Z"
   },
   {
    "duration": 5,
    "start_time": "2022-11-05T11:46:05.926Z"
   },
   {
    "duration": 6,
    "start_time": "2022-11-05T11:46:10.922Z"
   },
   {
    "duration": 5,
    "start_time": "2022-11-05T11:54:39.411Z"
   },
   {
    "duration": 5,
    "start_time": "2022-11-05T11:55:00.624Z"
   },
   {
    "duration": 13,
    "start_time": "2022-11-05T11:56:40.408Z"
   },
   {
    "duration": 125,
    "start_time": "2022-11-05T11:56:50.471Z"
   },
   {
    "duration": 133,
    "start_time": "2022-11-05T11:58:02.482Z"
   },
   {
    "duration": 69,
    "start_time": "2022-11-05T12:00:51.772Z"
   },
   {
    "duration": 15,
    "start_time": "2022-11-05T12:01:14.599Z"
   },
   {
    "duration": 136,
    "start_time": "2022-11-05T12:01:24.897Z"
   },
   {
    "duration": 45,
    "start_time": "2022-11-05T15:21:27.357Z"
   },
   {
    "duration": 525,
    "start_time": "2022-11-05T15:21:52.406Z"
   },
   {
    "duration": 20,
    "start_time": "2022-11-05T15:21:52.933Z"
   },
   {
    "duration": 13,
    "start_time": "2022-11-05T15:21:52.954Z"
   },
   {
    "duration": 8,
    "start_time": "2022-11-05T15:21:52.969Z"
   },
   {
    "duration": 29,
    "start_time": "2022-11-05T15:21:52.978Z"
   },
   {
    "duration": 3,
    "start_time": "2022-11-05T15:21:53.009Z"
   },
   {
    "duration": 9,
    "start_time": "2022-11-05T15:21:53.014Z"
   },
   {
    "duration": 4,
    "start_time": "2022-11-05T15:21:53.025Z"
   },
   {
    "duration": 10,
    "start_time": "2022-11-05T15:21:53.030Z"
   },
   {
    "duration": 4,
    "start_time": "2022-11-05T15:21:53.042Z"
   },
   {
    "duration": 54,
    "start_time": "2022-11-05T15:21:53.047Z"
   },
   {
    "duration": 9,
    "start_time": "2022-11-05T15:21:53.102Z"
   },
   {
    "duration": 6,
    "start_time": "2022-11-05T15:21:53.113Z"
   },
   {
    "duration": 11,
    "start_time": "2022-11-05T15:21:53.120Z"
   },
   {
    "duration": 21,
    "start_time": "2022-11-05T15:21:53.132Z"
   },
   {
    "duration": 34,
    "start_time": "2022-11-05T15:21:53.154Z"
   },
   {
    "duration": 4,
    "start_time": "2022-11-05T15:21:53.189Z"
   },
   {
    "duration": 17,
    "start_time": "2022-11-05T15:21:53.194Z"
   },
   {
    "duration": 6,
    "start_time": "2022-11-05T15:21:53.213Z"
   },
   {
    "duration": 4,
    "start_time": "2022-11-05T15:21:53.221Z"
   },
   {
    "duration": 22,
    "start_time": "2022-11-05T15:21:53.227Z"
   },
   {
    "duration": 993,
    "start_time": "2022-11-05T15:21:53.251Z"
   },
   {
    "duration": 11,
    "start_time": "2022-11-05T15:21:54.245Z"
   },
   {
    "duration": 119,
    "start_time": "2022-11-05T15:22:03.516Z"
   },
   {
    "duration": 10,
    "start_time": "2022-11-05T15:28:00.932Z"
   },
   {
    "duration": 15,
    "start_time": "2022-11-05T15:28:09.916Z"
   },
   {
    "duration": 17,
    "start_time": "2022-11-05T15:29:14.653Z"
   },
   {
    "duration": 16,
    "start_time": "2022-11-05T15:29:25.620Z"
   },
   {
    "duration": 16,
    "start_time": "2022-11-05T15:29:38.574Z"
   },
   {
    "duration": 72,
    "start_time": "2022-11-05T15:30:18.939Z"
   },
   {
    "duration": 105,
    "start_time": "2022-11-05T15:30:48.613Z"
   },
   {
    "duration": 1214,
    "start_time": "2022-11-05T15:31:30.301Z"
   },
   {
    "duration": 1243,
    "start_time": "2022-11-05T15:31:46.046Z"
   },
   {
    "duration": 101,
    "start_time": "2022-11-05T15:32:04.950Z"
   },
   {
    "duration": 145,
    "start_time": "2022-11-05T15:32:37.590Z"
   },
   {
    "duration": 108,
    "start_time": "2022-11-05T15:33:39.638Z"
   },
   {
    "duration": 14,
    "start_time": "2022-11-05T15:35:32.233Z"
   },
   {
    "duration": 4,
    "start_time": "2022-11-05T15:35:50.111Z"
   },
   {
    "duration": 13,
    "start_time": "2022-11-05T15:35:58.840Z"
   },
   {
    "duration": 12,
    "start_time": "2022-11-05T15:36:16.704Z"
   },
   {
    "duration": 117,
    "start_time": "2022-11-05T15:36:39.728Z"
   },
   {
    "duration": 189,
    "start_time": "2022-11-05T15:37:39.720Z"
   },
   {
    "duration": 18,
    "start_time": "2022-11-05T15:38:57.113Z"
   },
   {
    "duration": 139,
    "start_time": "2022-11-05T15:39:22.621Z"
   },
   {
    "duration": 151,
    "start_time": "2022-11-05T15:41:44.194Z"
   },
   {
    "duration": 111,
    "start_time": "2022-11-05T15:41:58.930Z"
   },
   {
    "duration": 30,
    "start_time": "2022-11-05T15:44:14.844Z"
   },
   {
    "duration": 112,
    "start_time": "2022-11-05T15:44:40.492Z"
   },
   {
    "duration": 113,
    "start_time": "2022-11-05T15:55:42.417Z"
   },
   {
    "duration": 112,
    "start_time": "2022-11-05T16:06:37.392Z"
   },
   {
    "duration": 113,
    "start_time": "2022-11-05T16:07:28.692Z"
   },
   {
    "duration": 129,
    "start_time": "2022-11-05T16:16:53.950Z"
   },
   {
    "duration": 590,
    "start_time": "2022-11-05T16:22:19.061Z"
   },
   {
    "duration": 11,
    "start_time": "2022-11-05T16:22:57.840Z"
   },
   {
    "duration": 17,
    "start_time": "2022-11-05T16:23:05.229Z"
   },
   {
    "duration": 657,
    "start_time": "2022-11-05T16:23:30.414Z"
   },
   {
    "duration": 25,
    "start_time": "2022-11-05T16:25:43.247Z"
   },
   {
    "duration": 1203,
    "start_time": "2022-11-05T16:27:12.763Z"
   },
   {
    "duration": 11,
    "start_time": "2022-11-05T16:28:34.593Z"
   },
   {
    "duration": 115,
    "start_time": "2022-11-05T16:30:11.136Z"
   },
   {
    "duration": 18,
    "start_time": "2022-11-05T16:34:24.405Z"
   },
   {
    "duration": 113,
    "start_time": "2022-11-05T16:35:15.725Z"
   },
   {
    "duration": 110,
    "start_time": "2022-11-05T16:46:33.637Z"
   },
   {
    "duration": 1204,
    "start_time": "2022-11-05T16:47:36.833Z"
   },
   {
    "duration": 1212,
    "start_time": "2022-11-05T16:48:06.945Z"
   },
   {
    "duration": 243,
    "start_time": "2022-11-05T16:48:25.610Z"
   },
   {
    "duration": 122,
    "start_time": "2022-11-05T16:48:48.441Z"
   },
   {
    "duration": 117,
    "start_time": "2022-11-05T16:49:02.123Z"
   },
   {
    "duration": 99,
    "start_time": "2022-11-05T16:55:56.535Z"
   },
   {
    "duration": 162,
    "start_time": "2022-11-05T16:59:04.678Z"
   },
   {
    "duration": 116,
    "start_time": "2022-11-05T16:59:12.935Z"
   },
   {
    "duration": 108,
    "start_time": "2022-11-05T16:59:25.226Z"
   },
   {
    "duration": 28,
    "start_time": "2022-11-05T17:00:14.142Z"
   },
   {
    "duration": 4,
    "start_time": "2022-11-05T17:00:27.640Z"
   },
   {
    "duration": 121,
    "start_time": "2022-11-05T17:00:37.078Z"
   },
   {
    "duration": 1214,
    "start_time": "2022-11-05T17:01:28.543Z"
   },
   {
    "duration": 1097,
    "start_time": "2022-11-05T17:01:41.839Z"
   },
   {
    "duration": 20,
    "start_time": "2022-11-05T17:02:54.275Z"
   },
   {
    "duration": 19,
    "start_time": "2022-11-05T17:03:15.416Z"
   },
   {
    "duration": 123,
    "start_time": "2022-11-05T17:04:40.160Z"
   },
   {
    "duration": 122,
    "start_time": "2022-11-05T17:05:24.961Z"
   },
   {
    "duration": 1168,
    "start_time": "2022-11-05T17:05:51.114Z"
   },
   {
    "duration": 129,
    "start_time": "2022-11-05T17:11:02.794Z"
   },
   {
    "duration": 118,
    "start_time": "2022-11-05T17:12:10.316Z"
   },
   {
    "duration": 29,
    "start_time": "2022-11-05T17:12:55.132Z"
   },
   {
    "duration": 125,
    "start_time": "2022-11-05T17:15:01.710Z"
   },
   {
    "duration": 114,
    "start_time": "2022-11-05T17:15:44.901Z"
   },
   {
    "duration": 110,
    "start_time": "2022-11-05T17:17:07.414Z"
   },
   {
    "duration": 118,
    "start_time": "2022-11-05T17:17:28.246Z"
   },
   {
    "duration": 23,
    "start_time": "2022-11-05T17:23:21.762Z"
   },
   {
    "duration": 20,
    "start_time": "2022-11-05T17:30:02.492Z"
   },
   {
    "duration": 21,
    "start_time": "2022-11-05T17:30:13.421Z"
   },
   {
    "duration": 23,
    "start_time": "2022-11-05T17:30:43.693Z"
   },
   {
    "duration": 113,
    "start_time": "2022-11-05T17:31:04.013Z"
   },
   {
    "duration": 121,
    "start_time": "2022-11-05T17:32:09.804Z"
   },
   {
    "duration": 131,
    "start_time": "2022-11-05T17:32:52.717Z"
   },
   {
    "duration": 129,
    "start_time": "2022-11-05T17:33:11.772Z"
   },
   {
    "duration": 136,
    "start_time": "2022-11-05T17:33:26.172Z"
   },
   {
    "duration": 139,
    "start_time": "2022-11-05T17:33:55.765Z"
   },
   {
    "duration": 124,
    "start_time": "2022-11-05T17:37:21.342Z"
   },
   {
    "duration": 143,
    "start_time": "2022-11-05T17:46:57.439Z"
   },
   {
    "duration": 123,
    "start_time": "2022-11-05T17:48:21.848Z"
   },
   {
    "duration": 137,
    "start_time": "2022-11-05T17:48:43.956Z"
   },
   {
    "duration": 119,
    "start_time": "2022-11-05T17:54:52.813Z"
   },
   {
    "duration": 128,
    "start_time": "2022-11-05T17:55:29.710Z"
   },
   {
    "duration": 115,
    "start_time": "2022-11-05T17:56:16.526Z"
   },
   {
    "duration": 126,
    "start_time": "2022-11-05T17:56:50.247Z"
   },
   {
    "duration": 120,
    "start_time": "2022-11-05T17:56:59.015Z"
   },
   {
    "duration": 183,
    "start_time": "2022-11-05T17:57:22.575Z"
   },
   {
    "duration": 128,
    "start_time": "2022-11-05T17:58:10.865Z"
   },
   {
    "duration": 116,
    "start_time": "2022-11-05T17:58:43.311Z"
   },
   {
    "duration": 117,
    "start_time": "2022-11-05T17:59:25.553Z"
   },
   {
    "duration": 111,
    "start_time": "2022-11-05T18:02:42.013Z"
   },
   {
    "duration": 568,
    "start_time": "2022-11-06T09:22:36.072Z"
   },
   {
    "duration": 24,
    "start_time": "2022-11-06T09:22:37.557Z"
   },
   {
    "duration": 15,
    "start_time": "2022-11-06T09:22:39.187Z"
   },
   {
    "duration": 11,
    "start_time": "2022-11-06T09:22:42.170Z"
   },
   {
    "duration": 33,
    "start_time": "2022-11-06T09:22:45.624Z"
   },
   {
    "duration": 3,
    "start_time": "2022-11-06T09:22:48.941Z"
   },
   {
    "duration": 8,
    "start_time": "2022-11-06T09:22:51.555Z"
   },
   {
    "duration": 5,
    "start_time": "2022-11-06T09:22:53.458Z"
   },
   {
    "duration": 7,
    "start_time": "2022-11-06T09:22:54.795Z"
   },
   {
    "duration": 9,
    "start_time": "2022-11-06T09:28:55.608Z"
   },
   {
    "duration": 5,
    "start_time": "2022-11-06T09:28:57.447Z"
   },
   {
    "duration": 7,
    "start_time": "2022-11-06T09:29:03.122Z"
   },
   {
    "duration": 4,
    "start_time": "2022-11-06T09:29:04.790Z"
   },
   {
    "duration": 32,
    "start_time": "2022-11-06T09:29:07.909Z"
   },
   {
    "duration": 9,
    "start_time": "2022-11-06T09:29:08.861Z"
   },
   {
    "duration": 3,
    "start_time": "2022-11-06T09:29:11.363Z"
   },
   {
    "duration": 11,
    "start_time": "2022-11-06T09:29:13.040Z"
   },
   {
    "duration": 19,
    "start_time": "2022-11-06T09:29:15.829Z"
   },
   {
    "duration": 17,
    "start_time": "2022-11-06T09:29:16.406Z"
   },
   {
    "duration": 4,
    "start_time": "2022-11-06T09:29:47.685Z"
   },
   {
    "duration": 11,
    "start_time": "2022-11-06T09:29:48.293Z"
   },
   {
    "duration": 6,
    "start_time": "2022-11-06T09:29:55.740Z"
   },
   {
    "duration": 3,
    "start_time": "2022-11-06T09:29:57.365Z"
   },
   {
    "duration": 8,
    "start_time": "2022-11-06T09:29:58.110Z"
   },
   {
    "duration": 1006,
    "start_time": "2022-11-06T09:33:23.326Z"
   },
   {
    "duration": 80,
    "start_time": "2022-11-06T09:37:46.142Z"
   },
   {
    "duration": 75,
    "start_time": "2022-11-06T09:38:02.674Z"
   },
   {
    "duration": 5,
    "start_time": "2022-11-06T09:38:30.651Z"
   },
   {
    "duration": 73,
    "start_time": "2022-11-06T09:38:39.673Z"
   },
   {
    "duration": 70,
    "start_time": "2022-11-06T09:39:01.602Z"
   },
   {
    "duration": 18178,
    "start_time": "2022-11-06T09:39:27.754Z"
   },
   {
    "duration": 135,
    "start_time": "2022-11-06T09:40:15.341Z"
   },
   {
    "duration": 99,
    "start_time": "2022-11-06T09:40:43.154Z"
   },
   {
    "duration": 70,
    "start_time": "2022-11-06T09:41:23.147Z"
   },
   {
    "duration": 137,
    "start_time": "2022-11-06T09:41:42.122Z"
   },
   {
    "duration": 130,
    "start_time": "2022-11-06T09:43:07.141Z"
   },
   {
    "duration": 19,
    "start_time": "2022-11-06T09:44:14.956Z"
   },
   {
    "duration": 5,
    "start_time": "2022-11-06T09:45:30.167Z"
   },
   {
    "duration": 4,
    "start_time": "2022-11-06T09:45:54.356Z"
   },
   {
    "duration": 9,
    "start_time": "2022-11-06T09:46:52.555Z"
   },
   {
    "duration": 4,
    "start_time": "2022-11-06T09:47:07.549Z"
   },
   {
    "duration": 4,
    "start_time": "2022-11-06T09:47:20.144Z"
   },
   {
    "duration": 19,
    "start_time": "2022-11-06T09:48:56.507Z"
   },
   {
    "duration": 15,
    "start_time": "2022-11-06T09:49:06.047Z"
   },
   {
    "duration": 20,
    "start_time": "2022-11-06T09:50:24.102Z"
   },
   {
    "duration": 21,
    "start_time": "2022-11-06T09:50:41.255Z"
   },
   {
    "duration": 5,
    "start_time": "2022-11-06T09:50:55.463Z"
   },
   {
    "duration": 14,
    "start_time": "2022-11-06T09:52:27.087Z"
   },
   {
    "duration": 13,
    "start_time": "2022-11-06T09:52:45.523Z"
   },
   {
    "duration": 14,
    "start_time": "2022-11-06T09:53:36.838Z"
   },
   {
    "duration": 11,
    "start_time": "2022-11-06T09:59:14.564Z"
   },
   {
    "duration": 11,
    "start_time": "2022-11-06T09:59:39.397Z"
   },
   {
    "duration": 15,
    "start_time": "2022-11-06T09:59:58.868Z"
   },
   {
    "duration": 11,
    "start_time": "2022-11-06T10:00:09.099Z"
   },
   {
    "duration": 16,
    "start_time": "2022-11-06T10:00:29.395Z"
   },
   {
    "duration": 10,
    "start_time": "2022-11-06T10:01:04.074Z"
   },
   {
    "duration": 17,
    "start_time": "2022-11-06T10:01:48.421Z"
   },
   {
    "duration": 14,
    "start_time": "2022-11-06T10:02:09.762Z"
   },
   {
    "duration": 18,
    "start_time": "2022-11-06T10:02:28.724Z"
   },
   {
    "duration": 14,
    "start_time": "2022-11-06T10:02:41.021Z"
   },
   {
    "duration": 19,
    "start_time": "2022-11-06T10:07:46.641Z"
   },
   {
    "duration": 127,
    "start_time": "2022-11-06T10:08:22.149Z"
   },
   {
    "duration": 125,
    "start_time": "2022-11-06T10:08:48.407Z"
   },
   {
    "duration": 68,
    "start_time": "2022-11-06T10:08:55.261Z"
   },
   {
    "duration": 219,
    "start_time": "2022-11-06T10:09:01.174Z"
   },
   {
    "duration": 125,
    "start_time": "2022-11-06T10:09:08.838Z"
   },
   {
    "duration": 69,
    "start_time": "2022-11-06T10:09:21.284Z"
   },
   {
    "duration": 132,
    "start_time": "2022-11-06T10:09:32.085Z"
   },
   {
    "duration": 3,
    "start_time": "2022-11-06T10:10:19.519Z"
   },
   {
    "duration": 19,
    "start_time": "2022-11-06T10:25:43.485Z"
   },
   {
    "duration": 116,
    "start_time": "2022-11-06T10:37:52.277Z"
   },
   {
    "duration": 82,
    "start_time": "2022-11-06T10:46:58.040Z"
   },
   {
    "duration": 77,
    "start_time": "2022-11-06T10:47:13.100Z"
   },
   {
    "duration": 68,
    "start_time": "2022-11-06T10:47:52.964Z"
   },
   {
    "duration": 71,
    "start_time": "2022-11-06T10:53:08.895Z"
   },
   {
    "duration": 16,
    "start_time": "2022-11-06T10:53:08.968Z"
   },
   {
    "duration": 14,
    "start_time": "2022-11-06T10:53:08.985Z"
   },
   {
    "duration": 9,
    "start_time": "2022-11-06T10:53:09.000Z"
   },
   {
    "duration": 32,
    "start_time": "2022-11-06T10:53:09.011Z"
   },
   {
    "duration": 3,
    "start_time": "2022-11-06T10:53:09.045Z"
   },
   {
    "duration": 9,
    "start_time": "2022-11-06T10:53:09.050Z"
   },
   {
    "duration": 34,
    "start_time": "2022-11-06T10:53:09.061Z"
   },
   {
    "duration": 7,
    "start_time": "2022-11-06T10:53:09.096Z"
   },
   {
    "duration": 4,
    "start_time": "2022-11-06T10:53:09.106Z"
   },
   {
    "duration": 33,
    "start_time": "2022-11-06T10:53:09.112Z"
   },
   {
    "duration": 10,
    "start_time": "2022-11-06T10:53:09.147Z"
   },
   {
    "duration": 34,
    "start_time": "2022-11-06T10:53:09.158Z"
   },
   {
    "duration": 11,
    "start_time": "2022-11-06T10:53:09.194Z"
   },
   {
    "duration": 20,
    "start_time": "2022-11-06T10:53:09.206Z"
   },
   {
    "duration": 18,
    "start_time": "2022-11-06T10:53:09.228Z"
   },
   {
    "duration": 4,
    "start_time": "2022-11-06T10:53:09.248Z"
   },
   {
    "duration": 42,
    "start_time": "2022-11-06T10:53:09.254Z"
   },
   {
    "duration": 6,
    "start_time": "2022-11-06T10:53:09.298Z"
   },
   {
    "duration": 4,
    "start_time": "2022-11-06T10:53:09.306Z"
   },
   {
    "duration": 13,
    "start_time": "2022-11-06T10:53:09.312Z"
   },
   {
    "duration": 17,
    "start_time": "2022-11-06T10:53:09.326Z"
   },
   {
    "duration": 156,
    "start_time": "2022-11-06T10:53:09.345Z"
   },
   {
    "duration": 2,
    "start_time": "2022-11-06T10:53:09.503Z"
   },
   {
    "duration": 152,
    "start_time": "2022-11-06T10:53:09.507Z"
   },
   {
    "duration": 15,
    "start_time": "2022-11-06T10:53:09.661Z"
   },
   {
    "duration": 143,
    "start_time": "2022-11-06T10:53:09.678Z"
   },
   {
    "duration": 128,
    "start_time": "2022-11-06T10:53:09.823Z"
   }
  ],
  "colab": {
   "name": "dpp_template_part2.ipynb",
   "provenance": []
  },
  "kernelspec": {
   "display_name": "Python 3 (ipykernel)",
   "language": "python",
   "name": "python3"
  },
  "language_info": {
   "codemirror_mode": {
    "name": "ipython",
    "version": 3
   },
   "file_extension": ".py",
   "mimetype": "text/x-python",
   "name": "python",
   "nbconvert_exporter": "python",
   "pygments_lexer": "ipython3",
   "version": "3.9.13"
  },
  "toc": {
   "base_numbering": 1,
   "nav_menu": {},
   "number_sections": true,
   "sideBar": true,
   "skip_h1_title": true,
   "title_cell": "Table of Contents",
   "title_sidebar": "Contents",
   "toc_cell": false,
   "toc_position": {},
   "toc_section_display": true,
   "toc_window_display": false
  }
 },
 "nbformat": 4,
 "nbformat_minor": 5
}
