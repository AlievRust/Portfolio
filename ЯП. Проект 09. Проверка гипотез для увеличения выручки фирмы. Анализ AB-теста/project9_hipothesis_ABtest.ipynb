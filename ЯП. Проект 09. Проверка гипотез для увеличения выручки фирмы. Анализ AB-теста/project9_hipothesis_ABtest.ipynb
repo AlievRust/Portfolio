{
 "cells": [
  {
   "cell_type": "markdown",
   "id": "46c913fc",
   "metadata": {},
   "source": [
    "# Учебный проект №9\n",
    "# Принятие решений в бизнесе\n",
    ]
  },
  {
   "cell_type": "markdown",
   "id": "fcc4163c",
   "metadata": {},
   "source": [
    "Цель данного проекта: отработка полученных знаний и применение навыков в части принятия решений в бизнес-процессах, таких как выбор альтернативных направлений развития продукта, исследование влияния внесённых изменений на поведение клиентов, оценка перспектив дальнейшего использования предложенных изменений.\n",
    "\n",
    "В ходе проекта необходимо будет выполнить следующие работы:\n",
    "- анализ предложенных гипотез по разивитию продукта на основе их приритизации в различных фреймворках;\n",
    "- анализ результатов проведённого A/B-теста на основе сравнения поведения двух групп посетителей (клиентов), контактировавших с альтернативными версиями продуктам\n",
    "- на основе полученных данных об изменении поведения (конверсия, средний чек и т.п.) принять решение о необходимости остановить/продолжить тест, о его результатах."
   ]
  },
  {
   "cell_type": "markdown",
   "id": "72ca8d13",
   "metadata": {},
   "source": [
    "**Описание данных**  \n",
    "В первой части будут использованы данные о гипотезах (файл '/datasets/hypothesis.csv'):\n",
    "* Hypothesis — краткое описание гипотезы;\n",
    "* Reach — охват пользователей по 10-балльной шкале;\n",
    "* Impact — влияние на пользователей по 10-балльной шкале;\n",
    "* Confidence — уверенность в гипотезе по 10-балльной шкале;\n",
    "* Efforts — затраты ресурсов на проверку гипотезы по 10-балльной шкале. Чем больше значение Efforts, тем дороже проверка гипотезы.\n",
    "\n",
    "Во второй части (анализ A/B-теста) предложены следующие исходные данные (файл '/datasets/orders.csv'):\n",
    "* transactionId — идентификатор заказа;\n",
    "* visitorId — идентификатор пользователя, совершившего заказ;\n",
    "* date — дата, когда был совершён заказ;\n",
    "* revenue — выручка заказа;\n",
    "* group — группа A/B-теста, в которую попал заказ.\n",
    "<br>Файл /datasets/visitors.csv\n",
    "* date — дата;\n",
    "* group — группа A/B-теста;\n",
    "* visitors — количество пользователей в указанную дату в указанной группе A/B-теста"
   ]
  },
  {
   "cell_type": "markdown",
   "id": "86a5e94d",
   "metadata": {},
   "source": [
    "## Приоритизация гипотез"
   ]
  },
  {
   "cell_type": "markdown",
   "id": "16a5951a",
   "metadata": {},
   "source": [
    "Задача: произвести приоритизизацию имеющихся гипотез, подготовленных для увеличения выручки интернет-магазина, используя фреймворки ICE и RICE"
   ]
  },
  {
   "cell_type": "code",
   "execution_count": 1,
   "id": "543e03d3",
   "metadata": {},
   "outputs": [],
   "source": [
    "# блок загрузки библиотек\n",
    "import pandas as pd\n",
    "from matplotlib import pyplot as plt\n",
    "import warnings\n",
    "\n",
    "# скрываем предупреждения\n",
    "warnings.filterwarnings('ignore')\n",
    "\n",
    "# для второй части\n",
    "import numpy as np\n",
    "from scipy import stats as st\n",
    "import datetime as dt"
   ]
  },
  {
   "cell_type": "markdown",
   "id": "e3fb702a",
   "metadata": {},
   "source": [
    "### Загрузка данных и первичное знакомство"
   ]
  },
  {
   "cell_type": "code",
   "execution_count": 2,
   "id": "f37df30a",
   "metadata": {},
   "outputs": [],
   "source": [
    "# загружаем данные локально или с сервера\n",
    "try:\n",
    "    hypothesis = pd.read_csv('hypothesis.csv')\n",
    "except:\n",
    "    hypothesis = pd.read_csv('network path hidden')"
   ]
  },
  {
   "cell_type": "code",
   "execution_count": 3,
   "id": "4afed404",
   "metadata": {},
   "outputs": [
    {
     "name": "stdout",
     "output_type": "stream",
     "text": [
      "<class 'pandas.core.frame.DataFrame'>\n",
      "RangeIndex: 9 entries, 0 to 8\n",
      "Data columns (total 5 columns):\n",
      " #   Column      Non-Null Count  Dtype \n",
      "---  ------      --------------  ----- \n",
      " 0   Hypothesis  9 non-null      object\n",
      " 1   Reach       9 non-null      int64 \n",
      " 2   Impact      9 non-null      int64 \n",
      " 3   Confidence  9 non-null      int64 \n",
      " 4   Efforts     9 non-null      int64 \n",
      "dtypes: int64(4), object(1)\n",
      "memory usage: 488.0+ bytes\n"
     ]
    },
    {
     "data": {
      "text/plain": [
       "None"
      ]
     },
     "metadata": {},
     "output_type": "display_data"
    },
    {
     "data": {
      "text/html": [
       "<div>\n",
       "<style scoped>\n",
       "    .dataframe tbody tr th:only-of-type {\n",
       "        vertical-align: middle;\n",
       "    }\n",
       "\n",
       "    .dataframe tbody tr th {\n",
       "        vertical-align: top;\n",
       "    }\n",
       "\n",
       "    .dataframe thead th {\n",
       "        text-align: right;\n",
       "    }\n",
       "</style>\n",
       "<table border=\"1\" class=\"dataframe\">\n",
       "  <thead>\n",
       "    <tr style=\"text-align: right;\">\n",
       "      <th></th>\n",
       "      <th>Hypothesis</th>\n",
       "      <th>Reach</th>\n",
       "      <th>Impact</th>\n",
       "      <th>Confidence</th>\n",
       "      <th>Efforts</th>\n",
       "    </tr>\n",
       "  </thead>\n",
       "  <tbody>\n",
       "    <tr>\n",
       "      <th>0</th>\n",
       "      <td>Добавить два новых канала привлечения трафика, что позволит привлекать на 30% больше пользователей</td>\n",
       "      <td>3</td>\n",
       "      <td>10</td>\n",
       "      <td>8</td>\n",
       "      <td>6</td>\n",
       "    </tr>\n",
       "    <tr>\n",
       "      <th>1</th>\n",
       "      <td>Запустить собственную службу доставки, что сократит срок доставки заказов</td>\n",
       "      <td>2</td>\n",
       "      <td>5</td>\n",
       "      <td>4</td>\n",
       "      <td>10</td>\n",
       "    </tr>\n",
       "    <tr>\n",
       "      <th>2</th>\n",
       "      <td>Добавить блоки рекомендаций товаров на сайт интернет магазина, чтобы повысить конверсию и средний чек заказа</td>\n",
       "      <td>8</td>\n",
       "      <td>3</td>\n",
       "      <td>7</td>\n",
       "      <td>3</td>\n",
       "    </tr>\n",
       "    <tr>\n",
       "      <th>3</th>\n",
       "      <td>Изменить структура категорий, что увеличит конверсию, т.к. пользователи быстрее найдут нужный товар</td>\n",
       "      <td>8</td>\n",
       "      <td>3</td>\n",
       "      <td>3</td>\n",
       "      <td>8</td>\n",
       "    </tr>\n",
       "    <tr>\n",
       "      <th>4</th>\n",
       "      <td>Изменить цвет фона главной страницы, чтобы увеличить вовлеченность пользователей</td>\n",
       "      <td>3</td>\n",
       "      <td>1</td>\n",
       "      <td>1</td>\n",
       "      <td>1</td>\n",
       "    </tr>\n",
       "    <tr>\n",
       "      <th>5</th>\n",
       "      <td>Добавить страницу отзывов клиентов о магазине, что позволит увеличить количество заказов</td>\n",
       "      <td>3</td>\n",
       "      <td>2</td>\n",
       "      <td>2</td>\n",
       "      <td>3</td>\n",
       "    </tr>\n",
       "    <tr>\n",
       "      <th>6</th>\n",
       "      <td>Показать на главной странице баннеры с актуальными акциями и распродажами, чтобы увеличить конверсию</td>\n",
       "      <td>5</td>\n",
       "      <td>3</td>\n",
       "      <td>8</td>\n",
       "      <td>3</td>\n",
       "    </tr>\n",
       "    <tr>\n",
       "      <th>7</th>\n",
       "      <td>Добавить форму подписки на все основные страницы, чтобы собрать базу клиентов для email-рассылок</td>\n",
       "      <td>10</td>\n",
       "      <td>7</td>\n",
       "      <td>8</td>\n",
       "      <td>5</td>\n",
       "    </tr>\n",
       "    <tr>\n",
       "      <th>8</th>\n",
       "      <td>Запустить акцию, дающую скидку на товар в день рождения</td>\n",
       "      <td>1</td>\n",
       "      <td>9</td>\n",
       "      <td>9</td>\n",
       "      <td>5</td>\n",
       "    </tr>\n",
       "  </tbody>\n",
       "</table>\n",
       "</div>"
      ],
      "text/plain": [
       "                                                                                                     Hypothesis  \\\n",
       "0            Добавить два новых канала привлечения трафика, что позволит привлекать на 30% больше пользователей   \n",
       "1                                     Запустить собственную службу доставки, что сократит срок доставки заказов   \n",
       "2  Добавить блоки рекомендаций товаров на сайт интернет магазина, чтобы повысить конверсию и средний чек заказа   \n",
       "3           Изменить структура категорий, что увеличит конверсию, т.к. пользователи быстрее найдут нужный товар   \n",
       "4                              Изменить цвет фона главной страницы, чтобы увеличить вовлеченность пользователей   \n",
       "5                      Добавить страницу отзывов клиентов о магазине, что позволит увеличить количество заказов   \n",
       "6          Показать на главной странице баннеры с актуальными акциями и распродажами, чтобы увеличить конверсию   \n",
       "7              Добавить форму подписки на все основные страницы, чтобы собрать базу клиентов для email-рассылок   \n",
       "8                                                       Запустить акцию, дающую скидку на товар в день рождения   \n",
       "\n",
       "   Reach  Impact  Confidence  Efforts  \n",
       "0      3      10           8        6  \n",
       "1      2       5           4       10  \n",
       "2      8       3           7        3  \n",
       "3      8       3           3        8  \n",
       "4      3       1           1        1  \n",
       "5      3       2           2        3  \n",
       "6      5       3           8        3  \n",
       "7     10       7           8        5  \n",
       "8      1       9           9        5  "
      ]
     },
     "execution_count": 3,
     "metadata": {},
     "output_type": "execute_result"
    }
   ],
   "source": [
    "# знакомство с информацией о визитах\n",
    "pd.set_option('display.max_colwidth', None) #для полноты \"картины\"\n",
    "display(hypothesis.info())\n",
    "hypothesis.head(10)"
   ]
  },
  {
   "cell_type": "markdown",
   "id": "894f1f19",
   "metadata": {},
   "source": [
    "Имеем информацию о 9 альтернативных гипотезах с различными характеристиками (охват, влияние, уверенность, затраты). Задача - выявить приоритетные."
   ]
  },
  {
   "cell_type": "code",
   "execution_count": 4,
   "id": "c714ce23",
   "metadata": {},
   "outputs": [],
   "source": [
    "# для удобства работы приведём все названия столбцов в \"змеиный регистр\"\n",
    "hypothesis.columns = hypothesis.columns.str.lower()"
   ]
  },
  {
   "cell_type": "markdown",
   "id": "499e23e3",
   "metadata": {},
   "source": [
    "### Приоритизация гипотез, фреймворк ICE"
   ]
  },
  {
   "cell_type": "code",
   "execution_count": 5,
   "id": "53db71f7",
   "metadata": {},
   "outputs": [
    {
     "data": {
      "text/html": [
       "<div>\n",
       "<style scoped>\n",
       "    .dataframe tbody tr th:only-of-type {\n",
       "        vertical-align: middle;\n",
       "    }\n",
       "\n",
       "    .dataframe tbody tr th {\n",
       "        vertical-align: top;\n",
       "    }\n",
       "\n",
       "    .dataframe thead th {\n",
       "        text-align: right;\n",
       "    }\n",
       "</style>\n",
       "<table border=\"1\" class=\"dataframe\">\n",
       "  <thead>\n",
       "    <tr style=\"text-align: right;\">\n",
       "      <th></th>\n",
       "      <th>hypothesis</th>\n",
       "      <th>reach</th>\n",
       "      <th>impact</th>\n",
       "      <th>confidence</th>\n",
       "      <th>efforts</th>\n",
       "      <th>ice</th>\n",
       "    </tr>\n",
       "  </thead>\n",
       "  <tbody>\n",
       "    <tr>\n",
       "      <th>8</th>\n",
       "      <td>Запустить акцию, дающую скидку на товар в день рождения</td>\n",
       "      <td>1</td>\n",
       "      <td>9</td>\n",
       "      <td>9</td>\n",
       "      <td>5</td>\n",
       "      <td>16.200</td>\n",
       "    </tr>\n",
       "    <tr>\n",
       "      <th>0</th>\n",
       "      <td>Добавить два новых канала привлечения трафика, что позволит привлекать на 30% больше пользователей</td>\n",
       "      <td>3</td>\n",
       "      <td>10</td>\n",
       "      <td>8</td>\n",
       "      <td>6</td>\n",
       "      <td>13.333</td>\n",
       "    </tr>\n",
       "    <tr>\n",
       "      <th>7</th>\n",
       "      <td>Добавить форму подписки на все основные страницы, чтобы собрать базу клиентов для email-рассылок</td>\n",
       "      <td>10</td>\n",
       "      <td>7</td>\n",
       "      <td>8</td>\n",
       "      <td>5</td>\n",
       "      <td>11.200</td>\n",
       "    </tr>\n",
       "    <tr>\n",
       "      <th>6</th>\n",
       "      <td>Показать на главной странице баннеры с актуальными акциями и распродажами, чтобы увеличить конверсию</td>\n",
       "      <td>5</td>\n",
       "      <td>3</td>\n",
       "      <td>8</td>\n",
       "      <td>3</td>\n",
       "      <td>8.000</td>\n",
       "    </tr>\n",
       "    <tr>\n",
       "      <th>2</th>\n",
       "      <td>Добавить блоки рекомендаций товаров на сайт интернет магазина, чтобы повысить конверсию и средний чек заказа</td>\n",
       "      <td>8</td>\n",
       "      <td>3</td>\n",
       "      <td>7</td>\n",
       "      <td>3</td>\n",
       "      <td>7.000</td>\n",
       "    </tr>\n",
       "    <tr>\n",
       "      <th>1</th>\n",
       "      <td>Запустить собственную службу доставки, что сократит срок доставки заказов</td>\n",
       "      <td>2</td>\n",
       "      <td>5</td>\n",
       "      <td>4</td>\n",
       "      <td>10</td>\n",
       "      <td>2.000</td>\n",
       "    </tr>\n",
       "    <tr>\n",
       "      <th>5</th>\n",
       "      <td>Добавить страницу отзывов клиентов о магазине, что позволит увеличить количество заказов</td>\n",
       "      <td>3</td>\n",
       "      <td>2</td>\n",
       "      <td>2</td>\n",
       "      <td>3</td>\n",
       "      <td>1.333</td>\n",
       "    </tr>\n",
       "    <tr>\n",
       "      <th>3</th>\n",
       "      <td>Изменить структура категорий, что увеличит конверсию, т.к. пользователи быстрее найдут нужный товар</td>\n",
       "      <td>8</td>\n",
       "      <td>3</td>\n",
       "      <td>3</td>\n",
       "      <td>8</td>\n",
       "      <td>1.125</td>\n",
       "    </tr>\n",
       "    <tr>\n",
       "      <th>4</th>\n",
       "      <td>Изменить цвет фона главной страницы, чтобы увеличить вовлеченность пользователей</td>\n",
       "      <td>3</td>\n",
       "      <td>1</td>\n",
       "      <td>1</td>\n",
       "      <td>1</td>\n",
       "      <td>1.000</td>\n",
       "    </tr>\n",
       "  </tbody>\n",
       "</table>\n",
       "</div>"
      ],
      "text/plain": [
       "                                                                                                     hypothesis  \\\n",
       "8                                                       Запустить акцию, дающую скидку на товар в день рождения   \n",
       "0            Добавить два новых канала привлечения трафика, что позволит привлекать на 30% больше пользователей   \n",
       "7              Добавить форму подписки на все основные страницы, чтобы собрать базу клиентов для email-рассылок   \n",
       "6          Показать на главной странице баннеры с актуальными акциями и распродажами, чтобы увеличить конверсию   \n",
       "2  Добавить блоки рекомендаций товаров на сайт интернет магазина, чтобы повысить конверсию и средний чек заказа   \n",
       "1                                     Запустить собственную службу доставки, что сократит срок доставки заказов   \n",
       "5                      Добавить страницу отзывов клиентов о магазине, что позволит увеличить количество заказов   \n",
       "3           Изменить структура категорий, что увеличит конверсию, т.к. пользователи быстрее найдут нужный товар   \n",
       "4                              Изменить цвет фона главной страницы, чтобы увеличить вовлеченность пользователей   \n",
       "\n",
       "   reach  impact  confidence  efforts     ice  \n",
       "8      1       9           9        5  16.200  \n",
       "0      3      10           8        6  13.333  \n",
       "7     10       7           8        5  11.200  \n",
       "6      5       3           8        3   8.000  \n",
       "2      8       3           7        3   7.000  \n",
       "1      2       5           4       10   2.000  \n",
       "5      3       2           2        3   1.333  \n",
       "3      8       3           3        8   1.125  \n",
       "4      3       1           1        1   1.000  "
      ]
     },
     "execution_count": 5,
     "metadata": {},
     "output_type": "execute_result"
    }
   ],
   "source": [
    "hypothesis['ice'] =round(hypothesis['impact'] * hypothesis['confidence'] / hypothesis['efforts'], 3)\n",
    "hypothesis.sort_values(by='ice', ascending=False)"
   ]
  },
  {
   "cell_type": "markdown",
   "id": "3719c999",
   "metadata": {},
   "source": [
    "<b>Промежуточный вывод:</b> Лидер после оценки фреймворком ICE становится гипотеза, соответствующая индексу 8 (Запуск акции, дающую скидку на товар в ДР). Это способствовали очень высокие показаети воздействия (9 баллов) и уверенности (9 баллов) при достаточно невысоком уровне затрат ресурсов (5 баллов) Также перспективными являются гипотезы с индексами 0 и 7."
   ]
  },
  {
   "cell_type": "markdown",
   "id": "bf73799e",
   "metadata": {},
   "source": [
    "### Приоритизация гипотез, фреймворк RICE "
   ]
  },
  {
   "cell_type": "markdown",
   "id": "db2953f4",
   "metadata": {},
   "source": [
    "Для более глубокой оценки подготовленных гипотез и их приоритизации оценим их предполагаемое влияение на клиентов (вводим в формулу параметр reach)"
   ]
  },
  {
   "cell_type": "code",
   "execution_count": 6,
   "id": "1ced994f",
   "metadata": {
    "scrolled": true
   },
   "outputs": [
    {
     "data": {
      "text/html": [
       "<div>\n",
       "<style scoped>\n",
       "    .dataframe tbody tr th:only-of-type {\n",
       "        vertical-align: middle;\n",
       "    }\n",
       "\n",
       "    .dataframe tbody tr th {\n",
       "        vertical-align: top;\n",
       "    }\n",
       "\n",
       "    .dataframe thead th {\n",
       "        text-align: right;\n",
       "    }\n",
       "</style>\n",
       "<table border=\"1\" class=\"dataframe\">\n",
       "  <thead>\n",
       "    <tr style=\"text-align: right;\">\n",
       "      <th></th>\n",
       "      <th>hypothesis</th>\n",
       "      <th>reach</th>\n",
       "      <th>impact</th>\n",
       "      <th>confidence</th>\n",
       "      <th>efforts</th>\n",
       "      <th>ice</th>\n",
       "      <th>rice</th>\n",
       "    </tr>\n",
       "  </thead>\n",
       "  <tbody>\n",
       "    <tr>\n",
       "      <th>7</th>\n",
       "      <td>Добавить форму подписки на все основные страницы, чтобы собрать базу клиентов для email-рассылок</td>\n",
       "      <td>10</td>\n",
       "      <td>7</td>\n",
       "      <td>8</td>\n",
       "      <td>5</td>\n",
       "      <td>11.200</td>\n",
       "      <td>112.0</td>\n",
       "    </tr>\n",
       "    <tr>\n",
       "      <th>2</th>\n",
       "      <td>Добавить блоки рекомендаций товаров на сайт интернет магазина, чтобы повысить конверсию и средний чек заказа</td>\n",
       "      <td>8</td>\n",
       "      <td>3</td>\n",
       "      <td>7</td>\n",
       "      <td>3</td>\n",
       "      <td>7.000</td>\n",
       "      <td>56.0</td>\n",
       "    </tr>\n",
       "    <tr>\n",
       "      <th>0</th>\n",
       "      <td>Добавить два новых канала привлечения трафика, что позволит привлекать на 30% больше пользователей</td>\n",
       "      <td>3</td>\n",
       "      <td>10</td>\n",
       "      <td>8</td>\n",
       "      <td>6</td>\n",
       "      <td>13.333</td>\n",
       "      <td>40.0</td>\n",
       "    </tr>\n",
       "    <tr>\n",
       "      <th>6</th>\n",
       "      <td>Показать на главной странице баннеры с актуальными акциями и распродажами, чтобы увеличить конверсию</td>\n",
       "      <td>5</td>\n",
       "      <td>3</td>\n",
       "      <td>8</td>\n",
       "      <td>3</td>\n",
       "      <td>8.000</td>\n",
       "      <td>40.0</td>\n",
       "    </tr>\n",
       "    <tr>\n",
       "      <th>8</th>\n",
       "      <td>Запустить акцию, дающую скидку на товар в день рождения</td>\n",
       "      <td>1</td>\n",
       "      <td>9</td>\n",
       "      <td>9</td>\n",
       "      <td>5</td>\n",
       "      <td>16.200</td>\n",
       "      <td>16.2</td>\n",
       "    </tr>\n",
       "    <tr>\n",
       "      <th>3</th>\n",
       "      <td>Изменить структура категорий, что увеличит конверсию, т.к. пользователи быстрее найдут нужный товар</td>\n",
       "      <td>8</td>\n",
       "      <td>3</td>\n",
       "      <td>3</td>\n",
       "      <td>8</td>\n",
       "      <td>1.125</td>\n",
       "      <td>9.0</td>\n",
       "    </tr>\n",
       "    <tr>\n",
       "      <th>1</th>\n",
       "      <td>Запустить собственную службу доставки, что сократит срок доставки заказов</td>\n",
       "      <td>2</td>\n",
       "      <td>5</td>\n",
       "      <td>4</td>\n",
       "      <td>10</td>\n",
       "      <td>2.000</td>\n",
       "      <td>4.0</td>\n",
       "    </tr>\n",
       "    <tr>\n",
       "      <th>5</th>\n",
       "      <td>Добавить страницу отзывов клиентов о магазине, что позволит увеличить количество заказов</td>\n",
       "      <td>3</td>\n",
       "      <td>2</td>\n",
       "      <td>2</td>\n",
       "      <td>3</td>\n",
       "      <td>1.333</td>\n",
       "      <td>4.0</td>\n",
       "    </tr>\n",
       "    <tr>\n",
       "      <th>4</th>\n",
       "      <td>Изменить цвет фона главной страницы, чтобы увеличить вовлеченность пользователей</td>\n",
       "      <td>3</td>\n",
       "      <td>1</td>\n",
       "      <td>1</td>\n",
       "      <td>1</td>\n",
       "      <td>1.000</td>\n",
       "      <td>3.0</td>\n",
       "    </tr>\n",
       "  </tbody>\n",
       "</table>\n",
       "</div>"
      ],
      "text/plain": [
       "                                                                                                     hypothesis  \\\n",
       "7              Добавить форму подписки на все основные страницы, чтобы собрать базу клиентов для email-рассылок   \n",
       "2  Добавить блоки рекомендаций товаров на сайт интернет магазина, чтобы повысить конверсию и средний чек заказа   \n",
       "0            Добавить два новых канала привлечения трафика, что позволит привлекать на 30% больше пользователей   \n",
       "6          Показать на главной странице баннеры с актуальными акциями и распродажами, чтобы увеличить конверсию   \n",
       "8                                                       Запустить акцию, дающую скидку на товар в день рождения   \n",
       "3           Изменить структура категорий, что увеличит конверсию, т.к. пользователи быстрее найдут нужный товар   \n",
       "1                                     Запустить собственную службу доставки, что сократит срок доставки заказов   \n",
       "5                      Добавить страницу отзывов клиентов о магазине, что позволит увеличить количество заказов   \n",
       "4                              Изменить цвет фона главной страницы, чтобы увеличить вовлеченность пользователей   \n",
       "\n",
       "   reach  impact  confidence  efforts     ice   rice  \n",
       "7     10       7           8        5  11.200  112.0  \n",
       "2      8       3           7        3   7.000   56.0  \n",
       "0      3      10           8        6  13.333   40.0  \n",
       "6      5       3           8        3   8.000   40.0  \n",
       "8      1       9           9        5  16.200   16.2  \n",
       "3      8       3           3        8   1.125    9.0  \n",
       "1      2       5           4       10   2.000    4.0  \n",
       "5      3       2           2        3   1.333    4.0  \n",
       "4      3       1           1        1   1.000    3.0  "
      ]
     },
     "execution_count": 6,
     "metadata": {},
     "output_type": "execute_result"
    }
   ],
   "source": [
    "hypothesis['rice'] = round(\n",
    "    hypothesis['reach'] * hypothesis['impact'] * hypothesis['confidence'] / hypothesis['efforts']\n",
    "                        , 3)\n",
    "hypothesis.sort_values(by='rice', ascending=False)"
   ]
  },
  {
   "cell_type": "markdown",
   "id": "1ce841fe",
   "metadata": {},
   "source": [
    "<b>Промежуточный вывод:</b> При использованиее фреймворка RICE лидер - гипотеза с индексом 7 (Добавить форму подписки на все основные страницы), как имеющая сочетание самого большого балла охвата пользователей (10б), высоких баллов воздействия и уверенности, при средних затратах (5). Перспективные гипотезы также под индексами 2,0 и 6."
   ]
  },
  {
   "cell_type": "markdown",
   "id": "bcf76fe2",
   "metadata": {},
   "source": [
    "### Сравнение результатов применения ICE и RICE"
   ]
  },
  {
   "cell_type": "markdown",
   "id": "d46cca3f",
   "metadata": {},
   "source": [
    "Для наглядности, разместим результаты на одном графике, ориентируясь, в первую очередь, на более полный RICE. Конечно, у фреймворков различается шкала (значения RICE, как правило, кратно выше), но, масшатаба, считаю, достаточно, чтобы увидеть одновременно баллы, рассчитанные по обоим фреймворкам."
   ]
  },
  {
   "cell_type": "code",
   "execution_count": 7,
   "id": "94a18a7f",
   "metadata": {
    "scrolled": false
   },
   "outputs": [
    {
     "data": {
      "image/png": "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\n",
      "text/plain": [
       "<Figure size 1200x500 with 1 Axes>"
      ]
     },
     "metadata": {},
     "output_type": "display_data"
    }
   ],
   "source": [
    "(\n",
    "    hypothesis[['hypothesis', 'rice', 'ice']]\n",
    "    .sort_values(by=['rice', 'ice'], ascending=True)\n",
    "    .plot(kind='barh', figsize=(12,5))\n",
    ")\n",
    "plt.xlabel('баллы RICE, ICE')\n",
    "plt.ylabel('Номер гипотезы')\n",
    "plt.title('Гипотезы, ранжированные по баллам фреймворков RICE и ICE')\n",
    "plt.legend()\n",
    "plt.show()"
   ]
  },
  {
   "cell_type": "markdown",
   "id": "43ba3c65",
   "metadata": {},
   "source": [
    "**Вывод:** После применения фреймворка ICE лидером была гипотеза с индексом 8 (у неё очень высокие показаети воздействия (9 баллов) и уверенности (9 баллов) при среднем уровне затрат ресурсов (5 баллов). Также перспективными оказались гипотезы с индексами 0 и 7. Однако, после того, как был учтён показатель охвата пользователей (применён фреймворк RICE), выяснилось, что гипотеза-лидер сменилась. У гипотезы 8 охват оказался достаточно низким (минимальный балл) - скидка на товар в день рождения, безусловно, заманчивая вещь, но, как говорил известный крокодил: \"К сожаленью, день рожденья только раз в году!\".  \n",
    "Этим обуславливается низкий охват пользователей! И гипотеза спустилась на почётное 5 место, а лидером стала гипотеза-конкурент под индексом 7 (добавление формы подписки непременно затрагивает всех, кто посетил сайт, независимо, готовы они потратить деньги сегодня или нет) - именно эту гипотезу и необходимо проверять в первую очередь. Также, за счёт широты охвата, на третьем месте и знакомая гипотеза №0 (новые каналы привлечения), на втором месте \"середнячок\" первого рейтинга - гипотеза №2 (добавление блока с рекомендациями).\n",
    "\n",
    "При проведении приоритизации гипотез важно учитывать все характеризующие параметры в комплексе: охват, сила воздействия, уверенность и затраты ресурсов.\n"
   ]
  },
  {
   "cell_type": "markdown",
   "id": "f8281149",
   "metadata": {},
   "source": [
    "## Анализ A/B-теста"
   ]
  },
  {
   "cell_type": "markdown",
   "id": "e9cf978d",
   "metadata": {},
   "source": [
    "После проведения A/B-теста и получения результатов (находятся в файлах orders и visitors), необходимо провести их анализ и сделать выводы и принять решение о необходимости продолжения теста или его остановки с указанием наличия различий между наблюдаемыми группами или их (различий) отсутствия."
   ]
  },
  {
   "cell_type": "code",
   "execution_count": 9,
   "id": "15c3cb02",
   "metadata": {},
   "outputs": [],
   "source": [
    "# загружаем данные локально или с сервера\n",
    "try:\n",
    "    orders = pd.read_csv('orders.csv')\n",
    "    visitors = pd.read_csv('visitors.csv')\n",
    "except:\n",
    "    orders = pd.read_csv('network path hidden')\n",
    "    visitors = pd.read_csv('network path hidden')"
   ]
  },
  {
   "cell_type": "markdown",
   "id": "1fe1f543",
   "metadata": {},
   "source": [
    "### Знакомство с данными о результатах теста и предобработка"
   ]
  },
  {
   "cell_type": "code",
   "execution_count": 10,
   "id": "ee201fbc",
   "metadata": {},
   "outputs": [
    {
     "name": "stdout",
     "output_type": "stream",
     "text": [
      "<class 'pandas.core.frame.DataFrame'>\n",
      "RangeIndex: 62 entries, 0 to 61\n",
      "Data columns (total 3 columns):\n",
      " #   Column    Non-Null Count  Dtype \n",
      "---  ------    --------------  ----- \n",
      " 0   date      62 non-null     object\n",
      " 1   group     62 non-null     object\n",
      " 2   visitors  62 non-null     int64 \n",
      "dtypes: int64(1), object(2)\n",
      "memory usage: 1.6+ KB\n"
     ]
    },
    {
     "data": {
      "text/plain": [
       "None"
      ]
     },
     "metadata": {},
     "output_type": "display_data"
    },
    {
     "name": "stdout",
     "output_type": "stream",
     "text": [
      "Количество дубликатов: 0\n"
     ]
    },
    {
     "data": {
      "text/html": [
       "<div>\n",
       "<style scoped>\n",
       "    .dataframe tbody tr th:only-of-type {\n",
       "        vertical-align: middle;\n",
       "    }\n",
       "\n",
       "    .dataframe tbody tr th {\n",
       "        vertical-align: top;\n",
       "    }\n",
       "\n",
       "    .dataframe thead th {\n",
       "        text-align: right;\n",
       "    }\n",
       "</style>\n",
       "<table border=\"1\" class=\"dataframe\">\n",
       "  <thead>\n",
       "    <tr style=\"text-align: right;\">\n",
       "      <th></th>\n",
       "      <th>date</th>\n",
       "      <th>group</th>\n",
       "      <th>visitors</th>\n",
       "    </tr>\n",
       "  </thead>\n",
       "  <tbody>\n",
       "    <tr>\n",
       "      <th>0</th>\n",
       "      <td>2019-08-01</td>\n",
       "      <td>A</td>\n",
       "      <td>719</td>\n",
       "    </tr>\n",
       "    <tr>\n",
       "      <th>1</th>\n",
       "      <td>2019-08-02</td>\n",
       "      <td>A</td>\n",
       "      <td>619</td>\n",
       "    </tr>\n",
       "    <tr>\n",
       "      <th>2</th>\n",
       "      <td>2019-08-03</td>\n",
       "      <td>A</td>\n",
       "      <td>507</td>\n",
       "    </tr>\n",
       "    <tr>\n",
       "      <th>3</th>\n",
       "      <td>2019-08-04</td>\n",
       "      <td>A</td>\n",
       "      <td>717</td>\n",
       "    </tr>\n",
       "    <tr>\n",
       "      <th>4</th>\n",
       "      <td>2019-08-05</td>\n",
       "      <td>A</td>\n",
       "      <td>756</td>\n",
       "    </tr>\n",
       "  </tbody>\n",
       "</table>\n",
       "</div>"
      ],
      "text/plain": [
       "         date group  visitors\n",
       "0  2019-08-01     A       719\n",
       "1  2019-08-02     A       619\n",
       "2  2019-08-03     A       507\n",
       "3  2019-08-04     A       717\n",
       "4  2019-08-05     A       756"
      ]
     },
     "execution_count": 10,
     "metadata": {},
     "output_type": "execute_result"
    }
   ],
   "source": [
    "# знакомство с информацией о посещениях\n",
    "display(visitors.info())\n",
    "print('Количество дубликатов:', visitors.duplicated().sum(), sep=' ')\n",
    "visitors.head(5)"
   ]
  },
  {
   "cell_type": "code",
   "execution_count": 11,
   "id": "78a9ccfc",
   "metadata": {},
   "outputs": [],
   "source": [
    "# приводим тип столбца date в корректный формат (дата без указания времени)\n",
    "visitors['date'] = pd.to_datetime(visitors['date']).dt.date"
   ]
  },
  {
   "cell_type": "markdown",
   "id": "7414855d",
   "metadata": {},
   "source": [
    "Оценим диапазон и полноту данных дф visitors"
   ]
  },
  {
   "cell_type": "code",
   "execution_count": 12,
   "id": "7d40ba46",
   "metadata": {},
   "outputs": [
    {
     "name": "stdout",
     "output_type": "stream",
     "text": [
      "Минимальная (самая ранняя) дата посещения: 2019-08-01\n",
      "Максимальная (самая поздняя) дата посещения: 2019-08-31\n"
     ]
    }
   ],
   "source": [
    "print('Минимальная (самая ранняя) дата посещения: {}'.format(visitors['date'].min()))\n",
    "print('Максимальная (самая поздняя) дата посещения: {}'.format(visitors['date'].max()))"
   ]
  },
  {
   "cell_type": "code",
   "execution_count": 13,
   "id": "6d49d0e2",
   "metadata": {
    "scrolled": true
   },
   "outputs": [
    {
     "data": {
      "text/html": [
       "<div>\n",
       "<style scoped>\n",
       "    .dataframe tbody tr th:only-of-type {\n",
       "        vertical-align: middle;\n",
       "    }\n",
       "\n",
       "    .dataframe tbody tr th {\n",
       "        vertical-align: top;\n",
       "    }\n",
       "\n",
       "    .dataframe thead th {\n",
       "        text-align: right;\n",
       "    }\n",
       "</style>\n",
       "<table border=\"1\" class=\"dataframe\">\n",
       "  <thead>\n",
       "    <tr style=\"text-align: right;\">\n",
       "      <th></th>\n",
       "      <th>date</th>\n",
       "    </tr>\n",
       "    <tr>\n",
       "      <th>group</th>\n",
       "      <th></th>\n",
       "    </tr>\n",
       "  </thead>\n",
       "  <tbody>\n",
       "    <tr>\n",
       "      <th>A</th>\n",
       "      <td>31</td>\n",
       "    </tr>\n",
       "    <tr>\n",
       "      <th>B</th>\n",
       "      <td>31</td>\n",
       "    </tr>\n",
       "  </tbody>\n",
       "</table>\n",
       "</div>"
      ],
      "text/plain": [
       "       date\n",
       "group      \n",
       "A        31\n",
       "B        31"
      ]
     },
     "execution_count": 13,
     "metadata": {},
     "output_type": "execute_result"
    }
   ],
   "source": [
    "visitors.groupby('group').agg({'date':'nunique'})"
   ]
  },
  {
   "cell_type": "markdown",
   "id": "81111830",
   "metadata": {},
   "source": [
    "Данные о посещениях представлены для 31 уникальных дня для каждой группы за период с 1 по 31 августа 2019г."
   ]
  },
  {
   "cell_type": "code",
   "execution_count": 14,
   "id": "f0d5b968",
   "metadata": {},
   "outputs": [
    {
     "name": "stdout",
     "output_type": "stream",
     "text": [
      "<class 'pandas.core.frame.DataFrame'>\n",
      "RangeIndex: 1197 entries, 0 to 1196\n",
      "Data columns (total 5 columns):\n",
      " #   Column         Non-Null Count  Dtype \n",
      "---  ------         --------------  ----- \n",
      " 0   transactionId  1197 non-null   int64 \n",
      " 1   visitorId      1197 non-null   int64 \n",
      " 2   date           1197 non-null   object\n",
      " 3   revenue        1197 non-null   int64 \n",
      " 4   group          1197 non-null   object\n",
      "dtypes: int64(3), object(2)\n",
      "memory usage: 46.9+ KB\n"
     ]
    },
    {
     "data": {
      "text/plain": [
       "None"
      ]
     },
     "metadata": {},
     "output_type": "display_data"
    },
    {
     "name": "stdout",
     "output_type": "stream",
     "text": [
      "Количество дубликатов: 0\n"
     ]
    },
    {
     "data": {
      "text/html": [
       "<div>\n",
       "<style scoped>\n",
       "    .dataframe tbody tr th:only-of-type {\n",
       "        vertical-align: middle;\n",
       "    }\n",
       "\n",
       "    .dataframe tbody tr th {\n",
       "        vertical-align: top;\n",
       "    }\n",
       "\n",
       "    .dataframe thead th {\n",
       "        text-align: right;\n",
       "    }\n",
       "</style>\n",
       "<table border=\"1\" class=\"dataframe\">\n",
       "  <thead>\n",
       "    <tr style=\"text-align: right;\">\n",
       "      <th></th>\n",
       "      <th>transactionId</th>\n",
       "      <th>visitorId</th>\n",
       "      <th>date</th>\n",
       "      <th>revenue</th>\n",
       "      <th>group</th>\n",
       "    </tr>\n",
       "  </thead>\n",
       "  <tbody>\n",
       "    <tr>\n",
       "      <th>0</th>\n",
       "      <td>3667963787</td>\n",
       "      <td>3312258926</td>\n",
       "      <td>2019-08-15</td>\n",
       "      <td>1650</td>\n",
       "      <td>B</td>\n",
       "    </tr>\n",
       "    <tr>\n",
       "      <th>1</th>\n",
       "      <td>2804400009</td>\n",
       "      <td>3642806036</td>\n",
       "      <td>2019-08-15</td>\n",
       "      <td>730</td>\n",
       "      <td>B</td>\n",
       "    </tr>\n",
       "    <tr>\n",
       "      <th>2</th>\n",
       "      <td>2961555356</td>\n",
       "      <td>4069496402</td>\n",
       "      <td>2019-08-15</td>\n",
       "      <td>400</td>\n",
       "      <td>A</td>\n",
       "    </tr>\n",
       "    <tr>\n",
       "      <th>3</th>\n",
       "      <td>3797467345</td>\n",
       "      <td>1196621759</td>\n",
       "      <td>2019-08-15</td>\n",
       "      <td>9759</td>\n",
       "      <td>B</td>\n",
       "    </tr>\n",
       "    <tr>\n",
       "      <th>4</th>\n",
       "      <td>2282983706</td>\n",
       "      <td>2322279887</td>\n",
       "      <td>2019-08-15</td>\n",
       "      <td>2308</td>\n",
       "      <td>B</td>\n",
       "    </tr>\n",
       "  </tbody>\n",
       "</table>\n",
       "</div>"
      ],
      "text/plain": [
       "   transactionId   visitorId        date  revenue group\n",
       "0     3667963787  3312258926  2019-08-15     1650     B\n",
       "1     2804400009  3642806036  2019-08-15      730     B\n",
       "2     2961555356  4069496402  2019-08-15      400     A\n",
       "3     3797467345  1196621759  2019-08-15     9759     B\n",
       "4     2282983706  2322279887  2019-08-15     2308     B"
      ]
     },
     "execution_count": 14,
     "metadata": {},
     "output_type": "execute_result"
    }
   ],
   "source": [
    "# знакомство с информацией о заказах\n",
    "display(orders.info())\n",
    "print('Количество дубликатов:', orders.duplicated().sum(), sep=' ')\n",
    "orders.head(5)"
   ]
  },
  {
   "cell_type": "code",
   "execution_count": 15,
   "id": "cda6c9aa",
   "metadata": {},
   "outputs": [],
   "source": [
    "# приводим тип столбца date в нужный формат\n",
    "orders['date'] = pd.to_datetime(orders['date']).dt.date\n",
    "\n",
    "# исправляем имена столбцов\n",
    "orders = orders.rename(columns = ({'transactionId':'transaction_id', 'visitorId':'visitor_id'}))"
   ]
  },
  {
   "cell_type": "markdown",
   "id": "fca5097b",
   "metadata": {},
   "source": [
    "Оценим диапазон и полноту данных дф orders"
   ]
  },
  {
   "cell_type": "code",
   "execution_count": 16,
   "id": "b77d10f4",
   "metadata": {},
   "outputs": [
    {
     "name": "stdout",
     "output_type": "stream",
     "text": [
      "Минимальная (самая ранняя) дата заказа: 2019-08-01\n",
      "Максимальная (самая поздняя) дата заказа: 2019-08-31\n"
     ]
    }
   ],
   "source": [
    "print('Минимальная (самая ранняя) дата заказа: {}'.format(orders['date'].min()))\n",
    "print('Максимальная (самая поздняя) дата заказа: {}'.format(orders['date'].max()))"
   ]
  },
  {
   "cell_type": "code",
   "execution_count": 17,
   "id": "71f9ef35",
   "metadata": {},
   "outputs": [
    {
     "data": {
      "text/html": [
       "<div>\n",
       "<style scoped>\n",
       "    .dataframe tbody tr th:only-of-type {\n",
       "        vertical-align: middle;\n",
       "    }\n",
       "\n",
       "    .dataframe tbody tr th {\n",
       "        vertical-align: top;\n",
       "    }\n",
       "\n",
       "    .dataframe thead th {\n",
       "        text-align: right;\n",
       "    }\n",
       "</style>\n",
       "<table border=\"1\" class=\"dataframe\">\n",
       "  <thead>\n",
       "    <tr style=\"text-align: right;\">\n",
       "      <th></th>\n",
       "      <th>date</th>\n",
       "    </tr>\n",
       "    <tr>\n",
       "      <th>group</th>\n",
       "      <th></th>\n",
       "    </tr>\n",
       "  </thead>\n",
       "  <tbody>\n",
       "    <tr>\n",
       "      <th>A</th>\n",
       "      <td>31</td>\n",
       "    </tr>\n",
       "    <tr>\n",
       "      <th>B</th>\n",
       "      <td>31</td>\n",
       "    </tr>\n",
       "  </tbody>\n",
       "</table>\n",
       "</div>"
      ],
      "text/plain": [
       "       date\n",
       "group      \n",
       "A        31\n",
       "B        31"
      ]
     },
     "execution_count": 17,
     "metadata": {},
     "output_type": "execute_result"
    }
   ],
   "source": [
    "orders.groupby('group').agg({'date':'nunique'})"
   ]
  },
  {
   "cell_type": "markdown",
   "id": "d362f5cf",
   "metadata": {},
   "source": [
    "Данные о заказах также представлены для 31 уникальных дня для каждой группы за период с 1 по 31 августа 2019 г.<br>Можно сделать вывод, что наборы данных полностью соответствуют друг другу - лишних или недостающих записей в данных нет."
   ]
  },
  {
   "cell_type": "markdown",
   "id": "53abe475",
   "metadata": {},
   "source": [
    "Данные в таблице orders представлены для клиентов, разбитых на 2 группы. Необходимо убедиться, что пользователи не \"задваиваются\", т.е. не попали сразу в две группы одновременно."
   ]
  },
  {
   "cell_type": "code",
   "execution_count": 18,
   "id": "2623d818",
   "metadata": {
    "scrolled": false
   },
   "outputs": [
    {
     "name": "stdout",
     "output_type": "stream",
     "text": [
      "Количество уникальных пользователей в таблице: 1031\n"
     ]
    }
   ],
   "source": [
    "print('Количество уникальных пользователей в таблице: {}'.format(orders['visitor_id'].nunique()))"
   ]
  },
  {
   "cell_type": "code",
   "execution_count": 19,
   "id": "b82d7031",
   "metadata": {
    "scrolled": false
   },
   "outputs": [
    {
     "name": "stdout",
     "output_type": "stream",
     "text": [
      "Сумма уникальных пользователей из каждой группы: 1089\n"
     ]
    }
   ],
   "source": [
    "print('Сумма уникальных пользователей из каждой группы: {}'\n",
    "      .format(orders[orders['group'] == 'B']['visitor_id'].nunique() + orders[orders['group'] == 'A']['visitor_id'].nunique()))"
   ]
  },
  {
   "cell_type": "markdown",
   "id": "9dff5f8f",
   "metadata": {},
   "source": [
    "Имеем разницу (1089 > 1031) на 58 visitor_id. В таблицах есть задвоение. Т.е., тест проводился изначально с ошибкой - часть пользователей оказалась в обеих группах. Возможно, эта ошибка связана с техническими ошибками при учёте пользователей. Можно исключить этих пользователей из таблицы orders, но мы не сможем исключить их из таблицы visitors - в ней только агрегированные показатели. В любом случае, результаты теста будут искажены.<p> Принимаем решение удалить дублирующиеся id посетителей - так, вероятно, исказится показатель конверсии (среднее количество заказов на посетителя), но нам важнее более точная информация о сделанных заказах."
   ]
  },
  {
   "cell_type": "code",
   "execution_count": 20,
   "id": "385f506c",
   "metadata": {},
   "outputs": [
    {
     "data": {
      "text/plain": [
       "58"
      ]
     },
     "execution_count": 20,
     "metadata": {},
     "output_type": "execute_result"
    }
   ],
   "source": [
    "dubl_id = (orders.loc[(orders['group'] == 'A') \n",
    "                      & (orders['visitor_id'].isin(orders[orders['group'] == 'B']['visitor_id']))\n",
    "                     ]\n",
    "           ['visitor_id'].unique()\n",
    "          )\n",
    "# проверяем длину получившегося списка\n",
    "len(dubl_id)"
   ]
  },
  {
   "cell_type": "code",
   "execution_count": 21,
   "id": "fccd0492",
   "metadata": {},
   "outputs": [],
   "source": [
    "# режем список orders\n",
    "orders = orders[~orders['visitor_id'].isin(dubl_id)]"
   ]
  },
  {
   "cell_type": "markdown",
   "id": "575ba402",
   "metadata": {},
   "source": [
    "Контрольная проверка:"
   ]
  },
  {
   "cell_type": "code",
   "execution_count": 22,
   "id": "07c9b7ec",
   "metadata": {
    "scrolled": false
   },
   "outputs": [
    {
     "name": "stdout",
     "output_type": "stream",
     "text": [
      "Количество уникальных пользователей в таблице: 973\n"
     ]
    }
   ],
   "source": [
    "print('Количество уникальных пользователей в таблице: {}'.format(orders['visitor_id'].nunique()))"
   ]
  },
  {
   "cell_type": "code",
   "execution_count": 23,
   "id": "467576c6",
   "metadata": {
    "scrolled": true
   },
   "outputs": [
    {
     "name": "stdout",
     "output_type": "stream",
     "text": [
      "Сумма уникальных пользователей из каждой группы: 973\n"
     ]
    }
   ],
   "source": [
    "print('Сумма уникальных пользователей из каждой группы: {}'\n",
    "      .format(orders[orders['group'] == 'B']['visitor_id'].nunique() + orders[orders['group'] == 'A']['visitor_id'].nunique()))"
   ]
  },
  {
   "cell_type": "markdown",
   "id": "6b16b620",
   "metadata": {},
   "source": [
    "Дублирующиеся id посетителей успешно удалены из таблицы orders. Данные готовы - можно приступать к исследованию."
   ]
  },
  {
   "cell_type": "markdown",
   "id": "a5601491",
   "metadata": {},
   "source": [
    "### График кумулятивной выручки по группам"
   ]
  },
  {
   "cell_type": "markdown",
   "id": "5724d1e8",
   "metadata": {},
   "source": [
    "Для начала создадим дф с кумулятивными (накапливаемыми) данными по заказам и визитам"
   ]
  },
  {
   "cell_type": "code",
   "execution_count": 24,
   "id": "90640317",
   "metadata": {},
   "outputs": [],
   "source": [
    "# дф с уникальными парами значений 'date' и 'group'\n",
    "dates_groups = orders[['date', 'group']].drop_duplicates()\n",
    "\n",
    "# получаем строки таблицы orders, дата которых меньше или равна дате элемента из dates_groups + агрегируем значения\n",
    "orders_aggregated = (\n",
    "                    dates_groups.apply(lambda x: orders[np.logical_and(orders['date'] <= x['date'],\n",
    "                                                                       orders['group'] == x['group'])\n",
    "                                                       ]\n",
    "                                 .agg({'date' : 'max',\n",
    "                                       'group' : 'max',\n",
    "                                       'transaction_id' : 'nunique',\n",
    "                                       'visitor_id' : 'nunique',\n",
    "                                       'revenue' : 'sum'}), axis=1)\n",
    "                                  .sort_values(by=['date', 'group'])\n",
    "                    )\n",
    "\n",
    "# такой же метод применим к таблице visitors\n",
    "visitors_aggregated = (\n",
    "                      dates_groups.apply(lambda x: visitors[np.logical_and(visitors['date'] <= x['date'],\n",
    "                                                                           visitors['group'] == x['group'])\n",
    "                                                           ]\n",
    "                                  .agg({'date' : 'max',\n",
    "                                        'group' : 'max',\n",
    "                                        'visitors' : 'sum'}), axis=1)\n",
    "                                  .sort_values(by=['date','group'])\n",
    "                        )\n",
    "# Объединим в одну таблицу\n",
    "cumulative_data = orders_aggregated.merge(visitors_aggregated, left_on=['date', 'group'], right_on=['date', 'group'])\n",
    "\n",
    "# переименуем столбцы\n",
    "cumulative_data.columns = ['date', 'group', 'orders', 'buyers', 'revenue', 'visitors']"
   ]
  },
  {
   "cell_type": "markdown",
   "id": "6205924c",
   "metadata": {},
   "source": [
    "Построим график кумулятивной выручки по дням и группам тестирования"
   ]
  },
  {
   "cell_type": "code",
   "execution_count": 25,
   "id": "f492db55",
   "metadata": {},
   "outputs": [
    {
     "data": {
      "image/png": "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\n",
      "text/plain": [
       "<Figure size 640x480 with 1 Axes>"
      ]
     },
     "metadata": {},
     "output_type": "display_data"
    }
   ],
   "source": [
    "# данные для графика по дням в группе А\n",
    "cumulative_revenue_a = cumulative_data[cumulative_data['group']=='A'][['date','revenue', 'orders']]\n",
    "\n",
    "# данные для графика по дням в группе B\n",
    "cumulative_revenue_b = cumulative_data[cumulative_data['group']=='B'][['date','revenue', 'orders']]\n",
    "\n",
    "# графики выручки для двух групп\n",
    "plt.plot(cumulative_revenue_a['date'], cumulative_revenue_a['revenue'], label='A')\n",
    "plt.plot(cumulative_revenue_b['date'], cumulative_revenue_b['revenue'], label='B')\n",
    "plt.title('Кумулятивная (накопительная) выручка по дням')\n",
    "plt.legend()\n",
    "plt.grid(True)\n",
    "plt.xticks(rotation=90, fontsize=7)\n",
    "plt.ylabel('Выручка, RUR')\n",
    "plt.xlabel('Дата')\n",
    "plt.show()"
   ]
  },
  {
   "cell_type": "markdown",
   "id": "9ce84a17",
   "metadata": {},
   "source": [
    "Накопительная выручка растёт схожими темпами (о чём свидетельствует наклон кривых) на протяжении месяца. Однако, в середине месяца происходит резкий рост по группе B. Возможно, прошли крупные покупки (резкий рост среднего чек - выброс) или резко росло число заказов."
   ]
  },
  {
   "cell_type": "markdown",
   "id": "a263294e",
   "metadata": {},
   "source": [
    "### График кумулятивного среднего чека по группам"
   ]
  },
  {
   "cell_type": "markdown",
   "id": "07f08c84",
   "metadata": {},
   "source": [
    "Для получения размера среднего чека — разделим кумулятивную выручку на кумулятивное число заказов."
   ]
  },
  {
   "cell_type": "code",
   "execution_count": 26,
   "id": "d19a6ed8",
   "metadata": {},
   "outputs": [
    {
     "data": {
      "image/png": "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\n",
      "text/plain": [
       "<Figure size 1000x500 with 1 Axes>"
      ]
     },
     "metadata": {},
     "output_type": "display_data"
    }
   ],
   "source": [
    "plt.figure(figsize=(10,5))\n",
    "plt.plot(cumulative_revenue_a['date'], cumulative_revenue_a['revenue']/cumulative_revenue_a['orders'], label='A')\n",
    "plt.plot(cumulative_revenue_b['date'], cumulative_revenue_b['revenue']/cumulative_revenue_b['orders'], label='B')\n",
    "plt.title('Кумулятивный средний чек по дням')\n",
    "plt.legend()\n",
    "plt.grid(True)\n",
    "plt.xticks(rotation=0, fontsize=7)\n",
    "plt.ylabel('Средний чек, RUR')\n",
    "plt.xlabel('Дата')\n",
    "plt.show()"
   ]
  },
  {
   "cell_type": "markdown",
   "id": "1ba6bf48",
   "metadata": {},
   "source": [
    "Накопительный средний чек по группе А более стабилен: в первых числах, очевидно, фиксировались крупные покупки, потом, после просадки в первой декаде, наблюдается его плавный рост до конца месяца. По группе В отмечается рывкообразный рост за счёт крупных чеков в начале и во второй половине месяца, но, начиная с третьей декады - плавное снижение. Необходимо при дальнейшем анализе избавиться от \"выбросов\" - нехарактерных крупных покупок, сильно искажающих общую картину."
   ]
  },
  {
   "cell_type": "markdown",
   "id": "086d37b7",
   "metadata": {},
   "source": [
    "### График относительного изменения кумулятивного среднего чека группы B к группе A"
   ]
  },
  {
   "cell_type": "markdown",
   "id": "a789a0f7",
   "metadata": {},
   "source": [
    "Построим график относительного различия для среднего чека."
   ]
  },
  {
   "cell_type": "code",
   "execution_count": 27,
   "id": "9dd31002",
   "metadata": {},
   "outputs": [
    {
     "data": {
      "image/png": "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\n",
      "text/plain": [
       "<Figure size 1000x400 with 1 Axes>"
      ]
     },
     "metadata": {},
     "output_type": "display_data"
    }
   ],
   "source": [
    "# собираем данные в одну таблицу\n",
    "merged_cumul_revenue = cumulative_revenue_a.merge(\n",
    "    cumulative_revenue_b, left_on='date', right_on='date', how='left', suffixes=['_a', '_b'])\n",
    "\n",
    "# cтроим отношение средних чеков\n",
    "plt.figure(figsize=(10,4))\n",
    "plt.plot(merged_cumul_revenue['date'], (merged_cumul_revenue['revenue_b'] / merged_cumul_revenue['orders_b']) / (\n",
    "    merged_cumul_revenue['revenue_a'] / merged_cumul_revenue['orders_a']) - 1)\n",
    "plt.title('Относительное изменение кумулятивного среднего чека гр. B к гр. A')\n",
    "plt.grid(True)\n",
    "plt.ylabel('Изменение по гр.B относительно гр.A')\n",
    "plt.xlabel('Дата')\n",
    "plt.xticks(rotation=0, fontsize=7)\n",
    "# добавляем горизонтальную линию\n",
    "plt.axhline(y=0, color='black', linestyle='--')\n",
    "plt.show()"
   ]
  },
  {
   "cell_type": "markdown",
   "id": "5989d677",
   "metadata": {},
   "source": [
    "В нескольких точках соотношение сильно меняется. Возможно, именно в эти даты проходили крупные покупки, после которых наблюдается снижение среднего чека группы B как в абсолютном выражении, так и по отношению к чеку группы A."
   ]
  },
  {
   "cell_type": "markdown",
   "id": "2850dbc3",
   "metadata": {},
   "source": [
    "### График кумулятивного среднего количества заказов на посетителя по группам"
   ]
  },
  {
   "cell_type": "markdown",
   "id": "d1a15c54",
   "metadata": {},
   "source": [
    "Среднее количество заказов по посетителям является схожим по смыслу с понятием конверсии. Но в силу того, что мы не имеем возможности проконтроливать уникальность визитов пользователей, плюс, были удалены часть id из таблицы orders, таковым не является."
   ]
  },
  {
   "cell_type": "code",
   "execution_count": 28,
   "id": "1bd707d8",
   "metadata": {},
   "outputs": [
    {
     "data": {
      "image/png": "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\n",
      "text/plain": [
       "<Figure size 640x480 with 1 Axes>"
      ]
     },
     "metadata": {},
     "output_type": "display_data"
    }
   ],
   "source": [
    "# для лучшего понимания и усвоения учебного материала, буду использовать имя переменной conversion\n",
    "# добавляем кумулятивную \"конверсию\" в дф\n",
    "cumulative_data['conversion'] = cumulative_data['orders']/cumulative_data['visitors']\n",
    "\n",
    "# отделяем данные по группе A\n",
    "cumulative_data_a = cumulative_data[cumulative_data['group']=='A']\n",
    "\n",
    "# отделяем данные по группе B\n",
    "cumulative_data_b = cumulative_data[cumulative_data['group']=='B']\n",
    "\n",
    "# строим графики\n",
    "plt.plot(cumulative_data_a['date'], cumulative_data_a['conversion'], label='A')\n",
    "plt.plot(cumulative_data_b['date'], cumulative_data_b['conversion'], label='B')\n",
    "plt.legend()\n",
    "plt.title('Накопительное среднее количество заказов на посетителя')\n",
    "plt.grid(True)\n",
    "plt.xticks(rotation=45, fontsize=7)\n",
    "plt.xlabel('Дата')\n",
    "plt.ylabel('Накопительное среднее количество заказов')\n",
    "plt.show()"
   ]
  },
  {
   "cell_type": "markdown",
   "id": "db8a396a",
   "metadata": {},
   "source": [
    "Накопительное среднее количество заказов на посетителя по группе B первую половину месяца имело тенденцию к росту, затем зафиксировалось и колеблется в районе 0,029. По группе A показатель с высоких уровней в начале месяца снизился до уровня 0,026, и, так и колеблется на уровне 0,025 - 0,026. Таким образом, накопительное среднее количество заказов на посетителя выше по группе B."
   ]
  },
  {
   "cell_type": "markdown",
   "id": "a742aa73",
   "metadata": {},
   "source": [
    "### График относительного изменения кумулятивного среднего количества заказов на посетителя группы B к группе A"
   ]
  },
  {
   "cell_type": "code",
   "execution_count": 29,
   "id": "ad895184",
   "metadata": {},
   "outputs": [
    {
     "data": {
      "image/png": "iVBORw0KGgoAAAANSUhEUgAAA1YAAAGFCAYAAAD+aWLDAAAAOXRFWHRTb2Z0d2FyZQBNYXRwbG90bGliIHZlcnNpb24zLjMuNCwgaHR0cHM6Ly9tYXRwbG90bGliLm9yZy8QVMy6AAAACXBIWXMAAA9hAAAPYQGoP6dpAACHNUlEQVR4nO3dd3wT5R8H8E+StuneLR0UCm2hQClllo3IHgKiIENAtgMVcaL+xI0KKrhAUIZsEEVEVkGQKWXPAh2UUeiidK80eX5/lMSGDrrSS9rP+/XqC3p57u57395d8s0995xMCCFARERERERElSaXOgAiIiIiIiJTx8KKiIiIiIioilhYERERERERVRELKyIiIiIioipiYUVERERERFRFLKyIiIiIiIiqiIUVERERERFRFbGwIiIiIiIiqiIWVkRERERERFXEwoqIiIiIiKiKTKqwWrFiBWQyGU6cOFHstWeeeQYymQxBQUESREZERERUd+3fvx8ymUzvx9nZGR07dsSaNWukDo9IT4cOHSCTybBo0aJqXa5ZtS5NIlFRUVi9erXUYRARERHVaS+99BLat28PALh79y42bNiAp59+GqmpqXjhhRckjo4IiIyMxPHjx+Hr64s1a9bgueeeq7Zl14rC6pNPPoG5uTn8/f2lDoWIiIiozurWrRuefPJJ3e/PPfccGjdujLVr17KwIqOwevVquLu748svv8STTz6J2NhY+Pr6VsuyTaorYEmio6OxevVqTJ8+HR4eHnqv3b17FwMGDED9+vWhVCrh6emJsWPH4vr167o2sbGxukvWW7Zs0Zs/NzcXTk5OkMlkmD9/vt5rcXFxmDRpEurVqwelUokWLVpg2bJlem20l8V//fXXYnHb2trimWee0ZuWmpqKmTNnwsfHB0qlEv7+/vj888+h0WiKxftgPAAQFBSERx55pNj69+/fr9du0KBBkMlkeP/99yu8TaWRyWSYMWNGsemDBw8utrPOnz8fnTt3houLC6ysrNC2bdsSc/RgjAUFBRg4cCCcnZ1x6dIlvekfffQR/Pz8oFQq4evri7fffht5eXl6y/P19S3WTaHoT1nrBoB58+ZBJpPpclxSt4cHf4ouoyL51XZtLWt5zzzzDGxtbUuc/8HtHjx4cLHpM2bMKLbdVc3llClTdG2ysrLw6quv6vbnpk2bYv78+RBCPDRmADh27BgGDhwIJycn2NjYIDg4GAsXLiy2/TExMejXrx9sbGzg5eWFDz/8sNzreNAzzzxTbH9dvXo15HI5PvvsM73pf//9N7p16wYbGxs4Ojpi6NChiIiIKHG5peWr6LHp6+tb7JywadMmyGQyvZi0XaJjY2P12j7yyCN6xz8A5OXlYc6cOfD394dSqYSPjw/eeOONYn9P7XZ26NAB1tbWcHJyQvfu3bF79+4y49f+aOMrej6VyWQwNzeHr68vXn/9deTn5+vWlZKSgtdeew0tW7aEra0t7O3tMWDAAJw9e7bE/BVVnvM6UP3nmeXLl+PRRx+Fu7s7lEolmjdvXmIXkqFDh8LX1xeWlpZwd3fHkCFDcP78eb02lTnO5HI5PDw88NRTT+HGjRsPzVNFjvvybltJSjtXlbSPA4X7dNu2bWFlZQVXV1c8/fTTiIuLK7bcy5cvY+TIkXBzc4OVlRWaNm2Kd955R6/Nw86pFTlHv//++8XykpmZCQ8PD73teOSRRx66zKJWr16t215nZ2eMGjUKN2/eLLa9Dx47pS0vMTERkydPRoMGDaBQKHRtyvteUNZ5u+jni6+//hoNGzaElZUVevTogQsXLjx0+aWxsLCAk5MTzMzK913+w/aRh+1zRc+Phnj/A4AdO3agR48esLOzg729Pdq3b4+1a9fqXi/pfHz8+PFif9OHbUfRZVTkfK59nyhreWXdXlNUaZ81fv311yod4+WNWSaT4datW3qxVPV9f+3atXjyyScxePBgODg46P3tqsrkr1h9/PHHMDMzw5tvvonRo0frvZafnw87Ozu8/PLLcHFxQXR0NL799lucO3eu2BudpaUlli9fjmHDhumm/fbbb8jNzS22zoSEBHTs2FFXTLi5uWHHjh2YPHky0tPTMXPmzApvR3Z2Nnr06IG4uDhMnz4dDRo0wJEjRzB79mzcuXMHCxYsqPAyS3LgwAFs37692HRDbFNpFi5ciCFDhmDs2LHIz8/H+vXrMWLECGzbtg2DBg0qdb4pU6Zg//79CAsLQ/PmzfWmr1y5Ek8++SReffVVHDt2DHPnzkVERAR+//13vWWEhITg1Vdf1Zv2yy+/ICwsrMyYU1NTMXfuXL1pzZo1w6pVq3S/L1myBBEREfj6669104KDgwFULr+urq56yxo3blyZMVaHquZSe9VYCIEhQ4Zg3759mDx5MkJCQrBr1y68/vrriIuL09uukoSFhWHw4MHw9PTEyy+/DA8PD0RERGDbtm14+eWXde3UajX69++Pjh074osvvsDOnTsxZ84cFBQU4MMPP6xyPnbv3o1JkyZhxowZeOutt3TT9+zZgwEDBqBx48Z4//33kZOTg2+//RZdunTBqVOnSvzmq1u3bpg2bRoAICIiAp9++mmZ6y4oKCj2QbIiNBoNhgwZgkOHDmHatGlo1qwZzp8/j6+//hpXr17V+yLpgw8+wPvvv4/OnTvjww8/hIWFBY4dO4a///4bffv2xYIFC5CZmakX+9tvv41mzZoBQLE33WnTpqFbt27Iy8vDrl27MH/+fFhaWuKjjz4CAMTExGDLli0YMWIEGjVqhISEBPz444/o0aMHLl26BC8vr1K3q7zn9eo+zyxatAgtWrTAkCFDYGZmhj///BPPP/88NBpNsW/hp02bBg8PD9y+fRvfffcdevfujWvXrsHa2lq3jvIeZ9r9RqPR4MKFC1iwYAFu376NgwcPlroNFVWRbSuJUqnETz/9pDft+PHj+Oabb/SmrVixAhMnTkT79u0xd+5cJCQkYOHChTh8+DBOnz4NR0dHAMC5c+fQrVs3mJubY9q0afD19UV0dDT+/PNPfPLJJwDKd06tyDm6JF9++SUSEhL0pr3zzju6QiQ5ORmvvPKKbn9/0CeffIL//e9/GDlyJKZMmYKkpCR8++236N69u972FlV0Wb/99lux/WHChAnYs2cPXnzxRbRq1QoKhQJLlizBqVOnSt2Ooso6b2v98ssvyMjIwAsvvIDc3FwsXLgQjz76KM6fP4969eo9dB0ZGRlITk4GUPglytq1a3HhwgX8/PPPD523PPvI9OnT0bt3b90848aNw+OPP47hw4frprm5uT10XQ8q73G5YsUKTJo0CS1atMDs2bPh6OiI06dPY+fOnRgzZkypy3/zzTeLTSu6fx48eBBLlizB119/DVdXVwDQ5bsi5/Oiii5Le+wYUnmP8bJ8+OGHaNSokd40Z2dn3f+r+r5/7NgxREVFYfny5bCwsMDw4cOxZs0avP322xXe3hIJE7J8+XIBQBw/flwIIUR0dLQwMzMTL730khBCiB49eogWLVqUuYwvvvhCABDJyclCCCGuXbsmAIjRo0cLMzMzER8fr2vbq1cvMWbMGAFAzJs3Tzd98uTJwtPTU7cMrVGjRgkHBweRnZ0thBBi3759AoDYtGlTsThsbGzEhAkTdL9/9NFHwsbGRly9elWv3VtvvSUUCoW4ceOGXrxF49Fq0aKF6NGjh+537fr37dunmxYaGioGDBggAIg5c+ZUeJtKA0C88MILxaYPGjRINGzYUG/ag8vKz88XQUFB4tFHHy22TG2Ms2fPFgqFQmzZskWvzZkzZwQAMWXKFL3pr732mgAg/v77b920hg0bikGDBhWL8YUXXhAPHgoP5ueNN94Q7u7uom3btno5LmrChAnFtlWrovkdO3asaNSoUZkxTZgwQdjY2JS4vqLKu93VkUutLVu2CADi448/1pv+5JNPCplMJqKiokqdt6CgQDRq1Eg0bNhQ3Lt3T+81jUaj+/+ECRMEAPHiiy/qvT5o0CBhYWEhkpKSSl1HaYr+DU+cOCFsbW3FiBEjhFqt1msXEhIi3N3dxd27d3XTzp49K+RyuRg/fnyx5Xp7e4uJEyfqfi/p2GzYsKHeOeGHH34QSqVS9OzZU2+/WrlypQAgYmJi9NbRo0cPvX1z1apVQi6Xi4MHD+q1W7x4sQAgDh8+LIQQIjIyUsjlcvH4448X286i+S4rdi3t+Wn58uV60728vMTAgQN1v+fm5hZb17Vr14RSqRQffvhhseU+zIPndSGq9zxT0vKEEKJfv36icePGZca2ceNGAUCcOHFCCFHx46zoPiGEEGPGjBHW1tZlrlM7b3nPd5XdNiFKPw9t2rRJbz/Jz88X7u7uIigoSOTk5Ojabdu2TQAQ7733nm5a9+7dhZ2dnbh+/breMovuj5V5zyrrHD1nzhy9vCQmJgo7Ozvd+2VF9nchhIiNjRUKhUJ88sknetPPnz8vzMzMik2PjIwUAMTKlStLjSknJ0fI5XIxffr0YttVlfeCB7fHyspK3Lp1Szf92LFjAoB45ZVXyly+9tzw4I9cLi+2vSWpyD5S1IPvjUVV9/tfamqqsLOzE6GhoXoxCqG/fz54Pt6+fbsAIPr371/s+NPSfsa9du1asdfKez7XWrp0qQCgdww9GNODn6lLY4hjvCTliac63vdnzJghfHx8dH+v3bt3CwDi9OnTD523PEy6K6D2alXRb5JLkpGRgcTERBw9ehTr1q1DixYt9KpfAGjTpg1atGih+/bg+vXr2LdvX7GuOUIIbN68GY899hiEEEhOTtb99OvXD2lpacW+OdJ+e1P050GbNm1Ct27d4OTkpNeud+/eUKvVOHDggF777OzsYstUq9Vl5uG3337D8ePHi3Vpqsw2lSQ3N7dYTCqVqlg7Kysr3f/v3buHtLQ0dOvWrdR1fPfdd5g7dy6++eYbDB06VO817dW3WbNm6U3XfiP3119/PTTuh4mLi8O3336L//3vf+XqbvGgyuQ3Pz8fSqWyXMvXLqukq6taKpWq2N/mwfbVmcvt27dDoVDgpZdeKrYsIQR27NhR6rynT5/GtWvXMHPmzGLfbj3YdQOAXhdU7bfX+fn52LNnT7njfVBMTAwGDRqEkJAQrFq1CnL5f6fKO3fu4MyZM3jmmWf0ziPBwcHo06dPiVeEK/L3BAqP7w8//BAzZsxAgwYN9F5zd3cHAF3XiNJs2rQJzZo1Q2BgoN7f/dFHHwUA7Nu3DwCwZcsWaDQavPfee3rbCZSc7/LIzMxEcnIy4uLisGTJEsTHx6NXr16615VKpW5darUad+/eha2tLZo2bVrub94fdl6vzvPMg8tLS0tDcnIyevTogZiYGKSlpem11Z6fz5w5g6VLl6JevXpo0qQJgIofZ3l5eUhOTkZiYiLCwsLw999/6+WyLOU57iu6bZV14sQJJCYm4vnnn4elpaVu+qBBgxAYGKjb7qSkJBw4cACTJk0qtu9r98fqes8qy0cffQQHB4di57Dy+u2336DRaDBy5Ei9+Dw8PBAQEKA7/rS0XWXLOk9kZWVBo9HAxcWlUjGV17Bhw+Dt7a37vUOHDggNDS3x3FaS9957D2FhYQgLC8OGDRswevRovPPOO3pduUtS3n2koqrz/S8sLAwZGRl466239GIESj9fCiEwe/ZsPPHEEwgNDa3UNpT3fK5Vnv1JS3vMZ2RklNnuwRw+2N5Qf7+SVPZ9v6CgABs2bMBTTz2l+3tpu0FX18iVJtsVMCYmBqtWrcLzzz8PT0/PMttOnToVGzZsAAC0b98e27dvL/EAmDhxIpYsWYLXXnsNK1asQOfOnREQEKDXJikpCampqViyZAmWLFlS4voSExP1fp80adJDtycyMhLnzp0r9fL1g8ucM2cO5syZU6xdaZfp1Wo13n77bYwdO7ZY14fKbFNJfv755xIv9Tds2FDv923btuHjjz/GmTNn9PoGl/Q32bFjh67/b0pKSrHXr1+/DrlcXqwrg4eHBxwdHYvdd1EZc+bMgZeXF6ZPn17iPRoPU5n8pqamlquIy8rK0ttnfHx88Oqrr+p1lwMKu7Q9rGtEdeby+vXr8PLygp2dnd50bdexspYVHR0NAOV6dIJcLkfjxo31pmk/wD54D1J5ZWVloV+/fkhISICLi0ux/VIbe9OmTYvN26xZM+zatQtZWVmwsbHRTU9LS6tQUf7VV18hNzcXb7/9drE3+tatW8PS0hIffPABFi1aBCcnJwCFHx7Mzc117SIjIxEREfHQc0p0dDTkcrlet7eqevHFF/Hiiy/qfp84cSJeeeUV3e8ajQYLFy7EDz/8gGvXrul9KVTeD40PO69X53kGAA4fPow5c+bg6NGjyM7O1nstLS0NDg4Out8//PBDfP755wCAgIAA7N+/X3csVPQ4W79+PdavX6/7vX379sW63ZWmPMd9Rbetsso6bgIDA3Ho0CEAhe/tQNnHf3W9Z5Xm2rVr+PHHH7Fo0aJiH57LKzIyEkKIYp8htIoeq0DhOR8o3q22KBcXFwQEBOCnn35Cjx49EBISArlcXuI9NlVRUsxNmjTBxo0byzV/y5Yt9brqjRw5EmlpaXjrrbcwZsyYUvfJ8u4jFVWd738VeX/SWrNmDS5evIiNGzdW+l6e8p7PtcqzP2kV/Vs5Ojpi9OjRmDdvnt572IOfNUpiqL/fg6ryvr97924kJSWhQ4cOiIqK0k3v2bMn1q1bh88//7zYF4wVZbKF1SeffKK7t+ph3n33XUycOBHR0dH44osvMGrUKOzZs6fYjZRPP/003njjDfz7779YuXIl3n333WLL0g4k8fTTT2PChAklru/BwuW9994r1v/6scceK7bcPn364I033ihxmdqdRmvatGkYMWKE3rSpU6eWOC9QWPTExsZi165dxV6rzDaVZOjQocUGsHj33XcRHx+v+/3gwYMYMmQIunfvjh9++AGenp4wNzfH8uXLSzzhhIeHY+rUqbCxscHHH3+MESNGlHjQVvab9YeJiIjAihUrsHr16mJvhOVVmfzGx8cXK0hLYmlpiT///BNA4Tf4y5Ytw8yZM+Hp6YmRI0fq2oWGhuLjjz/Wm/e7777DH3/8UWyZhsqlqUhOToaNjQ3+/PNPDBs2DHPnzi3xS4zySklJQX5+frHBdcpa/7x58zB79uxiV9aBwi9Pvv32W7zwwgvFzgs9evTQ/V+j0aBly5b46quvSlyPj49PBbaiYl5//XX07dsXarUaFy9e1N1YvHz5cgDAp59+iv/973+YNGkSPvroIzg7O0Mul2PmzJl6g/WUpazzenWfZ6Kjo9GrVy8EBgbiq6++go+PDywsLLB9+3Z8/fXXxWKeMmUKevXqhVu3buHrr7/GE088gSNHjugVKOU9zvr27YvXX38dQOFVys8//xw9e/bEiRMn9K40laQ8x31Ft80YVNd7VmneeecdBAQEYMKECZW+l02j0UAmk2HHjh1QKBTFXn/wA6/2ffJh54kNGzZg7Nix6Nevn970oh+CjVGvXr2wbds2hIeHl3mPoyFI+f6Xn5+P//3vf5g8eXKx83VFVPR8Hh8fD1tb23LtF99//z2aNGmCvLw87N+/Xzc42g8//KBrU/SzhtbBgwer5V7mmqS9KlX081FR//zzD3r27FmldZhkYXXt2jX88ssveO6558q8yVkrKChI9+1Cy5Yt0b17d4SFhWHAgAF67VxcXDBkyBBMnz4diYmJukv4Rbm5ucHOzg5qtVqvyi/Lg9/eACh2ovXz80NmZma5lxkQEFCsbWkHUHZ2Nj744AM8//zzJX5Yr8w2laR+/frF5l+wYIFeYbV582ZYWlpi165depeotR+4HtSnTx8sWrQIubm52LJlC6ZNm6Yb6QkovBqm0WgQGRmpuxoCFN7YnJqaWq7ipCyzZ89GSEgInnrqqUovo6L5ValUiIqKQv/+/R/aVqFQ6C1z0KBBcHZ2xs6dO/VOHK6ursXW/eDNrtWZy4YNG2LPnj3IyMjQu2p1+fJl3eul8fPzAwBcuHDhofnSaDSIiYnRe8O6evUqAFR66FRra2vs3LkTgYGBeOWVV/Dpp59i5MiRupxoY79y5UqxeS9fvgxXV1e9Y1E7slzRnJbl448/1g3OUJopU6Zg+PDhuHDhgq7Lx4M3pPv5+eHs2bPo1atXmR8W/Pz8oNFocOnSJYSEhJQrxodp3ry57m/Xr18/5OXl4e2338Ynn3wCLy8v/Prrr+jZs2exK9ypqam6G60fpqzzenWfZ/7880/k5eVh69atet3THux+o+Xv76/75rt3795o0KAB1q5di+eee67Cx5mnp6fecdC0aVN07twZW7ZsKTZg04PKc9xXdNsqq+hxo+2+pHXlyhXd69pvossaha663rNKcvr0aaxfvx5btmwpsSAqLz8/Pwgh0KhRo3J9oL506RJkMlmJXxwW1bp1ayxduhTdunXDhx9+iI4dO2LevHk4fPhwpWN9UGRkZLFpV69erdJw1AUFBQCgGwSnJOXdRyqqOt//ir4/lecRPz/88AMSExOLjTJcUeU9n2tdunSp3O85HTp0QLt27QAUfoY4e/Ysdu7cqdfmwc8awH9XxbQM9fd7UGXf97OysvDHH3/gqaee0nscgNZLL72ENWvWVLmwMsl7rD799FMoFIqH3ltVEm2hVNql80mTJuHcuXMYMWJEiZdQFQoFnnjiCWzevLnEE39SUlKFYwIKq+ejR4+WeEUpNTVVd1KqjIULFyIrK6vUEcYMtU2lrUsmk+l1/YmNjS11RJvOnTtDoVDAxsYGixcvxoEDB7B06VLd6wMHDgSAYqMmar/Vqco3Y0ePHsUff/yBzz77rErfYlU0v3/88QdycnKKnZjKQ9wfbrQyHwiqM5cDBw6EWq3Gd999pzf966+/hkwmK/alRlFt2rRBo0aNsGDBgmInbu32FVV0HUIIfPfddzA3N9e7DyU6OlrXheNh3NzcEBgYCKCwS1f9+vUxdepU3bo9PT0REhKClStX6sV34cIF7N69W5dHrfXr18PCwgJdu3Z96LpjY2OxaNEivP/++w+9GuHs7Izu3bujd+/e6N27t65LoNbIkSMRFxend7xo5eTkICsrC0Dh/RRyuRwffvhhsasTJeW7MnJycgD81+9foVAUW/amTZvKNSRvSR48r1f3eUZ7PBWNOS0trdRCrazYqnqcaXNZXd2/qrJtFdGuXTu4u7tj8eLFerHv2LEDERERuu12c3ND9+7dsWzZsmLDyhc9vxnqPeutt95Cly5dMGTIkEovAwCGDx8OhUKBDz74oNi+LoTA3bt3db8XFBRg8+bN6NChw0O7bqWnp2PcuHEYMmQI3n33XfTu3fuht0NU1JYtW/SOxfDwcBw7dkzvvJ2WlobLly+X+x68bdu2AQBatWpVapvy7iOGUN7jsm/fvrCzs8PcuXOL3af14N85IyMDn3zyCV555ZVy91goTXnP5wBw8+ZNHD58uFKfIYDCwqUynyFq8u9Xmff933//HVlZWXjhhRfw5JNPFvsZPHgwNm/eXOVzq0lesTpz5gxmzJjx0KtVS5cuxYEDB9CmTRvY29vj0qVLWLp0KTw9PUu9+bd///5ISkoq8+T22WefYd++fQgNDcXUqVPRvHlzpKSk4NSpU9izZ0+pffTL8vrrr2Pr1q0YPHgwnnnmGbRt2xZZWVk4f/48fv31V8TGxpb7m9wH7d69G5988kmZ9y4YYptKMmjQIHz11Vfo378/xowZg8TERHz//ffw9/fHuXPnypy3X79+uu6ajz32GDw9PdGqVStMmDABS5YsQWpqKnr06IHw8HCsXLkSw4YNq9I3D7t370afPn2q5RvR8uQ3Ozsbc+bMwQ8//IDOnTujb9++D12uWq3WfbOUkZGB5cuXIysrS++xAeVVnbl87LHH0LNnT7zzzjuIjY1Fq1atsHv3bvzxxx+YOXOm7lu/ksjlcixatAiPPfYYQkJCMHHiRHh6euLy5cu4ePGi3pcPlpaW2LlzJyZMmIDQ0FDs2LEDf/31F95++229/uDa472i911ZWVlhyZIl6N27NxYtWoTnn38eQOEzzQYMGIBOnTph8uTJuuHWHRwcdN9MRkZGYs6cOVi3bh3eeust2NvbP3R9//zzD5o1a4aJEydWKM6SjBs3Dhs3bsSzzz6Lffv2oUuXLlCr1bh8+TI2btyIXbt2oV27dvD398c777yDjz76CN26dcPw4cOhVCpx/PhxeHl5FXvMQHkcPXoUZmZmuq6A3377LVq3bq37NnHw4MH48MMPMXHiRHTu3Bnnz5/HmjVrivWbL0l5zuvVfZ7p27cvLCws8Nhjj2H69OnIzMzE0qVL4e7ujjt37ujm3b59O3766Sd07twZzs7OiImJwdKlS2FjY4PHH38cQMWPs5iYGKxevRpA4UA63333Hezt7cs9gMXDlHfbqsrc3Byff/45Jk6ciB49emD06NG6oZh9fX317sH75ptv0LVrV7Rp0wbTpk1Do0aNEBsbi7/++gtnzpwBYLj3rN27d1fL1R8/Pz98/PHHmD17NmJjYzFs2DDY2dnh2rVr+P333zFt2jS89tpr2LNnD/73v//h3LlzxbpaleSFF15ATk5Oue+zqwx/f3907doVzz33HPLy8rBgwQK4uLjo3arw+++/Y+LEiVi+fHmxQb4OHjyoKzpSUlKwdetW/PPPPxg1apTuS6uSVGQfqW7lPS7t7e3x9ddfY8qUKWjfvj3GjBkDJycnnD17FtnZ2Vi5cqVumadOnYKrq2upt3hURHnP54sWLcLcuXNhbW1d7oFXjh49iuTkZF1XwL179+K1116rcIw19fer7Pv+mjVr4OLigs6dO5e43CFDhmDp0qX466+/9Ibur7BqGVuwhmiHYlQqlXpDgWo9ONz6P//8I7p16yYcHR2FUqkUvr6+YurUqXpDWZY1fHlZryckJIgXXnhB+Pj4CHNzc+Hh4SF69eollixZomtTkeHWhRAiIyNDzJ49W/j7+wsLCwvh6uoqOnfuLObPny/y8/MfGm9pw617enqKrKwsvbYoYXjS8mxTaVCB4dZ//vlnERAQIJRKpQgMDBTLly8vNqxsaTEmJycLNzc38fjjj+umqVQq8cEHH4hGjRoJc3Nz4ePjI2bPni1yc3P15q3ocOsymUycPHlSb/qDw5UWVdZQvkI8PL+3bt0SPj4+YubMmSItLa3Y/A/mQzvsqPbH1tZWtGnTRqxatarS213VXBaVkZEhXnnlFeHl5SXMzc1FQECAmDdvXolDeJfk0KFDok+fPsLOzk7Y2NiI4OBg8e233+ptv42NjYiOjhZ9+/YV1tbWol69emLOnDnFhvJu2LBhmX+bosssqd3EiROFvb293nlnz549okuXLsLKykrY29uLxx57TFy6dEn3+rp160RQUJBYuHBhsW0ubbh1AOL3338vV0wPKmnfzM/PF59//rlo0aKFUCqVwsnJSbRt21Z88MEHxfaxZcuWidatW+va9ejRQ4SFhRVbT3mGW9f+yOVyUb9+fTFhwgS93OXm5opXX31VeHp6CisrK9GlSxdx9OjRMo8vrfKc14Wo/vPM1q1bRXBwsLC0tBS+vr7i888/F8uWLdMbHvnChQuib9++wsXFRVhYWAgfHx8xatQoce7cOb3lV+Q4K5pPV1dX0bdvX3H06NEyc6Sdt7zHfXm2rTTlHYpZa8OGDbr9zNnZWYwdO7bE9/MLFy6Ixx9/XDg6OgpLS0vRtGlT8b///U+vTUXfs8oz3PrQoUP1plfm8QJFbd68WXTt2lXY2NgIGxsbERgYKF544QVx5coVIYQQL774oujevbvYuXNnqTFprVu3TshksmJtq3u49Xnz5okvv/xS+Pj4CKVSKbp16ybOnj2r11b7eazotpc03LqFhYUIDAwUn3zyie5zzMOUdx/RKukYftg2V+X9T4jCY6Zz586683+HDh3EunXrdK/36NFDABBff/213nwlnYO0yhpuXYjync87dOggRowYIS5fvlxs/tKGWy/6t/L39xfvvfeeyMvL07Uz1DFe2vY/bLj1yrzvJyQkCDMzMzFu3LhSl52dnS2sra31zvuVIROimvp6EBHVoGeeeQa//vprmX32iYiofGJjY9GoUSPMmzevUlcsiAzNFN73TfIeKyIiIiIiImPCwoqIiIiIiKiKWFgRERERERFVEe+xIiIiIiIiqiJesSIiIiIiIqoiFlZERERERERVZJIPCC6LRqPB7du3YWdnB5lMJnU4REREREQkESEEMjIy4OXlBbncsNeUal1hdfv2bfj4+EgdBhERERERGYmbN2+ifv36Bl1HrSus7OzsABQmz97eXuJoAJVKhd27d6Nv374wNzeXOpw6g3mvecy5NJh3aTDv0mDepcG8S4N5L11FcpOeng4fHx9djWBIta6w0nb/s7e3N5rCytraGvb29jwoahDzXvOYc2kw79Jg3qXBvEuDeZcG8166yuSmJm4R4uAVREREREREVcTCioiIiIiIqIpYWBEREREREVURCysiIiIiIqIqYmFFRERERERURSysiIiIiIiIqoiFFRERERERURWxsCIiIiIiIqoiFlZERERERERVxMKKiIioglKzVbiWAQghpA6FiIiMhJnUARARUd3086FrWLQ/CsPb1MdzPfzgZGMhdUgPlZOvxrLD17BofzQy88yQZH0ZHz/eEjKZTOrQiIhIYiysiIioxsWl5uDznZeRX6DBkgMxWHfsBqZ2b4zJXRvBRml8b00Fag02nbyFr8OuIjEjTzd9TfhNyOQyfDgkCHI5iysiorrM+N69iIio1vty9xXkF2jQwsseGgFE3EnHV2FXsfJILF7o6Y+xHRtAaaaQOkwIIbD7UgK+2HkZ0UlZAID6TlaY2csfJ0+fwfoYBVb/ewNCAB8NZXFFRFSX1cg9Vt9//z18fX1haWmJ0NBQhIeHl9p26dKl6NatG5ycnODk5ITevXuX2Z6IiEzLxdtp+P10HABg7vCW+OvFrvhmdGv4uljjblY+Ptx2CY/O/wcbT9xEgVojWZzHY1Pw5OKjmL7qJKKTsuBkbY73BjfH3ld7YGgrT3R0F/js8RaQyYA1x27g3T8uQKPhPVdERHWVwQurDRs2YNasWZgzZw5OnTqFVq1aoV+/fkhMTCyx/f79+zF69Gjs27cPR48ehY+PD/r27Yu4uDhDh0pERDXgsx2XIQQwpJUXgus7Qi6XYUgrL4TN6oFPH2+JevZKxKXm4I1fz6HfggPYcf5OjQ4SEZmQgSkrT2DE4qM4ef0eLM3lmNHTH/+80ROTujbSu5I2vLU35j/ZCjIZsPbYDbyz5TyLKyKiOsrgXQG/+uorTJ06FRMnTgQALF68GH/99ReWLVuGt956q1j7NWvW6P3+008/YfPmzdi7dy/Gjx9v6HCJiMiADlxNwsHIZFgo5Hi9X1O918wVcowJbYDhbbzxy9FY/LA/GtFJWXhuzSkE13fA6/2aoqu/q8EGiriTloMFYZHYdPImNAJQyGUY2c4HM3sHoJ69ZanzPdG2PuRy4NWNZ7Eu/CaEAD59vCW7BRIR1TEGLazy8/Nx8uRJzJ49WzdNLpejd+/eOHr0aLmWkZ2dDZVKBWdn5xJfz8vLQ17efzcSp6enAwBUKhVUKlUVoq8e2hiMIZa6hHmvecy5NEwp72qNwKd/XQIAPB3qAw878xLjVgCY2KkBnmztiZ8PX8fyI9dx7lYaxv0cjo6NnDCrTwBa+zhWW1zpOSr8ePAaVh69gbyCwq6HfZq549U+AfBzswFQPL8P5n1wUD2o1S3xxubzWH/8JtQaDT4e0pzFVTUzpf29NmHepcG8l64iuanJ/MmEAftX3L59G97e3jhy5Ag6deqkm/7GG2/gn3/+wbFjxx66jOeffx67du3CxYsXYWlZ/BvD999/Hx988EGx6WvXroW1tXXVNoCIiKpNeKIMa6IVsFII/K+1Gjbm5ZsvQwWE3ZLjUIIMalFYqLR00mBgAw28qnCaV2mAg/EyhN2SI1tduNzGdgJDGqrRyK5yyzyRJMPqKDkEZAh102CUnwasrYiIpJOdnY0xY8YgLS0N9vb2Bl2XUY8K+Nlnn2H9+vXYv39/iUUVAMyePRuzZs3S/Z6enq67L8vQySsPlUqFsLAw9OnTB+bm5fwUQVXGvNc85lwappL3XJUacxccApCHF3s3wYiujSo0/1MoHKL9u30x+O10HM7fk+NCqhxDgz3xUi8/+DiVv8JSawS2nr2DBXujcDstFwDg72aD1/oG4NGmbuXqalha3gcCaH3uDl779TyOJclR36c+Ph3agleuqomp7O+1DfMuDea9dBXJjbY3W00waGHl6uoKhUKBhIQEvekJCQnw8PAoc9758+fjs88+w549exAcHFxqO6VSCaVSWWy6ubm5Ue2ExhZPXcG81zzmXBrGnvelh68jPj0P3o5WmNTVD+bmFR9K3dfNHPNHhuDZR/zxVdgVbD8fjy1n7+CvC/EY3aEBZvT0h3sZ90IJIbD/ahI+33EZl+MzAACeDpZ4pU8TPNGmPhSVKH5Kyvvwtg1gZmaGmetPY/Op25DJ5Pj8ieBKLZ9KZuz7e23FvEuDeS9deXJTk7kz6KiAFhYWaNu2Lfbu3aubptFosHfvXr2ugQ/64osv8NFHH2Hnzp1o166dIUMkIiIDS8nKx6J90QCA1/o1gWUliqqi/N1t8cPYtvhzRld0C3CFSi3wy9Hr6D5vH77YeRlp2cX705+9mYrRS//FxOXHcTk+A3aWZnhrQCD2vfYIRrbzqfaiZ0grLywc1RoKuQy/nryFN349BzVHCyQiqtUM3hVw1qxZmDBhAtq1a4cOHTpgwYIFyMrK0o0SOH78eHh7e2Pu3LkAgM8//xzvvfce1q5dC19fX8THxwMAbG1tYWtra+hwiYiomn2zNxIZeQVo4WWPoa28q225Les7YNXkUByNvosvdl3G6Rup+GF/NFb/ex3PPuKHZzr7IiE9D/N3XcFf5+8AACzM5Himsy+ef8QPjtYW1RZLSR5r5QWZDHh5/RlsPnULQgjMG9GKV66IiGopgxdWTz31FJKSkvDee+8hPj4eISEh2LlzJ+rVqwcAuHHjBuTy/y6cLVq0CPn5+XjyySf1ljNnzhy8//77hg6XiIiqUWxyFlb/ex0A8PbAZga516iTnwt+e64z9kQkYv6uK7iSkIEvdl7BTwevIT1HhQKNgEwGPNGmPl7p0wTejlbVHkNpBgd7QQYZXlp/Gr/dfyhybS6ubqZk46uwq2jT0AnjOjaUOhwiohpVI4NXzJgxAzNmzCjxtf379+v9Hhsba/iAiIioRszbfQUFGoEeTdzQxd/VYOuRyWTo07weHg10x9azcfgq7CpupuQAAHo2dcObAwIR6CHNgEaDgj0hkwEvrissrjRC4MuRIbWuuNp27jZmbz6PjLwC/H46DnH3cvBm/6YGe+4YEZGxMepRAYmIyHSdvnEPf527A5kMmD0wsEbWqZDL8Hjr+hjU0gs7LtyBl6MV2vuW/BzEmjSwpSdkKCyutpy5DQHgyxGtYKYw6K3ONSInX40Pt13EuvCbAIDGrjaISc7C4n+ikZGrwkdDgzgqIhHVCaZ/RiciIqMjhMDc7ZcBAE+2qV/jV4sszOQYGuJtFEWV1oCWnvhuTBuYyWX448xtzNp4FgVqjdRhVcmV+AwM+e4Q1oXfhEwGzOjpj92vdMfc4S0hkwFrjt3AKxvPQGXi20lEVB4srIiIqNqFXUpAeGwKLM3lmNW3idThGI3+QR664mrr2dt4xUSLKyEE1hy7jiHfHUJkYibc7JRYMzkUr/VrCjOFHKM7NMDCUa11ReRzq08hV6WWOmwiIoNiYUVERNWqQK3BZzsLr1ZN7toIng41N1iEKegf5IEfxraBuUKGP8/exswNZ0yquErLUeH5Nafwzu8XkFegwSNN3bDj5W7o/MA9dENaeWHJ+LZQmsmxJyIBk1YcR1ZegURRExEZHgsrIiKqVhtO3ERMUhacbSwwvYef1OEYpb4tPPDD2LYwV8iw7dwdvGwixdXJ6/cwcOFB7LgQD3OFDO8MbIZlE9rD1VZZYvtHA+thxcQOsLFQ4Ej0XYz96RhSs/NrOGoioprBwoqIiKpNZl4Bvg6LBAC83CsA9pY198R7U9OneT0sul9c/XXuDl5eb7z3Imk0At/vi8LIH48iLjUHDZyt8euznTG1e+OHDkzRyc8Fa6d2hKO1Oc7cTMWoJf8iMSO3hiIvPyEEzt5MLfEB00RE5cHCioiIqs3SAzFIzsyDr4s1RndoIHU4Rq930eLq/B28vP600RVXiRm5GL8sHPN2XYFaIzCklRf+eqkrWvk4lnsZrXwcsWFaJ7jbKXE5PgMjFx/FrXvZhgu6gm7czcaE5ccx9PvD6L/wACITMqQOiYhMEAsrIiKqFonpuVhyIAYA8Eb/QFiY8S2mPHo3r4fFT7eFhUKO7efj8dI64ymu/rmahIELD+JQVDKszBX44slgLBwVArtKXIls6mGHTc92Qn0nK8TezcaIxUcRnZRpgKjLT6XW4If9Uejz9T84cDUJAHAnLRcjfjyKUzfuSRobEZkevusREVG1+HpPJHJUarRu4IgBQR5Sh2NSejWrhx/HFRZXOy7E48W10hZX+QUazN0egQnLwpGcmY9ADzv8+WIXjGznU6UH/jZ0scGvz3aGv7st7qTlYuTio7h4O60aIy+/k9dTMPibQ/hi5xXkFWjQqbELNj/XGa18HJGarcLYpcfwz/1ii4ioPFhYERFRlUUlZmDD8RsAgLcHNqvSh++6qmegu6642nkxHgMXHsTcHRE4HJVco0OV37ibjRGLj+DH+1cfx3dqiC0vdIG/u121LN/DwRIbpnVEkLc97mblY9SSf3Hyekq1LLs80rJVmP3beTyx6CiuJGTA2cYCX45ohbVTQ9G2oRPWTglFtwBX5KjUmLziOP44E1djsRGRaWNhRUREVfbZjsvQCKBv83pG9VBeU9Mz0B1LxreFlbkCkYmZ+PGfGIz96RhCPtyNCcvC8dPBGFxNyIAQwiDr33r2NgZ9cxBnb6XBwcoci59uiw+HBsHSXFGt63GxVWLt1I5o7+uEjNwCPP1TOA5GGvbqkBACf5yJQ6+v9mNdeOGXACPb1cfeWT3wRNv6ui8DbJRm+HlCezzWygsFGoGZG85gxeFrBo2NiGoHM6kDICIi0/ZvzF3siUiEQi7DmwMCpQ7H5D3S1B2H3uyJQ1HJOHA1GQcjk5CYkYd/riYVdk37KwL17JXo6u+G7k1c0cXftdThzssrO78AH2y9hA0nbgIA2jV0wsLRreHtaLhnkNlbmuOXSaF4dvVJ/HM1CZNXnMA3o1ujvwG6kV6/m4V3t1zAwchkAICfmw0+ebwlOjZ2KbG9hZkcC58KgbO1OVYevY73/7yElKx8vNKnCa/GElGpWFgREZkwlVqDlDzp1q/RCMzdHgEAGN3BB35uttIFU4u42CoxNMQbQ0O8IYTA1YRMHIxMwoHIZByLuYuE9DxsPnULm0/dAgC08LJHtwA3dA9wRVtfJyjNyn+F6XJ8OmasPY2oxEzIZMCLPf3xUq8AmCkM36nFykKBpePbYeaG09h+Ph4vrD2FL54IxhNt61fL8vMLNFh6MAbf7I1EXoEGFmZyvNjTH9N6NH5ojuRyGd4f0gIutkp8FXYV3/wdhbtZ+fhwaBAUDxlinojqJhZWREQm6FpyFjaeuIlfT9xEUqYZTqjO4ZPHW8LR2qJG4/jr/B2cvZUGGwsFXu7VpEbXXVfIZDI09bBDUw87TOnWGLkqNU5ev4cDkUk4eDUZl+6k4+Ltwp/F/0TD0lyO0EYu6Bbgiu5N3BDgblviVRYhBFYfu4GPtl1CfoEG7nZKLBgVgs5+rjW6fRZmcnwzqjVsLM5j08lbeHXTWWTlF2B8J98qLfd4bAre/u08IhMLRx7s4u+Cj4e1RCNXm3IvQyaT4aVeAXCyscB7f1zAmmM3cC87H18/FVKh4pWI6gYWVkRkEtQagRyVGrbKunvaylWpsePCHawPv4lj1/Rv9v/rfDzCY+/hiyeC0TPQvUbiyStQ44tdlwEA03v4wc2uat3RqHwszRXo4l/YBXD2ACApIw+Ho5JxIDIJhyKTS+w22C3ADd0CXNHV3xUutkqkZavwxuaz2HUxAQDQs6kb5o9oBZcqdimsLDOFHJ8/EQxbSzMsPxyL9/64iIzcAjz/iF+Fu96lZufjsx2Xsf54YbdGFxsL/G9wcwwN8ap0N75xHRvC2dpCd2UtLec4fhzXrk6fj4ioOJ4RiMjonb2ZimmrTiAhPQ/2lmbwdrKGt6MV6jtZwcvREt6O1vB2soK3oxVcbS1q3T0QF+LSsPHETfx+Og4ZuQUAALkM6NHEDU+28ULk+ZPYGu+AmOQsTFxxHKPa++CdQc0q9ayhilj97w3cTMmBu50SU7o1Mui6qHRudkoMa+2NYa1L7zb468lb+PXkf90G72Xl43ZaLswVMrzZPxCTuzaS/LiRy2V4b3Bz2Fma45u9kZi36wrSc1V4q39guWIrHJziNj7adgl3s/IBAKPa++CtAYHVciV3ULAnHKzMMX3VCRyOuovRS/7FiontJStGiYxdrkpd7QPfGDsWVkRk1I5EJ2PqyhPIyi8cbjo9twDpd9IRcSe9xPYWZnJ4O1rpfrwcrXRFV30nK9SztzSJB9em5aiw9extbDh+Axfi/tvW+k5WeKqdD55sVx+eDlZQqVQoiAX+GN4RC/+Owc+Hr2H98Zs4GJmM+SNaoZNfyTfnV0d83/4dCQCY1acJrC34dmIMSuo2eCL2Hg5G6XcbBICGLtb4bnQbtKzvIHHU/5HJZJjVpwnsLc3w8V8R+PGfGGTkFuCjh9zXFJtcODjFoajCwSkC3G3xyeMt0aFR9Y5Q2TXAFeumdcQzy4/jfFwaRiw+il8md0B9J+tqXQ+RqdJoBI5E38Xa8OsIv3YPh97sWaeKK74TEpHRCruUgBfWnkJ+gQad/VywYFQIUrNViLuXg7jU+z/3/387NQcJ6bnIL9DgWnIWriVnlbhMmQyoZ2epK7a0hVd9Jys0rWcHTwdLyb65F0LgeOw9rD9+A9vP30GuqvABsRYKOfq2qIdR7Rugs58L5CV8wLQ0V+Ddwc3Ru3k9vLbpLG7dy8Hopf9iYhdfvNk/sNrf2H7YH4XUbBUC3G3xZDUNNEDVz9Jcga4BrugaoN9tMCNXhWGtvQ1+VbOypnRrDFulGWb/fh5rj91AVl4B5o9oVaxdfoEGP/4TjW/3RSG/QAOlmRwv9QrA1G6NDfYFSnB9R2x6thPG/xyOmOQsPLHoCFZNDkWTetXznC8iU5ScWXhlfF34DVy/m62bfjgqGb2a1ZMwsprFwoqIjNLvp2/htU3noNYI9GleD9+Obg1LcwXc7SxL/QCjUmsQn5aLW/cKCy1t4XU77b8CLK9Ag/j0XMSn5+Lk9XvFluFgZY5ADzs087RHM087BHrYo0k9O1hZGO4bt6SMwhHeNh6/iZgiBWGTerZ4qn0DPN7aG8425evK1LGxC3bO7I5P/orAuvAbWH44Fv9cTcKXI1qhdQOnaok3LjUHyw/HAgDeGhBYI6PHUfXQdhs0BaM6NICN0gyvbDiDP87cRlZeARaMaKl7PfxaCt7+/Tyi7g9O0S3AFR8NDYJvBQanqCw/N1tsfq4zxv18DJGJmRix+CiWPdMebRtWzzFWFwghcCUhAzvOx+NwVDIGB3vimS7sUmxKNBqBf2PuYk34Dey+GA+VuvD5enZKMwxr7Y3RHRqguZe9xFHWLBZWRGR0Vh6JxZytFwEAw9t444sngsv14d1cIYePszV8nEvuliOEQHJmvl7Rpb3ydf1uFmKSspCWo8Kxayl6g0PIZYCvq01hseVRWGw187KHVxWubqk1AgeuJmH98RvYG5GIAk3hG5K1hQJDWnnhqfY+CPFxrNTybZVmmDu8Jfq2qIc3fz2HmKTCb9Wfe8QPL/dqUuVv8r/cfQX5BRp0bOyMR2tooAyqmx5r5QUbpQLPrT6FPRGJmLLqFPo5AW9vuYhNJ+MAAK62hYNTDGlV+cEpKsPDwRKbnu2ESSuO49SNVIz96V8serotejblMVEaIQTOx6Vhx4V47LwQr9ez4MT1e0jNUeHlXgGS3+9HZbtb5OpUbJGrU618HDG2QwMMbuVZZ7uH182tJiKjJITAd39H4cuwqwCAZzr74r3BzUvs+lYZMpkMbnZKuNkp0crHsdjreQVqRCdmIeJOOi7HpyPiTgYi7qTjblY+YpIKC6+/zt3Rtbe3NEOgttjytEczT3s0qWdb5hvKzZRsbDxxE5tO3EJ8eq5uepsGjniqvQ8GBXtV20hjPZu6Y/cr3fH+1ovYcuY2vt8Xjb8vJ+Grka3QzLNy3yJevJ2G308XfqB9e2AzfgAig3s0sB5WTuqAySuO499r93DsmgIChfvg6A4N8Fb/QDhYS9Ol0dHaAqunhOL5Naew/0oSpq48gfkjWpnMVcGaoNEInL55D9vPFxZTcak5utcszOToHuAKDwdLrP73BhbsiUSuSoM3+zflucXICCHwb0wK1obfwK4L8chXF3ZVt1WaYWiIF8aENkALL+O5X1MqLKyIyCgIIfDJXxH46dA1AMDLvQIws3fNfnOpNFOguZd9sa4LSRl5xYqt6KRMpOcWIPxaCsKLXN2SyYBGLjYIvN+NUFtsnbuVhg3Hb+purgcAJ2tzDG9TH0+19zHY/RmO1hZYMKo1+rbwwDu/n0fEnXQM+e4QZvZugundG1e4G99nOy5DCGBIKy8E13c0SMxED+rY2AVrp3bEhGXhSM1RIcDdBnOHB6Odb/UOTlEZ1hZmWDq+HV7fdBZbztzGzA1nkJKVj0ld6263tgK1BuGxKdh5IR67LsYjIf2/p5hbmSvQM9AN/YM88Wigu+6LpEautvho2yUs/icauSo15jzWnMWVEUjJysfm+1eninZVD67vgDEdGty/qsxyQouZICLJqTUCs387h40nCoeDfm9wc6P6UFJ4lcsN3Zu46ablF2gQnZR5v+AqLLYi7mQgOTMPMclZiEnOwvbz8cWWJZMBXf1d8VR7H/RpXq/GHjI6sKUn2vs6Y/Zv57EnIgHzdl3BnogEfDmiFRq72ZZrGf9cTcLByGSYK2R4vV9TA0dMpK+VjyO2PN8RK/7cj9dHd4KNlfEMc26ukOOrkSFwsrHA8sOx+HDbJaRk5ePVvk3qTHGQX6DBkehk7LwQj92XEpByf8h7oPCem17N3NE/yBM9mriVeM/q5K6NoDST490tF7DiSCzyCjT4ZFhQtfVYoPITQuDYtRSsC7+BHef/uzplY6HA0NbeGNOhAYK8eXWqJCysiEhSeQVqzFx/BjsuxEMuAz5/Ihgj2vlIHdZDWZjJ7w9wUfzq1uX4dFy+f2UrIj4DUYkZcLVVYkQ7H4xoW7/Ue8AMzc1OiaXj22LzqTh8sPUiTt9IxcBvDuLN/oGY0Mm3zA8wao3A3O0RAIDxnXwl2waq27wdrdDaRRjlIxO0z+FytVVi3q4r+G5fFO5m5ePjYWUPFW/KclVqHIxMxo4Ld7DnUgLS7z9nDwAcrc3Rp1k9DGjpgS7+ruX6Eunpjg2hNJPjzc3nsC78RuFDyMt5jy1VXWp2vu7eqeik/65OBXnbY0yHhhgSUn1d1WsrZoeIJJOdX4Dpq07iYGQyLBRyfDM6BP2DPKUOq0q0V7e6Bfx3dUutEZDLYBTfXMtkMjzZtj46+bngjV/P4nDUXXzw5yXsvpiAeSOCS30ez++n43A5PgP2lmZ48VH/Go6ayDTIZDK80NMfzjYWeOf381gXfgP3svKxYFRIrXmWT3Z+AfZdTsKOC3ew73Ki7hmDAOBqq0S/FvUwIMgToY2dYV6JgmhEOx8ozRV4ZcMZ/HYqDnkFGix4KqRSy6KH0z7mY134Dfx1/g7yCwqvTllbKDA0xAujOzRgt+8KYGFFRJJIy1Zh0srjOHn9HqwtFFgyrh26BrhKHZZBGOO31d6OVlg1KRSrj13H3O2XcTTmLvovOIj3BjfHiHb19YrAXJUaX+6+AgB4oac/HK3LN/Q7UV01ukMDOFmb46V1Z7DzYjwmLj+OJePbGu1zw0ojhEB6TgHiU7NwIkmGbWvP4EBkMvLuf/gGAE8HS/QP8sCAIE+0behULee7Ia28YKGQ48V1p/DXucIP+9+NaV1jXafrglyVGuvCb2DtsRuIvP/IAgBo7mmPMaENMDTEy+T2V2PAwoqIalxiRi7G/xyuuwKyYlIHtKmmZyxR+cnlMozv5ItuAW54bdNZnLx+D29sPoddF+Mxd3hLuNtbAgCWHb6GO2m58Ha0woTOvtIGTWQi+gd5YsUkc0z75SSOxtzF6KX/YsXEDnC1le7eMCEEsvLVSMnMR3JWHu5m5iMlKw/Jmfm6/9/Nyr//ex5SsvJ1j4IAFAASAQANnK0xIMgD/YM80Kq+o0Hug+of5IEl49ph+uqTCLuUgGm/nMSP49rWmit/Utp3ORFztl7EjZTCodKtzAsf8zEmtAGC6zsYRe8KU8XCiohq1M2UbIz7+Rhi72bDzU6JVZM7INCjbj1A0Ng0crXBxumdsPRgDL7afRV7Lyei74ID+HhYEDo1dsGifdEAgNf6NeGHGqIK6OznivXTCkczvBCXjv4LDqKBsxXMFXJYmMlhoZDr/v/fNJnu96Lt/psmKzat8F8Z0nMLcLdIUZScmY+7WYX/v5uZj+TMPL2rTeVlqzSDvUKFYe39MKiVF5p72tfIh++ege5Y/kx7TFl5Av9cTcLE5cfx04R2HIWukm7dy8aHf17C7ksJAAAPe0u80NMPQ1t7w55Xp6oF90wiqjFRiRl4+qdwxKfnor6TFVZPDoWvq43UYREKuys+28MPjzR1w6wNZ3HpTjpmrD0Nb0crZOQVoIWXPYa24rN5iCoqyNsBvz7XGeN+PoZb93KQnJn38JkMzNJcDldbJVxsLOBy/19nWwu42ijhYmsBZxuLwtfv/18uNNi+fTsG9vaHuXnNfgDv4u+KlZM6YNKK4zgacxcTloVj2cT2LAQqIL9Ag6UHY/Dt34XPCTOTyzCpayO81CuAg1FUM2aTiGrEuVupmLAsHPeyVfB3t8XqyaHwcLCUOix6QKCHPba80AXf/R2J7/dH6x7m+fbAZhz2mKiSGrnaYNfM7jhx/R7yVGqo1AL5ajVUBQJ5ag1UBRrk3/9Xpdbcn/Zfm3z1f6/nqwvb5BdokK8WyL8/j0qtga3SDC62SrjaFBZELveLo6IFlIutRZkPMS+JSlXxq1zVqUMjZ6yeEorxPx/Diev3MO6nY1g5qQPv9yyHQ5HJeG/rBcTcH+UvtJEzPhoWZLBnJ9Z1LKyIyOD+jbmLKStPIDOvAMH1HbBiYgc42/AN0VhZmMkxq29T9GpWD3N3RKC5pwO6+NfOgUWIaoqN0gw9ijwLjyomxMcRa6d2xLifj+HsrTSMXnoMqyd3gIuE96wZs/i0XHz01yX8de4OgMIRG98d1AxDQ7x4D5UBsbAiIoPaG5GA59ecQl6BBh0bO2Pp+HYcachEtPJxxPppnaQOg4gIQGG3yg3TO2HM0mOIuJOOp5b8i7VTQnUD7RCgUmuw4nAsFuy5iqx8NeSywmcPzurbhN0nawAfCkBEBvPHmThMX3USeQUa9G7mjhUTO7CoIiKiSmtSzw4bp3eEp4MlohIzMfLHo7ouy3XdsZi7GPTNQXyyPQJZ+Wq0aeCIP1/siveHtGBRVUNYWBGRQaz69zpmbjiDAo3A4629sehpDpNLRERV19jNFhund0J9JyvE3s3GyMVHceNuttRhSSYxIxevbDiDp5b8i6sJmXC2scAXTwbj12c7o4WXg9Th1SksrIioWgkh8P2+KPxvywUIAYzv1BBfjmgFcwVPN0REVD18nK2xcXonNHK1QVxqDkb+eBTRSZkPn7EWKVBrsOLwNfSa/w9+Px0HmQwYG9oAf7/aAyPb+XDAIQnwkw4RVRshgC92R2LerisAgBcf9ccHQ1rw5E5ERNXOy9EKG6Z1RIC7LeLTc/HUj//iSnyG1GHViJPX72HId4fx/p+XkHF/YKgtz3fBJ4+35GiJEuLgFURULdQagQ0xchxNjAUAvDuoGaZ0ayxtUEREVKu521ti/bSOGPdzOC7dSceoJUexanIogryrvwucEAKxd7Nx7lYqzt9Kw7lbabiSkAFnGwv4udnC313/xxDPiErJysdnOyKw8cQtAICDlTle79cUozs0gIJfYkqOhRURVZkQAnP+jMDRRDnkMuCz4cEY2d5H6rCIiKgOcLFVYt3Ujhi/TDsU+7/4ZVIHtG7gVOllCiEQl5qD87fScPZWGs7HFRZT6bkFxdqm5ahwLTkLeyIS9KZ7OljC3922WNHlYmNR4SHPNRqBdcdv4IudV5CWowIAjGxXH2/2D+SQ80aEhRURVdkvR69jw4lbkEHg6xGtMLQNiyoiIqo5DtbmWD0lFJNWHMfx2Ht4+qdjWD6xAzo0ci7X/InpuYUF1K1UnItLw/lbabiblV+snYWZHC287BHs7YCW9R3R3NMeqdn5iEzMRJT2JykTSRl5uJOWiztpuTgYmay3DCdrc12RVbTo8nKwKrHr/Pm4NHyw7TLO3koDADTztMfHw1qgbcPybRvVHBZWRFQlh6OS8eG2SwCAxxpoMLClh8QRERFRXWRnaY6VkzpgysoTOBJ9FxOWhWPp+HboGqD/gPOUrHxddz7t1aiE9LxiyzOTyxDoaYeW3o5oVd8BLes7oEk9uxIHY+r8wEPU07JViErKRFRihl7BdeteDu5lq3A89h6Ox97Tm8faQqFXaPk6W2JjjBxH/j0GIQA7pRlm9W2CcR0bwowDQhklFlZEVGnXkrPw/JpTUGsEhrXyxCNWN6UOiYiI6jBrCzMse6Y9nl19EvuvJGHSyuP43+DmyMwtwPm4VJy7lYZb94o/90ouK3xGVktvBwTXL7waFehhV+nHhDhYm6NtQye0bajfHTEnX42Y5CJXt+7/xN7NQna+Gufj0nA+Lq1oZACAYSFeeHtgMz4M2cixsCKiSknPVWHKyuNIy1EhxMcRHw9tjr1hLKyIiEhaluYK/DiuLV5cexq7LyXgf1suFGvT2M1G152vVX0HNPeyh7WF4T8WW1ko0MLLodjzpVRqDW6kZCMyIRPRSYXFVmRCBnIy0vDBiPbo2qSewWOjqmNhRUQVptYIvLTuNKKTsuBhb4kl49pCyYf/EhGRkVCaKfD92Db435YLOHYtBc097e9fiXJAkLcD7C3NpQ5Rj7lCDj+3wnuutFQqFbZv347Qct4nRtJjYUVEFfb5zsvYfyUJSjM5loxvC3d7S6hUKqnDIiIi0jFXyPHZE8FSh0F1CO98I6IK+fXkLSw5EAMAmD+iFYLrO0obEBEREZERYGFFROV28vo9vP3beQDAjJ7+eKyVl8QRERERERkHFlZEVC63U3MwfdVJ5Ks16Nu8Hmb1aSJ1SERERERGg4UVET1UTr4a01adQHJmHgI97PD1UyElPsSQiIiIqK5iYUVEZRJC4PVfz+JCXDqcbSywdHw72Cg57g0RERFRUTVSWH3//ffw9fWFpaUlQkNDER4eXmrbixcv4oknnoCvry9kMhkWLFhQEyESUSm++zsK287dgZlchkVj28DH2VrqkIiIiIiMjsELqw0bNmDWrFmYM2cOTp06hVatWqFfv35ITEwssX12djYaN26Mzz77DB4eHoYOj4jKsPNCPL4MuwoA+GhYEEIbu0gcEREREZFxMnhh9dVXX2Hq1KmYOHEimjdvjsWLF8Pa2hrLli0rsX379u0xb948jBo1Ckql0tDhEVEpIu6kY9bGMwCAZzr7YnSHBtIGRERERGTEDHqjRH5+Pk6ePInZs2frpsnlcvTu3RtHjx6tlnXk5eUhLy9P93t6ejqAwqdVG8MDS7UxGEMsdQnzXjV3M/MwZeVxZOer0bmxM97s6//QXDLn0mDepcG8S4N5lwbzLg3mvXQVyU1N5s+ghVVycjLUajXq1aunN71evXq4fPlytaxj7ty5+OCDD4pN3717N6ytjedekLCwMKlDqJOY94or0AA/XFIgLkMGV0uBwc6J2L1rZ7nnZ86lwbxLg3mXBvMuDeZdGsx76cqTm+zs7BqIpJDJD+01e/ZszJo1S/d7eno6fHx80LdvX9jb20sYWSGVSoWwsDD06dMH5ubmUodTZzDvlSOEwLt/XEJ0RhxslWZYNbUD/N1tyzUvcy4N5l0azLs0mHdpMO/SYN5LV5HcaHuz1QSDFlaurq5QKBRISEjQm56QkFBtA1MolcoS78UyNzc3qp3Q2OKpK5j3ill++Bo2noyDTAZ8O7o1mnk7VXgZzLk0mHdpMO/SYN6lwbxLg3kvXXlyU5O5M+jgFRYWFmjbti327t2rm6bRaLB371506tTJkKsmogo6GJmEj7ZdAgDMHhCInoHuEkdEREREZDoM3hVw1qxZmDBhAtq1a4cOHTpgwYIFyMrKwsSJEwEA48ePh7e3N+bOnQugcMCLS5cu6f4fFxeHM2fOwNbWFv7+/oYOl6hOupachRfWnIJGAMPbeGNqt8ZSh0RERERkUgxeWD311FNISkrCe++9h/j4eISEhGDnzp26AS1u3LgBufy/C2e3b99G69atdb/Pnz8f8+fPR48ePbB//35Dh0tU56TnqjBl5XGk5xagdQNHfPp4S8hkMqnDIiIiIjIpNTJ4xYwZMzBjxowSX3uwWPL19YUQogaiIiK1RuDFtacRnZQFTwdL/DiuLSzNFVKHRURERGRyDP6AYCIyXp/tiMA/V5NgaS7H0vHt4G5nKXVIRERERCaJhRVRHfXryVtYevAaAGD+iFYI8naQOCIiIiIi08XCiqgOOnk9BW//dh4A8OKj/hgc7CVxRERERESmjYUVUR1zOzUH01edQr5ag34t6uGV3k2kDomIiIjI5LGwIqpDsvMLMPWXE0jOzEOghx2+GhkCuZwjABIRERFVFQsrojpCoxF4fdM5XLydDmcbCywd3w42yhoZGJSIiIio1mNhRVQHCCHw8V8R+Ov8HZgrZFj8dFv4OFtLHRYRERFRrcHCiqgO+PFADJYdLhwB8Isng9GhkbPEERERERHVLiysiGq5TSdu4rMdlwEA7w5qhsdb15c4IiIiIqLah4UVUS329+UEvHV/WPXp3RtjSrfGEkdEREREVDuxsCKqpU5eT8Hza05BrREY3sYbb/YPlDokIiIiolqLhRVRLRSZkIFJK04gV6XBI03d8PkTwRxWnYiIiMiAWFgR1TK3U3Mwflk40nJUCPFxxA9j28BcwUOdiIiIyJD4aYuoFknNzsf4ZeG4k5YLPzcbLH+mPawt+KwqIiIiIkNjYUVUS+TkqzFpxXFEJWbCw94Sv0wOhZONhdRhEREREdUJLKyIagGVWoMX1p7CqRupsLc0wy+TO8Db0UrqsIiIiIjqDBZWRCZOCIHZv53H35cToTSTY9kz7dGknp3UYRERERHVKSysiEzcF7uu4NeTt6CQy/D9mDZo5+ssdUhEREREdQ4LKyIT9vOha1i0PxoAMPfxlujdvJ7EERERERHVTSysiEzUH2fi8NG2SwCA1/s1xcj2PhJHRERERFR3sbAiMkEHribhtU1nAQDPdPbF84/4SRwRERERUd3GworIxJy9mYpnV5+ESi0wONgT7w1uDplMJnVYRERERHUaCysiExKTlImJK44jO1+Nrv6u+HJkK8jlLKqIiIiIpMbCishEJKTnYvyycKRk5aOltwMWj2sLpZlC6rCIiIiICCysiExCWo4KE5aF49a9HPi6WGP5xPawVZpJHRYRERER3cfCisjI5arUmPrLCVyOz4CbnRKrJofC1VYpdVhEREREVAQLKyIjptYIvLz+NMKvpcBOaYYVE9vDx9la6rCIiIiI6AEsrIiMlBAC7265gF0XE2ChkGPJ+HZo4eUgdVhEREREVAIWVkRGasGeSKwLvwGZDFg4KgSd/FykDomIiIiISsHCisgIrfr3OhbujQQAfDQ0CANaekocERERERGVhYUVkZHZfv4O3vvjAgDg5V4BeLpjQ4kjIiIiIqKHYWFFZESORCVj5vozEAIYE9oAM3sHSB0SEREREZUDCysiI3E8NgWTV55AvlqDfi3q4aOhQZDJZFKHRURERETlwMKKyAicvnEPE5cfR45KjW4Brlg4qjUUchZVRERERKaChRWRxC7EpWH8snBk5hWgU2MXLB3fDpbmCqnDIiIiIqIKYGFFJKGIO+l4+udjyMgtQHtfJ/z8DIsqIiIiIlPEwopIIlGJGXj6p2NIzVYhxMcRy55pD2sLM6nDIiIiIqJKYGFFJIFryVkYs/QY7mblI8jbHisndYCdpbnUYRERERFRJbGwIqphN1OyMWbpv0jMyEOghx1WTQqFgxWLKiIiIiJTxsKKqAbFpeZg9NJ/cSctF/7utlg9JRRONhZSh0VEREREVcTCiqiGJKTnYszSf3HrXg58XayxdkooXG2VUodFRERERNWAhRVRDUjKyMOYpf/i+t1s+DhbYe3UjnC3t5Q6LCIiIiKqJiysiAwsJSsfT/90DNFJWfBysMTaKR3h5WgldVhEREREVI1YWBEZUFq2Ck//dAxXEjLgbqfE2qkd4eNsLXVYRERERFTNWFgRGUh6rgrjlx3DpTvpcLW1wNqpHeHraiN1WERERERkACysiAwgK68AE5cfx9lbaXCyNseaKR3h724rdVhEREREZCAsrIiqWU6+GpNXHsfJ6/dgb2mGVZND0dTDTuqwiIiIiMiAWFgRVaNclRrTVp3AvzEpsFWa4ZfJoQjydpA6LCIiIiIyMBZWRNUkv0CD59ecwsHIZFhbKLBiYnuE+DhKHRYRERER1QAWVkTVQKXWYMbaU/j7ciIszeX4eUJ7tPN1ljosIiIiIqohNVJYff/99/D19YWlpSVCQ0MRHh5eZvtNmzYhMDAQlpaWaNmyJbZv314TYRJVSoFag5kbzmD3pQRYmMmxdHw7dPJzkTosIiIiIqpBZoZewYYNGzBr1iwsXrwYoaGhWLBgAfr164crV67A3d29WPsjR45g9OjRmDt3LgYPHoy1a9di2LBhOHXqFIKCgsq93qysLCgUimLTFQoFLC0t9dqVRi6Xw8rKqlJts7OzIYSASqVCbm4usrKyYG5uDgCQyWSwtrYu1rYkD7bNycmBRqMpNQ4bG5tKtc3NzYVara6WttbW1pDJZACAvLw8FBQUVEtbKysryOWF3wXk5+dDpVKV2tbM7L9d+2FtLS0tdftKRdqqVCrk5Obhnd/O48+zt2GukOHrkSFo42WNrKwsKJVKXRwqlQr5+fmlLrdo24KCAuTl5ZXa1sLCQrcvVaStWq1Gbm5uqW3Nzc1hYWFR4bYajQY5OTkl7uultS2NmZkZlEolAEAIgezs7GppW5HjvqbPESWpyDniwWOG54jynSMq0rakc0Rp+/uD54jyHvd14RxRHW2LHgc8R9Tc54jS9neeIwpV5XNEWce9dv3laVvXzhGl7ZMlHfdlHXfVThhYhw4dxAsvvKD7Xa1WCy8vLzF37twS248cOVIMGjRIb1poaKiYPn16ie1zc3NFWlqa7ufmzZsCQKk/AwYMEPn5+bofa2vrUtt2795dr62rq2upbdu2bavXtmHDhqW2bdasmV7bZs2aldq2YcOGem3btm1baltXV1e9tt27dy+1rbW1tV7bAQMGlJm3om2HDx9eZtt79+7p2o4bN67MtnFxcbq2zz77bJltr169qms7a9asMtseP35cbNmyRWRlZYl33323zLZHjhzRLXfu3Llltg0LC9O1XbBgQZltt2zZomv7008/ldl27dq1urZr164ts+1PP/2ka7tly5Yy2y5cuFDXNiwsrMy2c+fO1bU9cuRImW3fffddXdvTp0+X2XbWrFm6tlevXi2z7bPPPqtrGxcXV2bbcePG6dreu3evzLbDhw/X24fLamtq54gGDRro9nWeI8p/jjh9+rSuraHOEQsXLiyzLc8RhT8VOUdMmzZNt7/zHMHPEUDtPkds3rxZt7/zHFH1zxFpaWnVV+CUwqBXrPLz83Hy5EnMnj1bN00ul6N37944evRoifMcPXoUs2bN0pvWr18/bNmypcT2c+fOxQcffFDumBITE/W6Fpb1jcndu3f12uaX8U1BWlqaXtuyvhnLzMzUa5uZmVlq2+zsbL22aWlppbbNz8/Xa3v37t1S26rVar22iYmJpbYFoNc2Pj6+zLa7du3SfZt369atMtvu2bMHDg4OAIDr16+X2Xbfvn2oV68eACAmJqbMtkePHkWDBg0QFhaGyMjIMtsePnxYt/2XL18us+2///6LrKwsCAGsPhBRZtsTJ07o/n/27Nky254+fVr3jeLp06fLbHv27Fnd36PoOkpy8eJFXdvz58+X2fby5cu6tg/LWWRkpK7tjRs3ymwbExOja5uQkFBm2+vXr+valrWvA4X7lrZtWd+KAYX7bHm7FJvaOUL7LV9YWJhuPaXhOeI/Bw8e1C3PEOcIoPD4KwvPEYUqco64efMmgML9necIfo4Aavc54vTp02jXrh3CwsJ4jjDA5whDkAlRyrXjanD79m14e3vjyJEj6NSpk276G2+8gX/++QfHjh0rNo+FhQVWrlyJ0aNH66b98MMP+OCDD0pMZl5ent4lzPT0dPj4+OD69euwt7cv1l6KroB///03Hn30UXYFrGLbinYF3Lt3L/r06aP7O5Smopfw5XI55u68imUHowFNAT4e2hyPBXsWa1vXuvmUtK+X1rY07ApYqKJdAQ8fPow+ffrA3Nyc54ga7ApY0v7OroDF21Z3V8ADBw6gT58+MDMz4zmiEm0r2xWwpP2d54hChuwKuG/fPvTp00e37NLUtXNEaftkScd9eno6GjZsiLS0tBJrg+pk8HusDE2pVOoSWJSjo2O5kufo6FjudVWkrfbbE5VKBUtLSzg6Our94UtqWx6lLYNt9WlPaubm5tUew/xdV7D8yHXIFGb4bERrjOrQoFzLLfrG9rC2Rd9cq7Nt0Q8D1dUWKDwOy7Ova9uWl/ZEWt1tDXXcV+YcUdW2D+7rpnB81oa25dnfK3rc1/ZzRHW0fXB/5zmi4m0Nub8bMoba2ras4/7B/Z3niP/alvczh4WFhd69aoZm0DW5urpCoVAUu9KUkJAADw+PEufx8PCoUHuimnQlPgPf7YsCAHw4tEW5iioiIiIiqv0MWlhZWFigbdu22Lt3r26aRqPB3r179boGFtWpUye99kBhX+rS2hPVpCUHCvtkDwjywPhOvtIGQ0RERERGw+BdAWfNmoUJEyagXbt26NChAxYsWICsrCxMnDgRADB+/Hh4e3tj7ty5AICXX34ZPXr0wJdffolBgwZh/fr1OHHiBJYsWWLoUInKFJ+Wi61n4wAA07o3ljgaIiIiIjImBi+snnrqKSQlJeG9995DfHw8QkJCsHPnTt2oLDdu3NDr+9i5c2esXbsW7777Lt5++20EBARgy5YtFXqGFZEhLD9yDSq1QAdfZ7Ru4CR1OERERERkRGpk8IoZM2ZgxowZJb62f//+YtNGjBiBESNGGDgqovLLyFVh7b+Fw4HyahURERERPajmhsmganchLg0nYlOkDqNOWB9+Exl5BfBzs8Gjge5Sh0NERERERoaFlYkqUGvw9M/HMHrpv7iTVvrY/1R1KrUGyw5fAwBM7dYYcrlM4oiIiIiIyNiwsDJRN1KykZqtgkotcDAyWepwarVt527jTlouXG2VGNbaW+pwiIiIiMgIsbAyUVGJmbr/H4liYWUoQgj8+E/hEOsTu/jC0lwhcUREREREZIxYWJmoyCKF1aGouxBCSBhN7XUwMhmX4zNgbaHA2FA+DJiIiIiISsbCykQVvWKVnJmHqwmZZbSmytI+EHhkOx84WltIHA0RERERGSsWViYqMjEDAKA0K/wTHmZ3wGp38XYaDkUlQyGXYXLXRlKHQ0RERERGjIWVCdJoBKITswAAj98fTIGFVfVbev9q1cCWnvBxtpY4GiIiIiIyZiysTFBcag5yVGpYKOQY3aHwvp9/Y+5CpdZIHFntEZeagz/P3QEATOcDgYmIiIjoIVhYmSDt/VWNXG3Q0tsBjtbmyMpX49ytVGkDq0WWHboGtUags58LgrwdpA6HiIiIiIwcCysTpC2s/OvZQi6XoYufKwDgUORdKcOqNdJyVFgffgMAMJVXq4iIiIioHFhYmSDtwBUB7rYAgC7+hYUV77OqHmuP3UBWvhpN69nhkSZuUodDRERERCaAhZUJ0j7Dyl9XWLkAAE7fvIesvALJ4qoN8grUWH74GoDCq1UymUziiIiIiIjIFLCwMjFCCETdf2ZVgLsdAKCBszXqO1lBpRYIj02RMjyT98eZ20jMyEM9eyWGtPKSOhwiIiIiMhEsrExMYkYeMvIKoJDL4OtaOAS4TCZDV213wEh2B6wsIYRuiPWJXRrBwoyHBxERERGVDz85mpjI+1erGrpYQ2mm0E3vrC2sojmARWXtv5KEyMRM2CrNMCa0gdThEBEREZEJYWFlYrQDV/i72epN7+xXeJ9VxJ10JGfm1XhctcGPB6IBAKM7+MDe0lziaIiIiIjIlLCwMjHaodYD6ukXVq62SjTztAcAHOFVqwo7dysV/8akwEwuw8QujaQOh4iIiIhMDAsrE6MdEVA7cEVRXe5fteJ9VhW35P69VY+18oKXo5XE0RARERGRqWFhZWKiHhhqvaguAfcfFByVDCFEjcZlym6mZGP7+TsAgKnd+EBgIiIiIqo4FlYm5G5mHlKy8iGTAX5uxQurDr7OMFfIEJeagxsp2RJEaJp+PnQNGgF0C3BFcy97qcMhIiIiIhPEwsqEaK9W1XeygpWFotjrNkoztG7gBKDwqhU93L2sfGw4fhMAML27n8TREBEREZGpYmFlQsq6v0qri19hd8AjURzAojzWHLuOHJUazT3t0cXfRepwiIiIiMhEsbAyIWXdX6XVNeD+ABbRydBoeJ9VWXJVaqw4ch0AMK17Y8hkMokjIiIiIiJTxcLKhJSnsAqu7whbpRlSs1W4dCe9pkIzSb+fjkNyZh68HCwxKNhT6nCIiIiIyISxsDIh2ocDB5RRWJkr5Aht5AwAOMz7rEql0QgsPVg4xPqkro1gruChQERERESVx0+TJiItR4WE9DwAgF8ZhRUAdPH/b9h1Ktney4mIScqCnaUZRnVoIHU4RERERGTiWFiZCG03QA97S9hbmpfZtuv951kdj01BXoHa4LGZoiUHogEAY0MbwlZpJnE0RERERGTqWFiZiGjtiID1yr5aBRR2FXSzUyJXpcGp66kGjsz0nLpxD8dj78FcIcPELr5Sh0NEREREtQALKxOhvb+qpAcDP0gmk6GL3/3RAdkdsJgl/xTeWzUsxBv17C0ljoaIiIiIagMWViYisgJXrADeZ1Wa2OQs7LoUDwCY2r2xxNEQERERUW3BwspERJXj4cBFaQurc7dSkZajMlhcpuanQzEQAujZ1A1N6pUvl0RERERED8PCygRk5xfg1r0cAGUPtV6Ul6MVGrvaQCOAYzF3DRmeybibmYdNJ24BAKZ195M4GiIiIiKqTVhYmYDoxCwAgIuNBZxsLMo9n/aqFe+zKvTL0evIK9AguL4DOjZ2ljocIiIiIqpFWFiZAO3AFf7lvFqlxfus/pOTr8aqf68DAKZ2awyZTCZxRERERERUm7CwMgFRFRy4QqtTYxfIZUB0Uhbi03INEZrJ+PXULaRk5aO+kxUGBHlIHQ4RERER1TIsrEyAdkRA/3IMtV6Ug7U5Wno7AKjb3QHVGoGfDhYOsT6layOYKbjbExEREVH14idME/DfFauKj2LH+6yA3Rfjcf1uNhytzTGyvY/U4RARERFRLcTCysjlFahx/W7h4BXlHRGwqK7awio6GUKIao3NFAgh8OOBwqtV4zo2hLWFmcQREREREVFtxMLKyF1LzoJGAPaWZnCzU1Z4/jYNnaA0kyMhPQ/RSZkGiNC4nbyRijM3U2FhJsf4Tr5Sh0NEREREtRQLKyMXmXD//ip320qNZGdprkB738KhxQ9F1r3ugD8digUAPNHGu1KFKRERERFRebCwMnLagSsC3Ct+f5WW7j6r6Lr1oOCEHGDv5STIZMCUbo2lDoeIiIiIajEWVkYuupJDrRfVxd8FAPBv9F0UqDXVEpcp2He7cPfu3awe/Co4oiIRERERUUWwsDJy2ocD+1Vi4AqtFl4OcLAyR0ZeAc7FpVVXaEYtOTMPx5MKu05O686rVURERERkWCysjFiBWoNryZUfEVBLIZehs1/hVavDdeQ+q1/+vYECIUOIjwPaNXSSOhwiIiIiquVYWBmx6ynZUKkFrC0U8HKwqtKyOhcZdr22y8orwNrwmwCAKV18KzXoBxERERFRRbCwMmJFRwSUy6tWHGifZ3Xqeiqy8wuqHJuxyitQ4/2tF5GWUwBXS4HezdylDomIiIiI6gAWVkYs6v79Vf7VMPCCr4s1vB2tkK/W4HjsvSovzxjdupeNkYuPYtPJWwCAQT4aKKpYkBIRERERlQcLKyOmHWrdvwojAmrJZDLd6IBHompfd8D9VxIx+NtDOHsrDQ5W5lg6rjXauAqpwyIiIiKiOsJghVVKSgrGjh0Le3t7ODo6YvLkycjMzCxzniVLluCRRx6Bvb09ZDIZUlNTDRWeSYiqhmdYFaV9ntWhWlRYqTUCX4ddxcQVx5GarUJLbwdse7ErHmniJnVoRERERFSHGKywGjt2LC5evIiwsDBs27YNBw4cwLRp08qcJzs7G/3798fbb79tqLBMhlojdIWVfxVGBCyqs19hYXXxdjpSsvKrZZlSSsnKxzPLw7FwbySEAMaGNsCmZzvBx9la6tCIiIiIqI4xM8RCIyIisHPnThw/fhzt2rUDAHz77bcYOHAg5s+fDy8vrxLnmzlzJgBg//79hgjLpMTdy0FegQYWZnL4OFVtREAtNzslAj3scDk+A0ej72JQsGe1LFcKZ26m4vnVJ3E7LReW5nJ8+nhLDG9TX+qwiIiIiKiOMkhhdfToUTg6OuqKKgDo3bs35HI5jh07hscff7za1pWXl4e8vDzd7+np6QAAlUoFlUpVbeupLG0MFY3l8p1UAEBjF2sIjRoqjbpa4unYyAmX4zNw4Goi+jZzrZZl1iQhBNaG38QnO65ApRbwdbHGd6NaoamHnV6OK5t3qjzmXBrMuzSYd2kw79Jg3qXBvJeuIrmpyfwZpLCKj4+Hu7v+MNdmZmZwdnZGfHx8ta5r7ty5+OCDD4pN3717N6ytjadLWFhYWIXa742TAVDAuiAd27dvr7Y4LO4VLnfP+ZvobB5bbcutCXlqYEOMHCeTC3uwBjtrMLZxOqJPHUR0KfNUNO9Udcy5NJh3aTDv0mDepcG8S4N5L115cpOdnV0DkRSqUGH11ltv4fPPPy+zTURERJUCqqjZs2dj1qxZut/T09Ph4+ODvn37wt7evkZjKYlKpUJYWBj69OkDc3Pzcs/3z28XgBu30bVVAAb29Ku2eLrnFWDZp/twNw9o2ekR+DgZT/FZluikLMxYdwZRyVlQyGV4o28AJnZuWOrDfyubd6o85lwazLs0mHdpMO/SYN6lwbyXriK50fZmqwkVKqxeffVVPPPMM2W2ady4MTw8PJCYmKg3vaCgACkpKfDw8KhwkGVRKpVQKpXFppubmxvVTljReGKSC6vrQE+Hat0OJ3NzhPg44sT1ewiPTUNjd4dqW7ahbDt3G2/+eg5Z+Wq42ynx3Zg26NDIuVzzGtt+UBcw59Jg3qXBvEuDeZcG8y4N5r105clNTeauQoWVm5sb3NwePox1p06dkJqaipMnT6Jt27YAgL///hsajQahoaGVi7QOEUIUGWq9ekYELKqLvytOXL+HQ1HJGNWhQbUvv7rkF2gwd0cElh+OBQB0bOyMb0a3hrudpbSBERERERE9wCDDrTdr1gz9+/fH1KlTER4ejsOHD2PGjBkYNWqUbkTAuLg4BAYGIjw8XDdffHw8zpw5g6ioKADA+fPncebMGaSkpBgiTKMVn56LzLwCKOQyNHSxqfbldw0oHLTiaPRdaDTG+RDdO2k5GLXkqK6oeu4RP6yeHMqiioiIiIiMksGeY7VmzRoEBgaiV69eGDhwILp27YolS5boXlepVLhy5YreDWWLFy9G69atMXXqVABA9+7d0bp1a2zdutVQYRqlyITCq1W+LtawMKv+P1GIjyNsLBS4m5WPy/EZ1b78qjoclYzB3xzCqRupsLM0w9Lx7fBm/0CYKQy2uxIRERERVYlBRgUEAGdnZ6xdu7bU1319fSGE/tWS999/H++//76hQjIZ/3UDtDPI8s0VcnRo5Ix9V5JwOCoZzb2kH+QDADQagR/2R+GrsKvQCKC5pz0WPd3GIFftiIiIiIiqEy8BGKFIbWFVr/rvr9Lq4l/YHfBQVLLB1lERqdn5mPLLCczfXVhUPdXOB78935lFFRERERGZBINdsaLKi0os7J7nb4CBK7S091mFX0tBfoHGIF0Oy+v8rTQ8t+Ykbt3LgdJMjo+GBmFkex/J4iEiIiIiqihesTIyQgjdFStDFlZN69nB1dYCOSo1Tt+4Z7D1lEUIgbXHbuCJRUdw614OGjhbY/NznVlUEREREZHJYWFlZO5m5SM1WwWZDPBzM1xhJZPJ0Nmv8KrVYQm6A+bkq/HapnN4+/fzyFdr0LtZPfz5YlcEeRv/c7WIiIiIiB7EwsrIaEcE9HGyhqW5wqDr6nr/PqvD0XcNup4HpeWoMOLHI9h86hbkMuDN/oFYMq4tHKz48DsiIiIiMk28x8rIaO+vMsSDgR/U2d8FAHDmZioyclWwszR8YZOTr8bkFcdxIS4dLjYW+HZMa92VMyIiIiIiU8UrVkZGO9S6vwFHBNSq72QNXxdrqDUCx2IM/xDm/AINnltzEieu34O9pRlWTwllUUVEREREtQILKyMTaeBnWD2oi647oGHvs1JrBF7ddBb7ryTB0lyO5RPbo5mncTw/i4iIiIioqlhYGZmaGBGwKN19VgYcwEIIgTlbL+DPs7dhrpBh8dNt0bahs8HWR0RERERU01hYGZG0bBWSMvIA1Fxh1cnPBTIZcDUhE4npuQZZx1dhV7H63xuQyYCvRobgkabuBlkPEREREZFUWFgZkaikwoErvBwsYausmXFFHK0tEORVOMT5EQOMDvjTwRh8+3cUAOCjoUF4rJVXta+DiIiIiEhqLKyMiHaodb8aulqlpb3P6lA1dwf89eQtfPxXBADg9X5N8XTHhtW6fCIiIiIiY8HCyojU9MAVWl3uD7t+OCoZQohqWebui/F4c/M5AMCUro3w/CN+1bJcIiIiIiJjxMLKiGiHWg+ogaHWi2rv6wwLMznupOUiJjmryss7Gn0XM9adhloj8GTb+nhnUDPIZLJqiJSIiIiIyDixsDIiusKqhrsCWpor0K6hEwDgSBW7A56/lYapv5xAfoEGfZvXw2fDW7KoIiIiIqJaj4WVkcjKK0Bcag6AmhsRsKjquM8qKjETE5aHIzOvAJ0au+Cb0a1hpuAuRkRERES1Hz/1GonopMKrVa62SjhaW9T4+rWF1dHou1BrKn6fVVxqDsb9fAwpWfkIru+ApRPawdJcUd1hEhEREREZJRZWRkI7ImBNdwPUauntADtLM6TnFuBCXFqF5r2bmYdxPx/DnbRc+LnZYMXEDjU2XDwRERERkTFgYWUktCMCStENEAAUchk6+xWODliR7oAZuSpMWB6OmKQseDlYYtXkUDjb1PwVNyIiIiIiKbGwMhJRiYUPB67pEQGL0nYHPFzOwipXpcbUX07gQlw6XGwssGpKKLwcrQwZIhERERGRUWJhZSSiJL5iBfxXWJ24fg+5KnWZbQvUGsxYexr/xqTAVmmGlZM6wM9NutiJiIiIiKTEwsoI5KrUuJGSDaDmHw5cVGNXG3g6WCK/QIMTsfdKbafRCLyx+Rz2RCTAwkyOnya0Q5C3Qw1GSkRERERkXFhYGYGYpCxoBOBgZQ5XW+nuT5LJZOjsV/aw60IIfPxXBH47FQeFXIYfxrRBx8YuNRkmEREREZHRYWFlBKKS/hsRUOqH6XYNKCySjkSXXFh993cUlh2+BgCY92QwejevV2OxEREREREZKxZWRiAqQfqBK7S63L9idT4uDanZ+XqvrToaiy/DrgIA3hvcHMPb1K/x+IiIiIiIjBELKyOgHWrdGAZ/cLe3RIC7LYQofFiw1h9n4vDe1osAgJce9cekro2kCpGIiIiIyOiwsDIC2sIqoJ50A1cUpRt2/X53wH2XE/HqxrMQAhjfqSFe6dNEyvCIiIiIiIwOCyuJqdQaxCZnASi8x8oYdNU9z+oujsem4Lk1J1GgERga4oX3H2sh+X1gRERERETGhoWVxK7fzUKBRsDGQgFPB0upwwEAhDZ2hkIuw7XkLExcfhy5Kg16NnXD/BGtIJezqCIiIiIiehALK4lFJvz3YGBjuRJkZ2mOVvULn0uVmVeA9r5O+GFsW5gruLsQEREREZWEn5QlFpWoLayM4/4qrZ5N3QEAzTzt8dOE9rCyUEgcERERERGR8TKTOoC67r+BK4zj/iqtKd0aw8fZGj2busPBylzqcIiIiIiIjBoLK4lpCyt/IxhqvSgrCwWGtfaWOgwiIiIiIpPAroASUmsEopOM84oVERERERGVHwsrCd26l438Ag2UZnLUd7KWOhwiIiIiIqokFlYS0o4I6OdmCwWHMSciIiIiMlksrCSku7/KSB4MTERERERElcPCSkLaodYDWFgREREREZk0FlYSikrMAMCBK4iIiIiITB0LK4kIIYo8HJiFFRERERGRKWNhJZE7abnIylfDTC5DQxcbqcMhIiIiIqIqYGElEe3AFY1cbWCu4J+BiIiIiMiU8RO9RCITeH8VEREREVFtwcJKIrr7q9xYWBERERERmToWVhLRFVb17CSOhIiIiIiIqoqFlQSEELp7rPgMKyIiIiIi08fCSgJJmXlIy1FBLiscvIKIiIiIiEwbCysJaLsBNnC2hqW5QuJoiIiIiIioqlhYSeC/BwPz/ioiIiIiotrAoIVVSkoKxo4dC3t7ezg6OmLy5MnIzMwss/2LL76Ipk2bwsrKCg0aNMBLL72EtLQ0Q4ZZ4yIT7t9fxaHWiYiIiIhqBYMWVmPHjsXFixcRFhaGbdu24cCBA5g2bVqp7W/fvo3bt29j/vz5uHDhAlasWIGdO3di8uTJhgyzxkUmFj7DikOtExERERHVDmaGWnBERAR27tyJ48ePo127dgCAb7/9FgMHDsT8+fPh5eVVbJ6goCBs3rxZ97ufnx8++eQTPP300ygoKICZmcHCrVFRiVkAeMWKiIiIiKi2MFilcvToUTg6OuqKKgDo3bs35HI5jh07hscff7xcy0lLS4O9vX2pRVVeXh7y8vJ0v6enpwMAVCoVVCpVFbagemhj0P57LzsfyZmF8TZwVBpFjLXRg3knw2POpcG8S4N5lwbzLg3mXRrMe+kqkpuazJ/BCqv4+Hi4u7vrr8zMDM7OzoiPjy/XMpKTk/HRRx+V2X1w7ty5+OCDD4pN3717N6ytrSsWtAGFhYUBAKLTAcAMThYC/+zdLWlMdYE271RzmHNpMO/SYN6lwbxLg3mXBvNeuvLkJjs7uwYiKVThwuqtt97C559/XmabiIiISgeklZ6ejkGDBqF58+Z4//33S203e/ZszJo1S28+Hx8f9O3bF/b29lWOo6pUKhXCwsLQp08fmJubY8OJW8DFS2jZ0BUDB7aVOrxa68G8k+Ex59Jg3qXBvEuDeZcG8y4N5r10FcmNtjdbTahwYfXqq6/imWeeKbNN48aN4eHhgcTERL3pBQUFSElJgYeHR5nzZ2RkoH///rCzs8Pvv/9eZsKUSiWUSmWx6ebm5ka1E2rjiUnOAQA0qWdvVPHVVsa2H9QFzLk0mHdpMO/SYN6lwbxLg3kvXXlyU5O5q3Bh5ebmBjc3t4e269SpE1JTU3Hy5Em0bVt4Zebvv/+GRqNBaGhoqfOlp6ejX79+UCqV2Lp1KywtLSsaolHTjgjIgSuIiIiIiGoPgw233qxZM/Tv3x9Tp05FeHg4Dh8+jBkzZmDUqFG6EQHj4uIQGBiI8PBwAIVFVd++fZGVlYWff/4Z6enpiI+PR3x8PNRqtaFCrVH/PRyYhRURERERUW1h0PHL16xZgxkzZqBXr16Qy+V44okn8M033+heV6lUuHLliu6mslOnTuHYsWMAAH9/f71lXbt2Db6+voYM1+AyclW4k5YLAPB3s5M4GiIiIiIiqi4GLaycnZ2xdu3aUl/39fWFEEL3+yOPPKL3e20TnVT4/Cp3OyUcrNlXloiIiIiotjBYV0AqLjKh8P4qdgMkIiIiIqpdWFjVoKikwvurAlhYERERERHVKiysalBUwv2BK+rx/ioiIiIiotqEhVUNikzkFSsiIiIiotqIhVUNyVWpcfNe4eiHvMeKiIiIiKh2YWFVQ2KSsyAE4GRtDhcbC6nDISIiIiKiasTCqoZEJRYOtR7gbgeZTCZxNEREREREVJ1YWNUQ7YiAfuwGSERERERU67CwqiHahwNz4AoiIiIiotqHhVUN0XUFrMfCioiIiIiotmFhVQMKNMD1lMIRAQPc+QwrIiIiIqLahoVVDUjKBdQaAVulGerZK6UOh4iIiIiIqhkLqxqQkFM4CqC/uy1HBCQiIiIiqoVYWNWA+MJegBy4goiIiIiolmJhVQPii1yxIiIiIiKi2oeFVQ3QdgXkiIBERERERLUTCysDK1BrkJhT+H+OCEhEREREVDuxsDKwW6k5KBAyWJrL4e1oJXU4RERERERkACysDEz7YODGrjaQyzkiIBERERFRbcTCysCikwoLK3833l9FRERERFRbsbAysKjETACAv7uNxJEQEREREZGhsLAysKj7V6z83FhYERERERHVViysDEijEYhJZldAIiIiIqLajoWVAd1Oy0F2vhoKmUADZ44ISERERERUW7GwMqDI+/dXuVkCZgqmmoiIiIiotuKnfQOKSigsrDyshcSREBERERGRIbGwMiBnGwu0a+iIhrYsrIiIiIiIajMWVgb0RNv6WDelAx71YmFFRERERFSbsbAiIiIiIiKqIhZWREREREREVcTCioiIiIiIqIpYWBEREREREVURCysiIiIiIqIqYmFFRERERERURSysiIiIiIiIqoiFFRERERERURWxsCIiIiIiIqoiFlZERERERERVxMKKiIiIiIioisykDqC6CSEAAOnp6RJHUkilUiE7Oxvp6ekwNzeXOpw6g3mvecy5NJh3aTDv0mDepcG8S4N5L11FcqOtCbQ1giHVusIqIyMDAODj4yNxJEREREREZAwyMjLg4OBg0HXIRE2UbzVIo9Hg9u3bsLOzg0wmkzocpKenw8fHBzdv3oS9vb3U4dQZzHvNY86lwbxLg3mXBvMuDeZdGsx76SqSGyEEMjIy4OXlBbncsHdB1borVnK5HPXr15c6jGLs7e15UEiAea95zLk0mHdpMO/SYN6lwbxLg3kvXXlzY+grVVocvIKIiIiIiKiKWFgRERERERFVEQsrA1MqlZgzZw6USqXUodQpzHvNY86lwbxLg3mXBvMuDeZdGsx76Yw1N7Vu8AoiIiIiIqKaxitWREREREREVcTCioiIiIiIqIpYWBEREREREVVRnSysbt68iUceeQTNmzdHcHAwNm3aBACIjo5Gu3bt4O/vj2effRba289++uknBAQEQCaTITMzU7ec2NhYPPLII2jZsiUGDBiAtLS0EtcXHh6OFi1awN/fHx9++KFu+t69e9G6dWu0atUKffv2RUpKSonza9fftGlTbNu2TTf98ccfh5OTE5588skq56Qm1Ja8+/r6Ijg4GCEhIejZs2eV82JotSXv8+fPR4sWLRAUFITVq1dXOS+GZkp5z8zMRK9evWBra4vXXntNNz01NRXt2rVDSEgIgoKCsHTp0mrJjSHVhrxfuXIFISEhuh8rKyts2bKlOtJjMKaU9zNnzqBjx44ICgpCmzZtsH//ft1rL7zwAurVq4d27dpVR1oMrrbk/ZFHHkFgYKBun8/JyamO9BhMbcn7mjVrEBQUhObNm2PevHm1Ji9hYWEICQlBixYt8Morr5Qar0E+X4s66Pbt2+L06dNCCCHu3LkjvLy8RGZmpnjiiSfEn3/+KYQQev8/d+6ciImJEQ0bNhQZGRm65QwfPlysX79eCCHE6tWrxezZs0tcX7t27cTZs2dFQUGBCA0NFefOnRNCCBEUFCQuX74shBDizTffFJ9++mmxeZOTk0WTJk1Eenq6iIuLEwEBAUKlUgkhhNi3b5/YunWreOKJJ6ohK4ZXW/L+YDzGrjbk/dy5c6J169YiJydHZGdni9DQUHHv3r1qyY+hmFLec3NzxT///CN++OEH8eqrr+qmFxQUiKysLCGEEJmZmcLX11ckJydXJS0GVxvyXlRGRoZwcXERmZmZlchGzTGlvF+9elVERUUJIYS4ePGiaNSoke61Q4cOiRMnToi2bdtWJR01prbkvUePHuL8+fNVSUWNqg15T0pKEo0aNRIpKSmioKBA9O/fX7csU86LWq0WDRo0ENeuXRNCCDFlyhSxa9euYvMa6vN1nbxi5enpiZCQEACAh4cHXF1dkZKSgiNHjmDQoEEAgKeffhp//vknAKBly5Zo1KhRseVERETg0UcfBQA8+uij+O2334q1uX37NgoKChAcHAyFQoFRo0bpqmKZTIaMjAwAQHp6Ojw9PYvNv2vXLgwcOBB2dnbw8vJC8+bNcfz4cQCF3/DY2dlVMRs1p7bk3dTUhrxHRESgU6dOsLS0hJWVFVq1aoWdO3dWPTkGZEp5VyqV6N69O6ysrPSmKxQKWFtbAwDy8vIghNB902isakPei9q6dSt69eoFGxubCmSh5plS3gMCAuDn5wcAaNasGTIzM6FWqwEAXbp0gYuLS1VSUaNqS95NTW3Ie0xMDJo1awYnJycoFAp0794dv//+u8nnJTk5Gba2tvD19S1zfkN9vq6ThVVRJ0+ehFqthpWVFZydnSGTyQAA3t7eiIuLK3Pe4OBg3R/rt99+K7H97du34e3trfu96HIXLVqE/v37w8vLC+fPn8e4ceMqNL8pM+W8y2Qy9OjRA+3bt8eaNWsquOXSMtW8BwUFYf/+/UhNTcW9e/ewf/9+kzoOjD3vZUlNTUWrVq1Qv359vP7663B1da3Q/FIy5bxrbdy4EU899VSl5pWKKeV9y5YtaNu2LRQKRYW20RiZet7HjBmD1q1b46uvvirfBhsJU827v78/Lly4gLi4OOTm5mLHjh3V+r4qVV7c3NyQlZWF8+fPQ61WY+vWrRXOa1XU6cIqJSUF48ePx5IlSyo1/5dffont27ejTZs2iI+Pr/A3il9//TXCwsJw+/ZtdOrUCXPnzq1UHKbG1PN+6NAhnDx5Elu3bsWnn36Kc+fOVWh+qZhy3ps3b46XXnoJjz76KIYPH46OHTuazAchU847ADg6OuLs2bO4du0a1q5di4SEhArNLxVTzztQ+A30kSNHMHDgwArPKxVTyntMTAzeeOMNfPvtt5WK1ZiYet7XrFmDc+fOYf/+/fjjjz/w119/VWo7apop593Z2RkLFy7EsGHD0Lt3b7Rs2bLa3lelzItMJsPq1avx7LPPonPnzvD29q7Rzwt1trDKy8vDsGHD8NZbb6Fz585wcXFBSkqKrptLXFwcvLy8ylyGt7c3/vjjD5w6dQrTp0+Hj48PAKBfv34ICQnB66+/Di8vL70KWLvcpKQkREREoHXr1gCAESNG4MiRI7h586bu5s0NGzaUOr+pqg15137D4enpiYEDB+LUqVPVlyADqQ15nz59Ok6dOoV9+/bB3NwcAQEB1ZojQzCVvJdHvXr10KpVKxw8eLAyqahRtSXvf/zxB/r27QtLS8vKpqJGmVLeU1JSMHToUPz444/w9/c3RDpqTG3Iu/Z91cHBASNHjjSJrve1Ie/Dhg3D8ePHcejQIXh6elbL+6rUeQGArl274vDhwzh27BhCQkIQEBBQc5+vK3xXVi2g0WjEqFGjxJw5c/SmP/7447ob6p588kmxdetWvdcfvLkuKSlJaDQaIYQQzz77rFiyZEmJ62vbtm2xm+tUKpVwc3MTMTExQggh5s6dK2bOnFls3qSkJL2b6/z9/XU31wlReIOdqQxeURvynpmZKdLT04UQhTeVt2nTRoSHh1cuITWkNuRdCCESEhKEEEJcvnxZtGzZUu84MEamlHet5cuX6w2iEB8fr9vfU1NTRYsWLXQ3TRur2pB3rcGDBxeL01iZUt7z8vJE9+7dxfLly0tc9rVr10xm8IrakHeVSiWSkpJ0bQYNGiQ2btxY/iRIoDbkXYj/3lfv3LkjgoKCxN27d8uXgFIYQ16KbldGRobo0KGDiIiIKDavoT5f18nC6uDBg0Imk4lWrVrpfs6dOyeuXr0q2rRpIxo3biymTp0q1Gq1EEKIxYsXC29vb6FQKISXl5d45ZVXhBBCrF+/XgQEBIiAgAAxa9YsXfsHHT16VDRv3lw0btxYb2fbtGmTaNGihQgODhYDBgwQiYmJJc7/448/Cj8/PxEQECD++OMP3fRevXoJV1dXYWVlJby9vcWRI0eqKUOGURvyHh0dLYKDg0VwcLBo0aKFWLBgQTVmyDBqQ96FEKJjx46iWbNmol27duLEiRPVlB3DMbW8N2nSRDg5OQlbW1vh7e0tbt68KY4dOyZatWolgoODRcuWLcXixYurN0kGUBvyLkRhIevu7i7y8vKqMTuGY0p5X7VqlbCwsNCLVTva5YQJE4SHh4cwNzcX3t7eRv8BvzbkPTMzU7Rp00a0bNlSNG/eXLz55pu6D9XGqjbkXYjCIqdZs2YiKChI7Ny5s9bkZebMmSIwMFAEBgaKX375pdR4DfH5WiaEkQ/xREREREREZOTq7D1WRERERERE1YWFFRERERERURWxsCIiIiIiIqoiFlZERERERERVxMKKiIiIiIioilhYERERERERVRELKyIiIiIioipiYUVERERERFRFLKyIiIiIiIiqiIUVEREZrdTUVMhksmI/jo6OUodGRESkh4UVEREZvc2bN+POnTu4c+cOFixYIHU4RERExbCwIiIio1VQUAAAcHFxgYeHBzw8PODg4KDX5quvvkLLli1hY2MDHx8fPP/888jMzAQA7N+/v8QrXtofALh79y5Gjx4Nb29vWFtbo2XLlli3bl3NbigREZk8FlZERGS08vLyAABKpbLUNnK5HN988w0uXryIlStX4u+//8Ybb7wBAOjcubPuStfmzZsBQPf7nTt3AAC5ublo27Yt/vrrL1y4cAHTpk3DuHHjEB4ebuCtIyKi2kQmhBBSB0FERFSS8+fPIzg4GBcuXECLFi0AACtWrMDMmTORmppa4jy//vornn32WSQnJ+tN379/P3r27InyvO0NHjwYgYGBmD9/fpW3gYiI6gYzqQMgIiIqTVxcHADA09Oz1DZ79uzB3LlzcfnyZaSnp6OgoAC5ubnIzs6GtbX1Q9ehVqvx6aefYuPGjYiLi0N+fj7y8vLKNS8REZEWuwISEZHRunTpEtzc3ODs7Fzi67GxsRg8eDCCg4OxefNmnDx5Et9//z0AID8/v1zrmDdvHhYuXIg333wT+/btw5kzZ9CvX79yz09ERATwihURERmxvXv3onPnzqW+fvLkSWg0Gnz55ZeQywu/K9y4cWOF1nH48GEMHToUTz/9NABAo9Hg6tWraN68eeUDJyKiOodXrIiIyOjk5OTg559/xo4dO9CvXz/Ex8frftLS0iCEQHx8PPz9/aFSqfDtt98iJiYGq1atwuLFiyu0roCAAISFheHIkSOIiIjA9OnTkZCQYKAtIyKi2oqDVxARkdFZsWIFJk6c+NB2165dw++//4558+YhNTUV3bt3x9ixYzF+/Hjcu3dP70HCpQ1ekZKSgkmTJmHv3r2wtrbGtGnTcOPGDaSlpWHLli3VvGVERFRbsbAiIiKjs2LFCqxYsQL79+8vtY1MJsO1a9fg6+tbY3ERERGVhl0BiYjI6FhZWZU6YIVWvXr1oFAoaigiIiKisvGKFRERERERURXxihUREREREVEVsbAiIiIiIiKqIhZWREREREREVcTCioiIiIiIqIpYWBEREREREVURCysiIiIiIqIqYmFFRERERERURSysiIiIiIiIquj/K5YWjcEbp7MAAAAASUVORK5CYII=\n",
      "text/plain": [
       "<Figure size 1000x400 with 1 Axes>"
      ]
     },
     "metadata": {},
     "output_type": "display_data"
    }
   ],
   "source": [
    "# собираем данные о \"конверсии\" в один дф\n",
    "merged_сumul_сonvers = cumulative_data_a[['date','conversion']].merge(\n",
    "    cumulative_data_b[['date','conversion']],left_on='date', right_on='date', how='left', suffixes=['_a', '_b'])\n",
    "\n",
    "# строим график\n",
    "plt.figure(figsize=(10,4))\n",
    "(\n",
    "    plt.plot(merged_сumul_сonvers['date']\n",
    "          , merged_сumul_сonvers['conversion_b'] / merged_сumul_сonvers['conversion_a']-1)\n",
    ")\n",
    "plt.title(label=\"Изменение накопительного ср. количества заказов на посетителя гр.B относительно гр.A\")\n",
    "plt.grid(True)\n",
    "plt.xticks(rotation=0, fontsize=7)\n",
    "plt.xlabel('Дата')\n",
    "plt.axhline(y=0, color='black', linestyle='--')\n",
    "plt.show()"
   ]
  },
  {
   "cell_type": "markdown",
   "id": "21f39842",
   "metadata": {},
   "source": [
    "Можно отметить, что накопительное среднее количества заказов на посетителя группы B значительно обогнало показатель группы A после первой недели, и зафиксировалось на уровне 10-20 % выше группы A."
   ]
  },
  {
   "cell_type": "markdown",
   "id": "c83c6751",
   "metadata": {},
   "source": [
    "Следующий этап работы - выявление всплесков и прочих аномалий, которые могут искажать результаты A/B-теста. Для этого необходимо выявить характерные данные заказов (количество заказов на посетителя и размер заказа)."
   ]
  },
  {
   "cell_type": "markdown",
   "id": "9e267344",
   "metadata": {},
   "source": [
    "### Точечный график количества заказов по пользователям"
   ]
  },
  {
   "cell_type": "code",
   "execution_count": 30,
   "id": "ac05ee2e",
   "metadata": {},
   "outputs": [],
   "source": [
    "# создаём дф с информацией о количестве заказов по пользователям\n",
    "orders_by_visitors = orders.groupby('visitor_id', as_index=False).agg({'transaction_id': 'nunique'})\n",
    "orders_by_visitors.columns = ['visitor_id', 'orders']"
   ]
  },
  {
   "cell_type": "code",
   "execution_count": 31,
   "id": "b49dac92",
   "metadata": {},
   "outputs": [
    {
     "data": {
      "image/png": "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\n",
      "text/plain": [
       "<Figure size 640x480 with 1 Axes>"
      ]
     },
     "metadata": {},
     "output_type": "display_data"
    }
   ],
   "source": [
    "# строим скаттерплот\n",
    "# для оси Х возьмем серию из чисел от 0 до количества наблюдений \n",
    "x_values = pd.Series(range(0, len(orders_by_visitors)))\n",
    "plt.scatter(x_values, orders_by_visitors['orders'])\n",
    "plt.title(label=\"Количество заказов по пользователям\")\n",
    "plt.ylabel('Количество заказов')\n",
    "plt.xlabel('Покупатели')\n",
    "plt.grid(True)\n",
    "plt.show()"
   ]
  },
  {
   "cell_type": "markdown",
   "id": "60b8ff31",
   "metadata": {},
   "source": [
    "Как и ожидалось, основная масса покупателей сделали по одному заказу, по два заказа - лишь небольшая часть, а 3 заказа - редкость. Очевидно, мы имеем дело с интернет-магазином, специализирующемся на \"несистемных\" покупках (под системными понимаю повторяющиеся, регулярные). Здесь \"основной покупатель\" приходит, покупает и исчезает на длительный срок (больше месяца - точно). При этом объективно, основываясь только на графическом анализе, нельзя сказать, что клиенты с 3 заказами - \"лишние\"."
   ]
  },
  {
   "cell_type": "markdown",
   "id": "f3621a31",
   "metadata": {},
   "source": [
    "### Определение 90, 95 и 99 перцентилей количества заказов на пользователя. Расчёт границы для определения аномальных пользователей."
   ]
  },
  {
   "cell_type": "markdown",
   "id": "4c800e91",
   "metadata": {},
   "source": [
    "В дополнение к графическому методу используем расчёт перцентилей для объективного нахождения границы определения аномальных пользователей."
   ]
  },
  {
   "cell_type": "code",
   "execution_count": 32,
   "id": "3979b515",
   "metadata": {
    "scrolled": true
   },
   "outputs": [
    {
     "name": "stdout",
     "output_type": "stream",
     "text": [
      "[1. 1. 2.]\n"
     ]
    }
   ],
   "source": [
    "print(np.percentile(orders_by_visitors['orders'], [90, 95, 99])) "
   ]
  },
  {
   "cell_type": "markdown",
   "id": "510c11bb",
   "metadata": {},
   "source": [
    "Расчёт показал, что больше 2 заказов сделали не более 1% покупателей. Т.е., посетителей с 3 заказами можно признать \"аномальными\" для данной выборки."
   ]
  },
  {
   "cell_type": "markdown",
   "id": "9a048678",
   "metadata": {},
   "source": [
    "### Точечный график стоимостей заказов"
   ]
  },
  {
   "cell_type": "code",
   "execution_count": 33,
   "id": "3ad5f621",
   "metadata": {},
   "outputs": [
    {
     "data": {
      "image/png": "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\n",
      "text/plain": [
       "<Figure size 640x480 with 1 Axes>"
      ]
     },
     "metadata": {},
     "output_type": "display_data"
    }
   ],
   "source": [
    "# строим скаттерплот\n",
    "# для оси Х возьмем серию из чисел от 0 до количества наблюдений \n",
    "x_values = pd.Series(range(0, len(orders['revenue'])))\n",
    "plt.scatter(x_values, orders['revenue'])\n",
    "plt.title(label='Суммы заказов')\n",
    "plt.ylabel('Сумма заказа, RUR')\n",
    "plt.xlabel('Заказы')\n",
    "plt.grid(True)\n",
    "plt.show()"
   ]
  },
  {
   "cell_type": "markdown",
   "id": "6b03cf8c",
   "metadata": {},
   "source": [
    "Точечный график показывает, что основная часть заказов сделана в границах до 100 тыс. RUR. Лишь две точки на графике выше 200 тыс. Однако, точно границу определить не получится, неоходимо дополнить данные графического анализа расчётом перцентилей."
   ]
  },
  {
   "cell_type": "markdown",
   "id": "169be74a",
   "metadata": {},
   "source": [
    "Для более полной картины \"откинем\" на графике информацию о самых дорогих покупках, ограничив чек 100000 RUR"
   ]
  },
  {
   "cell_type": "code",
   "execution_count": 34,
   "id": "628f969d",
   "metadata": {
    "scrolled": false
   },
   "outputs": [
    {
     "data": {
      "image/png": "iVBORw0KGgoAAAANSUhEUgAAAlUAAAHHCAYAAACWQK1nAAAAOXRFWHRTb2Z0d2FyZQBNYXRwbG90bGliIHZlcnNpb24zLjMuNCwgaHR0cHM6Ly9tYXRwbG90bGliLm9yZy8QVMy6AAAACXBIWXMAAA9hAAAPYQGoP6dpAACQ40lEQVR4nO3dd3gU5doG8HsT0iEdsgEpoQjE0GvoYiAUFRALReEAopQoxU+KAoKoFAugIIgK6oEAcg4CCkZDUQRCCzX0EsCDSSCkQUIK2fn+iLvuJltmdmdr7t91eV2yO5l9953ZmWfe8rwKQRAEEBEREZFF3OxdACIiIiJXwKCKiIiISAYMqoiIiIhkwKCKiIiISAYMqoiIiIhkwKCKiIiISAYMqoiIiIhkwKCKiIiISAYMqoiIiIhkwKCKiIiISAYMqohINlevXsWrr76K+vXrw9vbG/7+/ujcuTOWLVuGBw8e2Lt4RERWVcXeBSAi17Bjxw4899xz8PLywogRIxAVFYXi4mLs378fb775Js6ePYvVq1fbu5hERFaj4ILKRGSp1NRUNG/eHI888gj27NmD8PBwnfevXLmCHTt2YNKkSXYqIRGR9bH7j4gstnjxYty/fx9ff/11hYAKABo2bKgJqLp3744WLVro3U/jxo0RGxsLALh+/ToUCgUUCgW2bt2qs11hYSGCgoKgUCjw0UcfaV6fO3cuFAoFatSogZKSEp2/2bBhg2Z/mZmZmtfr1auHJ5980uB3++2336BQKPDbb78ZrYOVK1eiRYsWCAgIgJ+fH1q0aIGvv/5aZ5vTp0/jX//6l6Z7VKlUYvTo0bh7967OdurvoW3v3r3w8vLCuHHjNK/duHEDEyZMQOPGjeHj44OQkBA899xzuH79us7fbtmyBe3bt0dwcDB8fHzQpEkTLFq0COWfqU+cOIG+ffvC398fVatWxRNPPIFDhw7pbPPNN99o6lGhUMDX1xfNmjXDV199ZbR+iCoDdv8RkcV+/PFH1K9fH506dTK57UsvvYSxY8ciJSUFUVFRmtePHj2KS5cuYdasWTrbe3t7Y+3atRg4cKDmtS1btqCwsNDgZ9y7dw8//fQTBg0apHlt7dq18Pb2Nvp3lrh37x569+6NBg0aQBAEfP/993j55ZcRGBiIwYMHAwASExNx7do1jBo1CkqlUtMlevbsWRw6dKhCIKV26tQpDBw4EP369cOKFSs0rx89ehQHDx7EkCFD8Mgjj+D69etYuXIlevTogXPnzsHX1xcAkJeXhw4dOmDkyJHw8PBAQkICZsyYgSpVquCNN94AAJw9exZdu3aFv78/pk2bBg8PD3zxxRfo0aMHfv/9d3To0EGnTEuWLEFoaCjy8vKwZs0ajB07FvXq1UNMTIw1qpfIOQhERBbIzc0VAAgDBgwQtX1OTo7g7e0tTJ8+Xef1119/XfDz8xPu378vCIIgpKamCgCEoUOHClWqVBHS09M12z7xxBPCsGHDBADChx9+qHn9nXfe0fzNk08+qXn9xo0bgpubmzB06FABgHDnzh3Ne3Xr1hX69+9vsLx79+4VAAh79+4V9f3UHj58KPj7+wtxcXGa1woKCipst2HDBgGAsG/fvgrfQxAE4fr160J4eLjQpUsX4cGDBzp/q29/SUlJAgDhu+++M1q+yMhInToaOHCg4OnpKVy9elXz2l9//SVUq1ZN6Natm+a1tWvXCgCE1NRUzWuXLl0SAAiLFy82+plEro7df0Rkkby8PABAtWrVRG0fEBCAAQMGYMOGDZrup9LSUmzatAkDBw6En5+fzvatW7fGY489hn//+98Ayrq89u7di3/9618GP2P06NFISEhAeno6AODbb79FdHQ0Hn30Ub3bl5SUIDMzE3fv3sXDhw9FfQ99SktLkZmZiRs3bmDJkiXIy8tD165dNe/7+Pho/r+wsBCZmZno2LEjAOD48eMV9nf37l3ExsaiWrVq2L59O7y9vXXe195fSUkJ7t69i4YNGyIwMFDv/jIzM/G///0P33zzDa5cuYJu3bppyv3rr79i4MCBqF+/vmb78PBwDBs2DPv379ccZ7Xs7GxkZmbi2rVrWLJkCdzd3dG9e3cp1UXkchhUEZFF/P39AZR1f4k1YsQI3Lx5E3/88QcAYNeuXcjIyMBLL72kd/tRo0Zh7dq1AMrG9HTq1AmNGjUyuP+WLVsiKioK3333HQRBwDfffINRo0YZ3P7XX39F9erVERoaCm9vb7Ru3Rq//vqr6O+jdvnyZVSvXh316tXD22+/jc8//xzPP/+85v2srCxMmjQJYWFh8PHxQfXq1REREQEAyM3NrbC/J598EhcvXkROTk6F8U8A8ODBA8yZMwe1a9eGl5cXQkNDUb16deTk5FTYX2FhIapXr47atWtj9OjRePPNN/Hmm28CAO7cuYOCggI0bty4wmc0bdoUKpUKf/75p87rrVu3RvXq1dGgQQOsWbMGy5cvR/v27SXXGZEr4ZgqIrKIv78/atasiZSUFNF/Exsbi7CwMKxbtw7dunXDunXroFQqDY7HefHFFzFt2jQcOnQI3377bYVxV/qMHj0an3/+Odq3b4/09HQ8//zz+Pjjj/Vu26FDB7z33nsAgL/++guLFi3CoEGDcPbsWdHfCQDq1KmDxMREzZiuKVOmoHbt2pqB8M8//zwOHjyIN998Ey1btkTVqlWhUqnQp08fqFSqCvu7cOECfv75Zzz//PN44403NIGl2muvvYa1a9di8uTJiI6ORkBAABQKBYYMGVJhf56enkhMTERBQQH++OMPLFq0CLVr18arr74q6TuqrVu3DmFhYSgsLMSePXswceJEeHt7G21BJHJ5du5+JCIX8MorrwgAhIMHD4r+mylTpghBQUFCVlaWULVqVWHKlCk676vHVKnHTD377LNC8+bNBT8/P+HevXsV3heEf8Yi3blzR7h7967g5eUlNG/eXBgxYkSF99X0jak6cOCAAED49ttvzR5TJQiC0LNnT6F9+/aCIAhCVlaWAECYN2+ezjbq8UjvvPNOhe+hHme1fPlyAYCwa9cunb8NCAgQRo0apfPagwcPBHd3d2HkyJFGyzZ69GihRo0agiCUjf/y9fUVnn/++QrbjRs3TnBzcxNyc3MFQdA/pkoQBKF3797Co48+avQziVwdu/+IyGLTpk2Dn58fXn75ZWRkZFR4/+rVq1i2bJnOay+99BKys7Px6quv4v79+3jxxReNfsbo0aNx+vRpPPfcc6hatarJMgUHB2PAgAE4ffo0Ro8eLen7qFt53N3dJf2dttLSUmRnZ6OoqEhnX0K5brylS5ca3Id6PNaECRPQqVMnvPrqqzqZ6d3d3Svs77PPPkNpaanJ8mVmZuqUrXfv3ti2bZtOOoaMjAzEx8ejS5cumm5eQx48eKDZH1Flxe4/IrJYgwYNEB8fjxdeeAFNmzbVyah+8OBBbN68uUK3UKtWrRAVFYXNmzejadOmaN26tdHP6NOnD+7cuSMqoFL75ptvsGLFCoSGhhrd7s6dO0hISAAApKWlYdGiRQgICMDjjz+OS5cuifqsbt26oUePHqhTpw7u37+P//znPzhx4oQmj5a/vz+6deuGxYsXo6SkBLVq1cKvv/6K1NRUk/tWKBT46quv0LJlS7zzzjtYvHgxgLIxV//+978REBCAyMhIJCUlYdeuXQgJCdH5+8GDB6Nhw4Zo0KABiouLkZCQgB07diAuLk6zzXvvvYfExER06dIFEyZMQJUqVfDFF1+gqKhI83natm7ditDQUE333x9//IHJkyeLqisiV8Wgiohk8fTTT+P06dP48MMPsW3bNqxcuRJeXl5o3rw5Pv74Y4wdO7bC34wYMQLTpk0zOEBdm0KhMBkclefj46MzQ86QI0eOoG/fvgCA0NBQtG7dGt9++y1q1qwpOqiKiorCunXr8Ndff8HPzw+PPvoovv32W4wYMUKzTXx8PF577TWsWLECgiCgd+/e+Pnnn1GzZk2T+2/atCnefvttzJ8/H0OHDkWrVq2wbNkyuLu7Y/369SgsLETnzp2xa9cuTQJVtebNm2PDhg24efMmPDw8UL9+fSxbtgwTJkzQbPPYY4/hjz/+wMyZM7FgwQKoVCp06NAB69atq5CjCgCmTJkCoGysVp06dTBnzhy89dZbouqKyFVxmRoisptly5ZhypQpuH79OurUqWPv4hARWYRBFRHZhSAIaNGiBUJCQrB37157F4eIyGLs/iMim8rPz8f27duxd+9enDlzBtu2bbN3kYiIZMGWKiKyqevXryMiIgKBgYGYMGEC3n//fXsXiYhIFnZNqbBv3z489dRTqFmzpt6V6AVBwJw5cxAeHg4fHx/ExMTg8uXLOttkZWVh+PDh8Pf3R2BgIMaMGYP79+/rbHP69Gl07doV3t7eqF27tt6ZLJs3b0aTJk3g7e2NZs2aYefOnZLLQkSm1atXD4IgIDs7mwEVEbkUuwZV+fn5aNGihc6q69oWL16MTz/9FKtWrcLhw4fh5+eH2NhYnVXmhw8fjrNnzyIxMRE//fQT9u3bh1deeUXzfl5eHnr37o26desiOTkZH374IebOnYvVq1drtjl48CCGDh2KMWPG4MSJExg4cCAGDhyokyFaTFmIiIioErNLylE9AAg//PCD5t8qlUpQKpU62ZJzcnIELy8vYcOGDYIgCMK5c+cEAMLRo0c12/z888+CQqEQbt26JQiCIHz++edCUFCQUFRUpNlm+vTpQuPGjTX/fv755ytkVO7QoYPw6quvii4LERERVW4OO1A9NTUV6enpOmuBBQQEoEOHDkhKSsKQIUOQlJSEwMBAtG3bVrNNTEwM3NzccPjwYQwaNAhJSUno1q0bPD09NdvExsZi0aJFyM7ORlBQEJKSkjB16lSdz4+NjdV0R4opiz5FRUU6GYZVKhWysrIQEhIChUJhUf0QERGRbQiCgHv37qFmzZpwczPcyeewQVV6ejoAICwsTOf1sLAwzXvp6emoUaOGzvtVqlRBcHCwzjbqVeC196F+LygoCOnp6SY/x1RZ9FmwYAHmzZtn+ssSERGRw/vzzz/xyCOPGHzfYYMqVzBz5kydFrDc3FzUqVMHqampqFatmmyfU1JSgr179+Lxxx+Hh4eHbPulf7COrY91bH2sY+tjHVufPer43r17iIiIMHnvdtigSqlUAihb0DM8PFzzekZGBlq2bKnZ5vbt2zp/9/DhQ2RlZWn+XqlUVljgVf1vU9tov2+qLPp4eXnBy8urwuvBwcEmFyeVoqSkBL6+vggJCeGP2EpYx9bHOrY+1rH1sY6tzx51rP4cU0N37Dr7z5iIiAgolUrs3r1b81peXh4OHz6M6OhoAEB0dDRycnKQnJys2WbPnj2aNavU2+zbtw8lJSWabRITE9G4cWMEBQVpttH+HPU26s8RUxYiIiKq3OwaVN2/fx8nT57EyZMnAZQNCD958iRu3rwJhUKByZMn47333sP27dtx5swZjBgxAjVr1sTAgQMBlC0w2qdPH4wdOxZHjhzBgQMHEBcXhyFDhmgWKB02bBg8PT0xZswYnD17Fps2bcKyZct0uuUmTZqEhIQEfPzxx7hw4QLmzp2LY8eOaVZwF1MWIiIiqtzs2v137NgxPP7445p/qwOdkSNH4ptvvsG0adOQn5+PV155BTk5OejSpQsSEhLg7e2t+Zv169cjLi4OTzzxBNzc3DB48GB8+umnmvcDAgLw66+/YuLEiWjTpg1CQ0MxZ84cnVxWnTp1Qnx8PGbNmoW33noLjRo1wtatWxEVFaXZRkxZiIiIqPKya1DVo0cPCEZWyVEoFHj33Xfx7rvvGtwmODgY8fHxRj+nefPm+OOPP4xu89xzz+G5556zqCxERERUeTnsmCoiIiIiZ8KgioiIiEgGDKqIiIiIZMCgioiIiEgGDKqIiIiIZMCgioiIiEgGDKqIiIiIZMCgioiIiEgGDKqIiIiIZMCgioiIiEgGDKqIiIiIZMCgioiIiEgGDKqIiIiIZMCgioiIiEgGDKqIiIiIZMCgioiIiEgGVexdACIiIqp8SlUCjqRm4fa9QtSo5o32EcFwd1PYu1gWYVBFRERENpWQkoZ5P55DWm6h5rXwAG+881Qk+kSF27FklmH3HxEREdlMQkoaxq87rhNQAUB6biHGrzuOhJQ0O5XMcgyqiIiIyCZKVQLm/XgOgp731K/N+/EcSlX6tnB8DKqIiIjIJo6kZlVoodImAEjLLcSR1CzbFUpGDKqIiIjIJm7fMxxQmbOdo2FQRURERDZRo5q3rNs5GgZVREREZBPtI4IRHuANQ4kTFCibBdg+ItiWxZINgyoiIiKyCXc3Bd55KhIAKgRW6n+/81Sk0+arYlBFRERENtMnKhwrX2wNZYBuF58ywBsrX2zt1HmqmPyTiIiIbKpPVDh6RSqZUZ2IiIjIUu5uCkQ3CLF3MWTF7j8iIiIiGTCoIiIiIpIBgyoiIiIiGTCoIiIiIpIBgyoiIiIiGTCoIiIiIpIBgyoiIiIiGTCoIiIiIpIBgyoiIiIiGTCoIiIiIpIBl6khIiKDSlWCy63PRmQtDKqIiEivhJQ0zPvxHNJyCzWvhQd4452nItEnKtyOJSNyTOz+IyKiChJS0jB+3XGdgAoA0nMLMX7dcSSkpNmpZESOi0EVERHpKFUJmPfjOQh63lO/Nu/HcyhV6duCqPJiUEVERDqOpGZVaKHSJgBIyy3EkdQs2xWKyAkwqCIiIh237xkOqMzZjqiyYFBFREQ6alTzlnU7osqCQRUREeloHxGM8ABvGEqcoEDZLMD2EcG2LBaRw2NQRUREOtzdFHjnqUgAqBBYqf/9zlORzFdFVA6DKiIiqqBPVDhWvtgaygDdLj5lgDdWvtiaeaqI9GDyTyIi0qtPVDh6RSqZUZ1IJAZVRERkkLubAtENQuxdDCKnwO4/IiIiIhkwqCIiIiKSAYMqIiIiIhkwqCIiIiKSAYMqIiIiIhkwqCIiIiKSAYMqIiIiIhkwqCIiIiKSAYMqIiIiIhkwqCIiIiKSAYMqIiIiIhkwqCIiIiKSAYMqIiIiIhk4dFBVWlqK2bNnIyIiAj4+PmjQoAHmz58PQRA02wiCgDlz5iA8PBw+Pj6IiYnB5cuXdfaTlZWF4cOHw9/fH4GBgRgzZgzu37+vs83p06fRtWtXeHt7o3bt2li8eHGF8mzevBlNmjSBt7c3mjVrhp07d1rnixMREZHTceigatGiRVi5ciWWL1+O8+fPY9GiRVi8eDE+++wzzTaLFy/Gp59+ilWrVuHw4cPw8/NDbGwsCgsLNdsMHz4cZ8+eRWJiIn766Sfs27cPr7zyiub9vLw89O7dG3Xr1kVycjI+/PBDzJ07F6tXr9Zsc/DgQQwdOhRjxozBiRMnMHDgQAwcOBApKSm2qQwiIiJyaA4dVB08eBADBgxA//79Ua9ePTz77LPo3bs3jhw5AqCslWrp0qWYNWsWBgwYgObNm+O7777DX3/9ha1btwIAzp8/j4SEBHz11Vfo0KEDunTpgs8++wwbN27EX3/9BQBYv349iouLsWbNGjz22GMYMmQIXn/9dXzyySeasixbtgx9+vTBm2++iaZNm2L+/Plo3bo1li9fbvN6ISIiIsdTxd4FMKZTp05YvXo1Ll26hEcffRSnTp3C/v37NcFOamoq0tPTERMTo/mbgIAAdOjQAUlJSRgyZAiSkpIQGBiItm3baraJiYmBm5sbDh8+jEGDBiEpKQndunWDp6enZpvY2FgsWrQI2dnZCAoKQlJSEqZOnapTvtjYWE3wpk9RURGKioo0/87LywMAlJSUoKSkxKK60abel5z7JF2sY+tjHVsf69j6WMfWZ486FvtZDh1UzZgxA3l5eWjSpAnc3d1RWlqK999/H8OHDwcApKenAwDCwsJ0/i4sLEzzXnp6OmrUqKHzfpUqVRAcHKyzTURERIV9qN8LCgpCenq60c/RZ8GCBZg3b16F13/99Vf4+vqa/P5SJSYmyr5P0sU6tj7WsfWxjq2PdWx9tqzjgoICUds5dFD1/fffY/369YiPj8djjz2GkydPYvLkyahZsyZGjhxp7+KZNHPmTJ3Wrby8PNSuXRu9e/eGv7+/bJ9TUlKCxMRE9OrVCx4eHrLtl/7BOrY+1rH1sY6tj3VsffaoY3VPkykOHVS9+eabmDFjBoYMGQIAaNasGW7cuIEFCxZg5MiRUCqVAICMjAyEh4dr/i4jIwMtW7YEACiVSty+fVtnvw8fPkRWVpbm75VKJTIyMnS2Uf/b1Dbq9/Xx8vKCl5dXhdc9PDysciJYa7/0D9ax9bGOrY91bH2sY+uzZR2L/RyHHqheUFAANzfdIrq7u0OlUgEAIiIioFQqsXv3bs37eXl5OHz4MKKjowEA0dHRyMnJQXJysmabPXv2QKVSoUOHDppt9u3bp9NnmpiYiMaNGyMoKEizjfbnqLdRfw4RERFVbg4dVD311FN4//33sWPHDly/fh0//PADPvnkEwwaNAgAoFAoMHnyZLz33nvYvn07zpw5gxEjRqBmzZoYOHAgAKBp06bo06cPxo4diyNHjuDAgQOIi4vDkCFDULNmTQDAsGHD4OnpiTFjxuDs2bPYtGkTli1bptN1N2nSJCQkJODjjz/GhQsXMHfuXBw7dgxxcXE2rxciIiJyPA7d/ffZZ59h9uzZmDBhAm7fvo2aNWvi1VdfxZw5czTbTJs2Dfn5+XjllVeQk5ODLl26ICEhAd7e3ppt1q9fj7i4ODzxxBNwc3PD4MGD8emnn2reDwgIwK+//oqJEyeiTZs2CA0NxZw5c3RyWXXq1Anx8fGYNWsW3nrrLTRq1Ahbt25FVFSUbSqDiIiIHJpDB1XVqlXD0qVLsXTpUoPbKBQKvPvuu3j33XcNbhMcHIz4+Hijn9W8eXP88ccfRrd57rnn8NxzzxndhoiIiConh+7+IyIiInIWDKqIiIiIZMCgioiIiEgGDKqIiIiIZMCgioiIiEgGDKqIiIiIZMCgioiIiEgGDKqIiIiIZMCgioiIiEgGDKqIiIiIZMCgioiIiEgGDKqIiIiIZMCgioiIiEgGDKqIiIiIZMCgioiIiEgGDKqIiIiIZMCgioiIiEgGDKqIiIiIZMCgioiIiEgGDKqIiIiIZMCgioiIiEgGDKqIiIiIZMCgioiIiEgGDKqIiIiIZMCgioiIiEgGDKqIiIiIZMCgioiIiEgGDKqIiIiIZMCgioiIiEgGDKqIiIiIZMCgioiIiEgGDKqIiIiIZFDF3gUgIiLHVaoScCQ1C7fvFaJGNW+0jwiGu5vC3sUickgMqoiISK+ElDTM+/Ec0nILNa+FB3jjnaci0Scq3I4lI3JM7P4jIqIKElLSMH7dcZ2ACgDScwsxft1xJKSk2alkRI6LQRUREekoVQmY9+M5CHreU78278dzKFXp24Ko8pItqEpLS0NcXJxcuyMiIjs5kppVoYVKmwAgLbcQR1KzbFcoIicgaUzV2bNnsXfvXnh6euL5559HYGAgMjMz8f7772PVqlWoX7++tcpJREQ2cvue4YDKnO2IKgvRQdX27dvx7LPP4uHDhwCAxYsX48svv8Tzzz+PNm3a4IcffkCfPn2sVlAiIrKNGtW8Zd2OXBtniP5DdFD13nvvYeLEiZg/fz6++uorTJ06Fa+//jp27tyJdu3aWbOMRERkQ+0jghEe4I303EK946oUAJQBZTdPqtw4Q1SX6DFVFy9exMSJE1G1alW89tprcHNzw5IlSxhQERG5GHc3Bd55KhJAWQClTf3vd56KrLStEVSGM0QrEh1U3bt3D/7+/gAAd3d3+Pj4cAwVEZGL6hMVjpUvtoYyQLeLTxngjZUvtq6UrRD0D84Q1U/SQPVffvkFAQEBAACVSoXdu3cjJSVFZ5unn35avtIREZHd9IkKR69IJcfLUAVSZohGNwixXcHsTFJQNXLkSJ1/v/rqqzr/VigUKC0ttbxURETkENzdFJXqpkji7DqXLmq7yjZDVHRQpVKprFkOIiIicgKlKgE/nLwlatvKNkOUGdWJiIhItCOpWcjKLzG5XYifZ6WbISq6perTTz/V+3pAQAAeffRRREdHy1YoIiIickxiu/QGtKxZ6cbfiQ6qlixZovf1nJwc5ObmolOnTti+fTuCgytXVEpERFSZiO3S6xWptHJJHI/o7r/U1FS9/2VnZ+PKlStQqVSYNWuWNctKREREdqZODmusDSq8kiaHlWVMVf369bFw4UL8+uuvcuyOiIiIHJSp5LAKVN7ksLINVK9Tpw7S08VNsSQiIiLnxeSw+knKU2XMmTNnULduXbl2R0RERA6MyWErEh1U5eXl6X09NzcXycnJeOONNyokByUiIiLXxeSwukQHVYGBgVAo9EefCoUCL7/8MmbMmCFbwYiIiIicieigau/evXpf9/f3R6NGjVC1alXZCkVERETkbEQHVd27d7dmOYiIiIicmmyz/7Zs2YLmzZvLtTsiIiIipyIpqPriiy/w7LPPYtiwYTh8+DAAYM+ePWjVqhVeeukldO7c2SqFJCIiInJ0ooOqhQsX4rXXXsP169exfft29OzZEx988AGGDx+OF154Af/73/+wcuVKa5aViIiIyGGJHlO1du1afPnllxg5ciT++OMPdO/eHQcPHsSVK1fg5+dnzTISEREROTzRQdXNmzfRs2dPAEDXrl3h4eGBefPmMaAiIiIyoFQlMDlmJSI6qCoqKoK39z/p6D09PREcXPkWSyQiIhIjISUN8348h7TcQs1r4QHeeOepyEq7jIurk7RMzezZs+Hr6wsAKC4uxnvvvYeAgACdbT755BP5SkdEROSEdp3PwIT4UxDKvZ6eW4jx645X6vXxXJnogerdunXDxYsXceLECZw4cQKdOnXCtWvXNP8+ceIETp48KXsBb926hRdffBEhISHw8fFBs2bNcOzYMc37giBgzpw5CA8Ph4+PD2JiYnD58mWdfWRlZWH48OHw9/dHYGAgxowZg/v37+tsc/r0aXTt2hXe3t6oXbs2Fi9eXKEsmzdvRpMmTeDt7Y1mzZph586dsn9fIiJyfgt/vlAhoAKgeW3ej+dQqtK3BTkz0S1Vv/32mxWLoV92djY6d+6Mxx9/HD///DOqV6+Oy5cvIygoSLPN4sWL8emnn+Lbb79FREQEZs+ejdjYWJw7d07TXTl8+HCkpaUhMTERJSUlGDVqFF555RXEx8cDKFvXsHfv3oiJicGqVatw5swZjB49GoGBgXjllVcAAAcPHsTQoUOxYMECPPnkk4iPj8fAgQNx/PhxREVF2bxuiIjIcaXnFQLQP3ZKAJCWW4gjqVlcN8/FSOr+s7VFixahdu3aWLt2rea1iIgIzf8LgoClS5di1qxZGDBgAADgu+++Q1hYGLZu3YohQ4bg/PnzSEhIwNGjR9G2bVsAwGeffYZ+/frho48+Qs2aNbF+/XoUFxdjzZo18PT0xGOPPYaTJ0/ik08+0QRVy5YtQ58+ffDmm28CAObPn4/ExEQsX74cq1atslWVEBGRi7h9r9D0RuRUHDqo2r59O2JjY/Hcc8/h999/R61atTBhwgSMHTsWAJCamor09HTExMRo/iYgIAAdOnRAUlIShgwZgqSkJAQGBmoCKgCIiYmBm5sbDh8+jEGDBiEpKQndunWDp6enZpvY2FgsWrQI2dnZCAoKQlJSEqZOnapTvtjYWGzdutVg+YuKilBUVKT5d15eHgCgpKQEJSUlFtWNNvW+5Nwn6WIdWx/r2PpYx9anrlsvN9Nde6G+VXgszGCP81jsZzl0UHXt2jWsXLkSU6dOxVtvvYWjR4/i9ddfh6enJ0aOHIn09HQAQFhYmM7fhYWFad5LT09HjRo1dN6vUqUKgoODdbbRbgHT3md6ejqCgoKQnp5u9HP0WbBgAebNm1fh9V9//VUz4F9OiYmJsu+TdLGOrY91bH2sY+ub31ZlcpvM84ew87wNCuOibHkeFxQUiNrOoYMqlUqFtm3b4oMPPgAAtGrVCikpKVi1ahVGjhxp59KZNnPmTJ3Wrby8PNSuXRu9e/eGv7+/bJ9TUlKCxMRE9OrVCx4eHrLtl/7BOrY+1rH1sY6ta9f5DHzyy3nEPVqA2cfcUKSqOKZK/cqSF1oipmlYhffJNHucx+qeJlMcOqgKDw9HZGSkzmtNmzbFf//7XwCAUqkEAGRkZCA8/J+pqRkZGWjZsqVmm9u3b+vs4+HDh8jKytL8vVKpREZGhs426n+b2kb9vj5eXl7w8vKq8LqHh4dVTgRr7Zf+wTq2Ptax9bGO5ZeQkoYJ8afg6V7W7VekUqCotGJQxTxV8rHleSz2cyQtqGzKzZs3UVpaKtv+OnfujIsXL+q8dunSJdStWxdA2aB1pVKJ3bt3a97Py8vD4cOHER0dDQCIjo5GTk4OkpOTNdvs2bMHKpUKHTp00Gyzb98+nT7TxMRENG7cWDPTMDo6Wudz1NuoP4eIiCqnUpWAeT+e05tCQS3QxwPrX+6A/dN7MqByYbIGVfXq1UNkZCS2bNkiy/6mTJmCQ4cO4YMPPsCVK1cQHx+P1atXY+LEiQAAhUKByZMn47333sP27dtx5swZjBgxAjVr1sTAgQMBlLVs9enTB2PHjsWRI0dw4MABxMXFYciQIahZsyYAYNiwYfD09MSYMWNw9uxZbNq0CcuWLdPpups0aRISEhLw8ccf48KFC5g7dy6OHTuGuLg4Wb4rERE5pyOpWTpZ0/XJeVACN4WCS9S4OFm7//bu3Ytr165h06ZNeOaZZyzeX7t27fDDDz9g5syZePfddxEREYGlS5di+PDhmm2mTZuG/Px8vPLKK8jJyUGXLl2QkJCgs6TO+vXrERcXhyeeeAJubm4YPHgwPv30U837AQEB+PXXXzFx4kS0adMGoaGhmDNnjiadAgB06tQJ8fHxmDVrFt566y00atQIW7duZY4qIqJKTmxqBKZQcH2yBlXdu3dH9+7dMWrUKNn2+eSTT+LJJ580+L5CocC7776Ld9991+A2wcHBmkSfhjRv3hx//PGH0W2ee+45PPfcc8YLTERElUqNat6mN5KwHTkvWbv/iIiIKpv2EcEID/A2kD+9bMZfeIA32kcE27JYZAdmtVT95z//wffff4+bN2+iuLhY573jx4/LUjAiIiJn4O6mwDtPRWL8uuMVAiv1v995KpLjqSoByS1Vn376KUaNGoWwsDCcOHEC7du3R0hICK5du4a+fftao4xEREQOrU9UOFa+2Bph/rpdfMoAb6x8sTVn/FUSkluqPv/8c6xevRpDhw7FN998g2nTpqF+/fqYM2cOsrKyrFFGIiIih9cnKhw9GoXgl4SfsXhwc9QI8EP7iGC2UFUikluqbt68iU6dOgEAfHx8cO/ePQDASy+9hA0bNshbOiIiIieiDqD6NQtHdIMQBlSVjOSgSqlUalqk6tSpg0OHDgEoW9xYEEwvIElERETkiiQHVT179sT27dsBAKNGjcKUKVPQq1cvvPDCCxg0aJDsBSQiIiJyBpLHVK1evRoqVdnq2xMnTkRISAgOHjyIp59+Gq+++qrsBSQiIiJyBpKDKjc3N7i5/dPANWTIEAwZMkTWQhERERE5G7OSf65btw7ffvstBEHA77//jtdffx3ffPONzEUjIiIich6SW6pmzJiB1atXw9fXF8ePH8fGjRvRuXNnrF27FhkZGZg+fbo1ykkurFQl4EhqFm7fK0SNat4uPQW5Mn1XKsNjTlR5SA6q1q1bhw0bNuDRRx9Fw4YNsW7dOgwdOhTr1q3D/PnzGVSRJAkpaZj34zmdFd7DA7zxzlORLpcsrzJ9VyrDY05UuUju/rtz5w4ee+wxREREwNvbG23atAEAdO3aFX/++afsBSTXlZCShvHrjuvccAAgPbcQ49cdR0JKmp1KJr/K9F2pDI85UeUjOagKDQ1FZmYmAGDWrFmoUaMGACA/Px/VqlWTt3TkskpVAub9eA76MpupX5v34zmUqpw/91ll+q5UhsecqHKSHFSNGDECOTk5AICZM2ciMDAQAPD777+jXbt2cpaNXNiR1KwKT/DaBABpuYU4kur8Sx9Vpu9KZXjMyVZKVQKSrt7FtpO3kHT1rlMG6q7wHdQkj6lasGCB3tfHjx+P8ePHW1wgqhxu3zN8wzFnO0dWmb4rleExJ1twhTF7rvAdtJmVUoHIUjWqeZveSMJ2jqwyfVcqw2NO1uYKY/Z2nk7DOCf/DuVJbqkCgP/85z/4/vvvcfPmTRQXF+u8d/z4cVkKRq6tfUQwwgO8kZ5bqHfciQKAMqBs+rmzq0zflcrwmJM1mRqzp0DZmL1ekUqHTd+x8/RfiNtwQu97zvId9JHcUvXpp59i1KhRCAsLw4kTJ9C+fXuEhITg2rVr6Nu3rzXKSC7I3U2Bd56KBFD249Gm/vc7T0U61Y/JkMr0XakMjzlZk7OP2UtIScOE+BMwNnTK0b+DIZKDqs8//xyrV6/GZ599Bk9PT0ybNg2JiYl4/fXXkZuba40ykovqExWOlS+2hjJAtwtEGeCNlS+2dsr+dEMq03elMjzmZC3OPGZP3comliN+B2Mkd//dvHkTnTp1AgD4+Pjg3r17AICXXnoJHTt2xPLly+UtIbm0PlHh6BWprBQZpyvTd6UyPOZkDc48Zs9UK1t5jvgdjJEcVCmVSmRlZaFu3bqoU6cODh06hBYtWiA1NRWC4LzTIMl+3N0UiG4QYu9i2ERl+q5Uhsec5ObMY/aktDyFO+h3MEZy91/Pnj2xfft2AMCoUaMwZcoU9OrVCy+88AIGDRokewGJiIjoH848Zk9Ky5OjfgdjJLdUrV69GiqVCgAwceJEhISE4ODBg3j66afx6quvyl5AIiIi0qUes1c+x5PSwXM8mWplAwA3BbB8qHOOO5QcVLm5ucHN7Z8GriFDhmDIkCGyFoqIiIiMc8Yxe+pWtvHrjkMB6A2slg9thX7NnS+gAszo/jt58qTe17Ozs/Hiiy9aWh4iIiISST1mb0DLWohuEOLQAZWaoZmx4QHeWPVia/RrXtNOJbOc5Jaqxx9/HD/99BM6d+6seW3btm0YN24cmjVrJmvhiIiIyPU4YyubGJKDqg8//BD9+vXD999/j/bt22PixInYsWMHFi9ezDFVREQuqFQluNzNj+zPFWfGSg6qXn75Zfj7+2Pw4MGoWrUqmjdvjjNnzqBOnTrWKB8REdmRqy14S2RNZi2o/Pzzz2Pz5s24d+8enn32WQZUREQuyBUW7SWyJcktVVOnTtX8f8uWLTF+/HgcPHgQwcFlCbo++eQT+UpHRER24QqL9hLZmuSg6sSJf1aV9vT0RLdu3XDjxg3cuHEDCgV/WERErkDKor2uNi6GyFySg6q9e/daoxxERORAnHnRXiJ7MWtMFRERuTZnXrSXyF4kt1QBwLFjx/D999/j5s2bKC4u1nlvy5YtshSMiIjsx5kX7SWyF8ktVRs3bkSnTp1w/vx5/PDDDygpKcHZs2exZ88eBAQEWKOMRERkY868aC+RvUgOqj744AMsWbIEP/74Izw9PbFs2TJcuHABzz//PFMrEBG5EEPLiSgDvLHyRedc8JbImiR3/129ehX9+/cHUDb7Lz8/HwqFAlOmTEHPnj0xb9482QtJRET24arLiRBZg+SgKigoCPfu3QMA1KpVCykpKWjWrBlycnJQUFAgewGJiMi+XHE5ESJrkBxUdevWDYmJiWjWrBmee+45TJo0CXv27EFiYiKeeOIJa5SRiIiIyOFJDqqWL1+OwsKyvCRvv/02PDw8cPDgQQwePBizZs2SvYBERCSPUlXZPL6dZ9JQI8CP3XhEMpMcVKmXowEANzc3zJgxQ9YCERGR/BJS0rBgx1lMbQJM++9pFJUqzF4YuVQlcIwVkR5m5anav38/SktL0b17d1y8eBE7duxA69at0aNHD5mLR0REllIvjOzprptxSr0wspSZfAkpaZj34zmdJWzMDc6IXI3klAoff/wxevbsiX79+mHhwoXo0qUL1q1bh969e2PNmjXWKCMREZnJ1MLIQNnCyOquQWPUwVn5NQHVwVlCSprlBSZyYpKDqpUrV+Lf//43Dhw4gDlz5mDevHk4fvw4PvroIyxdutQKRSQiInNJWRjZGDmDMyJXJTmo+t///ofOnTujZcuWqFKlCnr27AkAeOqpp3Dt2jXZC0hEROaTa2FkuYIzIlcmOagKCAhATk4OAGDkyJEIDQ0FABQXF8PLy0vWwhERkWXkWhhZruCMyJVJDqpiY2Px559/AijrClQHVYcOHULz5s3lLR0RkQxKVQKSrt7FtpO3kHT1bqXqolIvjGxobp4CZQPNTS2MLFdwRuTKJM/+++677/S+PnDgQAwYMMDiAhERycmZZ6vJkbpAvTDy+HXHLVoYWR2cpecW6h1XpUDZmoCmgjMiV2ZWSgV9AgIC5NoVEZEs1LPVygcB5qQSsDU5g0H1wsgLdpwFkK95XSlhf+WDM+06lRKcEbkyyd1/RETOwJlnq1kjdUGfqHD8MrkbAGDx4ObYMLYj9k/vKSlAUwdnygDdLj5lgLdDB6hEtiJbSxURkSORMlvNkRYLNhUMKlAWDPaKVJrVFQgA/ZqFw8PDw6zy9YkKR69IJTOqE+nBoIqIXJKzzlazNBi0xRIy7m4KhwpEiRwFgyoicknOOlvNkmDQmQflE7kCs4Oqc+fO4ebNmyguLtZ5/emnn7a4UERElnLW2WrmBoNiBuU/0ThUplISkT6Sg6pr165h0KBBOHPmDBQKBQSh7CesUJQ1L5eWlspbQiIiMzjrbDVzgkGx47B6NOpqnUITEQAzZv9NmjQJERERuH37Nnx9fXH27Fns27cPbdu2xW+//WaFIhIRmccZZ6upg0EAovNKiR2HlXwjW97CEpEOyS1VSUlJ2LNnD0JDQ+Hm5gY3Nzd06dIFCxYswOuvv44TJ05Yo5xEpIctBiU7O2ecraYOBsuPjzKUV0rsOKzM+0WylpOIdEkOqkpLS1GtWjUAQGhoKP766y80btwYdevWxcWLF2UvIBHpx0HJ4jnjbDUpwaDYcVihVb2QKXdBiUhDclAVFRWFU6dOISIiAh06dMDixYvh6emJ1atXo379+tYoIzkYto7YnzNnCifxxAaDYsdhtakbhF/Oy15MIvqb5KBq1qxZyM8vW+bg3XffxZNPPomuXbsiJCQEmzZtkr2A5FjYOmJ/1kwOSc7JWQflE7kayQPVY2Nj8cwzzwAAGjZsiAsXLiAzMxO3b99Gz549ZS8gOQ5rLJ1B0klJDkmVhzMOyidyNbIk/wwOdqw8LyQ/to44DmfNFE7W54yD8olcieSWqp49exr9z5oWLlwIhUKByZMna14rLCzExIkTERISgqpVq2Lw4MHIyMjQ+bubN2+if//+8PX1RY0aNfDmm2/i4cOHOtv89ttvaN26Nby8vNCwYUN88803FT5/xYoVqFevHry9vdGhQwccOXLEGl/TIbF1xHE4a6Zwsg31OKwBLWshukEIAyoiG5LcUvXbb7/hkUcewdNPP232gpzmOHr0KL744gs0b95c5/UpU6Zgx44d2Lx5MwICAhAXF4dnnnkGBw4cAFA2W7F///5QKpU4ePAg0tLSMGLECHh4eOCDDz4AAKSmpqJ///4YN24c1q9fj927d+Pll19GeHg4YmNjAQCbNm3C1KlTsWrVKnTo0AFLly5FbGwsLl68iBo1atisHuyFrSOOw1kzhRORa+BkJcMkB1U//PADVq9ejf/85z946aWXMHbsWDz66KPWKJvG/fv3MXz4cHz55Zd47733NK/n5ubi66+/Rnx8vKaVbO3atWjatCkOHTqEjh074tdff8W5c+ewa9cuhIWFoWXLlpg/fz6mT5+OuXPnwtPTE6tWrUJERAQ+/vhjAEDTpk2xf/9+LFmyRBNUffLJJxg7dixGjRoFAFi1ahV27NiBNWvWYMaMGVb9/o6ArSOOg4OSicheOFnJOMlB1YABAzBgwAD8+eef+OqrrxATE4MGDRpg0aJFaN++vTXKiIkTJ6J///6IiYnRCaqSk5NRUlKCmJgYzWtNmjRBnTp1kJSUhI4dOyIpKQnNmjVDWFiYZpvY2FiMHz8eZ8+eRatWrZCUlKSzD/U26m7G4uJiJCcnY+bMmZr33dzcEBMTg6SkJIPlLioqQlHRP8n28vLyAAAlJSUoKSkxrzL0UO9Lzn2W1+qRaqgb5IWMPMOtI2H+3mj1SDWrlsNebFHHUjzROBSfD2uBhT9fQHqeVnJIf2/M6NsETzQOdZiyiuVodeyKWMfW58p1vOt8BqZsOgkBgJf7P69n33+AyRuSseSFlohpGmbw7+VijzoW+1lmD1SvXbs23nzzTdSoUQNvvfUWkpKSrBJUbdy4EcePH8fRo0crvJeeng5PT08EBgbqvB4WFob09HTNNtoBlfp99XvGtsnLy8ODBw+QnZ2N0tJSvdtcuHDBYNkXLFiAefPmVXj9119/ha+vr8G/M1diYqLs+9Q2tYmpLfLxS8LPVi2DvVm7jqWqeEzyUZyajJ2p9iiNPBytjl0R69j6XLWOFxm5zdv62mPLOi4oKBC1nVlB1ZEjR7B69Wps27YNsbGx+PHHH9GtWzdzdmXUn3/+iUmTJiExMRHe3s7XrTRz5kxMnTpV8++8vDzUrl0bvXv3hr+/v2yfU1JSgsTERPTq1cvq49x2nc8w2DpiiycUe7FlHVdWrGPrYx1bn6vW8ZHULIz+tmLjRnlrRraz+nhOe9SxuqfJFMlBVcuWLZGVlYXRo0fjyJEjCAkJ0flAOYOF5ORk3L59G61bt9a8Vlpain379mH58uX45ZdfUFxcjJycHJ3WqoyMDCiVSgCAUqmsMEtPPTtQe5vyMwYzMjLg7+8PHx8fuLu7w93dXe826n3o4+XlBS8vrwqve3h4WOVEsNZ+tfVt/gh6R9VyuEGKtho4aYs6ruxYx9bHOrY+V6vjzIKHKCo1fU3NLHhos+9tyzoW+zmSg6rTp08DKMumPn/+fM3rgiBAoVCgtLRU6i4NeuKJJ3DmzBmd10aNGoUmTZpg+vTpqF27Njw8PLB7924MHjwYAHDx4kXcvHkT0dHRAIDo6Gi8//77uH37tmaWXmJiIvz9/REZGanZZufOnTqfk5iYqNmHp6cn2rRpg927d2PgwIEAAJVKhd27dyMuLk627+ssHG0dNQ6cJCKyLk5WEkdyULV3715rlEOvatWqISoqSuc1Pz8/hISEaF4fM2YMpk6diuDgYPj7++O1115DdHQ0OnbsCADo3bs3IiMj8dJLL2Hx4sVIT0/HrFmzMHHiRE0r0rhx47B8+XJMmzYNo0ePxp49e/D9999jx44dms+dOnUqRo4cibZt26J9+/ZYunQp8vPzNbMByT64Bp59cWo1UeXAVC7iSA6qunfvbo1ymG3JkiVwc3PD4MGDUVRUhNjYWHz++eea993d3fHTTz9h/PjxiI6Ohp+fH0aOHIl3331Xs01ERAR27NiBKVOmYNmyZXjkkUfw1VdfadIpAMALL7yAO3fuYM6cOUhPT0fLli2RkJBQYfA62Q6zvNsXWwgrHwbRlRdTuYgjOajat2+f0fetMWBd22+//abzb29vb6xYsQIrVqww+Dd169at0L1XXo8ePXDixAmj28TFxVXK7j5HJSXLuyN1V7oCthBWPgyiSb2+ZPnzQMnzQENyUNWjRw8oFGWRqCDoXlLlHlNFZAyzvNsHWwgrHwbRpMb1JY2THFS1aNECmZmZGDNmDEaMGKGZ/Udkaxw4aR9sIaxcGERTeY42WcmRSF5Q+cSJE9iyZQtu3bqFDh06YMKECTh58iQCAgIQEBBgjTIS6aUeOGnoMq5AWfdEZR84KTe2EFYuXEydSDzJQRUAtGvXDl9++SWuXbuGTp06YcCAAVi6dKnMRSMyTj1wEkCFwIoDJ62HLYSVizMH0aUqAUlX72LbyVtIunoXpSp97W1E8jF7mRr12n9r1qxB69at0aVLFznLRSQKB07aHqdWVy7OGkRzYD3Zg+SgauvWrVi9ejVOnDiBl156CXv27EGjRo2sUTYiUThw0rZcbWq1oTQBTB9QxhmDaA6sJ3uRHFQ988wzeOSRRzB48GA8fPgQK1eu1Hn/k08+ka1wRGJx4KRtuUoLoaHWjKdbhGP7qTS2csD5gmhbDaxn0E36SA6qunXrBoVCgbNnz1Z4T51qgYhcn7O3EBpqzUjLLcQX+1IrbF+ZWzmcKYi2xexUY12LTzQONWuf5BokB1Xlk28SUeXlrC2ExlozDLF3+gB7t4w4SxBt7YH1proWPx/Wwqz9kmuQHFStXbsWQ4YMgY+PjzXKQ0RkdaZaMwyxVw4uRxl07QxBtDUH1ovpWlz48wVMbSJ51+QiJKdUmDFjBsLCwjBmzBgcPHjQGmUicnqcyu3YLJ3+b8v0AeqWkfJBoLplJCElzWZlcQbWzF8npmsxPc/xUkuQ7UgOqm7duoVvv/0WmZmZ6NGjB5o0aYJFixYhPT3dGuUjcjoJKWnosmgPhn55CJM2nsTQLw+hy6I9vPk5EEun/9sqfYCplhGgrDuSQfs/rJm/zhFzcZFjkRxUValSBYMGDcK2bdvw559/YuzYsVi/fj3q1KmDp59+Gtu2bYNKpbJGWYkcHlsVHIuhFkNTrRmG2DpLP7OZm0c9sF4ZoBv8KgO8LZpo4Gi5uMjxmJ38EwDCwsLQpUsXXLp0CZcuXcKZM2cwcuRIBAUFYe3atejRo4dMxSRyfFwjzbGYGodkKE2AIfZIH+DM2cztzRoD60Xl7PL3BpBv9meQczNrmZqMjAx89NFHeOyxx9CjRw/k5eXhp59+QmpqKm7duoXnn38eI0eOlLusRA6NrQqOQ0yLoaHWjPAAb4ztGoFgP0+d1y1t5TCHs2YzdxTqgfUDWtZCdIMQi4NhY12LQNlvfEZfjlKvzCS3VD311FP45Zdf8Oijj2Ls2LEYMWIEgoP/aQr38/PDG2+8gQ8//FDWghI5OrYqOAYpLYb6WjOy84sxf8c5ZOUXa/4u2M8Ds/s3tXk+JmfMZu7q1MH4jC1nkFNQovNeoK+HnUpFjkJyS1WNGjXw+++/IyUlBZMnT9YJqNSqV6+O1NSKyfPINXBmm35sVXAMUlsMtVszch8UY2J8xRau7PwSTIw/YfMxcVw03HHllguo1K9N2XTS9oUhhyG5perrr782uY1CoUDdunXNKhA5NkfJl+OI2KrgGMxtMXTUMXHOlM28MhAzI1O9HdutKh/RLVV79uxBZGQk8vLyKryXm5uLxx57DH/88YeshSPHwpltxrFVwTGY22LoyGPi+kSFY//0ntgwtiOWDWmJDWM7Yv/0ngyo7EDMeQIAyTeybVMgciiig6qlS5di7Nix8Pf3r/BeQEAAXn31VS6m7MKYL0cca03ldmSO1h1sbvJHRx8TJ/egazKP2OOfeb/IyiUhRyS6++/UqVNYtGiRwfd79+6Njz76SJZCkeOxxSKlrsJZ1kiTgyN2B6tbDPWlSzDWYii2hSvzXhFKVYJLHk8yTex5ElrVy8olIUckuqUqIyMDHh6Ge4irVKmCO3fuyFIocjyO/hTvaCpDq4Ijdweb02IoNiHo/B3nmSG/EhPTEgoAbeoG2apI5EBEt1TVqlULKSkpaNiwod73T58+jfBw1+vaoDKuOLOtVCVUitYka7DFoG5Lj4/UFkNjLVzlqQNHV+3SrUyknmdiWkLV21HlIzqo6tevH2bPno0+ffrA21v3xvngwQO88847ePLJJ2UvIDkGV5vZ5ojdVs7E2t3Bch0fdYuhWIZm2pXHDPmuwdzzzNiMzDn9G6M4Ndmq5SbHJTqomjVrFrZs2YJHH30UcXFxaNy4MQDgwoULWLFiBUpLS/H2229braBkX+aOU3FE6m6r8sEhWx/Es2Z38K7zGZgQf8pux0fdwvXNgVTM33He4HYcR+jcLL0OGGoJVZU+xE6maay0RAdVYWFhOHjwIMaPH4+ZM2dCEMpORYVCgdjYWKxYsQJhYWFWKyjZnyvky3HUXETOxprdwQt/vmD34+PupkBoNXEDjTmO0PnIdR3Q1xKqKpW1qORkJCX/rFu3Lnbu3Ins7GxcuXIFgiCgUaNGCArigLzKwtlntnEWozys2R2cnlcI/Sur2fb4uOI4QirD6wBZi+SM6gAQFBSEdu3ayV0WcnDlB3Q+2bym0wRTapzFKA97dwfb4vi42jhCMSrL5A1eB8hazAqqqPJxlYHdbH2Qjz27g21xfOwdONqaq/zGxeB1gKyFQRWZ5EoDuytj64M1WaM7WOnvjZvZRQ5xfFxhHKEYrvQbF8Pe14HK0iJYGTGoIqNsObDbFheaytb6YAtS0xaYMqNvE0yIP+Uwx8fZxxGaUhknb9jzOlCZWgQrI9EZ1alystUiswkpaeiyaA+GfnkIkzaexNAvD1kta3VlXJ/PmcQ0DXO44+PKGfIdeSFpa7LHdcCRVyEgebClioyyxYBOe3Q9uHrrg7Pj8bGdXefSRW3nioO2bXme2bNF0N7djfb+fFtiUEVGWXtApz0vNHJ3W5G8eHysLyElDV8fuC5qW1cdtG2r88xeaRzs3d1o78+3NXb/kVFiFg8Nt2BAZ2XteiDHUqoSkHT1LradvIWkq3dRqhJEvefM1A80plj6G6cy9kjjYO/uRnt/vj2wpYqMsvaATuaLIXsz9iQNwGWfsk090KgJ4OQNOdg6jYO9JyDY+/PthS1VZJI1B3QyXwzZk7En6XHrjmOcCz9li31QGd25ntMHkI7A2q3+5dm7F8Den28vbKkiUaw1oNPe+WKo8jL1JG2Iqzxli31Q6RWptHJJKgdbp3Gwdy+AvT/fXthSRaKJmVYudfyJ+kIDVFztjXmjXJu9xyqJ7f7Sx5KnbHt/bzVbt5yQbdM42LsXwN6fby9sqSLZmDvLo7JkraZ/6DtX6gZ5YWoT25VBjidkqftwpJlQTIRrH7ZK42DvXgB7f769MKgiWViaa4p5iSoPQ+dKRl5ZoLHrfAb6Nn/E6uWQ4wlZyj4Mfe+0v8dvTYlphLiejWyeLZ4PNOLImWvJFmkc7B002/vz7YVBFVlMrlkezEvk+sSMY1r48wX0jqpl9YutqSdpY6Q+ZRv73mpLdl3GhiN/Yu7Ttg1m+EBjmiO1MEph76DZ3p9vDwyqyGL2SmpHzkfMOKb0PNucK6aepAU9/6/+NyDtKVvs+K30PPssYMwHGsOcfbFpewfN1vz8I6lZyCx46FAPAgyqyGKVdZYHSedo50qvSCUmxzyKtQdSkfOgRPO60kieKnOesqV+H2efWegqXCXXkr2DZu3Pl6Mbddf5DADA6G+Poqi07G8dpeWQQRVZrLLO8qisLLkoOtK5oq9LJ9DHA6M619MZ2yTHU7aU7+MsLbvOvp6bmPKzFV5ecnSjJqSkYcqmk1jUXvd1R2k5ZFBFFqusszwqI0svimLGMSn9rX+uGOrSyX1QgqW7LqOxsprm+8jxlG/O+C1Hbtl11jFGamLL72gtq85Mjm5UZ2g5ZJ4qshhzTVUOcqzjJeZcmdG3iVXPFTGD5ef9eE7W/FHa31ssW7TWmZMzy9nXc5NSfjlaVh0lL5k9yfWbc4Ys7QyqSBa2TGpHtidnIGLoXAnzL/t3TNMwC0trnL0uzJrv7e9ldDtbJd1MSElDl0V7MPTLQ5i08SSGfnkIXRbtMRoU2SMglZPU8luaINWcOnZFcv3mnKHlkN1/JBt7zzJxNs40JkXusSX6zpVWj1TDLwk/y1hq/ex5YVZ/7+V7rmDJrksV3rdVy+6u8xmYEH9KcleMs48xklp+S3ItmVvHrkiu35wjjck0hEEVycres0ychbONSbFGIFL+XCkpKTGytXzsfWF2d1NgUkwjNFZWtVv+noU/XzBrXIoztBQYY075zc21ZG4duyK5fnPqlsPs+w/0vu8I43cZVBHZmDPmvbF3ICInR5lYYc+W3fS8QlQc1VbGWGuTs58H5pbfnGNlbh27Irl+c+qWw8kbkvXuA7D/+F2OqSKyIWcdk+JKi+860sQKMYuU24u+Vh1nPw8sKb81jpWjtujJTc7fXJ+ocCx5oWWF1x1l/C6DqkqGM1Hsyxlmr+jjSIGIHDixwjR9rTrOfh44WvkdtUXPGuT8zakns6wZ2Q7LhrTEhrEdsX96T4f43bL7rxJxtnE8rsiZx6S42jpelXlihdLfGzezi8zqinH288BW5bekjl2V3L+59hHB8PDwkLmUlmFQVUk44zgeV+TsY1JcLRCprBMrZvRtggnxp8xe19DZzwNblN/SOnZVrv6bY1BVCThDFtrKQkxm7UBfD4d+gnX1i2JlENM0zOLWGmc/D6xdfjnqmJwPg6pKwNlzy7gS9ZiOceuOG9wmp6AEiefSedElq3L21iZnwDqufBhUVQLOPI7HFfWKVCLQ1wM5BfrzMrHlkGzF2VubnAHruHJhUFUJOPs4HldzJDXLYEAF2K/l0JkyvBNZA38DZCkGVZWAoyQ7pDKO2HLImaFU2fE3QHJgnqpKwNFys1R2jtZyqJ4ZWn7cnXpmaGVb/JUqH/4GSC4MqioJJjt0HI6UldpZMrwzaa3rcLRj6Sy/AXIO7P6rRDgTxTGoWw7Hr5O+8r0ctMeNZN4rcviZoeyWcR3mHEtrj3Pi7GiSk0O3VC1YsADt2rVDtWrVUKNGDQwcOBAXL17U2aawsBATJ05ESEgIqlatisGDByMjI0Nnm5s3b6J///7w9fVFjRo18Oabb+Lhw4c62/z2229o3bo1vLy80LBhQ3zzzTcVyrNixQrUq1cP3t7e6NChA44cOSL7d7Y2R15rrDKxV8thQkoauizag6FfHsKkjScxf8d5UX9nr5mh7JZxPOa2NJlzLMufr0O/PIQui/bIetwdcYwjOS+Hbqn6/fffMXHiRLRr1w4PHz7EW2+9hd69e+PcuXPw8/MDAEyZMgU7duzA5s2bERAQgLi4ODzzzDM4cOAAAKC0tBT9+/eHUqnEwYMHkZaWhhEjRsDDwwMffPABACA1NRX9+/fHuHHjsH79euzevRsvv/wywsPDERsbCwDYtGkTpk6dilWrVqFDhw5YunQpYmNjcfHiRdSoUcM+FUROzdYth4ay6oth65mhpSoBh67exYz/nnG5pLX2mGGm+czcfM2/zVncw9xWQ3MSENtqFQix53bmvSKUqoQKx6r88Wz1SDWLy0TOSyEIgtN0FN+5cwc1atTA77//jm7duiE3NxfVq1dHfHw8nn32WQDAhQsX0LRpUyQlJaFjx474+eef8eSTT+Kvv/5CWFjZIoyrVq3C9OnTcefOHXh6emL69OnYsWMHUlJSNJ81ZMgQ5OTkICEhAQDQoUMHtGvXDsuXLwcAqFQq1K5dG6+99hpmzJghqvx5eXkICAhAbm4u/P39ZauXkpIS7Ny5E/369RO1DpI5F/XKPtVYah3rY886LFUJ6LJoj9FuDn0UAML8vfDx8y2Reb/IquVW17FnRBu8u+Oi6LJuGNvRaVJPSA1K5DhntD/Ty13A4val+OSCH2b2f0xSULLzdBomxFdMWqsujbEgJ+nqXQz98pDJz1AfS1Pnq3rG8v7pPS0+F9WfZWyVA7Xyx0rf8awb5IWpTfJNXisq+zXVEnJcj6USe/926Jaq8nJzcwEAwcFlA3iTk5NRUlKCmJgYzTZNmjRBnTp1NEFVUlISmjVrpgmoACA2Nhbjx4/H2bNn0apVKyQlJensQ73N5MmTAQDFxcVITk7GzJkzNe+7ubkhJiYGSUlJBstbVFSEoqIizb/z8vIAlJ0QJSWG8xRJpd6XmH3uOp+BhT9fQHqe1rIJ/t6Y0beJZuVvOf7GWkpVApJvZCPzfhFCq3qhTd0gm1yIpNSxPvauwyOpWci6/wBe7uL/Rj3eS1CVYvTaf26I1iq3um5nbD6BQpVCdFlv5+ajpES+hxRjLDmOu85nYMqmkxAAne+Wdf8BJm1IxsQeDfBKtwaa81mOc6b8Z3q5lYUNOfcfYPKGZCx5oaWoff16Nh3/959TBo+JAsCCHWfRo5H+IQW3c/Ph5W76+V19LMWcr1n3H+DQlduyTOiY078xpmw6CQBGA6tsrXoDoPd45tx/AABIPPsXej1WU+9+7H09cASWXMstvR6bQ+xnOU1LlUqlwtNPP42cnBzs378fABAfH49Ro0bpBC4A0L59ezz++ONYtGgRXnnlFdy4cQO//PKL5v2CggL4+flh586d6Nu3Lx599FGMGjVKJ2jauXMn+vfvj4KCAmRnZ6NWrVo4ePAgoqOjNdtMmzYNv//+Ow4fPqy3zHPnzsW8efMqvB4fHw9fX1+L6oOIiIhso6CgAMOGDXOdlqqJEyciJSVFE1A5g5kzZ2Lq1Kmaf+fl5aF27dro3bu37N1/iYmJ6NWrl8Gm0FKVgNil+3SejLSVdfN445fJ3TRPC+b8jbVoP3GXLwMA0U/c5hJTx/o4Sh0eSc3C6G+PmtxuemxjhFT1QrCvJ97emoIMA4NzpZRb7FP5oSu3kXXpGGYfc0ORynRd2PL8s/Q4iq1/tUAfD+Q8MLyMkZjvre8zvdwEzG+r0qnjNSPbGWztMfW9y1s8uDn6NdPfjRm7dB8y8gwnINb+TmLrq3zZLW3JLlUJiD98A4t+uWh6YwP01TFQds5Pi22Mxb9ctOr1QN/vLdCn7JqlfU7p+w3aoidAjmu5uddjS6h7mkxxiqAqLi4OP/30E/bt24dHHnlE87pSqURxcTFycnIQGBioeT0jIwNKpVKzTflZeurZgdrblJ8xmJGRAX9/f/j4+MDd3R3u7u56t1HvQx8vLy94eXlVeN3Dw8MqJ4Kx/R67ehc3sotQMf3nP25kF2H9kf8htJoXalTzhkoQRP3Nif/ds+qYllKVgHd3XERhqf5yKAC8u+MiekfVMjmI1NJxC1KPndh6t3YddmxYA8FVfUxm1R/ZpSHc3RRIunoXN3MsL3dCShomxJ/6+zP/2dfN7CJMiD+lMw4n60EpAKBIpUCRgWOtXV4AmNn/MXh7eRrd1hAp54alxzGz4KHJ76Qt4/5Dk5+1/sj/8K/OETplVn+n9NwH2HfpjsHP1K7jzIKHFl03tNUI8NO7Lw+UHavxfy8kri+NiPaxFHu+dmxYQ2dgu6HxamInhHgACPH3lXSsDCl/Ht/ILsLEjafLfeuKLLkeGPq9lZ1Puq+V/w3aInVJqUrAvJ/Mu5brY617qaHPEsOhgypBEPDaa6/hhx9+wG+//YaIiAid99u0aQMPDw/s3r0bgwcPBgBcvHgRN2/e1HTTRUdH4/3338ft27c1s/QSExPh7++PyMhIzTY7d+7U2XdiYqJmH56enmjTpg12796NgQMHAijrjty9ezfi4uKs9v3lJHY6sPYUe/XTjdh9W2vgpbl5ZBwhv5GjTNeWmhvLknJr39jn7zgvesZXaFUvZIr8PkoLj6PUc8PS42iN2ZPzd5zHV/tTNWXW953EuJxxH0lX7+r9vUo5L00lrFWnESlfRn3H0t1NgadbhOOLfakG96d9vhqbKThu3fEKC5gbO9aOsAaqOdcDYzMs9dH+DapUwMR468+0XL7nstFWT1fICebQQdXEiRMRHx+Pbdu2oVq1akhPTwcABAQEwMfHBwEBARgzZgymTp2K4OBg+Pv747XXXkN0dDQ6duwIAOjduzciIyPx0ksvYfHixUhPT8esWbMwceJETSvSuHHjsHz5ckybNg2jR4/Gnj178P3332PHjh2askydOhUjR45E27Zt0b59eyxduhT5+fkYNWqU7SvGDOZcKAx1P+jbt6Gb1Oz+TRHk52VRoGXODU3qdGxrBYSOtCSNlJuaueWWcmMvfwFtUzcIv5w33iYS6OOBFcNbo2P9igOixR5Dc6bqW3ocs/OL9L5uKXWZX+kWgdX7Us1Kl7F87xUs33tFb6Ah5bwUk7BWbBqRhJQ0rDYSUL3SLUJTTjEZ0csvYG7sWItZKzXM3wuAwmB3pqWkXg9KVQK+OZAqOaBW/wZnbUuxeuqShJQ0LNl1WdS2zpwTzKGDqpUrVwIAevToofP62rVr8a9//QsAsGTJEri5uWHw4MEoKipCbGwsPv/8c8227u7u+OmnnzB+/HhER0fDz88PI0eOxLvvvqvZJiIiAjt27MCUKVOwbNkyPPLII/jqq680OaoA4IUXXsCdO3cwZ84cpKeno2XLlkhISNCZVejITF0ozKFugs/OL9b7lJOWW4gJ8Sd0XjOnpUjqDU1qThxrtmg52mLWYm9q5pTb3DxY6guodhkMtaYtHNwMnRuGVtiH2GNoTr4kwLLjWKoSRCdZlUpdli//MC+g0qYv0BBz3XBTAMuHim/JUCcgNkRMi8v2U2mY1qepZvyVOcGEsWBhSLs6WLLrUoW/U2819+nHAEBvy68lzLkemNtCqS0rv9jge3K0HqmPqViO0FpoLofOqC4Igt7/1AEVAHh7e2PFihXIyspCfn4+tmzZUmGcU926dbFz504UFBTgzp07+Oijj1Clim482aNHD5w4cQJFRUW4evWqzmeoxcXF4caNGygqKsLhw4fRoUMHa3xtqzC2qLI51PuY3b8p5u8Q3+RsTiZsqWvlSekutHbGbkdczFpMVn2p5Zba9aCt/AV0yQstJWWal3IMpZwb2iw5jubc9KWSY1k6fevcibluLB/aCv2ay9edLqa+tI+Rua0a+o61OoO7voAK0D0PDa2KIJYc1wND5741WNJ6JOU3YKt1T63FoYMqkpclF4Hy46vUF5cgPy9JP2hzFiiVekMT++NPz31gk4VUHWExa/XSIj8c/x++/uMafjhxCwcuZ+LAlUyDy41IKbc5gUP5YFgtpmkY9k/viQ1jO2LZkJbYMLYj9k/vaTA5ppRjaMnYKHOPozN1ZegLNAx97/AAb6x6sTX6Ndefi8lcUo+Rpa0a6v2YClCmxDSqcB72iQrXnKtxjzcQ9Xkhfp74fJjl1wNLHmTUFAD8RCaEs6SepfwGbP2QKTeH7v4jy5UfZ9IrUqnT/ZN5r0hU18SKYa3h5qao0GW07eQtyWUypznZGuOBsvKLRbdatK1jWQoMey5mLbZ7QF93mdhySw0ctFs61fsO9f3ncmSqi0hN6iQGS8dGmXMcLb3pd2sUin2XxQ7hl0f542nL81fqMbJ0aEONat4mAxQFgI1H/0Rcz0YV3lOfq+0jgvHf47eQ9XfyT0PmD4hCv+bhiI2yrD4tbQFVd1vmF5Wa3M7SIQpij+mUmEfNesh0pOz0DKpcmJhxJqUqAV/tTzU9ddlAN5Gtnl4A+ccDBVetmO7CcDktzysmNlCQk5RxTml/z5T6fFgrndYHMeWWeh4oA7zxdItwzN9xXnN+li2hUpbHpm/zR0zsoYzUVg05xrhJPY6W3vQvZdyD0t/b4kHRCgBBvh4AjN9EAf3H01bnr9RjZGxmqzHa+zF3hrE2dTkmb0g2uJ9Xu0VoukotrU8p189A37/zVGkN2A/z90LhQ1WFQfz6WNp6JOY3oPT3QlzPhpL37QizvLWx+89FiR1nYumYH1PjnYwxJyCTczyQ0l/c51/OuF9hjI0zMLd7IG7DCew8LW0smZjzINjPA0teKOvOm90/Eqv36Z+tNGXTSdFj2aS2athjjJul4xnT84owtH0ds/9e2+z+xsthqEvWlsw5Roa6KNXBhKn9yJX6pE9UuGYJG23Bfh74fFgrzOwXKepzxBB77s/u3xTJs3oheVYvnS71j59vKSqgmmxm65E2U8dUgbLB/1J/d7vOZ1h1TKw5GFS5IKnjTCwZ82PODcMWF24x30lsQLh87xVNdudfz6ZbqcTyM7d7QCUAE+KlXZDEXDQ/GNQMg1rVQvuIYJOTG8SOZZM6iQGwzxg3Swc11wv1tejvw//+br0f+2cSj6NMnNDHnGOkPb5JHTgkz+qFVSL2I2fqE3U28K9eaou4xxsg7vGG+Gxoa8TKfF6JPffVCWLLP5Bm3heX5qNeqDxLqlnjd7fw5wtWHxMrFbv/XJA5TdmWjJkwNN5JH1teuE19J3O6DaZuPoXTf93DtD5NHaYP3xBLB0hLzU0jdtybHF0talKTmmqX1dZj3LQ/88CVO1i+96rov61RzRvRDUIk//3EHg3QpVF1zXdTLwq75IWWeHfHRZPjE+3J0DECgKSrdw3+psufM2KOtTVSn8zalvJ3NnoYzANmCXPPfTV75NCT+3dXlkhU/9/aK5EogyoXZG5TtiV9/Pp+LNn5xZi/w/TAcmsy9Z2kBIRqX+xLxaZj/xOdodmajA3QtPRiaM4FScxFU+4s81ImMWizxxi38oOaxZ5z2X/nESr/96aCgKm9G+u9YcU0DUPvqFoO/2BQ/hiZO37G1LG2NEDRtut82XJm5W/4YrOTSxl0be65D5QFkuUzzWuzVg49W//ubD37lkGVC7qemS9qO7kTrOn7sVg6w8UWzGlBkJKh2VpM3WCy84vgprAsh5E5FyRTF01rPCHbc3alObRv4mIOz/wd5xAbpdRpkbE0CLBHUGkJczLhS2FJgKJWqhKw8OcLmNqk4ntispObEzSae+4nnks3OqZKgGN0BeujDlzFsHUiUQZVLqZUJWDDkZsmt5MypsmS6arOcuFWl9OSRIIKAHO3n0U1bw9k3i+y6o3d1A3GkmVLtFnjgiSmq8WcMXfOcq6pqW/ib/1wBln5xgcM62s1lCMIMER7/cas/GIEV/WC0t9+gaqYcaIz/nsG1bw99C5hJJalwfmR1Cyz17azJGiUeu6XqgTM3W48w3mgrwd6RSqNbmMPxgJXbdZqaTOFQZWLKftRmx6AOKRdHVEXCkebrmot6pvI5Yx7Zu9DQNlMreFfHda8Zo26EnODsXTZEmtekMSMZXPUJ2S59YkKx4MSFaZsOmlyW0MJSeVuoTOW18xev30xky5yHpRg+FeHLS6jJcG5uV3bUpZPAmDx8Ta1sDFQ1hrviAsbmwpc1ezV0sagysWI/VGLmdFh7eZ2RyHH2lmGWKOuxNxgxHT5DW5dC/89XjF5q6HuIzkT7Bkby7bkhZYucV6JrS+xqT0MtRrK2UJnKq9Zmp1++1JakE395qyZKNLcrm2xkzeW77mCjUdvWvSQK+fCxvZIuin2XBjduZ5driMMqlxMqMiElqZ+/OYuPOtszF0EWCxr1JVcAy+7PVodvSLDRHUfWaPFsnwrS6hvFWSeP4SYpmEOlSHZHFLqS+yixdlGFr2Vg5S8Zuaez+YeVynd0MZ+c9ZueW8fEfx3kKx/XKuhFmCxv2l9axJKeXCTc2Fje/ViiD0X7NV1yaDKhew6n4F5P10wuo3Ybh05p707KjnWzhJD7rqSa5xT+Wn6hm501myx1G5lKSkpwc7zZedx+en+ll6sbRmkSa0v7e5QQ1QCMDH+OFa6Wa+FSGxeM3PPZ0tuwlKz0usro6njsmJYKwT5eVl0jri7KTCjbxMUpyZLygNmyW9ayoObXAsb27MXw9zA1VYYVLmQKZtOorDU8A9KytRguae9OyJzkmMG+ngg4/5Dsz5PrroS27IhCPrHK5W/6BjrPrJHi6W+89iSi7Utn6jNra8+UeFYMawV4jacMNp1a83WYannp5TtLb0Jm7sUjbqMYsYhlq97feeImOA8pmkYdqYCYf7emjxVgPEJBJYuZaQOIg9dvat3jVY1ORY2tncvhrmBq60wo7oLUGeMNfVjlJK51h6J4WxN7AUm7vEGWDy4OQBgzxs90DfKvGZluepKTPbysV0jDL4PiL/oSGmxtJSx89jcDMlil2uSQ6lKwDcH9C+9o6ZdX6UqAUlX72LbyVtIunoXAb6eRgMqOetaH6nnp9jtpa7wYIg5WenVZTRnHGL5cyQhJQ1dFu3B0C8PYdLGkxj65SF0WbTH4Dn0y+RuOtnd90/vaXT2nqmlecSYGH/caPnkWNjYltcEQ9RZ68PKjUe05qoIYrGlygUk38gWtd1Hz7ZA50ahora1RoZhRyP2AtO5YXW0reOPnX+eQL9P/9B5+hQr0McDKkFAqUqAu5vC4u4oMdPpW9UJMnu6vbp8P4sMOuRohTN1HkvtdrLlE7XUyQ6J59Ix9fuTOtsH+niI+ltrtQ6rf/NiVkWQ8tuXcyiBehzeoat3MTH+OHIeGE5cGebvBZUgYNvJW7iccV9UWcuXS32OqFRlAYuUljapEwiM/aaHtKstanB5+fooXz45FjZ2pF6MXyZ3w4n/3XOosZcMqlyA2DWcMvPFBwNyZhguz1EGIUsJHH9NKZslZ2xZBGO0p3s/3SIc20+lWdwdZWo6vTnLfADmzYaUoxVO7Hks9mJtq3GB5kx2WHPgeoXXDAUI5VmrdVhKQlIxv31rBebubgp0bhSKhYObacahlb8+CQAKH6p00puYQ32OzNqWYvXgvFQlIMDHE9NiG1fIDQYAG4/+Kbl7UF/5TF3XTS1s7Ei9GI6Ym45BlQsIreqFTBHbST3JrZFc0NLxLXIGZGIDRwCiks2JkZZbiC/2pVZ43dATr6nvK2b5DSnLfEgNEORssZT7PLbFE7WtJjsAtmkdNrVsk9jfqi0Cc0NlDfh76RVj2cKlyjIy81KO4NzY71L9ezc1mcFU+ZYkXkLnhqHoFakUfV3Xd/2pDL0YlmBQ5QLa1A3CL+eNt5+YOyVbzuSClg5Wtda0flMXmKSrd0UlmwPKms5faFcb3x68IbrlAdD/RCn39xUz+2n+jvOSAipAvkGhps5jqRdrsTfpyxn3kXT1rlnntTmTHcxhywG42r95czKq2zIwr5CWw88Lb2w+BUC+gEosc4NzsdfFPlHheKVbBL78I1Vn/JfYgfvL917RWdh5//SeJmf9Grr+WKsXwxUwqHIBYk5eS6Zky9HEaun4FmtO4TUVOEoZ0D6lV2McSc3Cst1XJJdD+4k390GxrN9XTP3P2pZicrkUbXIvjq193OW4WIudUVX+ZiPl+1hr3Eigj4dOUC7n0jNAWTDYsWENg3Vp7m9easudHDdh7bJKeQBSM7Y+pgJAkJ+HqN+FOd1dUq6LiefS9S49JbWVVMw1RMz1Vt/DaJi/F4a2r4OihyokXb2LNnWDkHwj2+5DPWyJQZUL+fi5Fnht02m7Tck2xpLxLbYYcGzsJiJlQLv739OZLZGe+wCLf7ko6/cVU/9iA6oR0XXR9+9Br+rPl7NbdskLLSvkqTInqJA6Dd+cgNVa40ZWDGttdGq8VOpWh6z7D7C4PTD626MIruoje1oJqS13cgfmUh6AGoVVQ41q3thzIQNf/lGxS17tvQFRmL/jvKzdXerfy4Erd0RdFw9dvStbN7Opa4jY6+3+6T11HkavZxZgw5GbOgPqywesrrjEWXkMqlxIoIQp2bYe3GfJ+BY5BhxbctOXmmzO0httVn6x7AOs5WxR6RsVbnKclvLvJ9Z6oX6S6zumaRh6R9XSOV7qJ95tJ29J2p+pMULazAlYLc0vVJ76XOrYwPxFgcvTbnXwcv/ndWskahR7nukLzOUg5QEoukEIElLS8JWRgOqVbhHo17wm3NwUsnV3mTPeLOlapqzdzMauIVKvt+p6XLrrUoXfgKE0FfZOe2BNDKpciNyzp+RkyYwRSwccWzo2SWqyOXNvtOobarDIpYakHEex9R/s54ns/GLRT+QGuwnyinSeWKU+oWq3HCakpKH7h3vNPn7a3bsHrtzB8r1XDW4rNWA1NymlPqZu0OUfDMR0rdg6UaPY86x8YC4XKYOoxXRVbj+Vhml9mso2acf8ZbHEHZvy3cam6LuGSL3eSunytUVyUHtjUOVC5Fr3zxosmTFiSUAm11gsdZbkQF9PpN8zPNZFfePrG6XEmgPXRd9otW+oAT6eIv5C2nEUW/+z+0diYry4J3IpF1Nzn1DNPX76WiajG4RYZUag+oY7d/s5yeN5tBm7Qet7MBDTtWLr5absPTNMSiqYpKt3Tbb+aNeNpZN2zJkpqq6v6AYhWL7X9DhNdbexqYcHNX3XEKnXW6ldvtbqMXGUVD0MqlxIy9qBRgddAmUX4jZ1g2xXqL9ZkvfK3Au1nE/pu85nAACyC4o1JQ7288Ds/k01NzF9Nz6Fomy5GDVDeaq0b6ilKkH2G5PY+u8TFY6VbuKeyKVcTM15QhWTiXvu9rOSFs21bo4d3ZIGeLsjr6hU5/iXF+zngdlPPoYaVb0ARVlrc/mZiIYCy/K/87TcQoxbdxxTYhohrmcjSeP7Es+ly3KDs2Z+u/IM3UTFtiqZE2BbMmlHavChXV8d64eIuiaou43bRwTjv8dvmXUNkXq9NbfnQ84eE3st7qwPgyoXcvLPHKMBFVB2IU6+kW2XhGmWNKEPaVdH7wrtxi7UYp/SD129azTTfEJKGqZsOolF7XVfz8ovwYT4E/gc0Iy5MHTjG9O5HmIilZoL/7Q+TQ0+VVnrxiS2/rWzVh+4egd/5RSiVpAP/Dyr4MCVTGTeL0KNat6SW2UMPaFqbo65+Zp/e0DcTSg9rwjL91zBpJhGAIy3bI1bdxz9mylNltPYQrL6GPrMvMJSg60S6iP3waBmAID/+88pne8a7OeBQS1roWeTMMzdLq11Y8muy9hw5E/MfVp8ELnmwHW0jwjWBPXWzvZvKVM3UTGtSrZOYik1iChfX1KuCZZcQ6T+rbn1I1e92nNxZ30YVLkA9ZpZiX+3pphiz0WQpTahmxrUaexCLfZ7Tow/joWDmxnsRjLVZD8x/gQCfD2M3kB3pqTjrf66Fz1jga21bkxi6z/xXDpmbDmjk0BxRbnuhGA/ccuqlKd9XLSPr5e7gMXtgdil+zCz/2MoeqgStb8luy6hsbIqekUqTbZs7TiTbnJ/b/dtKkuXjrp1LsDXA95V3HWCUPVxBKD3hpCVX4KvD1zH13oyr4uRnvdP7jGxS8+ol2OZv0P6E3/5QKxXpFK2/Hblib2JmvqN2bqrUmwQEfd4Q3RuGFqhvkxdE3pFKnVWSpCS5LM8KdcfqWNI5axXey/urA+DKieXkJKGBTvOYmoTYMORmxAzoFH947ZXH7T2xc5YGUwN6tTu5tBH7EUs50FJhSea8lOetWdNlScARrM3mzuGQM7Eq9pM3WwSUtIwTkTmZik5rbSpj4uh45vxd0Aw+e/WJzHm/XgO1bw9ZJkhNefHs6hSRSEqcBXTGppTUIL1YyqmSACALov2WC0bu4Cy3GMDWtbCWhPBmfocnRBf8bibeuK3ZddL8UMV3vpBniVjbNlVCYgP4qb0etTgZxq6JiSeS0eXRXv0HgNTST4NMZQENsDHU7OGKSBtsobYetV3XwDwT5JX37LQJflGtk3HDIrBoMqJqW9Knu7iLsvaTwhSL4RiAzApgZqxMvSKVGLGljNGW382Hv0TcT0N33ilPkFpJ9mTOuVZDHNaCOVKvCr2mJSqBMzdftaizzOk/MwrQ91awt//xR++AaW/uG7GtNxCJF29K0s5s/KLRXcbiD2mmflFGNCyls5rYgZKWyorv8RkQGWKsWDFUGCsHt9VvtvbEgkpaXjrhzNGg3mpN1FbdFVqM2cYQ3n6lp6yVveXu5sCuQ+KsfiXi0bvFYbqsfwYXzH1qu++EOhb1iqufnhVt2r/duG2qO9hy94ZBlVOypLMxYnn0iX9CMUGYFICNVMXgn7NlBa3/mg/QZmi3t/yPVf05luRgxxjCKS2LiakpGHu9rNIz/sn3YbS3wtzn35M74XtSGqWzrZyKX/TWLbrkslgKeNeMZ5sHo6fTotbkPfqnXsWllKXmBYPW6QKcQT6fm9irkHqLkxLW66kpiJIz31gdNFwbdZqES5ffnOHMRgjZ/eXvmuLlHuFvnqUmlHd0HE2dC/47vANSOmdsQUGVU7K3MzFvSKVBrsc9P0IxT4FSXlaEjOrS8zYF8D0jUn9BDXjv2dE5W9Ze6DiMhCWkmsMgdTWRUPdeOl5RRi37jhW6XmCtdaNXvumkZCSppPDypifTqfhqeZK/Hja9Plw+FoWlP7eyMizPBGn2BYPW6QKcSTa54eUa5AlrSbmpCKYv+O8ziLIpoI6OVqEDbF0GIMxcqXMMJTA917hQ6PX6fIBm7561Pe5hrr3zMkab2qZIVsv7sygykmZm7nYVJeD9o+wfUSwqKegnk3CTAZJb/1wBg9KVFD6e0MlCLJ1e4i5MfWJCkc1bw8M/+qwyW2lJM4TQ66xGVKb+EtVAmZsOWN0nzO2nKnwBCv3jb78oFv1DVKKXefFNfFnFZRg8hP1sGz3ZYsTcaqZ+p1ZM1WIKXJ9Ryn70T4/pATglgwaNmfR6qxyi8fbayaYqYDQ0DAGsS3ScuRdM5bA1xRzxisZejgc0q62WfcFYwEVYPvFnd1s9kkkK6mZi6UuDnz7XqHop6B/J103+WPIyi/BlE0nMfTLQ5i43nR3nBgBPlVEP4Go87wY+mkpUJaNWG7KAG+LL+SmWvYElAWtxVqz5Q5dvWu0+xQoa1I/VG4cUtmSPOKSyIrRKKyqzvlnzg3yQYm4WYAA8M3B63ilWwSUAfIEh2KD9pUvtq7wmUF+HlgxrJXR1hH1DECpJj7eABff64spMY+a9ffalAHe+PzvWYLGfh/lU01IDcC1H9gMKVUJSLp6Fz8c/x++/uMafjhxCweuZEr6HEOfDZQFdaWG7sJWIKUlSS0hJQ1dFu3B0C8PYdLGsmtml0V7kJBSsRvc0rQQ5rQClpd4TlyvQqlKwLJdlzFu3fEKdZKeWyi69VqsQF8PuyyHw5YqJ6X9lKuPoWZPsT/CUD8v0RezG1kForZTk6s1qFRV9oMWu9SMqRaFUZ3ryf7D1k4Oai4xgUhWfgk6LtiNDwZFoU9UOJKuiTt2SdcydXJ0ubspMPfpx0TN/hOj/Plm7XFEOQ9KsHpfKlYMa4UgPy/NQq9L/x4cLGUMopRugz5R4VCpymbbqVtJsvJLMH/Hebi5GZ5JKGVtQm3Bvp7wrOKGSTGN0FhZVfLfT49tjBB/X51WEKnr25nb0pae+0Dv6+asiSeFPWaCSW1JktoibWlaCHMecsrbdvIvvN3feGuQvrGd2qwR5npVcUOvSNN56eTGlionpf2Uq+9UFgD0iyobNKj9ZKb+ERptsfH1wBubT4laFgEA6gb7Siq7XPKLHmL8uuN6n+D0MdSioG5NiuvZyGjdAGWtWWWLK5umQNnYDjFPxuon9G0nbyHp6l2dvxF7YVbPWiurD7HN3RW36xMVjlUvttbMuDHEWIu6vpYNwHbjiObvOI/2EcEY0LIWJsU00nvc1d+v/Ncwp9sgISUNE+OPG+x2MnaO9okKx/7pPbFhbEd0ayTuZh/s989SRtp/v+T5Fgj28zT6+waAYR3qYkDLWjqtiKZ+H+UDQ1PXIEPm7zhfoT7UwYS1Z0MC1gvs1b/hnWfSNP+W0pIkZqxp+ZY2Y8dAzHksR13czS/WaWkrVQk4cDkTH/1yAR/9chFLEy9h/LrjVpkAY0x6XpHRVlFrYUuVE1NfBBfsOAsgX/O6euCevpk3plps/sm5ZLo1Sf0U9FJ0PXy1P9XssSHmMmechqmZPqZas+Y+/Rh6R9WSdXFeUwPQpQYi8348h8WDm2P5XtPbGiqXdlb1slYvBTpEBMPNTaHJqJ6dX4yJf+c1MtayoT0+JNTPS7bB5Iboq3dj+X0snU4vxwws7QG++y6bTg2hDPAx+Pc+nu5Gz2H19vpInQlnTktbdrmUFXJ0QUlhjcBeXxLbHh/tRd9mtUQvUm7uoHNL0kLInS0+ISWtQtJgc9hqTKQ1MKhycn2iwtGjUQh+SfgZL3Woi68O3qwwcK9807GhH6G/dxWUCsD9oocmP1f7xulZxU106gK5qS80hpaaMTTg01gwoa9uwvy9AeQjpmmY5u/NWc3dnCnLvSKVortZ1PXhplAg0NfD6MUtyNcDHesbDvbc3RTo3CjU6BI+ptYJNJRzRh1sWPNGWr6bSd9xl2M6vZTlkMonAC3/OeqWZGP7C/bzQHpeYYU1ArW/k6Gb7Jz+jVGcmlxhn5YkAtauw8Rz6VgjItGodqApRxcUUDZbrfChyug5L3UJIjEMddllF5Rg7cEbBv+u/MOHJYPOzT2PLZ0soVajmrfopMGmTIl5FBuP3jSap0pKuWyNQZULUP9wDC1To+9pWf0jXL7nCtYeSEXOgxLkFpoOptT0rRf3SrcIfLEv1dKvYxZ9S80YagGa3b+pZryNvouPvgtUq0eq4ZeEn3U+U0rTvqEpy4UPVaJaOKQGrZn5RVj4TDOjF7kFzzSzeFaMsYu5qZwzASaCPjU/T3fkF5dKLtu7P53DzawC1Av1M3qTkTKdXl/wIWU5JO3xhPqm+Wu3JBu6yaknfRjaB2D4uKhKH2JnuZ+oHBnR1XUY3SAE7SOCJSXpNKc1IdDHAyM71UX7iBBNy2n7iGAsTjhv9Br0dItwWWeCWdLKVv4aaumgc/UxUJ+jP53+S282cu3fgpRs6Ib4ebmjWa0AdF28x4y//oe61S6uZ0PE9WxoNKN6sLc7si4eNtrNbetUCmoMqlxIWTJF/aeZvqbjxHPpZiW6jHu8Aab0aqxzcSpVCdh+StzYJmsov9SMsUzPE+JP6Lxm6OamfaMtKal4gxA7SFTdTSZ1yrL2MVO3Ppi6WampL0RTYh7FmgOpyDVxM7eEvqBEzM0mt6AEk59ohIjqfrieWYD/HrsB7W5sdTkBmPUEnF1QojPxQDtbf/mlN5T+4hITGpoKLkb5CRqGBh9L6VIzlipA33FRlYtNrZGNu09UOB6UqDSBnzHqm6ZUuQ9K8OnuK1j5or8mU72Ya9Dm5P/hjd5N4FlF/HBiY614UlvZFAD+1akeej9WMcu8mFajQB8PqARBZ5kYbWKykQMVF582Z7KEWn5RKZrN/UWWVmft8V/6HnTUr5WUlGDnxbLX9AWDAmyfSkGNQVUlc/teIUpVAg5dvYsZ/zW8DIwxnRtWr3CyytWEr4+UJyhTebP0MXYDUV9Q07Pvww1lySiVgX6aC6KpMViz+zfF/B2WjRdRP8n3ilTCz6MKxscn436R/pYb7UCu/FpggT4eGNW5ntmJBqUQcz4IAJbuvoxVL7bGpJhGeLVrXfyS8DMWD26OGgF+OtmYp8Q8ig1HbopassaQ9L+XTjHULWoqkaqh4GPJrssI9PVAbkGJpONsbLxV+XXXyiezFLMPU6y5GK3YyRzqIEXMos+mymfOLFlTTLXiSW1lEwCsPXgdHepXDODFtBrlPCjB8K8OG1zRQmw2cvUyQp8Pa4V+zWtqzrdvDqRi/o7zkr6T+ntZQuqDnnqw/osd6mJj8l8VhqyYmmRjTZz9V8lczyxAl0V7MPzrw5JTGxia0QVYd0Cg2B+slLxZ+vZffmaNdr6YGT+UJdKcseW0Tt4YUzOmgvy8LA421d2HXRbtwUtrjxgMqNTfpXWdQEyIrziTKvdBCZbuuiw6r4y5SlWCpNxCM7ac0Xny7tcsHLkPitH9w72aXD1l66UJmBLTCMuGtMSGsR3x+bDWCPYTf/FUH1lDXY5pBmbqiZmVBaHs/6SGqsZyN6lbmpQBPnoDKlP7MDajFDAvh5JYYmYZq68l6mDC3Lr75kAqSlWCmbNkDTM0I1F7Rqe5Y3bU15ryx6hXpFLv9aS88rNKze2GjNtwAjv/XgbK3U2Bf3WOMDkDWm6Tn2iE/dN7ig6oElLSELt0HwDg34dv6B0DnFtQImlmuJzYUuVClP7euJldZLArKsDXw+x17UxNz3WkJTeu3803vVE55Qe8m1paIq1c65ahcUXbTt4y+3uY6j40xNASP2JaH0ytDm/OItmm5BSUYPmeK5jQvR4AYNf5DEyIP1Xh+2bkFWHprstY+WJrTTdAUam4biYptOunVCXgmwOpJr9PzoOHaFU7EDeyCnQCoEAfD1EPL8YCAnMGMBtqYZnTv7FF+9VH05pbrjt1dv9ITIw33oqrfV693DUCX/4hfUzm/B3n8dX+VNHdsGqmfgemAukZ/z2Dz4a2Mms2q3qd0fIDstUtNvun98Shq3crjMPTLoMcg/1VAjAh/jhWubXWzA6f3T8SE+JtN+moQ/0Q0S2h6uuyp7vx2ra0pdUSDKpcyIy+TTAh/pTBVAkPSwWzm2n1Tc8tP1Xe1GwzW9mc/D+z/3Zi/HF8MCgK83ecF1VX2j9afWMALAk2BcjTfVh+n9pj67SP4fXMggpdbKbGY2iTuuittrUHU/Fq17oAgIU/XxDdJSW2m0ks7frJfVAsKUA88WcOgLLZeYNa1kJMpBIqQRC1PJKx80TqAGZjXZVTNp3Eovbm7VcfY0F0eIA3XukWge2n0irMQny6RTje/em8zrlmyX1PajesditXaDUvs8ZK5TwowUtrjmhms0q15O+EtOW/h/phrZq38YDc0sH+2tS/qcRz6Zi/Q9oyUpY6cOWOqJmKUlvjxKa0kRuDKhcS0zRM74DDAF8PlJSqRKVK0Bbs54HZTz6mdxCvqQy59lQoYVmT8nIelFQYyG6ImB+tpVOWL9++b5Wxaum5D7Bs12XNzE9D9AXJUhfJFiOnoATJN7LL9i9hwkV2fpHRBVXNtfDn8zj1v1yz/jY7vwRrDlxHu4hgk+kwtGcpqcc6qvOCRTcIQcf6IZKyZpeqBMzdbqKrEmXHS8y5GezngTZ1g/S+J6Y1d/W+VHw2pCUy7hXhRlYB6gb7ooa/N17bUPE3ZskxVAfcUmmPHzJ3rFTu378ROR4q1d9jxpYz6h5lk8wd7K9N3XJmbk+GJZbvvYr/Hr9lckyVua1xts5VxaDKxZTvilIv0SHlh6K+OH0wqJnBQbtyLWPiCkz9aIe0q6P3qdQUBYC1JnL+mGv2trOSg2w1cwcJm7L3wm00E7nt7XuFf2cxP2GVm4C5ARXwT/DyzrYUVPP2QN8oJdYcuG50+ZfEc+kVkiYu33sFgb4eWPhMM6MDmAVA0/W1fM9lo4P51X+bfCMbnR8NMzkwOiu/BN0/3FshDUmbukGigmgBwOubTuoETAor9cQIKAvO+0Ypsf9KJu5JSBED6D4sSAlS1F/Nu4ob1r/cAbvP/gXA/NQy6u8hlvZgf0vyTa09kCr7b0nsJCN13WsvL1W+9dDc4MjWQ1MYVLkwlUrAt0nXJf9QjGXiLX6owv9tPi1PAV2EoR+tpWuZCZBvncTyzA2o1NQtRksSL6Fzw1CLZuWp7TiThmZR4rYN9fPC//2n4rgrR5Jxr1in60+hgE7rg/p3BhhOGZFTUIJx645jSkwjrBjWGm9t1Z+tesmuy1h78Lrom3Hm/bIWZjHT6fWlIQn28xCV2gOo2AIltgXGXD+nmDcRQ/th4fc3H5ccpKTnFcFNocDMfk2xs3wyMCsJ9PXQjHs09+FNTc5rjTpufrlrPXz5x3WT26vrOG7DCZ3zxZKVJeyVq4pBlYux5EYe6OOBFcNbo6OBgYMJKWmYueW0xTdkV2HsR2vJ+KLyAnw8kPdA2nR9W1m+9wqW770CPy93i/eVVVA2wNvUhAtlgDeggE3WiZOT+mYxpnM9xEQqNedN54W7Tf7tkl2XTSZBldK6cfd+kWbGZZ+ocPRsEoaOC3YbnWWoTWxA5Wy0ZxAbGmhvTOK5dLSt4w8AWPpCS8z76YJVh0jkFJRgccL5CuPWtAX4VEFe4UODwawCZdcYOYMq9QNDgI+nqKBKrXwArk79MKZzPfRsEqaZFGCKmHUPrYUpFVzIrvMZZi9KqgCwcHAzdG4YajCgGr/uOLILGFBp0/ejlXsts1KVYPaYEVvJN5LmQaoZfZsAML5ArLqlxdkoAOxMSdd0axxJzRJ90zUnq7whi365qEkLApR1B4oNqCqD+TvOY/6Oc3ilW4TJ9Abatp64hUPXytZuvJxxH7b41X6xz/Ds1CkxjXB8dm+sGNpa7/vq0o3qXE/WMr3dtwkCfDzxs0wpDb4+cB3Dvz6Mwoeloq6FhhYBtwUGVS5k7vazZt3I/b2rYHTnegjw8ayQywaQP0gQI+7xBhgRXdeGnyhNuJEfrdyJUPP/bhkMKJfQLjzAG692i3DoYMsc6gkXhnJ/mdMV4CjK536yx4KvaupWgPk/npWUV8wR2OKcT/97oP2TzcMRJDKZZFZBCV7+7hgAYMVvV2TpFjeXAsDGo38CAPo1D8eqF1sjvNxvKsDHA5NjGmF8j4YV3rPE65tOYuiXh/BdkuG1D82hbo319dBtGVf6e+nksJOS90pu7P5zIWXNt9IuNwoFkFf4EF8fuI6vD1zXm3XbmtnSDencsDoAyP6jNEewnwfe7tMY+OskFj7TXCejuj5y3yjVT2bqgbDaa525uynQ4pHACmMRHFGgjwdyDXRjKqDOwl2WY8zUArHmZOF2JOpz5Hqm9JxqcvvaSpMhrKmqdxXJA9GlUp+n5uTOcgTaaSP+1TlC73qvOQ/KlnJae+A6OjcMMZjjTiprX4vyS8pabQO9PTAsOsImq0SIxaDKBehrXRKrfD+75kd28DoWPtPMrKUYLKU9+NIRcl9l5ZdAGeCNzL+AJ5uHw8Pjn6dWfckyrdGKIuCfgbDqtc7Ugvy8HD6gAoBRnSOwdNclgzPYpsU2xsMb/wzYNrbQsToLt7POQg3188KyXZd11iZ0VsF+nnq7DssPzJeTtQMqVzJ/x3l8tucKRnWuh0Y1qumdDZ7zoES2gMqWcgvLVoloVKOqwVmDtsagygWo8/tIYSq3j/aso7b1bDt7YlSnCADAoat3UfzQ/JxThpizGvvha5logLJWu8yCh6hRrSzT+fwdFbNWz+7f1GrBoL4A155dSGIF+nig5SMBeKZ1Lew8k4YHenKJvfvjObzVvCxQFdPZ0icqHJ8Pa4WJG05YfUYZALSpE4jkmzkW7yfQ1wNTvz+JjHvOOS5Mm5sCePepxxBSzUsno/rNuwUWzUQjeakfls259jky4e//jM0atDUGVS5A7KBdPy93vDewGQ5czsR/jovLOr5k12UEeLvDu4obCq0Q4JQX6OuB+tX90O79XVYbOOvj6YaCYmnf5Ys/UrG4PTD626MoKjX8BJT+9/RzP0/LZ8PpE+rnVeE1ZxhflPOgBCO/OWp8m8KyILT7h3sxb2Bzg4tba+dKupRx3yYBFQCk3i2QZT/2bnmVk0oA4jaewOfDWmFQ60cAlB2nzgv32LlkpI8rBVTayjcQ6EtQbCsMqlxAaFUviBlm+krXBqjiphAdUKnlFso368iUdvWC9GZblpPUgEoK9W9bzpla2t7YfApzn9Z9AnP28UXl5TwoayX9fFgr9GteE4DlOb/k4Ayz43w93VFgpXPPmLgNJ/CpCgip5oXvklLtOkDbFY3uXA+bjv0p6yxbV8a1/8giOQWmL/aBvh7IKyzGaxscs0k+PMAbTzZXSsppUhml5xVqumW1B2c+37Y2lu223fgcaywNU97E+BP4TAVUqaKQLeeXq7NHQAX802JF1nE7r4gBlURc+4/MkpCShqmbT2Fxe+PbtasXhK/3X7dJmcSIaVId4YE+aFU7COGBPmhTNwgdF+yyd7GcxpJdl7HmwHV0bRSKY9ezbdYyoH7eWz60bDmJv7ILMPenc1YZOCyg7EbtVcWt0gdU3h5uFq1p6WxMJTqtbHackSffk5xGRNdF7SBfvL/zvOmN7cjWY06Zp8qJlaoEzPjvGZPbjepcF7vP37ZBicTz86qCPlHhcHcvu00fvZ7lslmarSX3QQl+Op1m066WYD9PrHyxNfo1r4ncB8V4/+fzVp+JVWSDsXyOrjIFVID9WtwclSM+VPSNCsfoLhEID/B26Fx5XPuPRPt09yXkPCiBqRVC1h6wf66n8radSsO2U/88fQX6iEuuR/Y1q39T9IkKl3UZHqLyeF45tkAfD6j+niHydItwfLHP8XJ5ce0/kiQhJQ3Ldl+xdzFkY62Fg0leygAfFD9U4a0fUnjjI6qkch6UYPhXhx0ij6A+9lz7j0GVE1IvG0Nkax8mnMe59HtO2R3VunYAjv+Za+9iELkMRwyogH8WdGaeKhLFHsvGEAFw6qDEmctOROJMfqIRXnvCfsvWcKC6E3KGDNpERES2tnT3ZSSes9+SOwyqJFqxYgXq1asHb29vdOjQAUeOHLF5GZwhgzYREZE9zNhyxqI1cS3BoEqCTZs2YerUqXjnnXdw/PhxtGjRArGxsbh927bpCtpHBCPYj7PliIiIysspKMHyPfaZyMWgSoJPPvkEY8eOxahRoxAZGYlVq1bB19cXa9assWk53N0UGNSylk0/k4iIyFmsPZhql9YqBlUiFRcXIzk5GTExMZrX3NzcEBMTg6SkJJuXJyZSafPPJCIicgY5BSU4kppl88/l7D+RMjMzUVpairCwMJ3Xw8LCcOHCBb1/U1RUhKKiIs2/c3PLZh9lZWWhpMSyqagN/AXU8nmI2/eKUEUloKBAhSolbihVOXJuW+fFOrY+1rH1sY6tj3VsfWLr+PqtdDwaKM9n3rt3DwAgCMZbvxhUWdGCBQswb968Cq9HRETI/lnDZN8jlcc6tj7WsfWxjq2PdWx9Yup42Mfyf+69e/cQEBBg8H0GVSKFhobC3d0dGRkZOq9nZGRAqdTfFTdz5kxMnTpV82+VSoWsrCyEhIRAoZDvCSYvLw+1a9fGn3/+CX9/f9n2S/9gHVsf69j6WMfWxzq2PnvUsSAIuHfvHmrWrGl0OwZVInl6eqJNmzbYvXs3Bg4cCKAsSNq9ezfi4uL0/o2Xlxe8vLx0XgsMDLRaGf39/fkjtjLWsfWxjq2PdWx9rGPrs3UdG2uhUmNQJcHUqVMxcuRItG3bFu3bt8fSpUuRn5+PUaNG2btoREREZGcMqiR44YUXcOfOHcyZMwfp6elo2bIlEhISKgxeJyIiosqHQZVEcXFxBrv77MXLywvvvPNOha5Gkg/r2PpYx9bHOrY+1rH1OXIdKwRT8wOJiIiIyCQm/yQiIiKSAYMqIiIiIhkwqCIiIiKSAYMqIiIiIhkwqHIBK1asQL169eDt7Y0OHTrgyJEj9i6SU1iwYAHatWuHatWqoUaNGhg4cCAuXryos01hYSEmTpyIkJAQVK1aFYMHD66QVf/mzZvo378/fH19UaNGDbz55pt4+PChLb+K01i4cCEUCgUmT56seY11bLlbt27hxRdfREhICHx8fNCsWTMcO3ZM874gCJgzZw7Cw8Ph4+ODmJgYXL58WWcfWVlZGD58OPz9/REYGIgxY8bg/v37tv4qDqm0tBSzZ89GREQEfHx80KBBA8yfP19nHTjWsTT79u3DU089hZo1a0KhUGDr1q0678tVn6dPn0bXrl3h7e2N2rVrY/Hixdb9YgI5tY0bNwqenp7CmjVrhLNnzwpjx44VAgMDhYyMDHsXzeHFxsYKa9euFVJSUoSTJ08K/fr1E+rUqSPcv39fs824ceOE2rVrC7t37xaOHTsmdOzYUejUqZPm/YcPHwpRUVFCTEyMcOLECWHnzp1CaGioMHPmTHt8JYd25MgRoV69ekLz5s2FSZMmaV5nHVsmKytLqFu3rvCvf/1LOHz4sHDt2jXhl19+Ea5cuaLZZuHChUJAQICwdetW4dSpU8LTTz8tRERECA8ePNBs06dPH6FFixbCoUOHhD/++ENo2LChMHToUHt8JYfz/vvvCyEhIcJPP/0kpKamCps3bxaqVq0qLFu2TLMN61ianTt3Cm+//bawZcsWAYDwww8/6LwvR33m5uYKYWFhwvDhw4WUlBRhw4YNgo+Pj/DFF19Y7XsxqHJy7du3FyZOnKj5d2lpqVCzZk1hwYIFdiyVc7p9+7YAQPj9998FQRCEnJwcwcPDQ9i8ebNmm/PnzwsAhKSkJEEQyi4Mbm5uQnp6umablStXCv7+/kJRUZFtv4ADu3fvntCoUSMhMTFR6N69uyaoYh1bbvr06UKXLl0Mvq9SqQSlUil8+OGHmtdycnIELy8vYcOGDYIgCMK5c+cEAMLRo0c12/z888+CQqEQbt26Zb3CO4n+/fsLo0eP1nntmWeeEYYPHy4IAuvYUuWDKrnq8/PPPxeCgoJ0rhPTp08XGjdubLXvwu4/J1ZcXIzk5GTExMRoXnNzc0NMTAySkpLsWDLnlJubCwAIDg4GACQnJ6OkpESnfps0aYI6depo6jcpKQnNmjXTyaofGxuLvLw8nD171oald2wTJ05E//79deoSYB3LYfv27Wjbti2ee+451KhRA61atcKXX36peT81NRXp6ek6dRwQEIAOHTro1HFgYCDatm2r2SYmJgZubm44fPiw7b6Mg+rUqRN2796NS5cuAQBOnTqF/fv3o2/fvgBYx3KTqz6TkpLQrVs3eHp6araJjY3FxYsXkZ2dbZWyM6O6E8vMzERpaWmFZXLCwsJw4cIFO5XKOalUKkyePBmdO3dGVFQUACA9PR2enp4VFsEOCwtDenq6Zht99a9+j4CNGzfi+PHjOHr0aIX3WMeWu3btGlauXImpU6firbfewtGjR/H666/D09MTI0eO1NSRvjrUruMaNWrovF+lShUEBwezjgHMmDEDeXl5aNKkCdzd3VFaWor3338fw4cPBwDWsczkqs/09HRERERU2If6vaCgINnLzqCKCGUtKSkpKdi/f7+9i+JS/vzzT0yaNAmJiYnw9va2d3FckkqlQtu2bfHBBx8AAFq1aoWUlBSsWrUKI0eOtHPpXMP333+P9evXIz4+Ho899hhOnjyJyZMno2bNmqxj0sHuPycWGhoKd3f3CjOlMjIyoFQq7VQq5xMXF4effvoJe/fuxSOPPKJ5XalUori4GDk5OTrba9evUqnUW//q9yq75ORk3L59G61bt0aVKlVQpUoV/P777/j0009RpUoVhIWFsY4tFB4ejsjISJ3XmjZtips3bwL4p46MXSeUSiVu376t8/7Dhw+RlZXFOgbw5ptvYsaMGRgyZAiaNWuGl156CVOmTMGCBQsAsI7lJld92uPawaDKiXl6eqJNmzbYvXu35jWVSoXdu3cjOjrajiVzDoIgIC4uDj/88AP27NlToZm4TZs28PDw0Knfixcv4ubNm5r6jY6OxpkzZ3R+3ImJifD3969wo6uMnnjiCZw5cwYnT57U/Ne2bVsMHz5c8/+sY8t07ty5QiqQS5cuoW7dugCAiIgIKJVKnTrOy8vD4cOHdeo4JycHycnJmm327NkDlUqFDh062OBbOLaCggK4ueneLt3d3aFSqQCwjuUmV31GR0dj3759KCkp0WyTmJiIxo0bW6XrDwBTKji7jRs3Cl5eXsI333wjnDt3TnjllVeEwMBAnZlSpN/48eOFgIAA4bfffhPS0tI0/xUUFGi2GTdunFCnTh1hz549wrFjx4To6GghOjpa8756un/v3r2FkydPCgkJCUL16tU53d8I7dl/gsA6ttSRI0eEKlWqCO+//75w+fJlYf369YKvr6+wbt06zTYLFy4UAgMDhW3btgmnT58WBgwYoHd6eqtWrYTDhw8L+/fvFxo1alRpp/uXN3LkSKFWrVqalApbtmwRQkNDhWnTpmm2YR1Lc+/ePeHEiRPCiRMnBADCJ598Ipw4cUK4ceOGIAjy1GdOTo4QFhYmvPTSS0JKSoqwceNGwdfXlykVyLjPPvtMqFOnjuDp6Sm0b99eOHTokL2L5BQA6P1v7dq1mm0ePHggTJgwQQgKChJ8fX2FQYMGCWlpaTr7uX79utC3b1/Bx8dHCA0NFd544w2hpKTExt/GeZQPqljHlvvxxx+FqKgowcvLS2jSpImwevVqnfdVKpUwe/ZsISwsTPDy8hKeeOIJ4eLFizrb3L17Vxg6dKhQtWpVwd/fXxg1apRw7949W34Nh5WXlydMmjRJqFOnjuDt7S3Ur19fePvtt3Wm6rOOpdm7d6/e6+/IkSMFQZCvPk+dOiV06dJF8PLyEmrVqiUsXLjQqt9LIQhaKWGJiIiIyCwcU0VEREQkAwZVRERERDJgUEVEREQkAwZVRERERDJgUEVEREQkAwZVRERERDJgUEVEREQkAwZVRERERDJgUEVElcLLL7+MRo0awdfXF0FBQYiOjsa6devsXSwiciFV7F0AIiJbCAkJwVdffYWGDRuioKAASUlJGDduHO7fv49x48bZu3hE5ALYUkVElcKiRYvQvXt31KpVC40aNcKIESPQu3dv7Nu3DwDw73//G23btkW1atWgVCoxbNgw3L59W/P3v/32GxQKBXJycgAA2dnZaN68OUaMGAH1al8JCQno0qULAgMDERISgieffBJXr17V7OPSpUto0aIFqlatiqpVq6JLly44cuSI5v0ePXpg8uTJess/efJk9OjRQ95KISJZMagiokpHEAQkJyfj4MGD6NOnDwCgpKQE8+fPx6lTp7B161Zcv34d//rXv/T+/f3799GvXz/Ur18fa9asgUKhAADk5+dj6tSpOHbsGHbv3g03NzcMGjQIKpUKABAQEICFCxfi5MmTSE5ORoMGDTBkyBCbfGcisj52/xFRpbF161a8+OKLKCoqQmlpKWbPno0RI0YAAEaPHq3Zrn79+vj000/Rrl073L9/H1WrVtW8V1RUhGeffRa+vr7YtGkTqlT55zI6ePBgnc9bs2YNqlevjnPnziEqKgphYWHo27cvAODhw4eoW7cufvvtNyt+YyKyJbZUEVGl0atXL5w8eRJHjx7FypUrsWzZMqxatQoAkJycjKeeegp16tRBtWrV0L17dwDAzZs3dfYxfPhw7N69G927d4eXl5fOe5cvX8bQoUNRv359+Pv7o169enr3UbVqVXh7e2Pt2rXYsmWLznuff/45qlatipCQEHTo0AE//vijnFVARFbEoIqIKg0/Pz80bNgQLVu2xKuvvor/+7//w0cffYT8/HzExsbC398f69evx9GjR/HDDz8AAIqLi3X2kZ6ejv/+97/44IMPcObMGZ33nnrqKWRlZeHLL7/E4cOHcfjwYb37OHnyJJKSktCuXTu89dZbOu8NHz4cJ0+exL59+9C1a1c8++yzuHXrltxVQURWwO4/Iqq0BEGASqXChQsXcPfuXSxcuBC1a9cGABw7dkzv32zfvh3169fH2LFjMWrUKBw6dAhVqlTB3bt3cfHiRXz55Zfo2rUrAGD//v1699GwYUMAwDvvvIOWLVsiMzMToaGhAMrGXanfnzdvHj7++GOcP39e1u9NRNbBlioicnl5eXl4/vnnsWvXLvz555+4dOkSvv76a3z44YcYN24c6tSpA09PT3z22We4du0atm/fjvnz5+vdV3BwMABg4cKFyM7OxsKFCwEAQUFBCAkJwerVq3HlyhXs2bMHU6dO1fnb3377Dbt378b169dx/PhxzJkzB7Vr19YEVABQWlqKwsJC5Obm4osvvoCHhwcaN25spZohIjkxqCIil+ft7Y2QkBC88cYbiIqKQseOHfHdd9/h66+/xrRp01C9enV888032Lx5MyIjI7Fw4UJ89NFHRvfp5+eHNWvW4P3330dKSgrc3NywceNGJCcnIyoqClOmTMGHH36o8zfZ2dl47bXX0LRpU/Tq1QslJSXYsWOHzjbLly+Hj48PatSogTVr1mD9+vWa1jMicmwKQZ1ghYiIiIjMxpYqIiIiIhkwqCIiIiKSAYMqIiIiIhkwqCIiIiKSAYMqIiIiIhkwqCIiIiKSAYMqIiIiIhkwqCIiIiKSAYMqIiIiIhkwqCIiIiKSAYMqIiIiIhkwqCIiIiKSwf8DiM+16PdQwkwAAAAASUVORK5CYII=\n",
      "text/plain": [
       "<Figure size 640x480 with 1 Axes>"
      ]
     },
     "metadata": {},
     "output_type": "display_data"
    }
   ],
   "source": [
    "# строим скаттерплот на урезанной оси y\n",
    "# для оси Х возьмем серию из чисел от 0 до количества наблюдений \n",
    "x_values = pd.Series(range(0, len(orders['revenue'])))\n",
    "plt.scatter(x_values, orders['revenue'])\n",
    "plt.title(label='Суммы заказов')\n",
    "plt.ylabel('Сумма заказа, RUR')\n",
    "plt.xlabel('Заказы')\n",
    "plt.grid(True)\n",
    "plt.ylim(0,100000)\n",
    "plt.show()"
   ]
  },
  {
   "cell_type": "markdown",
   "id": "c0bb405e",
   "metadata": {},
   "source": [
    "Теперь видно, что основная масса заказов ограничивалась 15-20 тыс RUR. Попробуем подтвердить предположение расчётом перцентилей."
   ]
  },
  {
   "cell_type": "markdown",
   "id": "4a7de4e0",
   "metadata": {},
   "source": [
    "### Определение 90, 95 и 99 перцентилей стоимости заказов. Выбор границы для определения аномальных заказов."
   ]
  },
  {
   "cell_type": "code",
   "execution_count": 35,
   "id": "9c1127ae",
   "metadata": {},
   "outputs": [
    {
     "name": "stdout",
     "output_type": "stream",
     "text": [
      "[17990. 26785. 53904.]\n"
     ]
    }
   ],
   "source": [
    "print(np.percentile(orders['revenue'], [90, 95, 99])) "
   ]
  },
  {
   "cell_type": "markdown",
   "id": "dec3fc8b",
   "metadata": {},
   "source": [
    "Расчёт показал, что заказы с суммой больше 53904 составляют не более 1% от общего количества. А заказы дороже 26785 - составляют не более 5% от общего числа. По аналогии с количеством заказов на посетителя, примем за границу \"характерного\" чека 99 перцентиль, т.е. заказы дороже 53904 признаем аномально дорогими, искажающими общую картину."
   ]
  },
  {
   "cell_type": "markdown",
   "id": "587e06f1",
   "metadata": {},
   "source": [
    "### Расчёт статистической значимости различий в среднем количестве заказов на посетителя между группами по «сырым» данным"
   ]
  },
  {
   "cell_type": "markdown",
   "id": "ba39ad83",
   "metadata": {},
   "source": [
    "Перед удалением \"аномалий\" рассчитаем статистическую значимость различий в среднем числе заказов на пользователя и среднем чеке между группами по «сырым» данным — без удаления аномальных пользователей."
   ]
  },
  {
   "cell_type": "markdown",
   "id": "422e8628",
   "metadata": {},
   "source": [
    "#### Формирование выборок по \"сырым\" данным"
   ]
  },
  {
   "cell_type": "markdown",
   "id": "bfd128ce",
   "metadata": {},
   "source": [
    "Для каждой группы создадим переменные, в которых перечислим посетителей по id + количество заказов, потом прицепим посетителей, которые ничего не купили, указав им 0 в столбце с числом покупок."
   ]
  },
  {
   "cell_type": "code",
   "execution_count": 36,
   "id": "53f67359",
   "metadata": {
    "scrolled": true
   },
   "outputs": [],
   "source": [
    "# считаем заказы для пользователям для гр.А\n",
    "orders_by_visitors_a = (orders[orders['group'] == 'A']\n",
    "                     .groupby('visitor_id', as_index=False)\n",
    "                     .agg({'transaction_id': pd.Series.nunique})\n",
    "                        )\n",
    "orders_by_visitors_a.columns = ['visitor_id', 'orders']\n",
    "\n",
    "# собираем выборку по всем посетителям с указанием количества заказов для группы А\n",
    "# склеиваем пользователей с заказами с \"пустыми\" посетителями в один дф\n",
    "sample_a = pd.concat(\n",
    "    [\n",
    "        orders_by_visitors_a['orders'],\n",
    "        pd.Series(0,\n",
    "                  index=np.arange(visitors[visitors['group']=='A']['visitors'].sum()-len(orders_by_visitors_a['orders'])\n",
    "                                 ),\n",
    "                  name='orders')\n",
    "    ], axis=0)\n",
    "\n",
    "# повторяем для гр. B\n",
    "orders_by_visitors_b = (orders[orders['group'] == 'B']\n",
    "                     .groupby('visitor_id', as_index=False)\n",
    "                     .agg({'transaction_id': pd.Series.nunique})\n",
    "                        )\n",
    "orders_by_visitors_b.columns = ['visitor_id', 'orders']\n",
    "sample_b = pd.concat(\n",
    "    [\n",
    "        orders_by_visitors_b['orders'],\n",
    "        pd.Series(0,\n",
    "                  index=np.arange(visitors[visitors['group']=='B']['visitors'].sum()-len(orders_by_visitors_b['orders'])\n",
    "                                 ),\n",
    "                  name='orders')\n",
    "    ], axis=0)"
   ]
  },
  {
   "cell_type": "markdown",
   "id": "b00c8183",
   "metadata": {},
   "source": [
    "#### Проверка на нормальность распределения выборок"
   ]
  },
  {
   "cell_type": "markdown",
   "id": "f246626e",
   "metadata": {},
   "source": [
    "На данном этапе имеем две выборки, соответствующих группам A и B. Данные - \"сырые\", аномалии ещё не удалялись.<br>Перед расчётом статистической значимости в различии этих выборок необходимо определить тип их распределения. Применим критерий Шапиро-Уилка"
   ]
  },
  {
   "cell_type": "markdown",
   "id": "81738083",
   "metadata": {},
   "source": [
    "Сформулируем гипотезы для группы A:<br>H0: выборка по посетителям группы A распределена нормально<br>H1: выборка по посетителям группы A распределена ненормально"
   ]
  },
  {
   "cell_type": "code",
   "execution_count": 37,
   "id": "f0f02a11",
   "metadata": {},
   "outputs": [],
   "source": [
    "# зададим к.значимости\n",
    "alpha = 0.05"
   ]
  },
  {
   "cell_type": "code",
   "execution_count": 38,
   "id": "6bfd2df5",
   "metadata": {
    "scrolled": true
   },
   "outputs": [
    {
     "name": "stdout",
     "output_type": "stream",
     "text": [
      "p-значение:  0.0\n",
      "Отвергаем нулевую гипотезу: распределение не нормально\n"
     ]
    }
   ],
   "source": [
    "results = st.shapiro(sample_a)\n",
    "p_value = results[1]\n",
    "print('p-значение: ', p_value)\n",
    "if p_value < alpha:\n",
    "    print('Отвергаем нулевую гипотезу: распределение не нормально')\n",
    "else:\n",
    "    print('Не получилось отвергнуть нулевую гипотезу, выборка по посетителям группы A распределена нормально') "
   ]
  },
  {
   "cell_type": "markdown",
   "id": "11f5fcd3",
   "metadata": {},
   "source": [
    "Сформулируем гипотезы для группы B:<br>H0: выборка по посетителям группы B распределена нормально<br>H1: выборка по посетителям группы B распределена ненормально"
   ]
  },
  {
   "cell_type": "code",
   "execution_count": 39,
   "id": "8f4f4ba6",
   "metadata": {
    "scrolled": false
   },
   "outputs": [
    {
     "name": "stdout",
     "output_type": "stream",
     "text": [
      "p-значение:  0.0\n",
      "Отвергаем нулевую гипотезу: распределение не нормально\n"
     ]
    }
   ],
   "source": [
    "results = st.shapiro(sample_b)\n",
    "p_value = results[1]\n",
    "print('p-значение: ', p_value)\n",
    "if p_value < alpha:\n",
    "    print('Отвергаем нулевую гипотезу: распределение не нормально')\n",
    "else:\n",
    "    print('Не получилось отвергнуть нулевую гипотезу, выборка по посетителям группы A распределена нормально') "
   ]
  },
  {
   "cell_type": "markdown",
   "id": "82477bcd",
   "metadata": {},
   "source": [
    "Итак, критерий Шапиро-Уилка показал, что обе выборки имеют ненормальное распределение. Значит, для расчёта статистической значимости различий в среднем количестве заказов на посетителя между группами необходимо использовать непараметрический тест Манна-Уитни."
   ]
  },
  {
   "cell_type": "markdown",
   "id": "e1f5b120",
   "metadata": {},
   "source": [
    "#### Расчёт статистической значимости различий в среднем количестве заказов на посетителя по группам (сырые данные)"
   ]
  },
  {
   "cell_type": "markdown",
   "id": "f2aa002c",
   "metadata": {},
   "source": [
    "Сформулируем гипотезы:<br>H0: статистически значимых различий в среднем числе заказов между группами нет<br>H1: есть статистически значимые различия в среднем числе заказов между группами"
   ]
  },
  {
   "cell_type": "code",
   "execution_count": 40,
   "id": "295c705e",
   "metadata": {
    "scrolled": true
   },
   "outputs": [
    {
     "name": "stdout",
     "output_type": "stream",
     "text": [
      "p-значение:  0.011\n",
      "Отвергаем нулевую гипотезу: выборки различны\n"
     ]
    }
   ],
   "source": [
    "p_value = round(st.mannwhitneyu(sample_a, sample_b)[1], 3)\n",
    "print('p-значение: ', p_value)\n",
    "if p_value < alpha:\n",
    "    print('Отвергаем нулевую гипотезу: выборки различны')\n",
    "else:\n",
    "    print('Не получилось отвергнуть нулевую гипотезу: статистически значимых различий нет') "
   ]
  },
  {
   "cell_type": "code",
   "execution_count": 41,
   "id": "35ddf073",
   "metadata": {
    "scrolled": true
   },
   "outputs": [
    {
     "name": "stdout",
     "output_type": "stream",
     "text": [
      "Среднее арифметическое значение числа заказов по группе B относительно группы A = 0.160\n"
     ]
    }
   ],
   "source": [
    "print(\"Среднее арифметическое значение числа заказов по группе B относительно группы A = {0:.3f}\".format(\n",
    "    sample_b.mean() / sample_a.mean() - 1))"
   ]
  },
  {
   "cell_type": "markdown",
   "id": "c6cb2159",
   "metadata": {},
   "source": [
    "**Расчёты показали, что есть статистическая разница в среднем количестве заказов по посетителям по группа на основе сырых данных. На принимаемые решения в одной из групп, вероятно, повлияли исследуемые изменения**  Кроме того, среднее количество заказов по посетителям по группе B превышает группу A на 16%.  \n",
    "Необходимо будет в дальнейшем подтвердить расчёты на данных, очищенных от \"аномалий\"."
   ]
  },
  {
   "cell_type": "markdown",
   "id": "4134917f",
   "metadata": {},
   "source": [
    "### Расчёт статистической значимости различий в среднем чеке заказа между группами по «сырым» данным"
   ]
  },
  {
   "cell_type": "markdown",
   "id": "3a4634e0",
   "metadata": {},
   "source": [
    "#### Подготовка данных"
   ]
  },
  {
   "cell_type": "markdown",
   "id": "079adb78",
   "metadata": {},
   "source": [
    "Для расчёте подготовим данные из таблицы с заказами."
   ]
  },
  {
   "cell_type": "code",
   "execution_count": 42,
   "id": "18686e67",
   "metadata": {},
   "outputs": [],
   "source": [
    "sample_revenue_a = orders[orders['group']=='A']['revenue']\n",
    "sample_revenue_b = orders[orders['group']=='B']['revenue']"
   ]
  },
  {
   "cell_type": "markdown",
   "id": "8eb18eb1",
   "metadata": {},
   "source": [
    "#### Оценка нормальности распределения"
   ]
  },
  {
   "cell_type": "markdown",
   "id": "4edaa0f9",
   "metadata": {},
   "source": [
    "Имеем две выборки с данными о стоимости заказов, соответствующих группам A и B. Данные - \"сырые\", аномалии ещё не удалялись.\n",
    "Перед расчётом статистической значимости в различии этих выборок необходимо определить тип их распределения. Применим критерий Шапиро-Уилка\n",
    "\n",
    "Сформулируем гипотезы для группы A:  \n",
    "H0: выборка по размеру чека заказа группы A распределена нормально  \n",
    "H1: выборка по размеру чека заказа группы A распределена ненормально"
   ]
  },
  {
   "cell_type": "code",
   "execution_count": 43,
   "id": "72cbe9bf",
   "metadata": {
    "scrolled": true
   },
   "outputs": [
    {
     "name": "stdout",
     "output_type": "stream",
     "text": [
      "p-значение:  2.8240222045454137e-31\n",
      "Отвергаем нулевую гипотезу: распределение не нормально\n"
     ]
    }
   ],
   "source": [
    "results = st.shapiro(sample_revenue_a)\n",
    "p_value = results[1]\n",
    "print('p-значение: ', p_value)\n",
    "if p_value < alpha:\n",
    "    print('Отвергаем нулевую гипотезу: распределение не нормально')\n",
    "else:\n",
    "    print('Не получилось отвергнуть нулевую гипотезу, выборка по чекам заказов группы A распределена нормально') "
   ]
  },
  {
   "cell_type": "markdown",
   "id": "d9c0d624",
   "metadata": {},
   "source": [
    "Повторим для второй выборки\n",
    "\n",
    "Сформулируем гипотезы для группы B:  \n",
    "H0: выборка по размеру чека заказа группы B распределена нормально  \n",
    "H1: выборка по размеру чека заказа группы B распределена ненормально"
   ]
  },
  {
   "cell_type": "code",
   "execution_count": 44,
   "id": "d604dbc8",
   "metadata": {},
   "outputs": [
    {
     "name": "stdout",
     "output_type": "stream",
     "text": [
      "p-значение:  4.203895392974451e-45\n",
      "Отвергаем нулевую гипотезу: распределение не нормально\n"
     ]
    }
   ],
   "source": [
    "results = st.shapiro(sample_revenue_b)\n",
    "p_value = results[1]\n",
    "print('p-значение: ', p_value)\n",
    "if p_value < alpha:\n",
    "    print('Отвергаем нулевую гипотезу: распределение не нормально')\n",
    "else:\n",
    "    print('Не получилось отвергнуть нулевую гипотезу, выборка по чекам заказов группы В распределена нормально') "
   ]
  },
  {
   "cell_type": "markdown",
   "id": "09ee237f",
   "metadata": {},
   "source": [
    "Обе выборки распределены ненормально. Для определения статистической значимости различия (или её отсутствия) будем использовать непараметрический критерий Манна-Уитни."
   ]
  },
  {
   "cell_type": "markdown",
   "id": "6bafad03",
   "metadata": {},
   "source": [
    "#### Определение статистической значимости различия (сырые данные)"
   ]
  },
  {
   "cell_type": "markdown",
   "id": "1c6bb569",
   "metadata": {},
   "source": [
    "Сформулируем гипотезы:<br>H0: статистически значимых различий в стоимости заказа между группами нет<br>H1: есть статистически значимые различия в стоимости заказа между группами"
   ]
  },
  {
   "cell_type": "code",
   "execution_count": 45,
   "id": "b26c6d23",
   "metadata": {
    "scrolled": true
   },
   "outputs": [
    {
     "name": "stdout",
     "output_type": "stream",
     "text": [
      "p-значение:  0.829\n",
      "Не получилось отвергнуть нулевую гипотезу: статистически значимых различий нет\n"
     ]
    }
   ],
   "source": [
    "p_value = round(st.mannwhitneyu(sample_revenue_a, sample_revenue_b)[1], 3)\n",
    "print('p-значение: ', p_value)\n",
    "if p_value < alpha:\n",
    "    print('Отвергаем нулевую гипотезу: выборки различны')\n",
    "else:\n",
    "    print('Не получилось отвергнуть нулевую гипотезу: статистически значимых различий нет') "
   ]
  },
  {
   "cell_type": "code",
   "execution_count": 46,
   "id": "05204b19",
   "metadata": {},
   "outputs": [
    {
     "name": "stdout",
     "output_type": "stream",
     "text": [
      "Среднее арифметическое значение стоимости заказа по группе B относительно группы A по сырым данным = 0.287\n"
     ]
    }
   ],
   "source": [
    "# оцением соотношение средних арифметических размеров чека по выборкам\n",
    "print(\"Среднее арифметическое значение стоимости заказа по группе B относительно группы A по сырым данным = {0:.3f}\".format(\n",
    "    sample_revenue_b.mean() / sample_revenue_a.mean() - 1))"
   ]
  },
  {
   "cell_type": "markdown",
   "id": "56efc123",
   "metadata": {},
   "source": [
    "Таким образом, несмотря на наличие существенной разницы арифметических средних величин стоимости заказа (по группе B больше на 28,7%), статистически не удалось доказать наличие значимых отличий в выборке.  \n",
    "Вероятно, на разницу средних влияют выбросы - необходимо отфильтровать данные и повторить расчёт."
   ]
  },
  {
   "cell_type": "markdown",
   "id": "6e61cfab",
   "metadata": {},
   "source": [
    "### Расчёт статистической значимости различий в среднем количестве заказов на посетителя между группами по «очищенным» данным"
   ]
  },
  {
   "cell_type": "markdown",
   "id": "31337c9d",
   "metadata": {},
   "source": [
    "Приступим к фильтрации данных. Выше по тексту исследования было принято решение \"отсечь\" посетителей и заказы по границам 99-х перцентилей. Однако, введём переменную, чтобы можно было менять этот параметр."
   ]
  },
  {
   "cell_type": "markdown",
   "id": "e7a53b80",
   "metadata": {},
   "source": [
    "#### Подготовка списка \"нехарактерных\" покупателей"
   ]
  },
  {
   "cell_type": "code",
   "execution_count": 47,
   "id": "48597e2c",
   "metadata": {},
   "outputs": [],
   "source": [
    "# для \"подвижности\"\n",
    "perc_many = 99\n",
    "perc_expens = 99"
   ]
  },
  {
   "cell_type": "code",
   "execution_count": 48,
   "id": "ca1a2341",
   "metadata": {
    "scrolled": true
   },
   "outputs": [],
   "source": [
    "# массив с многозаказными посетителями\n",
    "visitors_many_orders = orders_by_visitors[orders_by_visitors['orders'] > np.percentile(\n",
    "    orders_by_visitors['orders'], perc_many)]['visitor_id']\n",
    "\n",
    "visitors_expensive_orders=orders[orders['revenue'] > np.percentile(orders['revenue'], perc_expens)]['visitor_id']\n",
    "\n",
    "visitors_to_filter=(pd.concat([visitors_many_orders, visitors_expensive_orders], axis=0)\n",
    "                   .drop_duplicates()\n",
    "                   .sort_values()\n",
    "                  )"
   ]
  },
  {
   "cell_type": "code",
   "execution_count": 49,
   "id": "dfd6f821",
   "metadata": {},
   "outputs": [
    {
     "name": "stdout",
     "output_type": "stream",
     "text": [
      "Количество покупателей, признаваемых нехарактерными: 16\n"
     ]
    }
   ],
   "source": [
    "print(\"Количество покупателей, признаваемых нехарактерными: {0:.0f}\".format(\n",
    "    visitors_to_filter.shape[0]))"
   ]
  },
  {
   "cell_type": "code",
   "execution_count": 50,
   "id": "3f8fa6fa",
   "metadata": {
    "scrolled": true
   },
   "outputs": [
    {
     "name": "stdout",
     "output_type": "stream",
     "text": [
      "Что составляет 1.64% от общего числа покупателей\n"
     ]
    }
   ],
   "source": [
    "print(\"Что составляет {0:.2f}% от общего числа покупателей\".format(\n",
    "    visitors_to_filter.shape[0] * 100 / orders['visitor_id'].nunique()))"
   ]
  },
  {
   "cell_type": "markdown",
   "id": "9cf9bdf2",
   "metadata": {},
   "source": [
    "1,64 % от общего числа небольшая потеря от общего числа. Необходимо проверить, как изменятся расчёты после их \"ухода\"."
   ]
  },
  {
   "cell_type": "markdown",
   "id": "21146a83",
   "metadata": {},
   "source": [
    "#### Формирование \"очищенных\" выборок"
   ]
  },
  {
   "cell_type": "markdown",
   "id": "50c0e898",
   "metadata": {},
   "source": [
    "Удалим найденные id посетителей из выборки с данными заказов на посетителя"
   ]
  },
  {
   "cell_type": "code",
   "execution_count": 51,
   "id": "00870e69",
   "metadata": {
    "scrolled": true
   },
   "outputs": [],
   "source": [
    "# чистим группу А\n",
    "sample_a_filter = pd.concat(\n",
    "     [orders_by_visitors_a[~(orders_by_visitors_a['visitor_id'].isin(visitors_to_filter))]['orders'],\n",
    "      pd.Series(0,\n",
    "                index=np.arange(visitors[visitors['group']=='A']['visitors'].sum()-len(orders_by_visitors_a['orders'])),\n",
    "                name='orders')\n",
    "     ]\n",
    "     , axis=0)\n",
    "\n",
    "# чистим группу B\n",
    "sample_b_filter = pd.concat(\n",
    "     [orders_by_visitors_b[~(orders_by_visitors_b['visitor_id'].isin(visitors_to_filter))]['orders'],\n",
    "      pd.Series(0,\n",
    "                index=np.arange(visitors[visitors['group']=='B']['visitors'].sum()-len(orders_by_visitors_b['orders'])),\n",
    "                name='orders')\n",
    "     ]\n",
    "     , axis=0)"
   ]
  },
  {
   "cell_type": "markdown",
   "id": "3ee23d0a",
   "metadata": {},
   "source": [
    "Проверку на нормальность распределения, считаю, можно повторно не проводить. Сразу переходим к определению наличия статистической значимости различий между выборками в количестве заказов на посетителя."
   ]
  },
  {
   "cell_type": "markdown",
   "id": "1fc9d8fe",
   "metadata": {},
   "source": [
    "#### Определение статистической значимости различий в количестве заказов на посетителя"
   ]
  },
  {
   "cell_type": "markdown",
   "id": "2981bffb",
   "metadata": {},
   "source": [
    "Формулировки гипотез прежние. Применим критерий Манна-Уитни."
   ]
  },
  {
   "cell_type": "code",
   "execution_count": 52,
   "id": "4b7ec4bf",
   "metadata": {
    "scrolled": true
   },
   "outputs": [
    {
     "name": "stdout",
     "output_type": "stream",
     "text": [
      "p-значение:  0.007\n",
      "Отвергаем нулевую гипотезу: выборки различны\n"
     ]
    }
   ],
   "source": [
    "p_value = round(st.mannwhitneyu(sample_a_filter, sample_b_filter)[1], 3)\n",
    "print('p-значение: ', p_value)\n",
    "if p_value < alpha:\n",
    "    print('Отвергаем нулевую гипотезу: выборки различны')\n",
    "else:\n",
    "    print('Не получилось отвергнуть нулевую гипотезу: статистически значимых различий нет') "
   ]
  },
  {
   "cell_type": "code",
   "execution_count": 53,
   "id": "bdd5ab84",
   "metadata": {},
   "outputs": [
    {
     "name": "stdout",
     "output_type": "stream",
     "text": [
      "Среднее арифметическое значение числа заказов по группе B относительно группы A по очищенным данным = 0.189\n"
     ]
    }
   ],
   "source": [
    "print(\"Среднее арифметическое значение числа заказов по группе B относительно группы A по очищенным данным = {0:.3f}\".format(\n",
    "    sample_b_filter.mean() / sample_a_filter.mean() - 1))"
   ]
  },
  {
   "cell_type": "markdown",
   "id": "b0a4e462",
   "metadata": {},
   "source": [
    "Разница в выборках увеличилась ещё больше! Это же касается и отличия среднего арифметического количества заказов на посетителя (пока выборке B больше уже на 18,9%, по сырым данным было на 16%)  \n",
    "**Можно однозначно говорить о том, что изменения в интернет-магазине привели к росту покупок на посетителя**"
   ]
  },
  {
   "cell_type": "markdown",
   "id": "bc92b0ab",
   "metadata": {},
   "source": [
    "### Расчёт статистической значимости различий в среднем чеке заказа между группами по «очищенным» данным"
   ]
  },
  {
   "cell_type": "markdown",
   "id": "878c715c",
   "metadata": {},
   "source": [
    "Дальше проверим стат. значимость различий в среднем чеке по очищенным данным."
   ]
  },
  {
   "cell_type": "markdown",
   "id": "67b1c624",
   "metadata": {},
   "source": [
    "#### Подтовка выборок по очищенным данным"
   ]
  },
  {
   "cell_type": "code",
   "execution_count": 55,
   "id": "5a3c4f2a",
   "metadata": {},
   "outputs": [],
   "source": [
    "# зачистка заказов группы А\n",
    "sample_revenue_a_filter = (orders[~(orders['visitor_id'].isin(visitors_to_filter))\n",
    "                                  & (orders['group']=='A')]['revenue'])\n",
    "\n",
    "# зачистка заказов группы В\n",
    "sample_revenue_b_filter = (orders[~(orders['visitor_id'].isin(visitors_to_filter)) \n",
    "                                  & (orders['group']=='B')]['revenue'])"
   ]
  },
  {
   "cell_type": "markdown",
   "id": "460bc294",
   "metadata": {},
   "source": [
    "#### Определение статистической значимости различия среднего чека (очищенные данные)"
   ]
  },
  {
   "cell_type": "markdown",
   "id": "6f81ed45",
   "metadata": {},
   "source": [
    "Формулировки гипотез оставляем прежними, характер распределения выборок повторно проверять не будем."
   ]
  },
  {
   "cell_type": "code",
   "execution_count": 56,
   "id": "f52c3296",
   "metadata": {
    "scrolled": true
   },
   "outputs": [
    {
     "name": "stdout",
     "output_type": "stream",
     "text": [
      "p-значение:  0.788\n",
      "Не получилось отвергнуть нулевую гипотезу: статистически значимых различий нет\n"
     ]
    }
   ],
   "source": [
    "p_value = round(st.mannwhitneyu(sample_revenue_a_filter, sample_revenue_b_filter)[1], 3)\n",
    "print('p-значение: ', p_value)\n",
    "if p_value < alpha:\n",
    "    print('Отвергаем нулевую гипотезу: выборки различны')\n",
    "else:\n",
    "    print('Не получилось отвергнуть нулевую гипотезу: статистически значимых различий нет') "
   ]
  },
  {
   "cell_type": "code",
   "execution_count": 57,
   "id": "85c7a075",
   "metadata": {
    "scrolled": true
   },
   "outputs": [
    {
     "name": "stdout",
     "output_type": "stream",
     "text": [
      "Среднее арифметическое значение стоимости заказа по группе B\n",
      "относительно группы A по очищенным данным = -0.032\n"
     ]
    }
   ],
   "source": [
    "# оцением соотношение средних арифметических размеров чека по выборкам\n",
    "print(\"\"\"Среднее арифметическое значение стоимости заказа по группе B\n",
    "относительно группы A по очищенным данным = {0:.3f}\"\"\".format(\n",
    "    sample_revenue_b_filter.mean() / sample_revenue_a_filter.mean() - 1))"
   ]
  },
  {
   "cell_type": "markdown",
   "id": "7c2baaad",
   "metadata": {},
   "source": [
    "По результатам расчёта на основе очищенных данных фиксируем, что статистически значимой разницы в выборках по среднему чеку заказов в разных выборках таки нет. При этом, за счёт удаления аномально дорогих заказов, увидели практическое равенство средних арифметических значений стоимости заказов в разных группах (разница 3,2%)."
   ]
  },
  {
   "cell_type": "markdown",
   "id": "806e1e2d",
   "metadata": {},
   "source": [
    "### Общий вывод по анализу результатов A/B - теста"
   ]
  },
  {
   "cell_type": "markdown",
   "id": "03b7d03f",
   "metadata": {},
   "source": [
    "<ol>\n",
    "    <li>Анализируемый дф - данные о покупках и посещениях интернет-магазина за август 2019 года по группам А/В.  \n",
    "        Задача: сделать выводы по результатам А/В теста.</li>\n",
    "    <li>С самого начала была выявлена ошибка при формировании исследуемых групп: часть пользователей были отмечены в обеих группах (5.6% от общего числа покупателей). Было принято решение об удалении их данных из дф с заказами, но \"починить\" дф с посещениями невозможно из-за агрегированности информации. Результаты данного исследования могут быть искажены за счёт этого.</li>\n",
    "    <li> В ходе исследования был проведён анализ накопительной выручки и накопительного среднего чека по исследуемым группам. Графический анализ показал:\n",
    "<ul><li>заметное влияение аномальных (нехарактерных) покупок на исходные данные;</li>\n",
    "    <li>показатель среднего числа заказов на посетителя по группе B за исследуемый период превышает показатель группы А примерно на 15%</li></ul>\n",
    "    <li>был проведён анализ наиболее \"характерного\" поведения покупателя за период: не больше 2 покупок за период, чек: не более 53904 RUR. На основе этих данных проведена фильтрация исходных данных и проведено стат. исследование на предмет нахождения статистически значимых отличий по группам по показателю количества покупок на посетителя и среднего чека.<br>При наличии стат.значимой разницы в количестве покупок на посетителя, стат.значимой разницы в среднем чеке не найдено.</ol>\n",
    "\n",
    "**Таким образом, c учётом того, что накопительные данные по выручке и среднем количестве заказов на посетителя по группам стабилизировались, а уровень среднего количества заказов на посетителя по группе B существенно превышает показатель группы А, имеет смысл остановить проведение А/В-теста и признать его успешным. Несмотря на отсуствие различий в среднем чеке, показатель среднего количества заказов на посетителя (условная \"конверсия\") вырос, что позволит нарастить прибыль предприятия в перспективе.**\n"
   ]
  }
 ],
 "metadata": {
  "kernelspec": {
   "display_name": "Python 3 (ipykernel)",
   "language": "python",
   "name": "python3"
  },
  "language_info": {
   "codemirror_mode": {
    "name": "ipython",
    "version": 3
   },
   "file_extension": ".py",
   "mimetype": "text/x-python",
   "name": "python",
   "nbconvert_exporter": "python",
   "pygments_lexer": "ipython3",
   "version": "3.9.13"
  },
  "toc": {
   "base_numbering": 1,
   "nav_menu": {},
   "number_sections": true,
   "sideBar": true,
   "skip_h1_title": true,
   "title_cell": "Table of Contents",
   "title_sidebar": "Contents",
   "toc_cell": false,
   "toc_position": {
    "height": "calc(100% - 180px)",
    "left": "10px",
    "top": "150px",
    "width": "177.188px"
   },
   "toc_section_display": true,
   "toc_window_display": false
  }
 },
 "nbformat": 4,
 "nbformat_minor": 5
}
