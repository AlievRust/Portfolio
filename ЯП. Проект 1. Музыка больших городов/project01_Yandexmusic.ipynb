{
 "cells": [
  {
   "cell_type": "markdown",
   "metadata": {
    "id": "E0vqbgi9ay0H"
   },
   "source": [
    "# Учебный проект №1\n",
    "# Яндекс Музыка"
   ]
  },
  {
   "cell_type": "markdown",
   "metadata": {
    "id": "VUC88oWjTJw2"
   },
   "source": [
    "Сравнение Москвы и Петербурга окружено мифами. Например:\n",
    " * Москва — мегаполис, подчинённый жёсткому ритму рабочей недели;\n",
    " * Петербург — культурная столица, со своими вкусами.\n",
    "\n",
    "На данных Яндекс Музыки вы сравните поведение пользователей двух столиц.\n",
    "\n",
    "**Цель исследования** — проверьте три гипотезы:\n",
    "1. Активность пользователей зависит от дня недели. Причём в Москве и Петербурге это проявляется по-разному.\n",
    "2. В понедельник утром в Москве преобладают одни жанры, а в Петербурге — другие. Так же и вечером пятницы преобладают разные жанры — в зависимости от города. \n",
    "3. Москва и Петербург предпочитают разные жанры музыки. В Москве чаще слушают поп-музыку, в Петербурге — русский рэп.\n",
    "\n",
    "**Ход исследования**\n",
    "\n",
    "Данные о поведении пользователей вы получите из файла `yandex_music_project.csv`. О качестве данных ничего не известно. Поэтому перед проверкой гипотез понадобится обзор данных. \n",
    "\n",
    "Вы проверите данные на ошибки и оцените их влияние на исследование. Затем, на этапе предобработки вы поищете возможность исправить самые критичные ошибки данных.\n",
    " \n",
    "Таким образом, исследование пройдёт в три этапа:\n",
    " 1. Обзор данных.\n",
    " 2. Предобработка данных.\n",
    " 3. Проверка гипотез.\n",
    "\n"
   ]
  },
  {
   "cell_type": "markdown",
   "metadata": {
    "id": "VUC88oWjTJw2"
   },
   "source": [
    "Сравнение Москвы и Петербурга окружено мифами. Например:\n",
    " * Москва — мегаполис, подчинённый жёсткому ритму рабочей недели;\n",
    " * Петербург — культурная столица, со своими вкусами.\n",
    "\n",
    "На данных Яндекс Музыки вы сравните поведение пользователей двух столиц.\n",
    "\n",
    "**Цель исследования** — проверьте три гипотезы:\n",
    "1. Активность пользователей зависит от дня недели. Причём в Москве и Петербурге это проявляется по-разному.\n",
    "2. В понедельник утром в Москве преобладают одни жанры, а в Петербурге — другие. Так же и вечером пятницы преобладают разные жанры — в зависимости от города. \n",
    "3. Москва и Петербург предпочитают разные жанры музыки. В Москве чаще слушают поп-музыку, в Петербурге — русский рэп.\n",
    "\n",
    "**Ход исследования**\n",
    "\n",
    "Данные о поведении пользователей вы получите из файла `yandex_music_project.csv`. О качестве данных ничего не известно. Поэтому перед проверкой гипотез понадобится обзор данных. \n",
    "\n",
    "Вы проверите данные на ошибки и оцените их влияние на исследование. Затем, на этапе предобработки вы поищете возможность исправить самые критичные ошибки данных.\n",
    " \n",
    "Таким образом, исследование пройдёт в три этапа:\n",
    " 1. Обзор данных.\n",
    " 2. Предобработка данных.\n",
    " 3. Проверка гипотез.\n",
    "\n"
   ]
  },
  {
   "cell_type": "markdown",
   "metadata": {
    "id": "Ml1hmfXC_Zcs"
   },
   "source": [
    "## Обзор данных\n",
    "\n",
    "Составьте первое представление о данных Яндекс Музыки.\n",
    "\n",
    "\n"
   ]
  },
  {
   "cell_type": "markdown",
   "metadata": {
    "id": "57eAOGIz_Zcs",
    "tags": [
     "start_task"
    ]
   },
   "source": [
    "**Задание 1**\n",
    "\n",
    "Основной инструмент аналитика — `pandas`. Импортируйте эту библиотеку."
   ]
  },
  {
   "cell_type": "code",
   "execution_count": 1,
   "metadata": {
    "id": "AXN7PHPN_Zcs"
   },
   "outputs": [],
   "source": [
    "import pandas as pd"
   ]
  },
  {
   "cell_type": "markdown",
   "metadata": {
    "id": "SG23P8tt_Zcs",
    "tags": [
     "start_task"
    ]
   },
   "source": [
    "**Задание 2**\n",
    "\n",
    "Прочитайте файл `yandex_music_project.csv` из папки `/datasets` и сохраните его в переменной `df`:"
   ]
  },
  {
   "cell_type": "code",
   "execution_count": 2,
   "metadata": {
    "id": "fFVu7vqh_Zct"
   },
   "outputs": [],
   "source": [
    "df = pd.read_csv('yandex_music_project.csv')"
   ]
  },
  {
   "cell_type": "markdown",
   "metadata": {
    "id": "rDoOMd3uTqnZ",
    "tags": [
     "start_task"
    ]
   },
   "source": [
    "**Задание 3**\n",
    "\n",
    "\n",
    "Выведите на экран первые десять строк таблицы:"
   ]
  },
  {
   "cell_type": "code",
   "execution_count": 3,
   "metadata": {
    "id": "oWTVX3gW_Zct"
   },
   "outputs": [
    {
     "data": {
      "text/html": [
       "<div>\n",
       "<style scoped>\n",
       "    .dataframe tbody tr th:only-of-type {\n",
       "        vertical-align: middle;\n",
       "    }\n",
       "\n",
       "    .dataframe tbody tr th {\n",
       "        vertical-align: top;\n",
       "    }\n",
       "\n",
       "    .dataframe thead th {\n",
       "        text-align: right;\n",
       "    }\n",
       "</style>\n",
       "<table border=\"1\" class=\"dataframe\">\n",
       "  <thead>\n",
       "    <tr style=\"text-align: right;\">\n",
       "      <th></th>\n",
       "      <th>userID</th>\n",
       "      <th>Track</th>\n",
       "      <th>artist</th>\n",
       "      <th>genre</th>\n",
       "      <th>City</th>\n",
       "      <th>time</th>\n",
       "      <th>Day</th>\n",
       "    </tr>\n",
       "  </thead>\n",
       "  <tbody>\n",
       "    <tr>\n",
       "      <th>0</th>\n",
       "      <td>FFB692EC</td>\n",
       "      <td>Kamigata To Boots</td>\n",
       "      <td>The Mass Missile</td>\n",
       "      <td>rock</td>\n",
       "      <td>Saint-Petersburg</td>\n",
       "      <td>20:28:33</td>\n",
       "      <td>Wednesday</td>\n",
       "    </tr>\n",
       "    <tr>\n",
       "      <th>1</th>\n",
       "      <td>55204538</td>\n",
       "      <td>Delayed Because of Accident</td>\n",
       "      <td>Andreas Rönnberg</td>\n",
       "      <td>rock</td>\n",
       "      <td>Moscow</td>\n",
       "      <td>14:07:09</td>\n",
       "      <td>Friday</td>\n",
       "    </tr>\n",
       "    <tr>\n",
       "      <th>2</th>\n",
       "      <td>20EC38</td>\n",
       "      <td>Funiculì funiculà</td>\n",
       "      <td>Mario Lanza</td>\n",
       "      <td>pop</td>\n",
       "      <td>Saint-Petersburg</td>\n",
       "      <td>20:58:07</td>\n",
       "      <td>Wednesday</td>\n",
       "    </tr>\n",
       "    <tr>\n",
       "      <th>3</th>\n",
       "      <td>A3DD03C9</td>\n",
       "      <td>Dragons in the Sunset</td>\n",
       "      <td>Fire + Ice</td>\n",
       "      <td>folk</td>\n",
       "      <td>Saint-Petersburg</td>\n",
       "      <td>08:37:09</td>\n",
       "      <td>Monday</td>\n",
       "    </tr>\n",
       "    <tr>\n",
       "      <th>4</th>\n",
       "      <td>E2DC1FAE</td>\n",
       "      <td>Soul People</td>\n",
       "      <td>Space Echo</td>\n",
       "      <td>dance</td>\n",
       "      <td>Moscow</td>\n",
       "      <td>08:34:34</td>\n",
       "      <td>Monday</td>\n",
       "    </tr>\n",
       "    <tr>\n",
       "      <th>5</th>\n",
       "      <td>842029A1</td>\n",
       "      <td>Преданная</td>\n",
       "      <td>IMPERVTOR</td>\n",
       "      <td>rusrap</td>\n",
       "      <td>Saint-Petersburg</td>\n",
       "      <td>13:09:41</td>\n",
       "      <td>Friday</td>\n",
       "    </tr>\n",
       "    <tr>\n",
       "      <th>6</th>\n",
       "      <td>4CB90AA5</td>\n",
       "      <td>True</td>\n",
       "      <td>Roman Messer</td>\n",
       "      <td>dance</td>\n",
       "      <td>Moscow</td>\n",
       "      <td>13:00:07</td>\n",
       "      <td>Wednesday</td>\n",
       "    </tr>\n",
       "    <tr>\n",
       "      <th>7</th>\n",
       "      <td>F03E1C1F</td>\n",
       "      <td>Feeling This Way</td>\n",
       "      <td>Polina Griffith</td>\n",
       "      <td>dance</td>\n",
       "      <td>Moscow</td>\n",
       "      <td>20:47:49</td>\n",
       "      <td>Wednesday</td>\n",
       "    </tr>\n",
       "    <tr>\n",
       "      <th>8</th>\n",
       "      <td>8FA1D3BE</td>\n",
       "      <td>И вновь продолжается бой</td>\n",
       "      <td>NaN</td>\n",
       "      <td>ruspop</td>\n",
       "      <td>Moscow</td>\n",
       "      <td>09:17:40</td>\n",
       "      <td>Friday</td>\n",
       "    </tr>\n",
       "    <tr>\n",
       "      <th>9</th>\n",
       "      <td>E772D5C0</td>\n",
       "      <td>Pessimist</td>\n",
       "      <td>NaN</td>\n",
       "      <td>dance</td>\n",
       "      <td>Saint-Petersburg</td>\n",
       "      <td>21:20:49</td>\n",
       "      <td>Wednesday</td>\n",
       "    </tr>\n",
       "  </tbody>\n",
       "</table>\n",
       "</div>"
      ],
      "text/plain": [
       "     userID                        Track            artist   genre  \\\n",
       "0  FFB692EC            Kamigata To Boots  The Mass Missile    rock   \n",
       "1  55204538  Delayed Because of Accident  Andreas Rönnberg    rock   \n",
       "2    20EC38            Funiculì funiculà       Mario Lanza     pop   \n",
       "3  A3DD03C9        Dragons in the Sunset        Fire + Ice    folk   \n",
       "4  E2DC1FAE                  Soul People        Space Echo   dance   \n",
       "5  842029A1                    Преданная         IMPERVTOR  rusrap   \n",
       "6  4CB90AA5                         True      Roman Messer   dance   \n",
       "7  F03E1C1F             Feeling This Way   Polina Griffith   dance   \n",
       "8  8FA1D3BE     И вновь продолжается бой               NaN  ruspop   \n",
       "9  E772D5C0                    Pessimist               NaN   dance   \n",
       "\n",
       "             City        time        Day  \n",
       "0  Saint-Petersburg  20:28:33  Wednesday  \n",
       "1            Moscow  14:07:09     Friday  \n",
       "2  Saint-Petersburg  20:58:07  Wednesday  \n",
       "3  Saint-Petersburg  08:37:09     Monday  \n",
       "4            Moscow  08:34:34     Monday  \n",
       "5  Saint-Petersburg  13:09:41     Friday  \n",
       "6            Moscow  13:00:07  Wednesday  \n",
       "7            Moscow  20:47:49  Wednesday  \n",
       "8            Moscow  09:17:40     Friday  \n",
       "9  Saint-Petersburg  21:20:49  Wednesday  "
      ]
     },
     "execution_count": 3,
     "metadata": {},
     "output_type": "execute_result"
    }
   ],
   "source": [
    "df.head(10)"
   ]
  },
  {
   "cell_type": "markdown",
   "metadata": {
    "id": "EO73Kwic_Zct",
    "tags": [
     "start_task"
    ]
   },
   "source": [
    "**Задание 4**\n",
    "\n",
    "\n",
    "Одной командой получить общую информацию о таблице c помощью метода `info()`:"
   ]
  },
  {
   "cell_type": "code",
   "execution_count": 4,
   "metadata": {
    "id": "DSf2kIb-_Zct"
   },
   "outputs": [
    {
     "name": "stdout",
     "output_type": "stream",
     "text": [
      "<class 'pandas.core.frame.DataFrame'>\n",
      "RangeIndex: 65079 entries, 0 to 65078\n",
      "Data columns (total 7 columns):\n",
      " #   Column    Non-Null Count  Dtype \n",
      "---  ------    --------------  ----- \n",
      " 0     userID  65079 non-null  object\n",
      " 1   Track     63848 non-null  object\n",
      " 2   artist    57876 non-null  object\n",
      " 3   genre     63881 non-null  object\n",
      " 4     City    65079 non-null  object\n",
      " 5   time      65079 non-null  object\n",
      " 6   Day       65079 non-null  object\n",
      "dtypes: object(7)\n",
      "memory usage: 3.5+ MB\n"
     ]
    }
   ],
   "source": [
    "df.info()"
   ]
  },
  {
   "cell_type": "markdown",
   "metadata": {
    "id": "TaQ2Iwbr_Zct"
   },
   "source": [
    "Итак, в таблице семь столбцов. Тип данных во всех столбцах — `object`.\n",
    "\n",
    "Согласно документации к данным:\n",
    "* `userID` — идентификатор пользователя;\n",
    "* `Track` — название трека;  \n",
    "* `artist` — имя исполнителя;\n",
    "* `genre` — название жанра;\n",
    "* `City` — город пользователя;\n",
    "* `time` — время начала прослушивания;\n",
    "* `Day` — день недели.\n",
    "\n",
    "Количество значений в столбцах различается. Значит, в данных есть пропущенные значения."
   ]
  },
  {
   "cell_type": "markdown",
   "metadata": {
    "id": "rAfziTBDmf2h",
    "tags": [
     "start_task"
    ]
   },
   "source": [
    "**Задание 5**\n",
    "\n",
    "**Вопрос со свободной формой ответа**\n",
    "\n",
    "В названиях колонок видны нарушения стиля:\n",
    "* Строчные буквы сочетаются с прописными.\n",
    "* Встречаются пробелы."
   ]
  },
  {
   "cell_type": "markdown",
   "metadata": {
    "id": "MCB6-dXG_Zct"
   },
   "source": [
    "**Выводы**\n",
    "\n",
    "В каждой строке таблицы — данные о прослушанном треке. Часть колонок описывает саму композицию: название, исполнителя и жанр. Остальные данные рассказывают о пользователе: из какого он города, когда он слушал музыку. \n",
    "\n",
    "Предварительно можно утверждать, что данных достаточно для проверки гипотез. Но встречаются пропуски в данных, а в названиях колонок — расхождения с хорошим стилем.\n",
    "\n",
    "Чтобы двигаться дальше, нужно устранить проблемы в данных."
   ]
  },
  {
   "cell_type": "markdown",
   "metadata": {
    "id": "SjYF6Ub9_Zct"
   },
   "source": [
    "## Предобработка данных\n",
    "Исправьте стиль в заголовках столбцов, исключите пропуски. Затем проверьте данные на дубликаты."
   ]
  },
  {
   "cell_type": "markdown",
   "metadata": {
    "id": "dIaKXr29_Zct",
    "tags": [
     "start_task"
    ]
   },
   "source": [
    "### Стиль заголовков\n",
    "\n",
    "**Задание 6**\n",
    "\n",
    "Выведите на экран названия столбцов:"
   ]
  },
  {
   "cell_type": "code",
   "execution_count": 5,
   "metadata": {
    "id": "oKOTdF_Q_Zct"
   },
   "outputs": [
    {
     "data": {
      "text/plain": [
       "Index(['  userID', 'Track', 'artist', 'genre', '  City  ', 'time', 'Day'], dtype='object')"
      ]
     },
     "execution_count": 5,
     "metadata": {},
     "output_type": "execute_result"
    }
   ],
   "source": [
    "df.columns"
   ]
  },
  {
   "cell_type": "markdown",
   "metadata": {
    "id": "zj5534cv_Zct",
    "tags": [
     "start_task"
    ]
   },
   "source": [
    "**Задание 7**\n",
    "\n",
    "\n",
    "Приведите названия в соответствие с хорошим стилем:\n",
    "* несколько слов в названии запишите в «змеином_регистре»,\n",
    "* все символы сделайте строчными,\n",
    "* устраните пробелы.\n",
    "\n",
    "Для этого переименуйте колонки так:\n",
    "* `'  userID'` → `'user_id'`;\n",
    "* `'Track'` → `'track'`;\n",
    "* `'  City  '` → `'city'`;\n",
    "* `'Day'` → `'day'`."
   ]
  },
  {
   "cell_type": "code",
   "execution_count": 6,
   "metadata": {
    "id": "ISlFqs5y_Zct"
   },
   "outputs": [],
   "source": [
    "df = df.rename(columns = {'  userID':'user_id','Track':'track','  City  ':'city', 'Day':'day'})"
   ]
  },
  {
   "cell_type": "markdown",
   "metadata": {
    "id": "1dqbh00J_Zct",
    "tags": [
     "start_task"
    ]
   },
   "source": [
    "**Задание 8**\n",
    "\n",
    "\n",
    "Проверьте результат. Для этого ещё раз выведите на экран названия столбцов:"
   ]
  },
  {
   "cell_type": "code",
   "execution_count": 7,
   "metadata": {
    "id": "d4NOAmTW_Zct"
   },
   "outputs": [
    {
     "data": {
      "text/plain": [
       "Index(['user_id', 'track', 'artist', 'genre', 'city', 'time', 'day'], dtype='object')"
      ]
     },
     "execution_count": 7,
     "metadata": {},
     "output_type": "execute_result"
    }
   ],
   "source": [
    "df.columns"
   ]
  },
  {
   "cell_type": "markdown",
   "metadata": {
    "id": "5ISfbcfY_Zct",
    "tags": [
     "start_task"
    ]
   },
   "source": [
    "### Пропуски значений\n",
    "\n",
    "**Задание 9**\n",
    "\n",
    "Сначала посчитайте, сколько в таблице пропущенных значений. Для этого достаточно двух методов `pandas`:"
   ]
  },
  {
   "cell_type": "code",
   "execution_count": 8,
   "metadata": {
    "id": "RskX29qr_Zct"
   },
   "outputs": [
    {
     "data": {
      "text/plain": [
       "user_id       0\n",
       "track      1231\n",
       "artist     7203\n",
       "genre      1198\n",
       "city          0\n",
       "time          0\n",
       "day           0\n",
       "dtype: int64"
      ]
     },
     "execution_count": 8,
     "metadata": {},
     "output_type": "execute_result"
    }
   ],
   "source": [
    "df.isna().sum()"
   ]
  },
  {
   "cell_type": "markdown",
   "metadata": {
    "id": "qubhgnlO_Zct"
   },
   "source": [
    "Не все пропущенные значения влияют на исследование. Так в `track` и `artist` пропуски не важны для вашей работы. Достаточно заменить их явными обозначениями.\n",
    "\n",
    "Но пропуски в `genre` могут помешать сравнению музыкальных вкусов в Москве и Санкт-Петербурге. На практике было бы правильно установить причину пропусков и восстановить данные. Такой возможности нет в учебном проекте. Придётся:\n",
    "* заполнить и эти пропуски явными обозначениями;\n",
    "* оценить, насколько они повредят расчётам. "
   ]
  },
  {
   "cell_type": "markdown",
   "metadata": {
    "id": "fSv2laPA_Zct",
    "tags": [
     "start_task"
    ]
   },
   "source": [
    "**Задание 10**\n",
    "\n",
    "Замените пропущенные значения в столбцах `track`, `artist` и `genre` на строку `'unknown'`. Для этого создайте список `columns_to_replace`, переберите его элементы циклом `for` и для каждого столбца выполните замену пропущенных значений:"
   ]
  },
  {
   "cell_type": "code",
   "execution_count": 9,
   "metadata": {
    "id": "KplB5qWs_Zct"
   },
   "outputs": [],
   "source": [
    "columns_to_replace = ['track', 'artist', 'genre']\n",
    "for column in columns_to_replace:\n",
    "    df[column] = df[column].fillna('unknown')"
   ]
  },
  {
   "cell_type": "markdown",
   "metadata": {
    "id": "Ilsm-MZo_Zct",
    "tags": [
     "start_task"
    ]
   },
   "source": [
    "**Задание 11**\n",
    "\n",
    "Убедитесь, что в таблице не осталось пропусков. Для этого ещё раз посчитайте пропущенные значения."
   ]
  },
  {
   "cell_type": "code",
   "execution_count": 10,
   "metadata": {
    "id": "Tq4nYRX4_Zct"
   },
   "outputs": [
    {
     "data": {
      "text/plain": [
       "user_id    0\n",
       "track      0\n",
       "artist     0\n",
       "genre      0\n",
       "city       0\n",
       "time       0\n",
       "day        0\n",
       "dtype: int64"
      ]
     },
     "execution_count": 10,
     "metadata": {},
     "output_type": "execute_result"
    }
   ],
   "source": [
    "df.isna().sum()"
   ]
  },
  {
   "cell_type": "markdown",
   "metadata": {
    "id": "BWKRtBJ3_Zct",
    "tags": [
     "start_task"
    ]
   },
   "source": [
    "### Дубликаты\n",
    "\n",
    "**Задание 12**\n",
    "\n",
    "Посчитайте явные дубликаты в таблице одной командой:"
   ]
  },
  {
   "cell_type": "code",
   "execution_count": 11,
   "metadata": {
    "id": "36eES_S0_Zct"
   },
   "outputs": [
    {
     "data": {
      "text/plain": [
       "3826"
      ]
     },
     "execution_count": 11,
     "metadata": {},
     "output_type": "execute_result"
    }
   ],
   "source": [
    "df.duplicated().sum()"
   ]
  },
  {
   "cell_type": "markdown",
   "metadata": {
    "id": "Ot25h6XR_Zct",
    "tags": [
     "start_task"
    ]
   },
   "source": [
    "**Задание 13**\n",
    "\n",
    "Вызовите специальный метод `pandas`, чтобы удалить явные дубликаты:"
   ]
  },
  {
   "cell_type": "code",
   "execution_count": 12,
   "metadata": {
    "id": "exFHq6tt_Zct"
   },
   "outputs": [],
   "source": [
    "df = df.drop_duplicates()"
   ]
  },
  {
   "cell_type": "markdown",
   "metadata": {
    "id": "Im2YwBEG_Zct",
    "tags": [
     "start_task"
    ]
   },
   "source": [
    "**Задание 14**\n",
    "\n",
    "Ещё раз посчитайте явные дубликаты в таблице — убедитесь, что полностью от них избавились:"
   ]
  },
  {
   "cell_type": "code",
   "execution_count": 13,
   "metadata": {
    "id": "-8PuNWQ0_Zct"
   },
   "outputs": [
    {
     "data": {
      "text/plain": [
       "0"
      ]
     },
     "execution_count": 13,
     "metadata": {},
     "output_type": "execute_result"
    }
   ],
   "source": [
    "df.duplicated().sum()"
   ]
  },
  {
   "cell_type": "markdown",
   "metadata": {
    "id": "QlFBsxAr_Zct"
   },
   "source": [
    "Теперь избавьтесь от неявных дубликатов в колонке `genre`. Например, название одного и того же жанра может быть записано немного по-разному. Такие ошибки тоже повлияют на результат исследования."
   ]
  },
  {
   "cell_type": "markdown",
   "metadata": {
    "id": "eSjWwsOh_Zct",
    "tags": [
     "start_task"
    ]
   },
   "source": [
    "**Задание 15**\n",
    "\n",
    "Выведите на экран список уникальных названий жанров, отсортированный в алфавитном порядке. Для этого:\n",
    "1. извлеките нужный столбец датафрейма; \n",
    "2. примените к нему метод сортировки;\n",
    "3. для отсортированного столбца вызовите метод, который вернёт уникальные значения из столбца."
   ]
  },
  {
   "cell_type": "code",
   "execution_count": 14,
   "metadata": {
    "id": "JIUcqzZN_Zct"
   },
   "outputs": [
    {
     "name": "stdout",
     "output_type": "stream",
     "text": [
      "acid\n",
      "acoustic\n",
      "action\n",
      "adult\n",
      "africa\n",
      "afrikaans\n",
      "alternative\n",
      "alternativepunk\n",
      "ambient\n",
      "americana\n",
      "animated\n",
      "anime\n",
      "arabesk\n",
      "arabic\n",
      "arena\n",
      "argentinetango\n",
      "art\n",
      "audiobook\n",
      "author\n",
      "avantgarde\n",
      "axé\n",
      "baile\n",
      "balkan\n",
      "beats\n",
      "bigroom\n",
      "black\n",
      "bluegrass\n",
      "blues\n",
      "bollywood\n",
      "bossa\n",
      "brazilian\n",
      "breakbeat\n",
      "breaks\n",
      "broadway\n",
      "cantautori\n",
      "cantopop\n",
      "canzone\n",
      "caribbean\n",
      "caucasian\n",
      "celtic\n",
      "chamber\n",
      "chanson\n",
      "children\n",
      "chill\n",
      "chinese\n",
      "choral\n",
      "christian\n",
      "christmas\n",
      "classical\n",
      "classicmetal\n",
      "club\n",
      "colombian\n",
      "comedy\n",
      "conjazz\n",
      "contemporary\n",
      "country\n",
      "cuban\n",
      "dance\n",
      "dancehall\n",
      "dancepop\n",
      "dark\n",
      "death\n",
      "deep\n",
      "deutschrock\n",
      "deutschspr\n",
      "dirty\n",
      "disco\n",
      "dnb\n",
      "documentary\n",
      "downbeat\n",
      "downtempo\n",
      "drum\n",
      "dub\n",
      "dubstep\n",
      "eastern\n",
      "easy\n",
      "electronic\n",
      "electropop\n",
      "emo\n",
      "entehno\n",
      "epicmetal\n",
      "estrada\n",
      "ethnic\n",
      "eurofolk\n",
      "european\n",
      "experimental\n",
      "extrememetal\n",
      "fado\n",
      "fairytail\n",
      "film\n",
      "fitness\n",
      "flamenco\n",
      "folk\n",
      "folklore\n",
      "folkmetal\n",
      "folkrock\n",
      "folktronica\n",
      "forró\n",
      "frankreich\n",
      "französisch\n",
      "french\n",
      "funk\n",
      "future\n",
      "gangsta\n",
      "garage\n",
      "german\n",
      "ghazal\n",
      "gitarre\n",
      "glitch\n",
      "gospel\n",
      "gothic\n",
      "grime\n",
      "grunge\n",
      "gypsy\n",
      "handsup\n",
      "hard'n'heavy\n",
      "hardcore\n",
      "hardstyle\n",
      "hardtechno\n",
      "hip\n",
      "hip-hop\n",
      "hiphop\n",
      "historisch\n",
      "holiday\n",
      "hop\n",
      "horror\n",
      "house\n",
      "hymn\n",
      "idm\n",
      "independent\n",
      "indian\n",
      "indie\n",
      "indipop\n",
      "industrial\n",
      "inspirational\n",
      "instrumental\n",
      "international\n",
      "irish\n",
      "jam\n",
      "japanese\n",
      "jazz\n",
      "jewish\n",
      "jpop\n",
      "jungle\n",
      "k-pop\n",
      "karadeniz\n",
      "karaoke\n",
      "kayokyoku\n",
      "korean\n",
      "laiko\n",
      "latin\n",
      "latino\n",
      "leftfield\n",
      "local\n",
      "lounge\n",
      "loungeelectronic\n",
      "lovers\n",
      "malaysian\n",
      "mandopop\n",
      "marschmusik\n",
      "meditative\n",
      "mediterranean\n",
      "melodic\n",
      "metal\n",
      "metalcore\n",
      "mexican\n",
      "middle\n",
      "minimal\n",
      "miscellaneous\n",
      "modern\n",
      "mood\n",
      "mpb\n",
      "muslim\n",
      "native\n",
      "neoklassik\n",
      "neue\n",
      "new\n",
      "newage\n",
      "newwave\n",
      "nu\n",
      "nujazz\n",
      "numetal\n",
      "oceania\n",
      "old\n",
      "opera\n",
      "orchestral\n",
      "other\n",
      "piano\n",
      "podcasts\n",
      "pop\n",
      "popdance\n",
      "popelectronic\n",
      "popeurodance\n",
      "poprussian\n",
      "post\n",
      "posthardcore\n",
      "postrock\n",
      "power\n",
      "progmetal\n",
      "progressive\n",
      "psychedelic\n",
      "punjabi\n",
      "punk\n",
      "quebecois\n",
      "ragga\n",
      "ram\n",
      "rancheras\n",
      "rap\n",
      "rave\n",
      "reggae\n",
      "reggaeton\n",
      "regional\n",
      "relax\n",
      "religious\n",
      "retro\n",
      "rhythm\n",
      "rnb\n",
      "rnr\n",
      "rock\n",
      "rockabilly\n",
      "rockalternative\n",
      "rockindie\n",
      "rockother\n",
      "romance\n",
      "roots\n",
      "ruspop\n",
      "rusrap\n",
      "rusrock\n",
      "russian\n",
      "salsa\n",
      "samba\n",
      "scenic\n",
      "schlager\n",
      "self\n",
      "sertanejo\n",
      "shanson\n",
      "shoegazing\n",
      "showtunes\n",
      "singer\n",
      "ska\n",
      "skarock\n",
      "slow\n",
      "smooth\n",
      "soft\n",
      "soul\n",
      "soulful\n",
      "sound\n",
      "soundtrack\n",
      "southern\n",
      "specialty\n",
      "speech\n",
      "spiritual\n",
      "sport\n",
      "stonerrock\n",
      "surf\n",
      "swing\n",
      "synthpop\n",
      "synthrock\n",
      "sängerportrait\n",
      "tango\n",
      "tanzorchester\n",
      "taraftar\n",
      "tatar\n",
      "tech\n",
      "techno\n",
      "teen\n",
      "thrash\n",
      "top\n",
      "traditional\n",
      "tradjazz\n",
      "trance\n",
      "tribal\n",
      "trip\n",
      "triphop\n",
      "tropical\n",
      "türk\n",
      "türkçe\n",
      "ukrrock\n",
      "unknown\n",
      "urban\n",
      "uzbek\n",
      "variété\n",
      "vi\n",
      "videogame\n",
      "vocal\n",
      "western\n",
      "world\n",
      "worldbeat\n",
      "ïîï\n",
      "электроника\n"
     ]
    }
   ],
   "source": [
    "print(*df['genre'].sort_values().unique(), sep='\\n')"
   ]
  },
  {
   "cell_type": "markdown",
   "metadata": {
    "id": "qej-Qmuo_Zct",
    "tags": [
     "start_task"
    ]
   },
   "source": [
    "**Задание 16**\n",
    "\n",
    "Просмотрите список и найдите неявные дубликаты названия `hiphop`. Это могут быть названия с ошибками или альтернативные названия того же жанра.\n",
    "\n",
    "Вы увидите следующие неявные дубликаты:\n",
    "* *hip*,\n",
    "* *hop*,\n",
    "* *hip-hop*.\n",
    "\n",
    "Чтобы очистить от них таблицу используйте метод `replace()` с двумя аргументами: списком строк-дубликатов (включащий *hip*, *hop* и *hip-hop*) и строкой с правильным значением. Вам нужно исправить колонку `genre` в таблице `df`: заменить каждое значение из списка дубликатов на верное. Вместо `hip`, `hop` и `hip-hop` в таблице должно быть значение `hiphop`:"
   ]
  },
  {
   "cell_type": "code",
   "execution_count": 15,
   "metadata": {
    "id": "ErNDkmns_Zct"
   },
   "outputs": [],
   "source": [
    "df['genre'] = df['genre'].replace(['hip','hop','hip-hop'], 'hiphop')"
   ]
  },
  {
   "cell_type": "markdown",
   "metadata": {
    "id": "zQKF16_RG15m",
    "tags": [
     "start_task"
    ]
   },
   "source": [
    "**Задание 17**\n",
    "\n",
    "Проверьте, что заменили неправильные названия:\n",
    "\n",
    "*   hip,\n",
    "*   hop,\n",
    "*   hip-hop.\n",
    "\n",
    "Выведите отсортированный список уникальных значений столбца `genre`:"
   ]
  },
  {
   "cell_type": "code",
   "execution_count": 16,
   "metadata": {
    "id": "wvixALnFG15m"
   },
   "outputs": [
    {
     "name": "stdout",
     "output_type": "stream",
     "text": [
      "acid\n",
      "acoustic\n",
      "action\n",
      "adult\n",
      "africa\n",
      "afrikaans\n",
      "alternative\n",
      "alternativepunk\n",
      "ambient\n",
      "americana\n",
      "animated\n",
      "anime\n",
      "arabesk\n",
      "arabic\n",
      "arena\n",
      "argentinetango\n",
      "art\n",
      "audiobook\n",
      "author\n",
      "avantgarde\n",
      "axé\n",
      "baile\n",
      "balkan\n",
      "beats\n",
      "bigroom\n",
      "black\n",
      "bluegrass\n",
      "blues\n",
      "bollywood\n",
      "bossa\n",
      "brazilian\n",
      "breakbeat\n",
      "breaks\n",
      "broadway\n",
      "cantautori\n",
      "cantopop\n",
      "canzone\n",
      "caribbean\n",
      "caucasian\n",
      "celtic\n",
      "chamber\n",
      "chanson\n",
      "children\n",
      "chill\n",
      "chinese\n",
      "choral\n",
      "christian\n",
      "christmas\n",
      "classical\n",
      "classicmetal\n",
      "club\n",
      "colombian\n",
      "comedy\n",
      "conjazz\n",
      "contemporary\n",
      "country\n",
      "cuban\n",
      "dance\n",
      "dancehall\n",
      "dancepop\n",
      "dark\n",
      "death\n",
      "deep\n",
      "deutschrock\n",
      "deutschspr\n",
      "dirty\n",
      "disco\n",
      "dnb\n",
      "documentary\n",
      "downbeat\n",
      "downtempo\n",
      "drum\n",
      "dub\n",
      "dubstep\n",
      "eastern\n",
      "easy\n",
      "electronic\n",
      "electropop\n",
      "emo\n",
      "entehno\n",
      "epicmetal\n",
      "estrada\n",
      "ethnic\n",
      "eurofolk\n",
      "european\n",
      "experimental\n",
      "extrememetal\n",
      "fado\n",
      "fairytail\n",
      "film\n",
      "fitness\n",
      "flamenco\n",
      "folk\n",
      "folklore\n",
      "folkmetal\n",
      "folkrock\n",
      "folktronica\n",
      "forró\n",
      "frankreich\n",
      "französisch\n",
      "french\n",
      "funk\n",
      "future\n",
      "gangsta\n",
      "garage\n",
      "german\n",
      "ghazal\n",
      "gitarre\n",
      "glitch\n",
      "gospel\n",
      "gothic\n",
      "grime\n",
      "grunge\n",
      "gypsy\n",
      "handsup\n",
      "hard'n'heavy\n",
      "hardcore\n",
      "hardstyle\n",
      "hardtechno\n",
      "hiphop\n",
      "historisch\n",
      "holiday\n",
      "horror\n",
      "house\n",
      "hymn\n",
      "idm\n",
      "independent\n",
      "indian\n",
      "indie\n",
      "indipop\n",
      "industrial\n",
      "inspirational\n",
      "instrumental\n",
      "international\n",
      "irish\n",
      "jam\n",
      "japanese\n",
      "jazz\n",
      "jewish\n",
      "jpop\n",
      "jungle\n",
      "k-pop\n",
      "karadeniz\n",
      "karaoke\n",
      "kayokyoku\n",
      "korean\n",
      "laiko\n",
      "latin\n",
      "latino\n",
      "leftfield\n",
      "local\n",
      "lounge\n",
      "loungeelectronic\n",
      "lovers\n",
      "malaysian\n",
      "mandopop\n",
      "marschmusik\n",
      "meditative\n",
      "mediterranean\n",
      "melodic\n",
      "metal\n",
      "metalcore\n",
      "mexican\n",
      "middle\n",
      "minimal\n",
      "miscellaneous\n",
      "modern\n",
      "mood\n",
      "mpb\n",
      "muslim\n",
      "native\n",
      "neoklassik\n",
      "neue\n",
      "new\n",
      "newage\n",
      "newwave\n",
      "nu\n",
      "nujazz\n",
      "numetal\n",
      "oceania\n",
      "old\n",
      "opera\n",
      "orchestral\n",
      "other\n",
      "piano\n",
      "podcasts\n",
      "pop\n",
      "popdance\n",
      "popelectronic\n",
      "popeurodance\n",
      "poprussian\n",
      "post\n",
      "posthardcore\n",
      "postrock\n",
      "power\n",
      "progmetal\n",
      "progressive\n",
      "psychedelic\n",
      "punjabi\n",
      "punk\n",
      "quebecois\n",
      "ragga\n",
      "ram\n",
      "rancheras\n",
      "rap\n",
      "rave\n",
      "reggae\n",
      "reggaeton\n",
      "regional\n",
      "relax\n",
      "religious\n",
      "retro\n",
      "rhythm\n",
      "rnb\n",
      "rnr\n",
      "rock\n",
      "rockabilly\n",
      "rockalternative\n",
      "rockindie\n",
      "rockother\n",
      "romance\n",
      "roots\n",
      "ruspop\n",
      "rusrap\n",
      "rusrock\n",
      "russian\n",
      "salsa\n",
      "samba\n",
      "scenic\n",
      "schlager\n",
      "self\n",
      "sertanejo\n",
      "shanson\n",
      "shoegazing\n",
      "showtunes\n",
      "singer\n",
      "ska\n",
      "skarock\n",
      "slow\n",
      "smooth\n",
      "soft\n",
      "soul\n",
      "soulful\n",
      "sound\n",
      "soundtrack\n",
      "southern\n",
      "specialty\n",
      "speech\n",
      "spiritual\n",
      "sport\n",
      "stonerrock\n",
      "surf\n",
      "swing\n",
      "synthpop\n",
      "synthrock\n",
      "sängerportrait\n",
      "tango\n",
      "tanzorchester\n",
      "taraftar\n",
      "tatar\n",
      "tech\n",
      "techno\n",
      "teen\n",
      "thrash\n",
      "top\n",
      "traditional\n",
      "tradjazz\n",
      "trance\n",
      "tribal\n",
      "trip\n",
      "triphop\n",
      "tropical\n",
      "türk\n",
      "türkçe\n",
      "ukrrock\n",
      "unknown\n",
      "urban\n",
      "uzbek\n",
      "variété\n",
      "vi\n",
      "videogame\n",
      "vocal\n",
      "western\n",
      "world\n",
      "worldbeat\n",
      "ïîï\n",
      "электроника\n"
     ]
    }
   ],
   "source": [
    "print(*df['genre'].sort_values().unique(), sep='\\n')"
   ]
  },
  {
   "cell_type": "markdown",
   "metadata": {
    "id": "jz6a9-7HQUDd"
   },
   "source": [
    "**Выводы**\n",
    "\n",
    "Предобработка обнаружила три проблемы в данных:\n",
    "\n",
    "- нарушения в стиле заголовков,\n",
    "- пропущенные значения,\n",
    "- дубликаты — явные и неявные.\n",
    "\n",
    "Вы исправили заголовки, чтобы упростить работу с таблицей. Без дубликатов исследование станет более точным.\n",
    "\n",
    "Пропущенные значения вы заменили на `'unknown'`. Ещё предстоит увидеть, не повредят ли исследованию пропуски в колонке `genre`.\n",
    "\n",
    "Теперь можно перейти к проверке гипотез. "
   ]
  },
  {
   "cell_type": "markdown",
   "metadata": {
    "id": "WttZHXH0SqKk"
   },
   "source": [
    "## Проверка гипотез"
   ]
  },
  {
   "cell_type": "markdown",
   "metadata": {
    "id": "Im936VVi_Zcu"
   },
   "source": [
    "### Сравнение поведения пользователей двух столиц"
   ]
  },
  {
   "cell_type": "markdown",
   "metadata": {
    "id": "nwt_MuaL_Zcu"
   },
   "source": [
    "Первая гипотеза утверждает, что пользователи по-разному слушают музыку в Москве и Санкт-Петербурге. Проверьте это предположение по данным о трёх днях недели — понедельнике, среде и пятнице. Для этого:\n",
    "\n",
    "* Разделите пользователей Москвы и Санкт-Петербурга.\n",
    "* Сравните, сколько треков послушала каждая группа пользователей в понедельник, среду и пятницу.\n"
   ]
  },
  {
   "cell_type": "markdown",
   "metadata": {
    "id": "8Dw_YMmT_Zcu",
    "tags": [
     "start_task"
    ]
   },
   "source": [
    "**Задание 18**\n",
    "\n",
    "Для тренировки сначала выполните каждый из расчётов по отдельности. \n",
    "\n",
    "Оцените активность пользователей в каждом городе. Сгруппируйте данные по городу и посчитайте прослушивания в каждой группе.\n",
    "\n"
   ]
  },
  {
   "cell_type": "code",
   "execution_count": 17,
   "metadata": {
    "id": "0_Qs96oh_Zcu"
   },
   "outputs": [
    {
     "data": {
      "text/plain": [
       "city\n",
       "Moscow              42741\n",
       "Saint-Petersburg    18512\n",
       "Name: track, dtype: int64"
      ]
     },
     "execution_count": 17,
     "metadata": {},
     "output_type": "execute_result"
    }
   ],
   "source": [
    "# Подсчёт прослушиваний в каждом городе\n",
    "df.groupby('city')['track'].count()"
   ]
  },
  {
   "cell_type": "markdown",
   "metadata": {
    "id": "dzli3w8o_Zcu",
    "tags": [
     "start_task"
    ]
   },
   "source": [
    "В Москве прослушиваний больше, чем в Петербурге. Из этого не следует, что московские пользователи чаще слушают музыку. Просто самих пользователей в Москве больше.\n",
    "\n",
    "**Задание 19**\n",
    "\n",
    "Теперь сгруппируйте данные по дню недели и посчитайте прослушивания в понедельник, среду и пятницу. Учтите, что в данных есть информация о прослушиваниях только за эти дни.\n"
   ]
  },
  {
   "cell_type": "code",
   "execution_count": 18,
   "metadata": {
    "id": "uZMKjiJz_Zcu"
   },
   "outputs": [
    {
     "data": {
      "text/plain": [
       "day\n",
       "Friday       21840\n",
       "Monday       21354\n",
       "Wednesday    18059\n",
       "Name: track, dtype: int64"
      ]
     },
     "execution_count": 18,
     "metadata": {},
     "output_type": "execute_result"
    }
   ],
   "source": [
    "# Подсчёт прослушиваний в каждый из трёх дней\n",
    "df.groupby('day')['track'].count()"
   ]
  },
  {
   "cell_type": "markdown",
   "metadata": {
    "id": "cC2tNrlL_Zcu"
   },
   "source": [
    "В среднем пользователи из двух городов менее активны по средам. Но картина может измениться, если рассмотреть каждый город в отдельности."
   ]
  },
  {
   "cell_type": "markdown",
   "metadata": {
    "id": "POzs8bGa_Zcu",
    "tags": [
     "start_task"
    ]
   },
   "source": [
    "**Задание 20**\n",
    "\n",
    "\n",
    "Вы видели, как работает группировка по городу и по дням недели. Теперь напишите функцию, которая объединит два эти расчёта.\n",
    "\n",
    "Создайте функцию `number_tracks()`, которая посчитает прослушивания для заданного дня и города. Ей понадобятся два параметра:\n",
    "* день недели,\n",
    "* название города.\n",
    "\n",
    "В функции сохраните в переменную строки исходной таблицы, у которых значение:\n",
    "  * в колонке `day` равно параметру `day`,\n",
    "  * в колонке `city` равно параметру `city`.\n",
    "\n",
    "Для этого примените последовательную фильтрацию с логической индексацией (или сложные логические выражения в одну строку, если вы уже знакомы с ними).\n",
    "\n",
    "Затем посчитайте значения в столбце `user_id` получившейся таблицы. Результат сохраните в новую переменную. Верните эту переменную из функции."
   ]
  },
  {
   "cell_type": "code",
   "execution_count": 19,
   "metadata": {
    "id": "Nz3GdQB1_Zcu"
   },
   "outputs": [],
   "source": [
    "# <создание функции number_tracks()>\n",
    "def number_tracks(day, city):\n",
    "# Объявляется функция с двумя параметрами: day, city.\n",
    "    track_list = df[(df['day'] == day) & (df['city'] == city)]\n",
    "    \n",
    "    track_list_count = track_list['user_id'].count()\n",
    "    return track_list_count\n",
    "\n",
    "# В переменной track_list сохраняются те строки таблицы df, для которых \n",
    "# значение в столбце 'day' равно параметру day и одновременно значение\n",
    "# в столбце 'city' равно параметру city (используйте последовательную фильтрацию\n",
    "# с помощью логической индексации или сложные логические выражения в одну строку, если вы уже знакомы с ними).\n",
    "# В переменной track_list_count сохраняется число значений столбца 'user_id',\n",
    "# рассчитанное методом count() для таблицы track_list.\n",
    "# Функция возвращает число - значение track_list_count.\n",
    "\n",
    "# Функция для подсчёта прослушиваний для конкретного города и дня.\n",
    "# С помощью последовательной фильтрации с логической индексацией она \n",
    "# сначала получит из исходной таблицы строки с нужным днём,\n",
    "# затем из результата отфильтрует строки с нужным городом,\n",
    "# методом count() посчитает количество значений в колонке user_id. \n",
    "# Это количество функция вернёт в качестве результата"
   ]
  },
  {
   "cell_type": "markdown",
   "metadata": {
    "id": "ytf7xFrFJQ2r",
    "tags": [
     "start_task"
    ]
   },
   "source": [
    "**Задание 21**\n",
    "\n",
    "Вызовите `number_tracks()` шесть раз, меняя значение параметров — так, чтобы получить данные для каждого города в каждый из трёх дней."
   ]
  },
  {
   "cell_type": "code",
   "execution_count": 20,
   "metadata": {
    "id": "rJcRATNQ_Zcu"
   },
   "outputs": [
    {
     "data": {
      "text/plain": [
       "15740"
      ]
     },
     "execution_count": 20,
     "metadata": {},
     "output_type": "execute_result"
    }
   ],
   "source": [
    "# количество прослушиваний в Москве по понедельникам\n",
    "tracks_report_msk = ['Москва']\n",
    "tracks_report_spb = ['Санкт-Петербург']\n",
    "tracks_report_msk.append(number_tracks('Monday','Moscow'))\n",
    "number_tracks('Monday','Moscow')"
   ]
  },
  {
   "cell_type": "code",
   "execution_count": 21,
   "metadata": {
    "id": "hq_ncZ5T_Zcu"
   },
   "outputs": [
    {
     "data": {
      "text/plain": [
       "5614"
      ]
     },
     "execution_count": 21,
     "metadata": {},
     "output_type": "execute_result"
    }
   ],
   "source": [
    "# количество прослушиваний в Санкт-Петербурге по понедельникам\n",
    "tracks_report_spb.append(number_tracks('Monday','Saint-Petersburg'))\n",
    "number_tracks('Monday','Saint-Petersburg')"
   ]
  },
  {
   "cell_type": "code",
   "execution_count": 22,
   "metadata": {
    "id": "_NTy2VPU_Zcu"
   },
   "outputs": [
    {
     "data": {
      "text/plain": [
       "11056"
      ]
     },
     "execution_count": 22,
     "metadata": {},
     "output_type": "execute_result"
    }
   ],
   "source": [
    "# количество прослушиваний в Москве по средам\n",
    "tracks_report_msk.append(number_tracks('Wednesday','Moscow'))\n",
    "number_tracks('Wednesday','Moscow')"
   ]
  },
  {
   "cell_type": "code",
   "execution_count": 23,
   "metadata": {
    "id": "j2y3TAwo_Zcu"
   },
   "outputs": [
    {
     "data": {
      "text/plain": [
       "7003"
      ]
     },
     "execution_count": 23,
     "metadata": {},
     "output_type": "execute_result"
    }
   ],
   "source": [
    "# количество прослушиваний в Санкт-Петербурге по средам\n",
    "tracks_report_spb.append(number_tracks('Wednesday','Saint-Petersburg'))\n",
    "number_tracks('Wednesday','Saint-Petersburg')"
   ]
  },
  {
   "cell_type": "code",
   "execution_count": 24,
   "metadata": {
    "id": "vYDw5u_K_Zcu"
   },
   "outputs": [
    {
     "data": {
      "text/plain": [
       "15945"
      ]
     },
     "execution_count": 24,
     "metadata": {},
     "output_type": "execute_result"
    }
   ],
   "source": [
    "# количество прослушиваний в Москве по пятницам\n",
    "tracks_report_msk.append(number_tracks('Friday','Moscow'))\n",
    "number_tracks('Friday','Moscow')"
   ]
  },
  {
   "cell_type": "code",
   "execution_count": 25,
   "metadata": {
    "id": "8_yzFtW3_Zcu"
   },
   "outputs": [
    {
     "data": {
      "text/plain": [
       "5895"
      ]
     },
     "execution_count": 25,
     "metadata": {},
     "output_type": "execute_result"
    }
   ],
   "source": [
    "# количество прослушиваний в Санкт-Петербурге по пятницам\n",
    "tracks_report_spb.append(number_tracks('Friday','Saint-Petersburg'))\n",
    "number_tracks('Friday','Saint-Petersburg')"
   ]
  },
  {
   "cell_type": "markdown",
   "metadata": {
    "id": "7QXffbO-_Zcu",
    "tags": [
     "start_task"
    ]
   },
   "source": [
    "**Задание 22**\n",
    "\n",
    "Создайте c помощью конструктора `pd.DataFrame` таблицу, где\n",
    "* названия колонок — `['city', 'monday', 'wednesday', 'friday']`;\n",
    "* данные — результаты, которые вы получили с помощью `number_tracks`."
   ]
  },
  {
   "cell_type": "code",
   "execution_count": 26,
   "metadata": {
    "id": "APAcLpOr_Zcu"
   },
   "outputs": [
    {
     "data": {
      "text/html": [
       "<div>\n",
       "<style scoped>\n",
       "    .dataframe tbody tr th:only-of-type {\n",
       "        vertical-align: middle;\n",
       "    }\n",
       "\n",
       "    .dataframe tbody tr th {\n",
       "        vertical-align: top;\n",
       "    }\n",
       "\n",
       "    .dataframe thead th {\n",
       "        text-align: right;\n",
       "    }\n",
       "</style>\n",
       "<table border=\"1\" class=\"dataframe\">\n",
       "  <thead>\n",
       "    <tr style=\"text-align: right;\">\n",
       "      <th></th>\n",
       "      <th>city</th>\n",
       "      <th>monday</th>\n",
       "      <th>wednesday</th>\n",
       "      <th>friday</th>\n",
       "    </tr>\n",
       "  </thead>\n",
       "  <tbody>\n",
       "    <tr>\n",
       "      <th>0</th>\n",
       "      <td>Москва</td>\n",
       "      <td>15740</td>\n",
       "      <td>11056</td>\n",
       "      <td>15945</td>\n",
       "    </tr>\n",
       "    <tr>\n",
       "      <th>1</th>\n",
       "      <td>Санкт-Петербург</td>\n",
       "      <td>5614</td>\n",
       "      <td>7003</td>\n",
       "      <td>5895</td>\n",
       "    </tr>\n",
       "  </tbody>\n",
       "</table>\n",
       "</div>"
      ],
      "text/plain": [
       "              city  monday  wednesday  friday\n",
       "0           Москва   15740      11056   15945\n",
       "1  Санкт-Петербург    5614       7003    5895"
      ]
     },
     "execution_count": 26,
     "metadata": {},
     "output_type": "execute_result"
    }
   ],
   "source": [
    "# Таблица с результатами\n",
    "columns = ['city', 'monday', 'wednesday', 'friday']\n",
    "tracks_report= []\n",
    "tracks_report.append(tracks_report_msk)\n",
    "tracks_report.append(tracks_report_spb)\n",
    "#tracks_report\n",
    "info = pd.DataFrame(data = tracks_report, columns = columns)\n",
    "info"
   ]
  },
  {
   "cell_type": "markdown",
   "metadata": {
    "id": "-EgPIHYu_Zcu"
   },
   "source": [
    "**Выводы**\n",
    "\n",
    "Данные показывают разницу поведения пользователей:\n",
    "\n",
    "- В Москве пик прослушиваний приходится на понедельник и пятницу, а в среду заметен спад.\n",
    "- В Петербурге, наоборот, больше слушают музыку по средам. Активность в понедельник и пятницу здесь почти в равной мере уступает среде.\n",
    "\n",
    "Значит, данные говорят в пользу первой гипотезы."
   ]
  },
  {
   "cell_type": "markdown",
   "metadata": {
    "id": "atZAxtq4_Zcu"
   },
   "source": [
    "### Музыка в начале и в конце недели"
   ]
  },
  {
   "cell_type": "markdown",
   "metadata": {
    "id": "eXrQqXFH_Zcu"
   },
   "source": [
    "Согласно второй гипотезе, утром в понедельник в Москве преобладают одни жанры, а в Петербурге — другие. Так же и вечером пятницы преобладают разные жанры — в зависимости от города."
   ]
  },
  {
   "cell_type": "markdown",
   "metadata": {
    "id": "S8UcW6Hw_Zcu",
    "tags": [
     "start_task"
    ]
   },
   "source": [
    "**Задание 23**\n",
    "\n",
    "Сохраните таблицы с данными в две переменные:\n",
    "* по Москве — в `moscow_general`;\n",
    "* по Санкт-Петербургу — в `spb_general`."
   ]
  },
  {
   "cell_type": "code",
   "execution_count": 27,
   "metadata": {
    "id": "qeaFfM_P_Zcu"
   },
   "outputs": [],
   "source": [
    "# получение таблицы moscow_general из тех строк таблицы df, \n",
    "# для которых значение в столбце 'city' равно 'Moscow'\n",
    "moscow_general = df[df['city'] == 'Moscow']"
   ]
  },
  {
   "cell_type": "code",
   "execution_count": 28,
   "metadata": {
    "id": "ORaVRKto_Zcu"
   },
   "outputs": [],
   "source": [
    "# получение таблицы spb_general из тех строк таблицы df,\n",
    "# для которых значение в столбце 'city' равно 'Saint-Petersburg'\n",
    "spb_general = df[df['city'] =='Saint-Petersburg']"
   ]
  },
  {
   "cell_type": "markdown",
   "metadata": {
    "id": "MEJV-CX2_Zcu",
    "tags": [
     "start_task"
    ]
   },
   "source": [
    "**Задание 24**\n",
    "\n",
    "Создайте функцию `genre_weekday()` с четырьмя параметрами:\n",
    "* таблица (датафрейм) с данными,\n",
    "* день недели,\n",
    "* начальная временная метка в формате 'hh:mm', \n",
    "* последняя временная метка в формате 'hh:mm'.\n",
    "\n",
    "Функция должна вернуть информацию о топ-10 жанров тех треков, которые прослушивали в указанный день, в промежутке между двумя отметками времени."
   ]
  },
  {
   "cell_type": "code",
   "execution_count": 29,
   "metadata": {
    "id": "laJT9BYl_Zcu"
   },
   "outputs": [],
   "source": [
    "# Объявление функции genre_weekday() с параметрами table, day, time1, time2,\n",
    "# которая возвращает информацию о самых популярных жанрах в указанный день в\n",
    "# заданное время:\n",
    "# 1) в переменную genre_df сохраняются те строки переданного датафрейма table, для\n",
    "#    которых одновременно:\n",
    "#    - значение в столбце day равно значению аргумента day\n",
    "#    - значение в столбце time больше значения аргумента time1\n",
    "#    - значение в столбце time меньше значения аргумента time2\n",
    "#    Используйте последовательную фильтрацию с помощью логической индексации.\n",
    "# 2) сгруппировать датафрейм genre_df по столбцу genre, взять один из его\n",
    "#    столбцов и посчитать методом count() количество записей для каждого из\n",
    "#    присутствующих жанров, получившийся Series записать в переменную\n",
    "#    genre_df_count\n",
    "# 3) отсортировать genre_df_count по убыванию встречаемости и сохранить\n",
    "#    в переменную genre_df_sorted\n",
    "# 4) вернуть Series из 10 первых значений genre_df_sorted, это будут топ-10\n",
    "#    популярных жанров (в указанный день, в заданное время)\n",
    "\n",
    "def genre_weekday(table, day, time1, time2):\n",
    "    # последовательная фильтрация\n",
    "    # оставляем в genre_df только те строки df, у которых день равен day\n",
    "    genre_df = table[(table['day'] == day) & (table['time'] > time1) & (table['time'] < time2)]\n",
    "    # оставляем в genre_df только те строки genre_df, у которых время меньше time2\n",
    "    #genre_df = # ваш код здесь\n",
    "    # оставляем в genre_df только те строки genre_df, у которых время больше time1\n",
    "    #genre_df = # ваш код здесь\n",
    "    # сгруппируем отфильтрованный датафрейм по столбцу с названиями жанров, возьмём столбец genre и посчитаем кол-во строк для каждого жанра методом count()\n",
    "    genre_df_grouped = genre_df.groupby('genre')['genre'].count()\n",
    "    # отсортируем результат по убыванию (чтобы в начале Series оказались самые популярные жанры)\n",
    "    genre_df_sorted = genre_df_grouped.sort_values(ascending=False)\n",
    "    # вернём Series с 10 самыми популярными жанрами в указанный отрезок времени заданного дня\n",
    "    return genre_df_sorted[:10]"
   ]
  },
  {
   "cell_type": "markdown",
   "metadata": {
    "id": "la2s2_PF_Zcu",
    "tags": [
     "start_task"
    ]
   },
   "source": [
    "**Задание 25**\n",
    "\n",
    "\n",
    "Cравните результаты функции `genre_weekday()` для Москвы и Санкт-Петербурга в понедельник утром (с 7:00 до 11:00) и в пятницу вечером (с 17:00 до 23:00):"
   ]
  },
  {
   "cell_type": "code",
   "execution_count": 30,
   "metadata": {
    "id": "yz7itPUQ_Zcu"
   },
   "outputs": [
    {
     "data": {
      "text/plain": [
       "genre\n",
       "pop            781\n",
       "dance          549\n",
       "electronic     480\n",
       "rock           474\n",
       "hiphop         286\n",
       "ruspop         186\n",
       "world          181\n",
       "rusrap         175\n",
       "alternative    164\n",
       "unknown        161\n",
       "Name: genre, dtype: int64"
      ]
     },
     "execution_count": 30,
     "metadata": {},
     "output_type": "execute_result"
    }
   ],
   "source": [
    "# вызов функции для утра понедельника в Москве (вместо df — таблица moscow_general)\n",
    "# объекты, хранящие время, являются строками и сравниваются как строки\n",
    "# пример вызова: genre_weekday(moscow_general, 'Monday', '07:00', '11:00')\n",
    "genre_weekday(moscow_general, 'Monday', '07:00', '11:00')"
   ]
  },
  {
   "cell_type": "code",
   "execution_count": 31,
   "metadata": {
    "id": "kwUcHPdy_Zcu"
   },
   "outputs": [
    {
     "data": {
      "text/plain": [
       "genre\n",
       "pop            218\n",
       "dance          182\n",
       "rock           162\n",
       "electronic     147\n",
       "hiphop          80\n",
       "ruspop          64\n",
       "alternative     58\n",
       "rusrap          55\n",
       "jazz            44\n",
       "classical       40\n",
       "Name: genre, dtype: int64"
      ]
     },
     "execution_count": 31,
     "metadata": {},
     "output_type": "execute_result"
    }
   ],
   "source": [
    "# вызов функции для утра понедельника в Петербурге (вместо df — таблица spb_general)\n",
    "genre_weekday(spb_general, 'Monday', '07:00', '11:00')"
   ]
  },
  {
   "cell_type": "code",
   "execution_count": 32,
   "metadata": {
    "id": "EzXVRE1o_Zcu"
   },
   "outputs": [
    {
     "data": {
      "text/plain": [
       "genre\n",
       "pop            713\n",
       "rock           517\n",
       "dance          495\n",
       "electronic     482\n",
       "hiphop         273\n",
       "world          208\n",
       "ruspop         170\n",
       "alternative    163\n",
       "classical      163\n",
       "rusrap         142\n",
       "Name: genre, dtype: int64"
      ]
     },
     "execution_count": 32,
     "metadata": {},
     "output_type": "execute_result"
    }
   ],
   "source": [
    "# вызов функции для вечера пятницы в Москве\n",
    "genre_weekday(moscow_general, 'Friday', '17:00', '23:00')"
   ]
  },
  {
   "cell_type": "code",
   "execution_count": 33,
   "metadata": {
    "id": "JZaEKu5v_Zcu"
   },
   "outputs": [
    {
     "data": {
      "text/plain": [
       "genre\n",
       "pop            256\n",
       "electronic     216\n",
       "rock           216\n",
       "dance          210\n",
       "hiphop          97\n",
       "alternative     63\n",
       "jazz            61\n",
       "classical       60\n",
       "rusrap          59\n",
       "world           54\n",
       "Name: genre, dtype: int64"
      ]
     },
     "execution_count": 33,
     "metadata": {},
     "output_type": "execute_result"
    }
   ],
   "source": [
    "# вызов функции для вечера пятницы в Петербурге\n",
    "genre_weekday(spb_general, 'Friday', '17:00', '23:00')"
   ]
  },
  {
   "cell_type": "markdown",
   "metadata": {
    "id": "wrCe4MNX_Zcu"
   },
   "source": [
    "**Выводы**\n",
    "\n",
    "Если сравнить топ-10 жанров в понедельник утром, можно сделать такие выводы:\n",
    "\n",
    "1. В Москве и Петербурге слушают похожую музыку. Единственное отличие — в московский рейтинг вошёл жанр “world”, а в петербургский — джаз и классика.\n",
    "\n",
    "2. В Москве пропущенных значений оказалось так много, что значение `'unknown'` заняло десятое место среди самых популярных жанров. Значит, пропущенные значения занимают существенную долю в данных и угрожают достоверности исследования.\n",
    "\n",
    "Вечер пятницы не меняет эту картину. Некоторые жанры поднимаются немного выше, другие спускаются, но в целом топ-10 остаётся тем же самым.\n",
    "\n",
    "Таким образом, вторая гипотеза подтвердилась лишь частично:\n",
    "* Пользователи слушают похожую музыку в начале недели и в конце.\n",
    "* Разница между Москвой и Петербургом не слишком выражена. В Москве чаще слушают русскую популярную музыку, в Петербурге — джаз.\n",
    "\n",
    "Однако пропуски в данных ставят под сомнение этот результат. В Москве их так много, что рейтинг топ-10 мог бы выглядеть иначе, если бы не утерянные  данные о жанрах."
   ]
  },
  {
   "cell_type": "markdown",
   "metadata": {
    "id": "JolODAqr_Zcu"
   },
   "source": [
    "### Жанровые предпочтения в Москве и Петербурге\n",
    "\n",
    "Гипотеза: Петербург — столица рэпа, музыку этого жанра там слушают чаще, чем в Москве.  А Москва — город контрастов, в котором, тем не менее, преобладает поп-музыка."
   ]
  },
  {
   "cell_type": "markdown",
   "metadata": {
    "id": "DlegSvaT_Zcu",
    "tags": [
     "start_task"
    ]
   },
   "source": [
    "**Задание 26**\n",
    "\n",
    "Сгруппируйте таблицу `moscow_general` по жанру и посчитайте прослушивания треков каждого жанра методом `count()`. Затем отсортируйте результат в порядке убывания и сохраните его в таблице `moscow_genres`."
   ]
  },
  {
   "cell_type": "code",
   "execution_count": 34,
   "metadata": {
    "id": "r19lIPke_Zcu"
   },
   "outputs": [],
   "source": [
    "# одной строкой: группировка таблицы moscow_general по столбцу 'genre', \n",
    "moscow_genres = moscow_general.groupby('genre')['genre'].count().sort_values(ascending=False)\n",
    "#moscow_genres\n",
    "# подсчёт числа значений 'genre' в этой группировке методом count(), \n",
    "# сортировка получившегося Series в порядке убывания и сохранение в moscow_genres"
   ]
  },
  {
   "cell_type": "markdown",
   "metadata": {
    "id": "6kMuomxTiIr8",
    "tags": [
     "start_task"
    ]
   },
   "source": [
    "**Задание 27**\n",
    "\n",
    "Выведите на экран первые десять строк `moscow_genres`:"
   ]
  },
  {
   "cell_type": "code",
   "execution_count": 35,
   "metadata": {
    "id": "WhCSooF8_Zcv"
   },
   "outputs": [
    {
     "data": {
      "text/plain": [
       "genre\n",
       "pop            5892\n",
       "dance          4435\n",
       "rock           3965\n",
       "electronic     3786\n",
       "hiphop         2096\n",
       "classical      1616\n",
       "world          1432\n",
       "alternative    1379\n",
       "ruspop         1372\n",
       "rusrap         1161\n",
       "Name: genre, dtype: int64"
      ]
     },
     "execution_count": 35,
     "metadata": {},
     "output_type": "execute_result"
    }
   ],
   "source": [
    "# просмотр первых 10 строк moscow_genres\n",
    "moscow_genres[:10]"
   ]
  },
  {
   "cell_type": "markdown",
   "metadata": {
    "id": "cnPG2vnN_Zcv",
    "tags": [
     "start_task"
    ]
   },
   "source": [
    "**Задание 28**\n",
    "\n",
    "\n",
    "Теперь повторите то же и для Петербурга.\n",
    "\n",
    "Сгруппируйте таблицу `spb_general` по жанру. Посчитайте прослушивания треков каждого жанра. Результат отсортируйте в порядке убывания и сохраните в таблице `spb_genres`:\n"
   ]
  },
  {
   "cell_type": "code",
   "execution_count": 36,
   "metadata": {
    "id": "gluLIpE7_Zcv"
   },
   "outputs": [],
   "source": [
    "# одной строкой: группировка таблицы spb_general по столбцу 'genre', \n",
    "# подсчёт числа значений 'genre' в этой группировке методом count(), \n",
    "# сортировка получившегося Series в порядке убывания и сохранение в spb_genres\n",
    "spb_genres = spb_general.groupby('genre')['genre'].count().sort_values(ascending = False)"
   ]
  },
  {
   "cell_type": "markdown",
   "metadata": {
    "id": "5Doha_ODgyQ8",
    "tags": [
     "start_task"
    ]
   },
   "source": [
    "**Задание 29**\n",
    "\n",
    "Выведите на экран первые десять строк `spb_genres`:"
   ]
  },
  {
   "cell_type": "code",
   "execution_count": 37,
   "metadata": {
    "id": "uaGJHjVU_Zcv"
   },
   "outputs": [
    {
     "data": {
      "text/plain": [
       "genre\n",
       "pop            2431\n",
       "dance          1932\n",
       "rock           1879\n",
       "electronic     1736\n",
       "hiphop          960\n",
       "alternative     649\n",
       "classical       646\n",
       "rusrap          564\n",
       "ruspop          538\n",
       "world           515\n",
       "Name: genre, dtype: int64"
      ]
     },
     "execution_count": 37,
     "metadata": {},
     "output_type": "execute_result"
    }
   ],
   "source": [
    "# просмотр первых 10 строк spb_genres\n",
    "spb_genres[:10]"
   ]
  },
  {
   "cell_type": "markdown",
   "metadata": {
    "id": "RY51YJYu_Zcv"
   },
   "source": [
    "**Выводы**"
   ]
  },
  {
   "cell_type": "markdown",
   "metadata": {
    "id": "nVhnJEm__Zcv"
   },
   "source": [
    "Гипотеза частично подтвердилась:\n",
    "* Поп-музыка — самый популярный жанр в Москве, как и предполагала гипотеза. Более того, в топ-10 жанров встречается близкий жанр — русская популярная музыка.\n",
    "* Вопреки ожиданиям, рэп одинаково популярен в Москве и Петербурге. \n"
   ]
  },
  {
   "cell_type": "markdown",
   "metadata": {
    "id": "ykKQ0N65_Zcv"
   },
   "source": [
    "## Итоги исследования"
   ]
  },
  {
   "cell_type": "markdown",
   "metadata": {
    "id": "tjUwbHb3_Zcv"
   },
   "source": [
    "Вы проверили три гипотезы и установили:\n",
    "\n",
    "1. День недели по-разному влияет на активность пользователей в Москве и Петербурге. \n",
    "\n",
    "Первая гипотеза полностью подтвердилась.\n",
    "\n",
    "2. Музыкальные предпочтения не сильно меняются в течение недели — будь то Москва или Петербург. Небольшие различия заметны в начале недели, по понедельникам:\n",
    "* в Москве слушают музыку жанра “world”,\n",
    "* в Петербурге — джаз и классику.\n",
    "\n",
    "Таким образом, вторая гипотеза подтвердилась лишь отчасти. Этот результат мог оказаться иным, если бы не пропуски в данных.\n",
    "\n",
    "3. Во вкусах пользователей Москвы и Петербурга больше общего чем различий. Вопреки ожиданиям, предпочтения жанров в Петербурге напоминают московские.\n",
    "\n",
    "Третья гипотеза не подтвердилась. Если различия в предпочтениях и существуют, на основной массе пользователей они незаметны.\n",
    "\n",
    "**На практике исследования содержат проверки статистических гипотез.**\n",
    "Из данных одного сервиса не всегда можно сделать вывод о всех жителях города.\n",
    "Проверки статистических гипотез покажут, насколько они достоверны, исходя из имеющихся данных. \n",
    "С методами проверок гипотез вы ещё познакомитесь в следующих темах."
   ]
  }
 ],
 "metadata": {
  "ExecuteTimeLog": [
   {
    "duration": 49,
    "start_time": "2022-10-24T11:25:10.138Z"
   },
   {
    "duration": 420,
    "start_time": "2022-10-24T11:25:16.919Z"
   },
   {
    "duration": 514,
    "start_time": "2022-10-24T11:25:19.590Z"
   },
   {
    "duration": 20,
    "start_time": "2022-10-24T11:25:22.384Z"
   },
   {
    "duration": 29,
    "start_time": "2022-10-24T11:26:15.055Z"
   },
   {
    "duration": 49,
    "start_time": "2022-10-24T12:48:30.602Z"
   },
   {
    "duration": 380,
    "start_time": "2022-10-24T12:48:44.952Z"
   },
   {
    "duration": 243,
    "start_time": "2022-10-24T12:48:45.985Z"
   },
   {
    "duration": 18,
    "start_time": "2022-10-24T12:48:47.091Z"
   },
   {
    "duration": 36,
    "start_time": "2022-10-24T12:48:49.082Z"
   },
   {
    "duration": 3,
    "start_time": "2022-10-24T12:48:51.833Z"
   },
   {
    "duration": 75,
    "start_time": "2022-10-24T12:48:55.810Z"
   },
   {
    "duration": 4,
    "start_time": "2022-10-24T12:49:15.873Z"
   },
   {
    "duration": 11,
    "start_time": "2022-10-24T12:52:02.108Z"
   },
   {
    "duration": 22,
    "start_time": "2022-10-24T12:52:21.482Z"
   },
   {
    "duration": 11,
    "start_time": "2022-10-24T12:52:32.066Z"
   },
   {
    "duration": 14,
    "start_time": "2022-10-24T12:52:57.827Z"
   },
   {
    "duration": 24,
    "start_time": "2022-10-24T12:55:50.804Z"
   },
   {
    "duration": 33,
    "start_time": "2022-10-24T12:56:09.659Z"
   },
   {
    "duration": 22,
    "start_time": "2022-10-24T12:56:40.508Z"
   },
   {
    "duration": 18,
    "start_time": "2022-10-24T13:04:05.168Z"
   },
   {
    "duration": 24,
    "start_time": "2022-10-24T13:04:57.416Z"
   },
   {
    "duration": 11,
    "start_time": "2022-10-24T13:05:42.890Z"
   },
   {
    "duration": 8,
    "start_time": "2022-10-24T13:05:51.192Z"
   },
   {
    "duration": 67,
    "start_time": "2022-10-24T13:06:05.041Z"
   },
   {
    "duration": 78,
    "start_time": "2022-10-24T13:07:49.881Z"
   },
   {
    "duration": 77,
    "start_time": "2022-10-24T13:08:40.456Z"
   },
   {
    "duration": 78,
    "start_time": "2022-10-24T13:08:50.664Z"
   },
   {
    "duration": 77,
    "start_time": "2022-10-24T13:09:14.314Z"
   },
   {
    "duration": 100,
    "start_time": "2022-10-24T13:09:18.934Z"
   },
   {
    "duration": 72,
    "start_time": "2022-10-24T13:09:21.599Z"
   },
   {
    "duration": 34,
    "start_time": "2022-10-24T13:11:49.345Z"
   },
   {
    "duration": 35,
    "start_time": "2022-10-24T13:13:44.258Z"
   },
   {
    "duration": 14,
    "start_time": "2022-10-24T13:19:25.619Z"
   },
   {
    "duration": 43,
    "start_time": "2022-10-24T13:20:02.963Z"
   },
   {
    "duration": 41,
    "start_time": "2022-10-24T13:20:36.931Z"
   },
   {
    "duration": 39,
    "start_time": "2022-10-24T13:26:10.583Z"
   },
   {
    "duration": 393,
    "start_time": "2022-10-24T14:02:37.329Z"
   },
   {
    "duration": 177,
    "start_time": "2022-10-24T14:02:37.724Z"
   },
   {
    "duration": 21,
    "start_time": "2022-10-24T14:02:37.903Z"
   },
   {
    "duration": 31,
    "start_time": "2022-10-24T14:02:37.926Z"
   },
   {
    "duration": 3,
    "start_time": "2022-10-24T14:02:37.959Z"
   },
   {
    "duration": 16,
    "start_time": "2022-10-24T14:02:37.964Z"
   },
   {
    "duration": 17,
    "start_time": "2022-10-24T14:02:37.982Z"
   },
   {
    "duration": 21,
    "start_time": "2022-10-24T14:02:38.001Z"
   },
   {
    "duration": 34,
    "start_time": "2022-10-24T14:02:38.023Z"
   },
   {
    "duration": 28,
    "start_time": "2022-10-24T14:02:38.059Z"
   },
   {
    "duration": 32,
    "start_time": "2022-10-24T14:02:38.088Z"
   },
   {
    "duration": 79,
    "start_time": "2022-10-24T14:02:38.122Z"
   },
   {
    "duration": 72,
    "start_time": "2022-10-24T14:02:38.203Z"
   },
   {
    "duration": 69,
    "start_time": "2022-10-24T14:02:38.277Z"
   },
   {
    "duration": 34,
    "start_time": "2022-10-24T14:02:38.348Z"
   },
   {
    "duration": 9,
    "start_time": "2022-10-24T14:02:38.384Z"
   },
   {
    "duration": 53,
    "start_time": "2022-10-24T14:02:38.395Z"
   },
   {
    "duration": 13,
    "start_time": "2022-10-24T14:02:44.894Z"
   },
   {
    "duration": 12,
    "start_time": "2022-10-24T14:05:36.365Z"
   },
   {
    "duration": 17,
    "start_time": "2022-10-24T16:50:03.355Z"
   },
   {
    "duration": 0,
    "start_time": "2022-10-24T16:50:03.374Z"
   },
   {
    "duration": 0,
    "start_time": "2022-10-24T16:50:03.375Z"
   },
   {
    "duration": 0,
    "start_time": "2022-10-24T16:50:03.377Z"
   },
   {
    "duration": 0,
    "start_time": "2022-10-24T16:50:03.378Z"
   },
   {
    "duration": 0,
    "start_time": "2022-10-24T16:50:03.379Z"
   },
   {
    "duration": 4,
    "start_time": "2022-10-24T16:50:03.393Z"
   },
   {
    "duration": 5,
    "start_time": "2022-10-24T16:50:03.399Z"
   },
   {
    "duration": 3,
    "start_time": "2022-10-24T16:50:03.406Z"
   },
   {
    "duration": 4,
    "start_time": "2022-10-24T16:50:03.412Z"
   },
   {
    "duration": 96,
    "start_time": "2022-10-24T16:50:03.430Z"
   },
   {
    "duration": 0,
    "start_time": "2022-10-24T16:50:03.528Z"
   },
   {
    "duration": 0,
    "start_time": "2022-10-24T16:50:03.539Z"
   },
   {
    "duration": 0,
    "start_time": "2022-10-24T16:50:03.547Z"
   },
   {
    "duration": 0,
    "start_time": "2022-10-24T16:50:03.548Z"
   },
   {
    "duration": 0,
    "start_time": "2022-10-24T16:50:03.549Z"
   },
   {
    "duration": 0,
    "start_time": "2022-10-24T16:50:03.550Z"
   },
   {
    "duration": 0,
    "start_time": "2022-10-24T16:50:03.551Z"
   },
   {
    "duration": 0,
    "start_time": "2022-10-24T16:50:03.553Z"
   },
   {
    "duration": 5,
    "start_time": "2022-10-24T16:54:11.804Z"
   },
   {
    "duration": 48,
    "start_time": "2022-10-24T16:56:03.919Z"
   },
   {
    "duration": 469,
    "start_time": "2022-10-24T16:57:22.302Z"
   },
   {
    "duration": 521,
    "start_time": "2022-10-24T16:57:22.774Z"
   },
   {
    "duration": 20,
    "start_time": "2022-10-24T16:57:23.297Z"
   },
   {
    "duration": 33,
    "start_time": "2022-10-24T16:57:23.319Z"
   },
   {
    "duration": 3,
    "start_time": "2022-10-24T16:57:23.355Z"
   },
   {
    "duration": 29,
    "start_time": "2022-10-24T16:57:23.360Z"
   },
   {
    "duration": 31,
    "start_time": "2022-10-24T16:57:23.390Z"
   },
   {
    "duration": 22,
    "start_time": "2022-10-24T16:57:23.423Z"
   },
   {
    "duration": 35,
    "start_time": "2022-10-24T16:57:23.447Z"
   },
   {
    "duration": 21,
    "start_time": "2022-10-24T16:57:23.485Z"
   },
   {
    "duration": 27,
    "start_time": "2022-10-24T16:57:23.508Z"
   },
   {
    "duration": 83,
    "start_time": "2022-10-24T16:57:23.537Z"
   },
   {
    "duration": 76,
    "start_time": "2022-10-24T16:57:23.622Z"
   },
   {
    "duration": 73,
    "start_time": "2022-10-24T16:57:23.701Z"
   },
   {
    "duration": 43,
    "start_time": "2022-10-24T16:57:23.776Z"
   },
   {
    "duration": 18,
    "start_time": "2022-10-24T16:57:23.830Z"
   },
   {
    "duration": 46,
    "start_time": "2022-10-24T16:57:23.850Z"
   },
   {
    "duration": 39,
    "start_time": "2022-10-24T16:57:23.898Z"
   },
   {
    "duration": 19,
    "start_time": "2022-10-24T16:57:23.939Z"
   },
   {
    "duration": 4,
    "start_time": "2022-10-24T16:57:23.960Z"
   },
   {
    "duration": 3,
    "start_time": "2022-10-24T16:57:40.947Z"
   },
   {
    "duration": 170,
    "start_time": "2022-10-24T16:57:40.952Z"
   },
   {
    "duration": 10,
    "start_time": "2022-10-24T16:57:41.124Z"
   },
   {
    "duration": 44,
    "start_time": "2022-10-24T16:57:41.136Z"
   },
   {
    "duration": 2,
    "start_time": "2022-10-24T16:57:41.182Z"
   },
   {
    "duration": 6,
    "start_time": "2022-10-24T16:57:41.186Z"
   },
   {
    "duration": 36,
    "start_time": "2022-10-24T16:57:41.193Z"
   },
   {
    "duration": 5,
    "start_time": "2022-10-24T16:57:41.231Z"
   },
   {
    "duration": 27,
    "start_time": "2022-10-24T16:57:41.238Z"
   },
   {
    "duration": 18,
    "start_time": "2022-10-24T16:57:41.266Z"
   },
   {
    "duration": 50,
    "start_time": "2022-10-24T16:57:41.286Z"
   },
   {
    "duration": 92,
    "start_time": "2022-10-24T16:57:41.338Z"
   },
   {
    "duration": 64,
    "start_time": "2022-10-24T16:57:41.433Z"
   },
   {
    "duration": 76,
    "start_time": "2022-10-24T16:57:41.499Z"
   },
   {
    "duration": 77,
    "start_time": "2022-10-24T16:57:41.578Z"
   },
   {
    "duration": 17,
    "start_time": "2022-10-24T16:57:41.657Z"
   },
   {
    "duration": 87,
    "start_time": "2022-10-24T16:57:41.677Z"
   },
   {
    "duration": 19,
    "start_time": "2022-10-24T16:57:41.766Z"
   },
   {
    "duration": 18,
    "start_time": "2022-10-24T16:57:41.787Z"
   },
   {
    "duration": 22,
    "start_time": "2022-10-24T16:57:41.807Z"
   },
   {
    "duration": 4,
    "start_time": "2022-10-24T16:57:43.170Z"
   },
   {
    "duration": 18,
    "start_time": "2022-10-24T16:57:45.505Z"
   },
   {
    "duration": 15,
    "start_time": "2022-10-24T16:57:47.893Z"
   },
   {
    "duration": 16,
    "start_time": "2022-10-24T16:57:48.661Z"
   },
   {
    "duration": 15,
    "start_time": "2022-10-24T16:57:49.365Z"
   },
   {
    "duration": 17,
    "start_time": "2022-10-24T16:57:49.949Z"
   },
   {
    "duration": 4,
    "start_time": "2022-10-24T16:59:49.441Z"
   },
   {
    "duration": 17,
    "start_time": "2022-10-24T16:59:51.338Z"
   },
   {
    "duration": 14,
    "start_time": "2022-10-24T16:59:52.136Z"
   },
   {
    "duration": 16,
    "start_time": "2022-10-24T16:59:52.866Z"
   },
   {
    "duration": 15,
    "start_time": "2022-10-24T16:59:53.539Z"
   },
   {
    "duration": 21,
    "start_time": "2022-10-24T16:59:54.837Z"
   },
   {
    "duration": 22,
    "start_time": "2022-10-24T16:59:56.451Z"
   },
   {
    "duration": 5,
    "start_time": "2022-10-24T17:05:47.556Z"
   },
   {
    "duration": 28,
    "start_time": "2022-10-24T17:05:48.880Z"
   },
   {
    "duration": 85,
    "start_time": "2022-10-24T17:05:50.396Z"
   },
   {
    "duration": 5,
    "start_time": "2022-10-24T17:07:05.862Z"
   },
   {
    "duration": 39,
    "start_time": "2022-10-24T17:07:07.293Z"
   },
   {
    "duration": 132,
    "start_time": "2022-10-24T17:07:08.123Z"
   },
   {
    "duration": 4,
    "start_time": "2022-10-24T17:07:41.872Z"
   },
   {
    "duration": 27,
    "start_time": "2022-10-24T17:07:43.195Z"
   },
   {
    "duration": 23,
    "start_time": "2022-10-24T17:07:43.891Z"
   },
   {
    "duration": 25,
    "start_time": "2022-10-24T17:07:44.596Z"
   },
   {
    "duration": 25,
    "start_time": "2022-10-24T17:07:45.315Z"
   },
   {
    "duration": 29,
    "start_time": "2022-10-24T17:07:46.003Z"
   },
   {
    "duration": 24,
    "start_time": "2022-10-24T17:07:46.612Z"
   },
   {
    "duration": 19,
    "start_time": "2022-10-24T17:07:50.083Z"
   },
   {
    "duration": 4,
    "start_time": "2022-10-24T17:08:48.735Z"
   },
   {
    "duration": 40,
    "start_time": "2022-10-24T17:14:38.638Z"
   },
   {
    "duration": 25,
    "start_time": "2022-10-24T17:14:40.375Z"
   },
   {
    "duration": 38,
    "start_time": "2022-10-24T17:14:41.174Z"
   },
   {
    "duration": 34,
    "start_time": "2022-10-24T17:14:42.121Z"
   },
   {
    "duration": 40,
    "start_time": "2022-10-24T17:14:43.376Z"
   },
   {
    "duration": 34,
    "start_time": "2022-10-24T17:14:48.356Z"
   },
   {
    "duration": 9,
    "start_time": "2022-10-24T17:16:19.941Z"
   },
   {
    "duration": 2,
    "start_time": "2022-10-24T17:16:43.400Z"
   },
   {
    "duration": 10,
    "start_time": "2022-10-24T17:16:58.322Z"
   },
   {
    "duration": 4,
    "start_time": "2022-10-24T17:17:54.856Z"
   },
   {
    "duration": 5,
    "start_time": "2022-10-24T17:19:49.362Z"
   },
   {
    "duration": 46,
    "start_time": "2022-10-24T17:19:50.473Z"
   },
   {
    "duration": 24,
    "start_time": "2022-10-24T17:19:51.216Z"
   },
   {
    "duration": 26,
    "start_time": "2022-10-24T17:19:51.785Z"
   },
   {
    "duration": 23,
    "start_time": "2022-10-24T17:19:52.305Z"
   },
   {
    "duration": 27,
    "start_time": "2022-10-24T17:19:52.858Z"
   },
   {
    "duration": 24,
    "start_time": "2022-10-24T17:19:53.384Z"
   },
   {
    "duration": 4,
    "start_time": "2022-10-24T17:19:55.109Z"
   },
   {
    "duration": 10,
    "start_time": "2022-10-24T17:20:19.637Z"
   },
   {
    "duration": 12,
    "start_time": "2022-10-24T17:27:10.375Z"
   },
   {
    "duration": 13,
    "start_time": "2022-10-24T17:27:12.838Z"
   },
   {
    "duration": 5,
    "start_time": "2022-10-24T17:44:28.633Z"
   },
   {
    "duration": 7,
    "start_time": "2022-10-24T17:44:35.340Z"
   },
   {
    "duration": 91,
    "start_time": "2022-10-24T17:48:07.549Z"
   },
   {
    "duration": 27,
    "start_time": "2022-10-24T17:48:24.780Z"
   },
   {
    "duration": 23,
    "start_time": "2022-10-24T17:48:59.342Z"
   },
   {
    "duration": 5,
    "start_time": "2022-10-24T17:54:03.081Z"
   },
   {
    "duration": 24,
    "start_time": "2022-10-24T17:54:08.712Z"
   },
   {
    "duration": 6,
    "start_time": "2022-10-24T17:54:24.160Z"
   },
   {
    "duration": 32,
    "start_time": "2022-10-24T17:54:25.582Z"
   },
   {
    "duration": 34,
    "start_time": "2022-10-24T17:54:26.262Z"
   },
   {
    "duration": 35,
    "start_time": "2022-10-24T17:54:26.910Z"
   },
   {
    "duration": 42,
    "start_time": "2022-10-24T17:54:27.758Z"
   },
   {
    "duration": 49,
    "start_time": "2022-10-24T17:54:28.444Z"
   },
   {
    "duration": 28,
    "start_time": "2022-10-24T17:54:29.510Z"
   },
   {
    "duration": 10,
    "start_time": "2022-10-24T17:54:31.486Z"
   },
   {
    "duration": 16,
    "start_time": "2022-10-24T17:54:37.493Z"
   },
   {
    "duration": 14,
    "start_time": "2022-10-24T17:54:38.686Z"
   },
   {
    "duration": 10,
    "start_time": "2022-10-24T17:54:40.784Z"
   },
   {
    "duration": 25,
    "start_time": "2022-10-24T17:54:44.198Z"
   },
   {
    "duration": 12,
    "start_time": "2022-10-24T17:54:54.251Z"
   },
   {
    "duration": 31,
    "start_time": "2022-10-24T17:54:55.373Z"
   },
   {
    "duration": 13,
    "start_time": "2022-10-24T17:55:03.934Z"
   },
   {
    "duration": 25,
    "start_time": "2022-10-24T17:55:33.160Z"
   },
   {
    "duration": 13,
    "start_time": "2022-10-24T17:55:34.257Z"
   },
   {
    "duration": 28,
    "start_time": "2022-10-24T17:55:35.095Z"
   },
   {
    "duration": 14,
    "start_time": "2022-10-24T17:55:36.510Z"
   },
   {
    "duration": 13,
    "start_time": "2022-10-24T18:01:11.443Z"
   },
   {
    "duration": 10,
    "start_time": "2022-10-24T18:03:00.350Z"
   },
   {
    "duration": 20,
    "start_time": "2022-10-24T18:03:03.362Z"
   },
   {
    "duration": 11,
    "start_time": "2022-10-24T18:03:04.084Z"
   },
   {
    "duration": 7,
    "start_time": "2022-10-24T18:03:06.185Z"
   },
   {
    "duration": 27,
    "start_time": "2022-10-24T18:03:09.506Z"
   },
   {
    "duration": 12,
    "start_time": "2022-10-24T18:03:15.460Z"
   },
   {
    "duration": 17,
    "start_time": "2022-10-24T18:03:16.777Z"
   },
   {
    "duration": 12,
    "start_time": "2022-10-24T18:03:19.945Z"
   },
   {
    "duration": 5,
    "start_time": "2022-10-24T18:05:55.199Z"
   },
   {
    "duration": 13,
    "start_time": "2022-10-24T18:07:31.203Z"
   },
   {
    "duration": 7,
    "start_time": "2022-10-24T18:07:42.143Z"
   },
   {
    "duration": 5,
    "start_time": "2022-10-24T18:08:12.794Z"
   },
   {
    "duration": 434,
    "start_time": "2022-10-25T08:08:47.890Z"
   },
   {
    "duration": 255,
    "start_time": "2022-10-25T08:08:48.786Z"
   },
   {
    "duration": 16,
    "start_time": "2022-10-25T08:08:49.736Z"
   },
   {
    "duration": 27,
    "start_time": "2022-10-25T08:08:51.223Z"
   },
   {
    "duration": 2,
    "start_time": "2022-10-25T08:08:52.888Z"
   },
   {
    "duration": 4,
    "start_time": "2022-10-25T08:08:56.208Z"
   },
   {
    "duration": 10,
    "start_time": "2022-10-25T08:08:58.696Z"
   },
   {
    "duration": 5,
    "start_time": "2022-10-25T08:09:00.623Z"
   },
   {
    "duration": 23,
    "start_time": "2022-10-25T08:09:01.847Z"
   },
   {
    "duration": 19,
    "start_time": "2022-10-25T08:09:03.470Z"
   },
   {
    "duration": 23,
    "start_time": "2022-10-25T08:09:04.519Z"
   },
   {
    "duration": 64,
    "start_time": "2022-10-25T08:09:05.624Z"
   },
   {
    "duration": 66,
    "start_time": "2022-10-25T08:09:07.047Z"
   },
   {
    "duration": 61,
    "start_time": "2022-10-25T08:09:09.535Z"
   },
   {
    "duration": 2,
    "start_time": "2022-10-25T08:10:37.630Z"
   },
   {
    "duration": 172,
    "start_time": "2022-10-25T08:10:37.634Z"
   },
   {
    "duration": 26,
    "start_time": "2022-10-25T08:10:37.809Z"
   },
   {
    "duration": 56,
    "start_time": "2022-10-25T08:10:37.837Z"
   },
   {
    "duration": 8,
    "start_time": "2022-10-25T08:10:37.895Z"
   },
   {
    "duration": 21,
    "start_time": "2022-10-25T08:10:37.904Z"
   },
   {
    "duration": 22,
    "start_time": "2022-10-25T08:10:37.927Z"
   },
   {
    "duration": 14,
    "start_time": "2022-10-25T08:10:37.951Z"
   },
   {
    "duration": 31,
    "start_time": "2022-10-25T08:10:37.966Z"
   },
   {
    "duration": 30,
    "start_time": "2022-10-25T08:10:37.999Z"
   },
   {
    "duration": 26,
    "start_time": "2022-10-25T08:10:38.031Z"
   },
   {
    "duration": 89,
    "start_time": "2022-10-25T08:10:38.059Z"
   },
   {
    "duration": 81,
    "start_time": "2022-10-25T08:10:38.150Z"
   },
   {
    "duration": 59,
    "start_time": "2022-10-25T08:10:38.233Z"
   },
   {
    "duration": 5,
    "start_time": "2022-10-25T08:10:42.912Z"
   },
   {
    "duration": 46,
    "start_time": "2022-10-25T08:11:15.434Z"
   }
  ],
  "colab": {
   "collapsed_sections": [
    "E0vqbgi9ay0H",
    "VUC88oWjTJw2"
   ],
   "name": "automatization_template_upd4.ipynb",
   "provenance": []
  },
  "kernelspec": {
   "display_name": "Python 3 (ipykernel)",
   "language": "python",
   "name": "python3"
  },
  "language_info": {
   "codemirror_mode": {
    "name": "ipython",
    "version": 3
   },
   "file_extension": ".py",
   "mimetype": "text/x-python",
   "name": "python",
   "nbconvert_exporter": "python",
   "pygments_lexer": "ipython3",
   "version": "3.9.13"
  },
  "toc": {
   "base_numbering": 1,
   "nav_menu": {
    "height": "227px",
    "width": "371px"
   },
   "number_sections": true,
   "sideBar": true,
   "skip_h1_title": true,
   "title_cell": "Содержание",
   "title_sidebar": "Содержание",
   "toc_cell": false,
   "toc_position": {
    "height": "269.688px",
    "left": "21px",
    "top": "153.125px",
    "width": "191.906px"
   },
   "toc_section_display": true,
   "toc_window_display": false
  }
 },
 "nbformat": 4,
 "nbformat_minor": 1
}
